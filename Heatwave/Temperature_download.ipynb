{
 "cells": [
  {
   "cell_type": "code",
   "execution_count": 2,
   "id": "74713058",
   "metadata": {},
   "outputs": [],
   "source": [
    "# This code downloads maximum or minimum daily temperature data from SMHI's OpenData API \n",
    "# Author: Marlon Passos\n",
    "# Adapted from Kristoffer Bäckman https://github.com/thebackman/SMHI"
   ]
  },
  {
   "cell_type": "code",
   "execution_count": 387,
   "id": "92782c37",
   "metadata": {},
   "outputs": [],
   "source": [
    "# Meteorological Observations\n",
    "ADR_VERSION   = \"http://opendata-download-metobs.smhi.se/api/version/1.0.json\"\n",
    "ADR_PARAMETER = \"http://opendata-download-metobs.smhi.se/api/version/1.0/parameter/{parameter}.json\" \n",
    "ADR_STATION = \"http://opendata-download-metobs.smhi.se/api/version/1.0/parameter/{parameter}/station/{station}.json\"\n",
    "ADR_LATEST_MONTHS = \"http://opendata-download-metobs.smhi.se/api/version/1.0/parameter/{parameter}/station/{station}/period/latest-months/data.json\"\n",
    "ADR_CORRECTED = \"http://opendata-download-metobs.smhi.se/api/version/1.0/parameter/{parameter}/station/{station}/period/corrected-archive/data.csv\""
   ]
  },
  {
   "cell_type": "code",
   "execution_count": 388,
   "id": "27b28fb1",
   "metadata": {},
   "outputs": [],
   "source": [
    "import datetime\n",
    "import sys\n",
    "import logging\n",
    "import json\n",
    "import requests\n",
    "\n",
    "# -- logging\n",
    "\n",
    "FORMAT = '%(asctime)s %(levelname)s: %(module)s: %(funcName)s(): %(message)s'\n",
    "logging.basicConfig(level=logging.DEBUG, format = FORMAT, filename = \"smhi.log\", filemode = \"w\")\n",
    "logging.getLogger(\"requests\").setLevel(logging.WARNING)\n",
    "logging.getLogger(\"urllib3\").setLevel(logging.WARNING)\n",
    "\n",
    "# -- functions\n",
    "\n",
    "def write_json(json_obj, file_name = 'file.json'):\n",
    "    \"\"\" write a json file to wd/file.json\"\"\"\n",
    "    with open(file_name, 'w') as outfile:\n",
    "        json.dump(json_obj, outfile)\n",
    "\n",
    "def api_return_data(adr):\n",
    "    \"\"\" initate API call and return the JSON data \"\"\"\n",
    "    # initiate the call\n",
    "    req_obj = requests.get(adr)\n",
    "    # try to get the json data (exceptions will be catched later)\n",
    "    json_data = req_obj.json()\n",
    "    return json_data"
   ]
  },
  {
   "cell_type": "code",
   "execution_count": 389,
   "id": "6d1e742c",
   "metadata": {},
   "outputs": [],
   "source": [
    "import datetime\n",
    "import sys\n",
    "import logging\n",
    "import json\n",
    "import requests\n",
    "\n",
    "# -- logging\n",
    "\n",
    "FORMAT = '%(asctime)s %(levelname)s: %(module)s: %(funcName)s(): %(message)s'\n",
    "logging.basicConfig(level=logging.DEBUG, format = FORMAT, filename = \"smhi.log\", filemode = \"w\")\n",
    "logging.getLogger(\"requests\").setLevel(logging.WARNING)\n",
    "logging.getLogger(\"urllib3\").setLevel(logging.WARNING)\n",
    "\n",
    "# -- functions\n",
    "\n",
    "def write_json(json_obj, file_name = 'file.json'):\n",
    "    \"\"\" write a json file to wd/file.json\"\"\"\n",
    "    with open(file_name, 'w') as outfile:\n",
    "        json.dump(json_obj, outfile)\n",
    "\n",
    "def api_return_data(adr):\n",
    "    \"\"\" initate API call and return the JSON data \"\"\"\n",
    "    # initiate the call\n",
    "    req_obj = requests.get(adr)\n",
    "    # try to get the json data (exceptions will be catched later)\n",
    "    json_data = req_obj.json()\n",
    "    return json_data\n",
    "    "
   ]
  },
  {
   "cell_type": "code",
   "execution_count": 390,
   "id": "553ab7db",
   "metadata": {},
   "outputs": [],
   "source": [
    "#import api_endpoints\n",
    "#import helpers\n",
    "import requests\n",
    "import pandas as pd\n",
    "import json\n",
    "import logging\n",
    "\n",
    "# -- functions\n",
    "\n",
    "def list_params():\n",
    "    \"\"\" Lists avaliable parameters \"\"\"\n",
    "\n",
    "    # -- API call\n",
    "\n",
    "    data_json = api_return_data(ADR_VERSION)\n",
    "\n",
    "    # -- print collected data\n",
    "\n",
    "    # subset and loop over all avaliable parameters\n",
    "    resource = data_json[\"resource\"]\n",
    "    # loop over the json entries and print each parameter that is avaliable\n",
    "\n",
    "    # store all param keys in a dict for later use (maybe)\n",
    "    params = []\n",
    "    for param in resource:\n",
    "        print(param[\"title\"] + \" | \" +  param[\"summary\"] + \" | \" + param[\"key\"] )\n",
    "        params.append(param[\"key\"])\n",
    "    # return params\n",
    "\n",
    "\n",
    "def list_stations(param):\n",
    "    \"\"\" list stations that have a certain wheather parameter \"\"\"\n",
    "\n",
    "    # -- API call\n",
    "    \n",
    "    # create the API adress\n",
    "    adr = ADR_PARAMETER\n",
    "    adr_full = adr.format(parameter = param)\n",
    "\n",
    "    # send request and get data\n",
    "    data1 = api_return_data(adr_full)\n",
    "    print(\"Parameter choosen: \" + data1[\"title\"])\n",
    "\n",
    "    # -- gather and wrangle the data about avaliable stations\n",
    "    \n",
    "    # take out an array with all the stations\n",
    "    stations = data1[\"station\"]\n",
    "    \n",
    "    # convert the JSON data to a pandas DF\n",
    "    df_raw = pd.DataFrame(stations)\n",
    "    \n",
    "    # limit the data frame\n",
    "    df_clean = df_raw[[\"name\", \"id\", \"height\", \"latitude\", \"longitude\", \"active\", \"from\", \"to\", \"updated\", \"title\", \"key\"]]\n",
    "    \n",
    "    # rename columns to abide to python reserved keywords\n",
    "    df_clean = df_clean.rename(columns={\"from\": \"starting\", \"to\": \"ending\"})\n",
    "    \n",
    "    # fix the date and time variables into something readable\n",
    "    tmp1 = pd.to_datetime(df_clean[\"starting\"], unit = \"ms\")\n",
    "    tmp2 = pd.to_datetime(df_clean[\"ending\"], unit = \"ms\")\n",
    "    tmp3 = pd.to_datetime(df_clean[\"updated\"], unit = \"ms\")\n",
    "    df_clean = df_clean.assign(starting = tmp1)\n",
    "    df_clean = df_clean.assign(ending = tmp2)\n",
    "    df_clean = df_clean.assign(updated = tmp3)\n",
    "    \n",
    "    return(df_clean)\n",
    "\n",
    "\n",
    "def get_latest_months(param, station):\n",
    "    \"\"\"\n",
    "    get data for latest months via JSON download \"\"\"\n",
    "\n",
    "    # -- API call\n",
    "    \n",
    "    # create the API adress\n",
    "    adr = ADR_LATEST_MONTHS\n",
    "    adr_full = adr.format(parameter = param, station = station)\n",
    "    \n",
    "    # send request and get data\n",
    "    data1 = api_return_data(adr_full)\n",
    "    \n",
    "    # create a data frame from the JSON data\n",
    "    df = pd.DataFrame(data1[\"value\"])\n",
    "\n",
    "    # fix the timestamps\n",
    "    df = df.rename(columns={\"from\": \"starting\", \"to\": \"ending\"})\n",
    "    tmp1 = pd.to_datetime(df[\"starting\"], unit = \"ms\")\n",
    "    tmp2 = pd.to_datetime(df[\"ending\"], unit = \"ms\")\n",
    "    df = df.assign(starting = tmp1)\n",
    "    df = df.assign(ending = tmp2)\n",
    "\n",
    "    # convert value to float64\n",
    "    df[\"value\"] = df.value.astype(float)\n",
    "\n",
    "    # add the station id\n",
    "    df[\"station_id\"] = station\n",
    "    \n",
    "    return df\n",
    "\n",
    "\n",
    "def get_corrected(param, station):\n",
    "    \"\"\" get corrected archive via CSV download \"\"\"\n",
    "    \n",
    "    # -- API call\n",
    "    \n",
    "    # create the API adress\n",
    "    adr = ADR_CORRECTED\n",
    "    adr_full = adr.format(parameter = param, station = station)\n",
    "    \n",
    "    # download the csv data\n",
    "    df = pd.read_csv(filepath_or_buffer= adr_full, skiprows= 9, delimiter=\";\")\n",
    "       \n",
    "    # remove columns not needed and reorder to match latest months data\n",
    "    df_lim = df.iloc[:,[0, 4, 2, 1, 3]] \n",
    "        \n",
    "    # rename the columns\n",
    "    df_lim.columns = [\"starting\", \"quality\", \"ref\", \"ending\", \"value\"]\n",
    "        \n",
    "    # fix datetime columns\n",
    "    tmp1 = pd.to_datetime(df_lim[\"starting\"])\n",
    "    tmp2 = pd.to_datetime(df_lim[\"ending\"])\n",
    "    df_lim = df_lim.assign(starting = tmp1)\n",
    "    df_lim = df_lim.assign(ending = tmp2)\n",
    "\n",
    "    \n",
    "    # add the station id\n",
    "    df_lim[\"station_id\"] = station\n",
    "\n",
    "    return df_lim\n",
    "\n",
    "\n",
    "def get_stations(param, station_keys):\n",
    "    \"\"\"\n",
    "    gets both latest months and corrected archive for\n",
    "    a set of stations. Contains the try catch logic needed\n",
    "    if any of the calls fail\n",
    "    \"\"\"\n",
    "\n",
    "    # -- create the iterable\n",
    "\n",
    "    if isinstance(station_keys, tuple):\n",
    "        iterable = station_keys\n",
    "    elif isinstance(station_keys, pd.DataFrame):\n",
    "        iterable = station_keys[\"key\"]\n",
    "    \n",
    "    # -- Construct some holder structures for data frames\n",
    "\n",
    "    df_new = dict()\n",
    "    df_old = dict()\n",
    "    \n",
    "    # -- loop through set of stations\n",
    "    \n",
    "    # start loop over each station id and collect the data if avaliable\n",
    "    print(\">>> Start downloading each station\")\n",
    "    for station_id in iterable:\n",
    "        print(f\">>> Downloading {station_id}\")\n",
    "        logging.info(f\"# -- Downloading station {station_id}\")\n",
    "        # get the latest months\n",
    "        logging.info(f\"Downloading latest months for {station_id}\")\n",
    "        try:\n",
    "            df_new[station_id] = get_latest_months(param = param, station = station_id )\n",
    "            logging.debug(f\"downloading latest months for {station_id} successful\")\n",
    "        except:\n",
    "            logging.error(f\"not possible to download latest months for {station_id}\")\n",
    "        # get the corrected archive\n",
    "        logging.info(f\"downloading corrected archive for {station_id}\")\n",
    "        try:\n",
    "            df_old[station_id] = get_corrected(param = param, station = station_id)\n",
    "            logging.debug(f\"downloaded corrected archive for {station_id} successful\")\n",
    "        except Exception as error:\n",
    "            logging.error(f\"not possible to download corrected archive for {station_id}\")\n",
    "    \n",
    "    # -- gather the data\n",
    "\n",
    "    # get the number of data frames in each dict\n",
    "    len_new = len(df_new)\n",
    "    len_old = len(df_old)\n",
    "\n",
    "    # Stack the latest months into one data frame for each station\n",
    "    if len_new > 0:\n",
    "        df_latest = pd.concat(df_new.values(), ignore_index=True)\n",
    "    else:\n",
    "        df_latest = None\n",
    "\n",
    "    # Stack the corrected archive into one data frame for each station\n",
    "    if len_old > 0:\n",
    "        df_corrected = pd.concat(df_old.values(), ignore_index=True)\n",
    "    else:\n",
    "        df_corrected = None\n",
    "\n",
    "    # return all data\n",
    "    print(\"Check smhi.log for data download details!\")\n",
    "    if df_latest is not None and df_corrected is not None :\n",
    "        logging.debug(\"both df_latest and df_corrected contains data\")\n",
    "        dictus = {\"df_latest\": df_latest, \"df_corrected\": df_corrected}\n",
    "    elif df_latest is not None:\n",
    "        logging.info(\"only df_latest contain data\")\n",
    "        dictus = {\"df_latest\": df_latest}\n",
    "    elif df_corrected is not None:\n",
    "        logging.info(\"only df_corrected contain data\")\n",
    "        dictus = {\"df_corrected\": df_corrected}\n",
    "    else:\n",
    "        logging.info(\"no data frame contains data\")\n",
    "        dictus = None\n",
    "    \n",
    "    # -- shutdown logging\n",
    "\n",
    "    logging.shutdown()\n",
    "    \n",
    "    return(dictus)"
   ]
  },
  {
   "cell_type": "code",
   "execution_count": 391,
   "id": "3813a203",
   "metadata": {},
   "outputs": [
    {
     "name": "stdout",
     "output_type": "stream",
     "text": [
      "Byvind | max, 1 gång/tim | 21\n",
      "Daggpunktstemperatur | momentanvärde, 1 gång/tim | 39\n",
      "Global Irradians (svenska stationer) | medelvärde 1 timme, 1 gång/tim | 11\n",
      "Lufttemperatur | medel, 1 gång per månad | 22\n",
      "Lufttemperatur | min, 2 gånger per dygn, kl 06 och 18 | 26\n",
      "Lufttemperatur | max, 2 gånger per dygn, kl 06 och 18 | 27\n",
      "Lufttemperatur | min, 1 gång per dygn | 19\n",
      "Lufttemperatur | momentanvärde, 1 gång/tim | 1\n",
      "Lufttemperatur | medelvärde 1 dygn, 1 gång/dygn, kl 00 | 2\n",
      "Lufttemperatur | max, 1 gång per dygn | 20\n",
      "Lufttryck reducerat havsytans nivå | vid havsytans nivå, momentanvärde, 1 gång/tim | 9\n",
      "Långvågs-Irradians | Långvågsstrålning, medel 1 timme, varje timme | 24\n",
      "Markens tillstånd | momentanvärde, 1 gång/dygn, kl 06 | 40\n",
      "Max av MedelVindhastighet | maximum av medelvärde 10 min, under 3 timmar, 1 gång/tim | 25\n",
      "Molnbas | lägsta molnlager, momentanvärde, 1 gång/tim | 28\n",
      "Molnbas | andra molnlager, momentanvärde, 1 gång/tim | 30\n",
      "Molnbas | tredje molnlager, momentanvärde, 1 gång/tim | 32\n",
      "Molnbas | fjärde molnlager, momentanvärde, 1 gång/tim | 34\n",
      "Molnbas | lägsta molnbas, momentanvärde, 1 gång/tim | 36\n",
      "Molnbas | lägsta molnbas, min under 15 min, 1 gång/tim | 37\n",
      "Molnmängd | lägsta molnlager, momentanvärde, 1 gång/tim | 29\n",
      "Molnmängd | andra molnlager, momentanvärde, 1 gång/tim | 31\n",
      "Molnmängd | tredje molnlager, momentanvärde, 1 gång/tim | 33\n",
      "Molnmängd | fjärde molnlager, momentanvärde, 1 gång/tim | 35\n",
      "Nederbörd | 2 gånger/dygn, kl 06 och 18 | 17\n",
      "Nederbörd | 1 gång/dygn, kl 18 | 18\n",
      "Nederbördsintensitet | max under 15 min, 4 gånger/tim | 15\n",
      "Nederbördsintensitet | max av medel under 15 min, 4 gånger/tim | 38\n",
      "Nederbördsmängd | summa, 1 gång per månad | 23\n",
      "Nederbördsmängd | summa 15 min, 4 gånger/tim | 14\n",
      "Nederbördsmängd | summa 1 dygn, 1 gång/dygn, kl 06 | 5\n",
      "Nederbördsmängd | summa 1 timme, 1 gång/tim | 7\n",
      "Relativ Luftfuktighet | momentanvärde, 1 gång/tim | 6\n",
      "Rådande väder | momentanvärde, 1 gång/tim resp 8 gånger/dygn | 13\n",
      "Sikt | momentanvärde, 1 gång/tim | 12\n",
      "Snödjup | momentanvärde, 1 gång/dygn, kl 06 | 8\n",
      "Solskenstid | summa 1 timme, 1 gång/tim | 10\n",
      "Total molnmängd | momentanvärde, 1 gång/tim | 16\n",
      "Vindhastighet | medelvärde 10 min, 1 gång/tim | 4\n",
      "Vindriktning | medelvärde 10 min, 1 gång/tim | 3\n",
      "Parameter choosen: Lufttemperatur: Välj station (sedan tidsutsnitt)\n",
      ">>> Start downloading each station\n",
      ">>> Downloading 98210\n",
      "Check smhi.log for data download details!\n"
     ]
    },
    {
     "data": {
      "text/html": [
       "<div>\n",
       "<style scoped>\n",
       "    .dataframe tbody tr th:only-of-type {\n",
       "        vertical-align: middle;\n",
       "    }\n",
       "\n",
       "    .dataframe tbody tr th {\n",
       "        vertical-align: top;\n",
       "    }\n",
       "\n",
       "    .dataframe thead th {\n",
       "        text-align: right;\n",
       "    }\n",
       "</style>\n",
       "<table border=\"1\" class=\"dataframe\">\n",
       "  <thead>\n",
       "    <tr style=\"text-align: right;\">\n",
       "      <th></th>\n",
       "      <th>starting</th>\n",
       "      <th>quality</th>\n",
       "      <th>ref</th>\n",
       "      <th>ending</th>\n",
       "      <th>value</th>\n",
       "      <th>station_id</th>\n",
       "    </tr>\n",
       "  </thead>\n",
       "  <tbody>\n",
       "    <tr>\n",
       "      <th>0</th>\n",
       "      <td>1881-12-31 20:00:01</td>\n",
       "      <td>G</td>\n",
       "      <td>1882-01-01</td>\n",
       "      <td>1882-01-01 20:00:00</td>\n",
       "      <td>-1.2</td>\n",
       "      <td>98210</td>\n",
       "    </tr>\n",
       "    <tr>\n",
       "      <th>1</th>\n",
       "      <td>1882-01-01 20:00:01</td>\n",
       "      <td>G</td>\n",
       "      <td>1882-01-02</td>\n",
       "      <td>1882-01-02 20:00:00</td>\n",
       "      <td>1.0</td>\n",
       "      <td>98210</td>\n",
       "    </tr>\n",
       "    <tr>\n",
       "      <th>2</th>\n",
       "      <td>1882-01-02 20:00:01</td>\n",
       "      <td>G</td>\n",
       "      <td>1882-01-03</td>\n",
       "      <td>1882-01-03 20:00:00</td>\n",
       "      <td>2.2</td>\n",
       "      <td>98210</td>\n",
       "    </tr>\n",
       "    <tr>\n",
       "      <th>3</th>\n",
       "      <td>1882-01-03 20:00:01</td>\n",
       "      <td>G</td>\n",
       "      <td>1882-01-04</td>\n",
       "      <td>1882-01-04 20:00:00</td>\n",
       "      <td>-1.0</td>\n",
       "      <td>98210</td>\n",
       "    </tr>\n",
       "    <tr>\n",
       "      <th>4</th>\n",
       "      <td>1882-01-04 20:00:01</td>\n",
       "      <td>G</td>\n",
       "      <td>1882-01-05</td>\n",
       "      <td>1882-01-05 20:00:00</td>\n",
       "      <td>-4.0</td>\n",
       "      <td>98210</td>\n",
       "    </tr>\n",
       "    <tr>\n",
       "      <th>...</th>\n",
       "      <td>...</td>\n",
       "      <td>...</td>\n",
       "      <td>...</td>\n",
       "      <td>...</td>\n",
       "      <td>...</td>\n",
       "      <td>...</td>\n",
       "    </tr>\n",
       "    <tr>\n",
       "      <th>51431</th>\n",
       "      <td>2022-10-26 18:00:01</td>\n",
       "      <td>Y</td>\n",
       "      <td>2022-10-27</td>\n",
       "      <td>2022-10-27 18:00:00</td>\n",
       "      <td>8.2</td>\n",
       "      <td>98210</td>\n",
       "    </tr>\n",
       "    <tr>\n",
       "      <th>51432</th>\n",
       "      <td>2022-10-27 18:00:01</td>\n",
       "      <td>Y</td>\n",
       "      <td>2022-10-28</td>\n",
       "      <td>2022-10-28 18:00:00</td>\n",
       "      <td>11.0</td>\n",
       "      <td>98210</td>\n",
       "    </tr>\n",
       "    <tr>\n",
       "      <th>51433</th>\n",
       "      <td>2022-10-28 18:00:01</td>\n",
       "      <td>Y</td>\n",
       "      <td>2022-10-29</td>\n",
       "      <td>2022-10-29 18:00:00</td>\n",
       "      <td>12.1</td>\n",
       "      <td>98210</td>\n",
       "    </tr>\n",
       "    <tr>\n",
       "      <th>51434</th>\n",
       "      <td>2022-10-29 18:00:01</td>\n",
       "      <td>Y</td>\n",
       "      <td>2022-10-30</td>\n",
       "      <td>2022-10-30 18:00:00</td>\n",
       "      <td>5.1</td>\n",
       "      <td>98210</td>\n",
       "    </tr>\n",
       "    <tr>\n",
       "      <th>51435</th>\n",
       "      <td>2022-10-30 18:00:01</td>\n",
       "      <td>Y</td>\n",
       "      <td>2022-10-31</td>\n",
       "      <td>2022-10-31 18:00:00</td>\n",
       "      <td>5.0</td>\n",
       "      <td>98210</td>\n",
       "    </tr>\n",
       "  </tbody>\n",
       "</table>\n",
       "<p>51436 rows × 6 columns</p>\n",
       "</div>"
      ],
      "text/plain": [
       "                 starting quality         ref              ending  value  \\\n",
       "0     1881-12-31 20:00:01       G  1882-01-01 1882-01-01 20:00:00   -1.2   \n",
       "1     1882-01-01 20:00:01       G  1882-01-02 1882-01-02 20:00:00    1.0   \n",
       "2     1882-01-02 20:00:01       G  1882-01-03 1882-01-03 20:00:00    2.2   \n",
       "3     1882-01-03 20:00:01       G  1882-01-04 1882-01-04 20:00:00   -1.0   \n",
       "4     1882-01-04 20:00:01       G  1882-01-05 1882-01-05 20:00:00   -4.0   \n",
       "...                   ...     ...         ...                 ...    ...   \n",
       "51431 2022-10-26 18:00:01       Y  2022-10-27 2022-10-27 18:00:00    8.2   \n",
       "51432 2022-10-27 18:00:01       Y  2022-10-28 2022-10-28 18:00:00   11.0   \n",
       "51433 2022-10-28 18:00:01       Y  2022-10-29 2022-10-29 18:00:00   12.1   \n",
       "51434 2022-10-29 18:00:01       Y  2022-10-30 2022-10-30 18:00:00    5.1   \n",
       "51435 2022-10-30 18:00:01       Y  2022-10-31 2022-10-31 18:00:00    5.0   \n",
       "\n",
       "       station_id  \n",
       "0           98210  \n",
       "1           98210  \n",
       "2           98210  \n",
       "3           98210  \n",
       "4           98210  \n",
       "...           ...  \n",
       "51431       98210  \n",
       "51432       98210  \n",
       "51433       98210  \n",
       "51434       98210  \n",
       "51435       98210  \n",
       "\n",
       "[51436 rows x 6 columns]"
      ]
     },
     "execution_count": 391,
     "metadata": {},
     "output_type": "execute_result"
    }
   ],
   "source": [
    "\n",
    "# -- import the libs and some reload \n",
    "\n",
    "import pandas as pd\n",
    "#import smhi as smhi\n",
    "#import importlib\n",
    "#importlib.reload(smhi)\n",
    "\n",
    "# -- listing the parameters that are avaliable\n",
    "\n",
    "params=list_params()\n",
    "\n",
    "# -- for one parameter, see what stations have it and in what timeframe, lon lat area etc.\n",
    "pnumber=19 # 5: daily precipitation, 20: max daily air temperature, 19: min daily air temperature\n",
    "\n",
    "# all stations \n",
    "df_stations = list_stations(param = pnumber)\n",
    "\n",
    "# list one station\n",
    "df_stations.loc[df_stations[\"key\"] == \"159880\"]\n",
    "\n",
    "# limit the stations further to those that have been online in recent years\n",
    "#df_stations = df_stations.loc[(df_stations[\"starting\"] >= '2000-01-01')]\n",
    "\n",
    "# take a random sample of stations\n",
    "df_random = df_stations.sample(n = 10, random_state= 11)\n",
    "df_random\n",
    "\n",
    "station = (98210,)\n",
    "\n",
    "# download for station(s)\n",
    "dict_df = get_stations(param = pnumber, station_keys = station) \n",
    "#dict_df = get_stations(param = 5, station_keys = stations)\n",
    "\n",
    "# access the data\n",
    "#dict_df[\"df_latest\"] # causing errors\n",
    "dict_df[\"df_corrected\"]"
   ]
  },
  {
   "cell_type": "code",
   "execution_count": 392,
   "id": "85609b6d",
   "metadata": {},
   "outputs": [
    {
     "data": {
      "text/html": [
       "<div>\n",
       "<style scoped>\n",
       "    .dataframe tbody tr th:only-of-type {\n",
       "        vertical-align: middle;\n",
       "    }\n",
       "\n",
       "    .dataframe tbody tr th {\n",
       "        vertical-align: top;\n",
       "    }\n",
       "\n",
       "    .dataframe thead th {\n",
       "        text-align: right;\n",
       "    }\n",
       "</style>\n",
       "<table border=\"1\" class=\"dataframe\">\n",
       "  <thead>\n",
       "    <tr style=\"text-align: right;\">\n",
       "      <th></th>\n",
       "      <th>name</th>\n",
       "      <th>id</th>\n",
       "      <th>height</th>\n",
       "      <th>latitude</th>\n",
       "      <th>longitude</th>\n",
       "      <th>active</th>\n",
       "      <th>starting</th>\n",
       "      <th>ending</th>\n",
       "      <th>updated</th>\n",
       "      <th>title</th>\n",
       "      <th>key</th>\n",
       "      <th>duration</th>\n",
       "    </tr>\n",
       "  </thead>\n",
       "  <tbody>\n",
       "    <tr>\n",
       "      <th>642</th>\n",
       "      <td>Stockholm-Observatoriekullen</td>\n",
       "      <td>98210</td>\n",
       "      <td>43.133</td>\n",
       "      <td>59.3417</td>\n",
       "      <td>18.0549</td>\n",
       "      <td>True</td>\n",
       "      <td>1859-01-01</td>\n",
       "      <td>2023-02-04 10:00:00</td>\n",
       "      <td>2023-02-04 10:00:00</td>\n",
       "      <td>Lufttemperatur - Stockholm-Observatoriekullen</td>\n",
       "      <td>98210</td>\n",
       "      <td>164.094859</td>\n",
       "    </tr>\n",
       "    <tr>\n",
       "      <th>220</th>\n",
       "      <td>Halmstad</td>\n",
       "      <td>62400</td>\n",
       "      <td>24.000</td>\n",
       "      <td>56.6737</td>\n",
       "      <td>12.9242</td>\n",
       "      <td>False</td>\n",
       "      <td>1859-03-01</td>\n",
       "      <td>2020-06-30 23:59:59</td>\n",
       "      <td>2020-06-30 23:59:59</td>\n",
       "      <td>Lufttemperatur - Halmstad</td>\n",
       "      <td>62400</td>\n",
       "      <td>161.336646</td>\n",
       "    </tr>\n",
       "    <tr>\n",
       "      <th>819</th>\n",
       "      <td>Västerås</td>\n",
       "      <td>96350</td>\n",
       "      <td>15.836</td>\n",
       "      <td>59.5972</td>\n",
       "      <td>16.6001</td>\n",
       "      <td>True</td>\n",
       "      <td>1862-05-01</td>\n",
       "      <td>2023-02-04 10:00:00</td>\n",
       "      <td>2023-02-04 10:00:00</td>\n",
       "      <td>Lufttemperatur - Västerås</td>\n",
       "      <td>96350</td>\n",
       "      <td>160.765564</td>\n",
       "    </tr>\n",
       "    <tr>\n",
       "      <th>130</th>\n",
       "      <td>Falun-Lugnet</td>\n",
       "      <td>105370</td>\n",
       "      <td>161.395</td>\n",
       "      <td>60.6185</td>\n",
       "      <td>15.6574</td>\n",
       "      <td>True</td>\n",
       "      <td>1866-01-01</td>\n",
       "      <td>2023-02-04 10:00:00</td>\n",
       "      <td>2023-02-04 10:00:00</td>\n",
       "      <td>Lufttemperatur - Falun-Lugnet</td>\n",
       "      <td>105370</td>\n",
       "      <td>157.094031</td>\n",
       "    </tr>\n",
       "    <tr>\n",
       "      <th>228</th>\n",
       "      <td>Haparanda</td>\n",
       "      <td>163950</td>\n",
       "      <td>5.000</td>\n",
       "      <td>65.8367</td>\n",
       "      <td>24.1130</td>\n",
       "      <td>False</td>\n",
       "      <td>1862-02-01</td>\n",
       "      <td>2013-01-01 23:59:59</td>\n",
       "      <td>2013-01-01 23:59:59</td>\n",
       "      <td>Lufttemperatur - Haparanda</td>\n",
       "      <td>163950</td>\n",
       "      <td>150.918910</td>\n",
       "    </tr>\n",
       "    <tr>\n",
       "      <th>530</th>\n",
       "      <td>Piteå</td>\n",
       "      <td>161790</td>\n",
       "      <td>8.268</td>\n",
       "      <td>65.2625</td>\n",
       "      <td>21.4740</td>\n",
       "      <td>True</td>\n",
       "      <td>1872-04-01</td>\n",
       "      <td>2023-02-04 10:00:00</td>\n",
       "      <td>2023-02-04 10:00:00</td>\n",
       "      <td>Lufttemperatur - Piteå</td>\n",
       "      <td>161790</td>\n",
       "      <td>150.846127</td>\n",
       "    </tr>\n",
       "    <tr>\n",
       "      <th>768</th>\n",
       "      <td>Uppsala</td>\n",
       "      <td>97520</td>\n",
       "      <td>13.000</td>\n",
       "      <td>59.8585</td>\n",
       "      <td>17.6219</td>\n",
       "      <td>False</td>\n",
       "      <td>1840-01-01</td>\n",
       "      <td>1985-05-31 23:59:59</td>\n",
       "      <td>1985-05-31 23:59:59</td>\n",
       "      <td>Lufttemperatur - Uppsala</td>\n",
       "      <td>97520</td>\n",
       "      <td>145.415717</td>\n",
       "    </tr>\n",
       "    <tr>\n",
       "      <th>357</th>\n",
       "      <td>Kristianstad</td>\n",
       "      <td>64030</td>\n",
       "      <td>1.000</td>\n",
       "      <td>56.0221</td>\n",
       "      <td>14.1700</td>\n",
       "      <td>True</td>\n",
       "      <td>1878-05-01</td>\n",
       "      <td>2023-02-04 10:00:00</td>\n",
       "      <td>2023-02-04 10:00:00</td>\n",
       "      <td>Lufttemperatur - Kristianstad</td>\n",
       "      <td>64030</td>\n",
       "      <td>144.765236</td>\n",
       "    </tr>\n",
       "    <tr>\n",
       "      <th>272</th>\n",
       "      <td>Härnösand</td>\n",
       "      <td>127380</td>\n",
       "      <td>17.655</td>\n",
       "      <td>62.6364</td>\n",
       "      <td>17.9214</td>\n",
       "      <td>True</td>\n",
       "      <td>1879-04-01</td>\n",
       "      <td>2023-02-04 10:00:00</td>\n",
       "      <td>2023-02-04 10:00:00</td>\n",
       "      <td>Lufttemperatur - Härnösand</td>\n",
       "      <td>127380</td>\n",
       "      <td>143.848037</td>\n",
       "    </tr>\n",
       "    <tr>\n",
       "      <th>824</th>\n",
       "      <td>Växjö</td>\n",
       "      <td>64520</td>\n",
       "      <td>170.000</td>\n",
       "      <td>56.8427</td>\n",
       "      <td>14.8176</td>\n",
       "      <td>False</td>\n",
       "      <td>1863-09-01</td>\n",
       "      <td>2006-11-30 23:59:59</td>\n",
       "      <td>2006-11-30 23:59:59</td>\n",
       "      <td>Lufttemperatur - Växjö</td>\n",
       "      <td>64520</td>\n",
       "      <td>143.250032</td>\n",
       "    </tr>\n",
       "    <tr>\n",
       "      <th>318</th>\n",
       "      <td>Karlshamn</td>\n",
       "      <td>64130</td>\n",
       "      <td>50.000</td>\n",
       "      <td>56.1813</td>\n",
       "      <td>14.8517</td>\n",
       "      <td>True</td>\n",
       "      <td>1881-06-01</td>\n",
       "      <td>2023-02-04 10:00:00</td>\n",
       "      <td>2023-02-04 10:00:00</td>\n",
       "      <td>Lufttemperatur - Karlshamn</td>\n",
       "      <td>64130</td>\n",
       "      <td>141.679615</td>\n",
       "    </tr>\n",
       "    <tr>\n",
       "      <th>419</th>\n",
       "      <td>Lund</td>\n",
       "      <td>53430</td>\n",
       "      <td>26.451</td>\n",
       "      <td>55.6932</td>\n",
       "      <td>13.2251</td>\n",
       "      <td>True</td>\n",
       "      <td>1881-07-01</td>\n",
       "      <td>2023-02-04 10:00:00</td>\n",
       "      <td>2023-02-04 10:00:00</td>\n",
       "      <td>Lufttemperatur - Lund</td>\n",
       "      <td>53430</td>\n",
       "      <td>141.597477</td>\n",
       "    </tr>\n",
       "    <tr>\n",
       "      <th>810</th>\n",
       "      <td>Vänersborg</td>\n",
       "      <td>82230</td>\n",
       "      <td>47.996</td>\n",
       "      <td>58.3543</td>\n",
       "      <td>12.3585</td>\n",
       "      <td>True</td>\n",
       "      <td>1881-06-01</td>\n",
       "      <td>2022-12-31 23:59:59</td>\n",
       "      <td>2022-12-31 23:59:59</td>\n",
       "      <td>Lufttemperatur - Vänersborg</td>\n",
       "      <td>82230</td>\n",
       "      <td>141.585385</td>\n",
       "    </tr>\n",
       "    <tr>\n",
       "      <th>69</th>\n",
       "      <td>Borås</td>\n",
       "      <td>72450</td>\n",
       "      <td>136.000</td>\n",
       "      <td>57.7607</td>\n",
       "      <td>12.9468</td>\n",
       "      <td>True</td>\n",
       "      <td>1884-01-01</td>\n",
       "      <td>2023-02-04 10:00:00</td>\n",
       "      <td>2023-02-04 10:00:00</td>\n",
       "      <td>Lufttemperatur - Borås</td>\n",
       "      <td>72450</td>\n",
       "      <td>139.095030</td>\n",
       "    </tr>\n",
       "    <tr>\n",
       "      <th>692</th>\n",
       "      <td>Sveg</td>\n",
       "      <td>124020</td>\n",
       "      <td>432.000</td>\n",
       "      <td>62.0191</td>\n",
       "      <td>14.1904</td>\n",
       "      <td>False</td>\n",
       "      <td>1876-01-01</td>\n",
       "      <td>2012-10-31 23:59:59</td>\n",
       "      <td>2012-10-31 23:59:59</td>\n",
       "      <td>Lufttemperatur - Sveg</td>\n",
       "      <td>124020</td>\n",
       "      <td>136.835116</td>\n",
       "    </tr>\n",
       "    <tr>\n",
       "      <th>296</th>\n",
       "      <td>Jokkmokk</td>\n",
       "      <td>169880</td>\n",
       "      <td>240.000</td>\n",
       "      <td>66.6135</td>\n",
       "      <td>19.8316</td>\n",
       "      <td>False</td>\n",
       "      <td>1881-12-01</td>\n",
       "      <td>2018-06-30 23:59:59</td>\n",
       "      <td>2018-06-30 23:59:59</td>\n",
       "      <td>Lufttemperatur - Jokkmokk</td>\n",
       "      <td>169880</td>\n",
       "      <td>136.580491</td>\n",
       "    </tr>\n",
       "    <tr>\n",
       "      <th>204</th>\n",
       "      <td>Gällivare A</td>\n",
       "      <td>180760</td>\n",
       "      <td>358.975</td>\n",
       "      <td>67.1407</td>\n",
       "      <td>20.6413</td>\n",
       "      <td>True</td>\n",
       "      <td>1888-11-01</td>\n",
       "      <td>2023-02-04 10:00:00</td>\n",
       "      <td>2023-02-04 10:00:00</td>\n",
       "      <td>Lufttemperatur - Gällivare A</td>\n",
       "      <td>180760</td>\n",
       "      <td>134.259887</td>\n",
       "    </tr>\n",
       "    <tr>\n",
       "      <th>312</th>\n",
       "      <td>Kalmar</td>\n",
       "      <td>66430</td>\n",
       "      <td>15.000</td>\n",
       "      <td>56.7270</td>\n",
       "      <td>16.2944</td>\n",
       "      <td>False</td>\n",
       "      <td>1863-01-01</td>\n",
       "      <td>1996-01-31 23:59:59</td>\n",
       "      <td>1996-01-31 23:59:59</td>\n",
       "      <td>Lufttemperatur - Kalmar</td>\n",
       "      <td>66430</td>\n",
       "      <td>133.084184</td>\n",
       "    </tr>\n",
       "    <tr>\n",
       "      <th>818</th>\n",
       "      <td>Västervik</td>\n",
       "      <td>76470</td>\n",
       "      <td>33.000</td>\n",
       "      <td>57.7213</td>\n",
       "      <td>16.4683</td>\n",
       "      <td>False</td>\n",
       "      <td>1863-01-01</td>\n",
       "      <td>1995-07-31 23:59:59</td>\n",
       "      <td>1995-07-31 23:59:59</td>\n",
       "      <td>Lufttemperatur - Västervik</td>\n",
       "      <td>76470</td>\n",
       "      <td>132.580409</td>\n",
       "    </tr>\n",
       "    <tr>\n",
       "      <th>209</th>\n",
       "      <td>Gävle</td>\n",
       "      <td>107400</td>\n",
       "      <td>16.000</td>\n",
       "      <td>60.6537</td>\n",
       "      <td>17.1693</td>\n",
       "      <td>False</td>\n",
       "      <td>1863-05-01</td>\n",
       "      <td>1995-07-31 23:59:59</td>\n",
       "      <td>1995-07-31 23:59:59</td>\n",
       "      <td>Lufttemperatur - Gävle</td>\n",
       "      <td>107400</td>\n",
       "      <td>132.251860</td>\n",
       "    </tr>\n",
       "    <tr>\n",
       "      <th>315</th>\n",
       "      <td>Karesuando</td>\n",
       "      <td>192830</td>\n",
       "      <td>330.000</td>\n",
       "      <td>68.4421</td>\n",
       "      <td>22.4502</td>\n",
       "      <td>False</td>\n",
       "      <td>1881-08-01</td>\n",
       "      <td>2012-08-31 23:59:59</td>\n",
       "      <td>2012-08-31 23:59:59</td>\n",
       "      <td>Lufttemperatur - Karesuando</td>\n",
       "      <td>192830</td>\n",
       "      <td>131.085512</td>\n",
       "    </tr>\n",
       "    <tr>\n",
       "      <th>873</th>\n",
       "      <td>Örebro</td>\n",
       "      <td>95160</td>\n",
       "      <td>35.000</td>\n",
       "      <td>59.2782</td>\n",
       "      <td>15.1574</td>\n",
       "      <td>False</td>\n",
       "      <td>1875-03-01</td>\n",
       "      <td>2005-06-30 23:59:59</td>\n",
       "      <td>2005-06-30 23:59:59</td>\n",
       "      <td>Lufttemperatur - Örebro</td>\n",
       "      <td>95160</td>\n",
       "      <td>130.335325</td>\n",
       "    </tr>\n",
       "    <tr>\n",
       "      <th>755</th>\n",
       "      <td>Ulricehamn</td>\n",
       "      <td>73470</td>\n",
       "      <td>175.000</td>\n",
       "      <td>57.8052</td>\n",
       "      <td>13.4083</td>\n",
       "      <td>False</td>\n",
       "      <td>1892-01-01</td>\n",
       "      <td>2021-12-31 23:59:59</td>\n",
       "      <td>2021-12-31 23:59:59</td>\n",
       "      <td>Lufttemperatur - Ulricehamn</td>\n",
       "      <td>73470</td>\n",
       "      <td>130.001300</td>\n",
       "    </tr>\n",
       "    <tr>\n",
       "      <th>320</th>\n",
       "      <td>Karlstad</td>\n",
       "      <td>93250</td>\n",
       "      <td>80.000</td>\n",
       "      <td>59.3840</td>\n",
       "      <td>13.4455</td>\n",
       "      <td>False</td>\n",
       "      <td>1881-06-01</td>\n",
       "      <td>2008-09-30 23:59:59</td>\n",
       "      <td>2008-09-30 23:59:59</td>\n",
       "      <td>Lufttemperatur - Karlstad</td>\n",
       "      <td>93250</td>\n",
       "      <td>127.334579</td>\n",
       "    </tr>\n",
       "    <tr>\n",
       "      <th>371</th>\n",
       "      <td>Kvikkjokk-Årrenjarka</td>\n",
       "      <td>167980</td>\n",
       "      <td>314.000</td>\n",
       "      <td>66.8876</td>\n",
       "      <td>18.0179</td>\n",
       "      <td>False</td>\n",
       "      <td>1887-09-01</td>\n",
       "      <td>2013-03-31 23:59:59</td>\n",
       "      <td>2013-03-31 23:59:59</td>\n",
       "      <td>Lufttemperatur - Kvikkjokk-Årrenjarka</td>\n",
       "      <td>167980</td>\n",
       "      <td>125.582319</td>\n",
       "    </tr>\n",
       "    <tr>\n",
       "      <th>800</th>\n",
       "      <td>Visby</td>\n",
       "      <td>78390</td>\n",
       "      <td>28.000</td>\n",
       "      <td>57.6360</td>\n",
       "      <td>18.2891</td>\n",
       "      <td>False</td>\n",
       "      <td>1863-01-01</td>\n",
       "      <td>1986-04-30 23:59:59</td>\n",
       "      <td>1986-04-30 23:59:59</td>\n",
       "      <td>Lufttemperatur - Visby</td>\n",
       "      <td>78390</td>\n",
       "      <td>123.329021</td>\n",
       "    </tr>\n",
       "    <tr>\n",
       "      <th>147</th>\n",
       "      <td>Forse</td>\n",
       "      <td>137080</td>\n",
       "      <td>125.604</td>\n",
       "      <td>63.1461</td>\n",
       "      <td>17.0223</td>\n",
       "      <td>True</td>\n",
       "      <td>1901-07-01</td>\n",
       "      <td>2023-02-04 10:00:00</td>\n",
       "      <td>2023-02-04 10:00:00</td>\n",
       "      <td>Lufttemperatur - Forse</td>\n",
       "      <td>137080</td>\n",
       "      <td>121.599805</td>\n",
       "    </tr>\n",
       "    <tr>\n",
       "      <th>635</th>\n",
       "      <td>Stensele</td>\n",
       "      <td>157720</td>\n",
       "      <td>325.000</td>\n",
       "      <td>65.0706</td>\n",
       "      <td>17.1536</td>\n",
       "      <td>False</td>\n",
       "      <td>1885-05-01</td>\n",
       "      <td>2004-12-31 23:59:59</td>\n",
       "      <td>2004-12-31 23:59:59</td>\n",
       "      <td>Lufttemperatur - Stensele</td>\n",
       "      <td>157720</td>\n",
       "      <td>119.671177</td>\n",
       "    </tr>\n",
       "    <tr>\n",
       "      <th>95</th>\n",
       "      <td>Delsbo</td>\n",
       "      <td>116480</td>\n",
       "      <td>88.000</td>\n",
       "      <td>61.7854</td>\n",
       "      <td>16.5505</td>\n",
       "      <td>False</td>\n",
       "      <td>1878-01-01</td>\n",
       "      <td>1995-11-30 23:59:59</td>\n",
       "      <td>1995-11-30 23:59:59</td>\n",
       "      <td>Lufttemperatur - Delsbo</td>\n",
       "      <td>116480</td>\n",
       "      <td>117.913441</td>\n",
       "    </tr>\n",
       "    <tr>\n",
       "      <th>882</th>\n",
       "      <td>Östersund</td>\n",
       "      <td>134100</td>\n",
       "      <td>345.000</td>\n",
       "      <td>63.1736</td>\n",
       "      <td>14.6786</td>\n",
       "      <td>False</td>\n",
       "      <td>1862-10-01</td>\n",
       "      <td>1980-06-30 23:59:59</td>\n",
       "      <td>1980-06-30 23:59:59</td>\n",
       "      <td>Lufttemperatur - Östersund</td>\n",
       "      <td>134100</td>\n",
       "      <td>117.749167</td>\n",
       "    </tr>\n",
       "  </tbody>\n",
       "</table>\n",
       "</div>"
      ],
      "text/plain": [
       "                             name      id   height  latitude  longitude  \\\n",
       "642  Stockholm-Observatoriekullen   98210   43.133   59.3417    18.0549   \n",
       "220                      Halmstad   62400   24.000   56.6737    12.9242   \n",
       "819                      Västerås   96350   15.836   59.5972    16.6001   \n",
       "130                  Falun-Lugnet  105370  161.395   60.6185    15.6574   \n",
       "228                     Haparanda  163950    5.000   65.8367    24.1130   \n",
       "530                         Piteå  161790    8.268   65.2625    21.4740   \n",
       "768                       Uppsala   97520   13.000   59.8585    17.6219   \n",
       "357                  Kristianstad   64030    1.000   56.0221    14.1700   \n",
       "272                     Härnösand  127380   17.655   62.6364    17.9214   \n",
       "824                         Växjö   64520  170.000   56.8427    14.8176   \n",
       "318                     Karlshamn   64130   50.000   56.1813    14.8517   \n",
       "419                          Lund   53430   26.451   55.6932    13.2251   \n",
       "810                    Vänersborg   82230   47.996   58.3543    12.3585   \n",
       "69                          Borås   72450  136.000   57.7607    12.9468   \n",
       "692                          Sveg  124020  432.000   62.0191    14.1904   \n",
       "296                      Jokkmokk  169880  240.000   66.6135    19.8316   \n",
       "204                   Gällivare A  180760  358.975   67.1407    20.6413   \n",
       "312                        Kalmar   66430   15.000   56.7270    16.2944   \n",
       "818                     Västervik   76470   33.000   57.7213    16.4683   \n",
       "209                         Gävle  107400   16.000   60.6537    17.1693   \n",
       "315                    Karesuando  192830  330.000   68.4421    22.4502   \n",
       "873                        Örebro   95160   35.000   59.2782    15.1574   \n",
       "755                    Ulricehamn   73470  175.000   57.8052    13.4083   \n",
       "320                      Karlstad   93250   80.000   59.3840    13.4455   \n",
       "371          Kvikkjokk-Årrenjarka  167980  314.000   66.8876    18.0179   \n",
       "800                         Visby   78390   28.000   57.6360    18.2891   \n",
       "147                         Forse  137080  125.604   63.1461    17.0223   \n",
       "635                      Stensele  157720  325.000   65.0706    17.1536   \n",
       "95                         Delsbo  116480   88.000   61.7854    16.5505   \n",
       "882                     Östersund  134100  345.000   63.1736    14.6786   \n",
       "\n",
       "     active   starting              ending             updated  \\\n",
       "642    True 1859-01-01 2023-02-04 10:00:00 2023-02-04 10:00:00   \n",
       "220   False 1859-03-01 2020-06-30 23:59:59 2020-06-30 23:59:59   \n",
       "819    True 1862-05-01 2023-02-04 10:00:00 2023-02-04 10:00:00   \n",
       "130    True 1866-01-01 2023-02-04 10:00:00 2023-02-04 10:00:00   \n",
       "228   False 1862-02-01 2013-01-01 23:59:59 2013-01-01 23:59:59   \n",
       "530    True 1872-04-01 2023-02-04 10:00:00 2023-02-04 10:00:00   \n",
       "768   False 1840-01-01 1985-05-31 23:59:59 1985-05-31 23:59:59   \n",
       "357    True 1878-05-01 2023-02-04 10:00:00 2023-02-04 10:00:00   \n",
       "272    True 1879-04-01 2023-02-04 10:00:00 2023-02-04 10:00:00   \n",
       "824   False 1863-09-01 2006-11-30 23:59:59 2006-11-30 23:59:59   \n",
       "318    True 1881-06-01 2023-02-04 10:00:00 2023-02-04 10:00:00   \n",
       "419    True 1881-07-01 2023-02-04 10:00:00 2023-02-04 10:00:00   \n",
       "810    True 1881-06-01 2022-12-31 23:59:59 2022-12-31 23:59:59   \n",
       "69     True 1884-01-01 2023-02-04 10:00:00 2023-02-04 10:00:00   \n",
       "692   False 1876-01-01 2012-10-31 23:59:59 2012-10-31 23:59:59   \n",
       "296   False 1881-12-01 2018-06-30 23:59:59 2018-06-30 23:59:59   \n",
       "204    True 1888-11-01 2023-02-04 10:00:00 2023-02-04 10:00:00   \n",
       "312   False 1863-01-01 1996-01-31 23:59:59 1996-01-31 23:59:59   \n",
       "818   False 1863-01-01 1995-07-31 23:59:59 1995-07-31 23:59:59   \n",
       "209   False 1863-05-01 1995-07-31 23:59:59 1995-07-31 23:59:59   \n",
       "315   False 1881-08-01 2012-08-31 23:59:59 2012-08-31 23:59:59   \n",
       "873   False 1875-03-01 2005-06-30 23:59:59 2005-06-30 23:59:59   \n",
       "755   False 1892-01-01 2021-12-31 23:59:59 2021-12-31 23:59:59   \n",
       "320   False 1881-06-01 2008-09-30 23:59:59 2008-09-30 23:59:59   \n",
       "371   False 1887-09-01 2013-03-31 23:59:59 2013-03-31 23:59:59   \n",
       "800   False 1863-01-01 1986-04-30 23:59:59 1986-04-30 23:59:59   \n",
       "147    True 1901-07-01 2023-02-04 10:00:00 2023-02-04 10:00:00   \n",
       "635   False 1885-05-01 2004-12-31 23:59:59 2004-12-31 23:59:59   \n",
       "95    False 1878-01-01 1995-11-30 23:59:59 1995-11-30 23:59:59   \n",
       "882   False 1862-10-01 1980-06-30 23:59:59 1980-06-30 23:59:59   \n",
       "\n",
       "                                             title     key    duration  \n",
       "642  Lufttemperatur - Stockholm-Observatoriekullen   98210  164.094859  \n",
       "220                      Lufttemperatur - Halmstad   62400  161.336646  \n",
       "819                      Lufttemperatur - Västerås   96350  160.765564  \n",
       "130                  Lufttemperatur - Falun-Lugnet  105370  157.094031  \n",
       "228                     Lufttemperatur - Haparanda  163950  150.918910  \n",
       "530                         Lufttemperatur - Piteå  161790  150.846127  \n",
       "768                       Lufttemperatur - Uppsala   97520  145.415717  \n",
       "357                  Lufttemperatur - Kristianstad   64030  144.765236  \n",
       "272                     Lufttemperatur - Härnösand  127380  143.848037  \n",
       "824                         Lufttemperatur - Växjö   64520  143.250032  \n",
       "318                     Lufttemperatur - Karlshamn   64130  141.679615  \n",
       "419                          Lufttemperatur - Lund   53430  141.597477  \n",
       "810                    Lufttemperatur - Vänersborg   82230  141.585385  \n",
       "69                          Lufttemperatur - Borås   72450  139.095030  \n",
       "692                          Lufttemperatur - Sveg  124020  136.835116  \n",
       "296                      Lufttemperatur - Jokkmokk  169880  136.580491  \n",
       "204                   Lufttemperatur - Gällivare A  180760  134.259887  \n",
       "312                        Lufttemperatur - Kalmar   66430  133.084184  \n",
       "818                     Lufttemperatur - Västervik   76470  132.580409  \n",
       "209                         Lufttemperatur - Gävle  107400  132.251860  \n",
       "315                    Lufttemperatur - Karesuando  192830  131.085512  \n",
       "873                        Lufttemperatur - Örebro   95160  130.335325  \n",
       "755                    Lufttemperatur - Ulricehamn   73470  130.001300  \n",
       "320                      Lufttemperatur - Karlstad   93250  127.334579  \n",
       "371          Lufttemperatur - Kvikkjokk-Årrenjarka  167980  125.582319  \n",
       "800                         Lufttemperatur - Visby   78390  123.329021  \n",
       "147                         Lufttemperatur - Forse  137080  121.599805  \n",
       "635                      Lufttemperatur - Stensele  157720  119.671177  \n",
       "95                         Lufttemperatur - Delsbo  116480  117.913441  \n",
       "882                     Lufttemperatur - Östersund  134100  117.749167  "
      ]
     },
     "execution_count": 392,
     "metadata": {},
     "output_type": "execute_result"
    }
   ],
   "source": [
    "import numpy as np\n",
    "df_stations['duration']=df_stations['ending']-df_stations['starting']\n",
    "df_stations['duration']=df_stations['duration']/ np.timedelta64(1, 'Y') # Convert from days to years\n",
    "df_stations.sort_values(by='duration',ascending=False).head(30)"
   ]
  },
  {
   "cell_type": "code",
   "execution_count": null,
   "id": "bd2d3e2e",
   "metadata": {},
   "outputs": [],
   "source": [
    "import pandas as pd\n",
    "df_stations.to_excel('temp_stations.xlsx')\n",
    "#df_stations=pd.read_excel('temp_stations.xlsx')\n",
    "df_stations[df_stations['duration']>100]"
   ]
  },
  {
   "cell_type": "code",
   "execution_count": 25,
   "id": "1bbd3500",
   "metadata": {},
   "outputs": [
    {
     "data": {
      "image/png": "[encoded data removed]",
      "text/plain": [
       "<Figure size 800x500 with 2 Axes>"
      ]
     },
     "metadata": {},
     "output_type": "display_data"
    }
   ],
   "source": [
    "# Plot observation stations\n",
    "import matplotlib.pyplot as plt\n",
    "import cartopy.crs as ccrs\n",
    "import cartopy.feature as cfeature\n",
    "import cartopy.io.img_tiles as cimgt\n",
    "from cartopy.io.shapereader import Reader\n",
    "import numpy as np\n",
    "import matplotlib\n",
    "import matplotlib.colors as mcolors\n",
    "\n",
    "# Sort your DataFrame\n",
    "df_stations = df_stations.sort_values(by='duration')\n",
    "\n",
    "plt.figure(figsize=(8, 5))\n",
    "\n",
    "# Creates the map\n",
    "sw_map = plt.axes(projection=ccrs.PlateCarree())\n",
    "\n",
    "# To add county lines\n",
    "mypath = r'C:\\Users\\MarlonVieiraPassos\\OneDrive - SEI\\Documents\\HydroHazards\\Codes\\OSM\\halmstad\\data\\shapefiles\\\\'\n",
    "data = Reader(mypath + 'se_10km.shp')\n",
    "sw_border = list(data.geometries())\n",
    "sw_border2 = cfeature.ShapelyFeature(sw_border, ccrs.PlateCarree())\n",
    "sw_map.add_feature(sw_border2, facecolor='none', edgecolor='gray')\n",
    "\n",
    "request = cimgt.MapboxTiles(map_id='light-v10',access_token=\"pk.eyJ1IjoibXZwYXNzb3MiLCJhIjoiY2t6em4xcnpwMGJ2bDNicDYyemM0bWU4YyJ9.fR55BgEafulrz4yLfY2oRA\")\n",
    "sw_map.add_image(request, 5, cmap='gray', interpolation='spline36', regrid_shape=2000)\n",
    "\n",
    "sw_map.xaxis.set_visible(True)\n",
    "sw_map.yaxis.set_visible(True)\n",
    "\n",
    "# Plots the data onto map\n",
    "cmap = matplotlib.cm.coolwarm\n",
    "norm = matplotlib.colors.Normalize(vmin=0, vmax=100)\n",
    "\n",
    "plt.scatter(df_stations['longitude'], df_stations['latitude'], alpha=0.8,\n",
    "            s=df_stations['duration'] / 2,\n",
    "            c=df_stations['duration'],\n",
    "            edgecolors='black',\n",
    "            cmap=cmap,\n",
    "            norm=norm,  # Apply the normalization to the scatter plot\n",
    "            transform=ccrs.PlateCarree())\n",
    "\n",
    "# Colorbar\n",
    "cbar = plt.colorbar(extend='max')\n",
    "cbar.set_label('Data Availability (years)', fontsize=16)\n",
    "cbar.ax.tick_params(labelsize=14)\n",
    "# Plot labels\n",
    "plt.ylabel(\"Latitude\", fontsize=14)\n",
    "plt.xlabel(\"Longitude\", fontsize=14)\n",
    "plt.title('Temperature Observation Stations (1922-2021)', fontsize=16)\n",
    "\n",
    "plt.savefig('temperature_stations_smhi2.png', format=\"png\", dpi=120)\n",
    "plt.show()\n"
   ]
  },
  {
   "cell_type": "code",
   "execution_count": 396,
   "id": "e597e998",
   "metadata": {},
   "outputs": [
    {
     "name": "stdout",
     "output_type": "stream",
     "text": [
      ">>> Start downloading each station\n",
      ">>> Downloading 154860\n",
      "Check smhi.log for data download details!\n",
      ">>> Start downloading each station\n",
      ">>> Downloading 188800\n"
     ]
    },
    {
     "name": "stderr",
     "output_type": "stream",
     "text": [
      "C:\\Users\\MarlonVieiraPassos\\AppData\\Local\\Temp\\ipykernel_8500\\3869588013.py:9: FutureWarning: The frame.append method is deprecated and will be removed from pandas in a future version. Use pandas.concat instead.\n",
      "  df_all=df_all.append(dict_df[\"df_corrected\"])\n"
     ]
    },
    {
     "name": "stdout",
     "output_type": "stream",
     "text": [
      "Check smhi.log for data download details!\n",
      ">>> Start downloading each station\n",
      ">>> Downloading 188790\n"
     ]
    },
    {
     "name": "stderr",
     "output_type": "stream",
     "text": [
      "C:\\Users\\MarlonVieiraPassos\\AppData\\Local\\Temp\\ipykernel_8500\\3869588013.py:9: FutureWarning: The frame.append method is deprecated and will be removed from pandas in a future version. Use pandas.concat instead.\n",
      "  df_all=df_all.append(dict_df[\"df_corrected\"])\n"
     ]
    },
    {
     "name": "stdout",
     "output_type": "stream",
     "text": [
      "Check smhi.log for data download details!\n",
      ">>> Start downloading each station\n",
      ">>> Downloading 158990\n"
     ]
    },
    {
     "name": "stderr",
     "output_type": "stream",
     "text": [
      "C:\\Users\\MarlonVieiraPassos\\AppData\\Local\\Temp\\ipykernel_8500\\3869588013.py:9: FutureWarning: The frame.append method is deprecated and will be removed from pandas in a future version. Use pandas.concat instead.\n",
      "  df_all=df_all.append(dict_df[\"df_corrected\"])\n"
     ]
    },
    {
     "name": "stdout",
     "output_type": "stream",
     "text": [
      "Check smhi.log for data download details!\n",
      ">>> Start downloading each station\n",
      ">>> Downloading 85600\n"
     ]
    },
    {
     "name": "stderr",
     "output_type": "stream",
     "text": [
      "C:\\Users\\MarlonVieiraPassos\\AppData\\Local\\Temp\\ipykernel_8500\\3869588013.py:9: FutureWarning: The frame.append method is deprecated and will be removed from pandas in a future version. Use pandas.concat instead.\n",
      "  df_all=df_all.append(dict_df[\"df_corrected\"])\n"
     ]
    },
    {
     "name": "stdout",
     "output_type": "stream",
     "text": [
      "Check smhi.log for data download details!\n",
      ">>> Start downloading each station\n",
      ">>> Downloading 97280\n"
     ]
    },
    {
     "name": "stderr",
     "output_type": "stream",
     "text": [
      "C:\\Users\\MarlonVieiraPassos\\AppData\\Local\\Temp\\ipykernel_8500\\3869588013.py:9: FutureWarning: The frame.append method is deprecated and will be removed from pandas in a future version. Use pandas.concat instead.\n",
      "  df_all=df_all.append(dict_df[\"df_corrected\"])\n",
      "C:\\Users\\MarlonVieiraPassos\\AppData\\Local\\Temp\\ipykernel_8500\\3869588013.py:9: FutureWarning: The frame.append method is deprecated and will be removed from pandas in a future version. Use pandas.concat instead.\n",
      "  df_all=df_all.append(dict_df[\"df_corrected\"])\n"
     ]
    },
    {
     "name": "stdout",
     "output_type": "stream",
     "text": [
      "Check smhi.log for data download details!\n",
      ">>> Start downloading each station\n",
      ">>> Downloading 92480\n",
      "Check smhi.log for data download details!\n",
      ">>> Start downloading each station\n",
      ">>> Downloading 117330\n"
     ]
    },
    {
     "name": "stderr",
     "output_type": "stream",
     "text": [
      "C:\\Users\\MarlonVieiraPassos\\AppData\\Local\\Temp\\ipykernel_8500\\3869588013.py:9: FutureWarning: The frame.append method is deprecated and will be removed from pandas in a future version. Use pandas.concat instead.\n",
      "  df_all=df_all.append(dict_df[\"df_corrected\"])\n"
     ]
    },
    {
     "name": "stdout",
     "output_type": "stream",
     "text": [
      "Check smhi.log for data download details!\n",
      ">>> Start downloading each station\n",
      ">>> Downloading 178740\n"
     ]
    },
    {
     "name": "stderr",
     "output_type": "stream",
     "text": [
      "C:\\Users\\MarlonVieiraPassos\\AppData\\Local\\Temp\\ipykernel_8500\\3869588013.py:9: FutureWarning: The frame.append method is deprecated and will be removed from pandas in a future version. Use pandas.concat instead.\n",
      "  df_all=df_all.append(dict_df[\"df_corrected\"])\n"
     ]
    },
    {
     "name": "stdout",
     "output_type": "stream",
     "text": [
      "Check smhi.log for data download details!\n",
      ">>> Start downloading each station\n",
      ">>> Downloading 75040\n"
     ]
    },
    {
     "name": "stderr",
     "output_type": "stream",
     "text": [
      "C:\\Users\\MarlonVieiraPassos\\AppData\\Local\\Temp\\ipykernel_8500\\3869588013.py:9: FutureWarning: The frame.append method is deprecated and will be removed from pandas in a future version. Use pandas.concat instead.\n",
      "  df_all=df_all.append(dict_df[\"df_corrected\"])\n"
     ]
    },
    {
     "name": "stdout",
     "output_type": "stream",
     "text": [
      "Check smhi.log for data download details!\n",
      ">>> Start downloading each station\n",
      ">>> Downloading 99090\n"
     ]
    },
    {
     "name": "stderr",
     "output_type": "stream",
     "text": [
      "C:\\Users\\MarlonVieiraPassos\\AppData\\Local\\Temp\\ipykernel_8500\\3869588013.py:9: FutureWarning: The frame.append method is deprecated and will be removed from pandas in a future version. Use pandas.concat instead.\n",
      "  df_all=df_all.append(dict_df[\"df_corrected\"])\n"
     ]
    },
    {
     "name": "stdout",
     "output_type": "stream",
     "text": [
      "Check smhi.log for data download details!\n",
      ">>> Start downloading each station\n",
      ">>> Downloading 134590\n"
     ]
    },
    {
     "name": "stderr",
     "output_type": "stream",
     "text": [
      "C:\\Users\\MarlonVieiraPassos\\AppData\\Local\\Temp\\ipykernel_8500\\3869588013.py:9: FutureWarning: The frame.append method is deprecated and will be removed from pandas in a future version. Use pandas.concat instead.\n",
      "  df_all=df_all.append(dict_df[\"df_corrected\"])\n"
     ]
    },
    {
     "name": "stdout",
     "output_type": "stream",
     "text": [
      "Check smhi.log for data download details!\n",
      ">>> Start downloading each station\n",
      ">>> Downloading 53640\n"
     ]
    },
    {
     "name": "stderr",
     "output_type": "stream",
     "text": [
      "C:\\Users\\MarlonVieiraPassos\\AppData\\Local\\Temp\\ipykernel_8500\\3869588013.py:9: FutureWarning: The frame.append method is deprecated and will be removed from pandas in a future version. Use pandas.concat instead.\n",
      "  df_all=df_all.append(dict_df[\"df_corrected\"])\n",
      "C:\\Users\\MarlonVieiraPassos\\AppData\\Local\\Temp\\ipykernel_8500\\3869588013.py:9: FutureWarning: The frame.append method is deprecated and will be removed from pandas in a future version. Use pandas.concat instead.\n",
      "  df_all=df_all.append(dict_df[\"df_corrected\"])\n"
     ]
    },
    {
     "name": "stdout",
     "output_type": "stream",
     "text": [
      "Check smhi.log for data download details!\n",
      ">>> Start downloading each station\n",
      ">>> Downloading 53390\n",
      "Check smhi.log for data download details!\n"
     ]
    },
    {
     "name": "stderr",
     "output_type": "stream",
     "text": [
      "C:\\Users\\MarlonVieiraPassos\\AppData\\Local\\Temp\\ipykernel_8500\\3869588013.py:9: FutureWarning: The frame.append method is deprecated and will be removed from pandas in a future version. Use pandas.concat instead.\n",
      "  df_all=df_all.append(dict_df[\"df_corrected\"])\n"
     ]
    },
    {
     "name": "stdout",
     "output_type": "stream",
     "text": [
      ">>> Start downloading each station\n",
      ">>> Downloading 178790\n",
      "Check smhi.log for data download details!\n",
      ">>> Start downloading each station\n",
      ">>> Downloading 82000\n"
     ]
    },
    {
     "name": "stderr",
     "output_type": "stream",
     "text": [
      "C:\\Users\\MarlonVieiraPassos\\AppData\\Local\\Temp\\ipykernel_8500\\3869588013.py:9: FutureWarning: The frame.append method is deprecated and will be removed from pandas in a future version. Use pandas.concat instead.\n",
      "  df_all=df_all.append(dict_df[\"df_corrected\"])\n"
     ]
    },
    {
     "name": "stdout",
     "output_type": "stream",
     "text": [
      "Check smhi.log for data download details!\n",
      ">>> Start downloading each station\n",
      ">>> Downloading 73250\n"
     ]
    },
    {
     "name": "stderr",
     "output_type": "stream",
     "text": [
      "C:\\Users\\MarlonVieiraPassos\\AppData\\Local\\Temp\\ipykernel_8500\\3869588013.py:9: FutureWarning: The frame.append method is deprecated and will be removed from pandas in a future version. Use pandas.concat instead.\n",
      "  df_all=df_all.append(dict_df[\"df_corrected\"])\n"
     ]
    },
    {
     "name": "stdout",
     "output_type": "stream",
     "text": [
      "Check smhi.log for data download details!\n",
      ">>> Start downloading each station\n",
      ">>> Downloading 156990\n"
     ]
    },
    {
     "name": "stderr",
     "output_type": "stream",
     "text": [
      "C:\\Users\\MarlonVieiraPassos\\AppData\\Local\\Temp\\ipykernel_8500\\3869588013.py:9: FutureWarning: The frame.append method is deprecated and will be removed from pandas in a future version. Use pandas.concat instead.\n",
      "  df_all=df_all.append(dict_df[\"df_corrected\"])\n"
     ]
    },
    {
     "name": "stdout",
     "output_type": "stream",
     "text": [
      "Check smhi.log for data download details!\n",
      ">>> Start downloading each station\n",
      ">>> Downloading 74600\n"
     ]
    },
    {
     "name": "stderr",
     "output_type": "stream",
     "text": [
      "C:\\Users\\MarlonVieiraPassos\\AppData\\Local\\Temp\\ipykernel_8500\\3869588013.py:9: FutureWarning: The frame.append method is deprecated and will be removed from pandas in a future version. Use pandas.concat instead.\n",
      "  df_all=df_all.append(dict_df[\"df_corrected\"])\n",
      "C:\\Users\\MarlonVieiraPassos\\AppData\\Local\\Temp\\ipykernel_8500\\3869588013.py:9: FutureWarning: The frame.append method is deprecated and will be removed from pandas in a future version. Use pandas.concat instead.\n",
      "  df_all=df_all.append(dict_df[\"df_corrected\"])\n"
     ]
    },
    {
     "name": "stdout",
     "output_type": "stream",
     "text": [
      "Check smhi.log for data download details!\n",
      ">>> Start downloading each station\n",
      ">>> Downloading 74510\n",
      "Check smhi.log for data download details!\n",
      ">>> Start downloading each station\n",
      ">>> Downloading 144530\n"
     ]
    },
    {
     "name": "stderr",
     "output_type": "stream",
     "text": [
      "C:\\Users\\MarlonVieiraPassos\\AppData\\Local\\Temp\\ipykernel_8500\\3869588013.py:9: FutureWarning: The frame.append method is deprecated and will be removed from pandas in a future version. Use pandas.concat instead.\n",
      "  df_all=df_all.append(dict_df[\"df_corrected\"])\n"
     ]
    },
    {
     "name": "stdout",
     "output_type": "stream",
     "text": [
      "Check smhi.log for data download details!\n",
      ">>> Start downloading each station\n",
      ">>> Downloading 95230\n"
     ]
    },
    {
     "name": "stderr",
     "output_type": "stream",
     "text": [
      "C:\\Users\\MarlonVieiraPassos\\AppData\\Local\\Temp\\ipykernel_8500\\3869588013.py:9: FutureWarning: The frame.append method is deprecated and will be removed from pandas in a future version. Use pandas.concat instead.\n",
      "  df_all=df_all.append(dict_df[\"df_corrected\"])\n"
     ]
    },
    {
     "name": "stdout",
     "output_type": "stream",
     "text": [
      "Check smhi.log for data download details!\n",
      ">>> Start downloading each station\n",
      ">>> Downloading 167710\n"
     ]
    },
    {
     "name": "stderr",
     "output_type": "stream",
     "text": [
      "C:\\Users\\MarlonVieiraPassos\\AppData\\Local\\Temp\\ipykernel_8500\\3869588013.py:9: FutureWarning: The frame.append method is deprecated and will be removed from pandas in a future version. Use pandas.concat instead.\n",
      "  df_all=df_all.append(dict_df[\"df_corrected\"])\n"
     ]
    },
    {
     "name": "stdout",
     "output_type": "stream",
     "text": [
      "Check smhi.log for data download details!\n",
      ">>> Start downloading each station\n",
      ">>> Downloading 97390\n"
     ]
    },
    {
     "name": "stderr",
     "output_type": "stream",
     "text": [
      "C:\\Users\\MarlonVieiraPassos\\AppData\\Local\\Temp\\ipykernel_8500\\3869588013.py:9: FutureWarning: The frame.append method is deprecated and will be removed from pandas in a future version. Use pandas.concat instead.\n",
      "  df_all=df_all.append(dict_df[\"df_corrected\"])\n"
     ]
    },
    {
     "name": "stdout",
     "output_type": "stream",
     "text": [
      "Check smhi.log for data download details!\n",
      ">>> Start downloading each station\n",
      ">>> Downloading 53770\n",
      "Check smhi.log for data download details!\n"
     ]
    },
    {
     "name": "stderr",
     "output_type": "stream",
     "text": [
      "C:\\Users\\MarlonVieiraPassos\\AppData\\Local\\Temp\\ipykernel_8500\\3869588013.py:9: FutureWarning: The frame.append method is deprecated and will be removed from pandas in a future version. Use pandas.concat instead.\n",
      "  df_all=df_all.append(dict_df[\"df_corrected\"])\n"
     ]
    },
    {
     "name": "stdout",
     "output_type": "stream",
     "text": [
      ">>> Start downloading each station\n",
      ">>> Downloading 159880\n",
      "Check smhi.log for data download details!\n",
      ">>> Start downloading each station\n",
      ">>> Downloading 92400\n"
     ]
    },
    {
     "name": "stderr",
     "output_type": "stream",
     "text": [
      "C:\\Users\\MarlonVieiraPassos\\AppData\\Local\\Temp\\ipykernel_8500\\3869588013.py:9: FutureWarning: The frame.append method is deprecated and will be removed from pandas in a future version. Use pandas.concat instead.\n",
      "  df_all=df_all.append(dict_df[\"df_corrected\"])\n"
     ]
    },
    {
     "name": "stdout",
     "output_type": "stream",
     "text": [
      "Check smhi.log for data download details!\n",
      ">>> Start downloading each station\n",
      ">>> Downloading 92410\n",
      "Check smhi.log for data download details!\n",
      ">>> Start downloading each station\n",
      ">>> Downloading 97630\n"
     ]
    },
    {
     "name": "stderr",
     "output_type": "stream",
     "text": [
      "C:\\Users\\MarlonVieiraPassos\\AppData\\Local\\Temp\\ipykernel_8500\\3869588013.py:9: FutureWarning: The frame.append method is deprecated and will be removed from pandas in a future version. Use pandas.concat instead.\n",
      "  df_all=df_all.append(dict_df[\"df_corrected\"])\n",
      "C:\\Users\\MarlonVieiraPassos\\AppData\\Local\\Temp\\ipykernel_8500\\3869588013.py:9: FutureWarning: The frame.append method is deprecated and will be removed from pandas in a future version. Use pandas.concat instead.\n",
      "  df_all=df_all.append(dict_df[\"df_corrected\"])\n"
     ]
    },
    {
     "name": "stdout",
     "output_type": "stream",
     "text": [
      "Check smhi.log for data download details!\n",
      ">>> Start downloading each station\n",
      ">>> Downloading 84660\n",
      "Check smhi.log for data download details!\n"
     ]
    },
    {
     "name": "stderr",
     "output_type": "stream",
     "text": [
      "C:\\Users\\MarlonVieiraPassos\\AppData\\Local\\Temp\\ipykernel_8500\\3869588013.py:9: FutureWarning: The frame.append method is deprecated and will be removed from pandas in a future version. Use pandas.concat instead.\n",
      "  df_all=df_all.append(dict_df[\"df_corrected\"])\n"
     ]
    },
    {
     "name": "stdout",
     "output_type": "stream",
     "text": [
      ">>> Start downloading each station\n",
      ">>> Downloading 94370\n",
      "Check smhi.log for data download details!\n",
      ">>> Start downloading each station\n",
      ">>> Downloading 106070\n"
     ]
    },
    {
     "name": "stderr",
     "output_type": "stream",
     "text": [
      "C:\\Users\\MarlonVieiraPassos\\AppData\\Local\\Temp\\ipykernel_8500\\3869588013.py:9: FutureWarning: The frame.append method is deprecated and will be removed from pandas in a future version. Use pandas.concat instead.\n",
      "  df_all=df_all.append(dict_df[\"df_corrected\"])\n"
     ]
    },
    {
     "name": "stdout",
     "output_type": "stream",
     "text": [
      "Check smhi.log for data download details!\n",
      ">>> Start downloading each station\n",
      ">>> Downloading 84340\n"
     ]
    },
    {
     "name": "stderr",
     "output_type": "stream",
     "text": [
      "C:\\Users\\MarlonVieiraPassos\\AppData\\Local\\Temp\\ipykernel_8500\\3869588013.py:9: FutureWarning: The frame.append method is deprecated and will be removed from pandas in a future version. Use pandas.concat instead.\n",
      "  df_all=df_all.append(dict_df[\"df_corrected\"])\n"
     ]
    },
    {
     "name": "stdout",
     "output_type": "stream",
     "text": [
      "Check smhi.log for data download details!\n",
      ">>> Start downloading each station\n",
      ">>> Downloading 105550\n"
     ]
    },
    {
     "name": "stderr",
     "output_type": "stream",
     "text": [
      "C:\\Users\\MarlonVieiraPassos\\AppData\\Local\\Temp\\ipykernel_8500\\3869588013.py:9: FutureWarning: The frame.append method is deprecated and will be removed from pandas in a future version. Use pandas.concat instead.\n",
      "  df_all=df_all.append(dict_df[\"df_corrected\"])\n"
     ]
    },
    {
     "name": "stdout",
     "output_type": "stream",
     "text": [
      "Check smhi.log for data download details!\n",
      ">>> Start downloading each station\n",
      ">>> Downloading 97260\n"
     ]
    },
    {
     "name": "stderr",
     "output_type": "stream",
     "text": [
      "C:\\Users\\MarlonVieiraPassos\\AppData\\Local\\Temp\\ipykernel_8500\\3869588013.py:9: FutureWarning: The frame.append method is deprecated and will be removed from pandas in a future version. Use pandas.concat instead.\n",
      "  df_all=df_all.append(dict_df[\"df_corrected\"])\n"
     ]
    },
    {
     "name": "stdout",
     "output_type": "stream",
     "text": [
      "Check smhi.log for data download details!\n",
      ">>> Start downloading each station\n",
      ">>> Downloading 82540\n"
     ]
    },
    {
     "name": "stderr",
     "output_type": "stream",
     "text": [
      "C:\\Users\\MarlonVieiraPassos\\AppData\\Local\\Temp\\ipykernel_8500\\3869588013.py:9: FutureWarning: The frame.append method is deprecated and will be removed from pandas in a future version. Use pandas.concat instead.\n",
      "  df_all=df_all.append(dict_df[\"df_corrected\"])\n"
     ]
    },
    {
     "name": "stdout",
     "output_type": "stream",
     "text": [
      "Check smhi.log for data download details!\n",
      ">>> Start downloading each station\n",
      ">>> Downloading 97190\n"
     ]
    },
    {
     "name": "stderr",
     "output_type": "stream",
     "text": [
      "C:\\Users\\MarlonVieiraPassos\\AppData\\Local\\Temp\\ipykernel_8500\\3869588013.py:9: FutureWarning: The frame.append method is deprecated and will be removed from pandas in a future version. Use pandas.concat instead.\n",
      "  df_all=df_all.append(dict_df[\"df_corrected\"])\n",
      "C:\\Users\\MarlonVieiraPassos\\AppData\\Local\\Temp\\ipykernel_8500\\3869588013.py:9: FutureWarning: The frame.append method is deprecated and will be removed from pandas in a future version. Use pandas.concat instead.\n",
      "  df_all=df_all.append(dict_df[\"df_corrected\"])\n"
     ]
    },
    {
     "name": "stdout",
     "output_type": "stream",
     "text": [
      "Check smhi.log for data download details!\n",
      ">>> Start downloading each station\n",
      ">>> Downloading 125470\n",
      "Check smhi.log for data download details!\n",
      ">>> Start downloading each station\n",
      ">>> Downloading 74080\n"
     ]
    },
    {
     "name": "stderr",
     "output_type": "stream",
     "text": [
      "C:\\Users\\MarlonVieiraPassos\\AppData\\Local\\Temp\\ipykernel_8500\\3869588013.py:9: FutureWarning: The frame.append method is deprecated and will be removed from pandas in a future version. Use pandas.concat instead.\n",
      "  df_all=df_all.append(dict_df[\"df_corrected\"])\n"
     ]
    },
    {
     "name": "stdout",
     "output_type": "stream",
     "text": [
      "Check smhi.log for data download details!\n",
      ">>> Start downloading each station\n",
      ">>> Downloading 98040\n"
     ]
    },
    {
     "name": "stderr",
     "output_type": "stream",
     "text": [
      "C:\\Users\\MarlonVieiraPassos\\AppData\\Local\\Temp\\ipykernel_8500\\3869588013.py:9: FutureWarning: The frame.append method is deprecated and will be removed from pandas in a future version. Use pandas.concat instead.\n",
      "  df_all=df_all.append(dict_df[\"df_corrected\"])\n"
     ]
    },
    {
     "name": "stdout",
     "output_type": "stream",
     "text": [
      "Check smhi.log for data download details!\n",
      ">>> Start downloading each station\n",
      ">>> Downloading 98610\n"
     ]
    },
    {
     "name": "stderr",
     "output_type": "stream",
     "text": [
      "C:\\Users\\MarlonVieiraPassos\\AppData\\Local\\Temp\\ipykernel_8500\\3869588013.py:9: FutureWarning: The frame.append method is deprecated and will be removed from pandas in a future version. Use pandas.concat instead.\n",
      "  df_all=df_all.append(dict_df[\"df_corrected\"])\n"
     ]
    },
    {
     "name": "stdout",
     "output_type": "stream",
     "text": [
      "Check smhi.log for data download details!\n",
      ">>> Start downloading each station\n",
      ">>> Downloading 96610\n"
     ]
    },
    {
     "name": "stderr",
     "output_type": "stream",
     "text": [
      "C:\\Users\\MarlonVieiraPassos\\AppData\\Local\\Temp\\ipykernel_8500\\3869588013.py:9: FutureWarning: The frame.append method is deprecated and will be removed from pandas in a future version. Use pandas.concat instead.\n",
      "  df_all=df_all.append(dict_df[\"df_corrected\"])\n"
     ]
    },
    {
     "name": "stdout",
     "output_type": "stream",
     "text": [
      "Check smhi.log for data download details!\n",
      ">>> Start downloading each station\n",
      ">>> Downloading 136020\n"
     ]
    },
    {
     "name": "stderr",
     "output_type": "stream",
     "text": [
      "C:\\Users\\MarlonVieiraPassos\\AppData\\Local\\Temp\\ipykernel_8500\\3869588013.py:9: FutureWarning: The frame.append method is deprecated and will be removed from pandas in a future version. Use pandas.concat instead.\n",
      "  df_all=df_all.append(dict_df[\"df_corrected\"])\n"
     ]
    },
    {
     "name": "stdout",
     "output_type": "stream",
     "text": [
      "Check smhi.log for data download details!\n",
      ">>> Start downloading each station\n",
      ">>> Downloading 106080\n",
      "Check smhi.log for data download details!\n",
      ">>> Start downloading each station\n",
      ">>> Downloading 116650\n"
     ]
    },
    {
     "name": "stderr",
     "output_type": "stream",
     "text": [
      "C:\\Users\\MarlonVieiraPassos\\AppData\\Local\\Temp\\ipykernel_8500\\3869588013.py:9: FutureWarning: The frame.append method is deprecated and will be removed from pandas in a future version. Use pandas.concat instead.\n",
      "  df_all=df_all.append(dict_df[\"df_corrected\"])\n"
     ]
    },
    {
     "name": "stdout",
     "output_type": "stream",
     "text": [
      "Check smhi.log for data download details!\n",
      ">>> Start downloading each station\n",
      ">>> Downloading 151290\n"
     ]
    },
    {
     "name": "stderr",
     "output_type": "stream",
     "text": [
      "C:\\Users\\MarlonVieiraPassos\\AppData\\Local\\Temp\\ipykernel_8500\\3869588013.py:9: FutureWarning: The frame.append method is deprecated and will be removed from pandas in a future version. Use pandas.concat instead.\n",
      "  df_all=df_all.append(dict_df[\"df_corrected\"])\n"
     ]
    },
    {
     "name": "stdout",
     "output_type": "stream",
     "text": [
      "Check smhi.log for data download details!\n",
      ">>> Start downloading each station\n",
      ">>> Downloading 151280\n"
     ]
    },
    {
     "name": "stderr",
     "output_type": "stream",
     "text": [
      "C:\\Users\\MarlonVieiraPassos\\AppData\\Local\\Temp\\ipykernel_8500\\3869588013.py:9: FutureWarning: The frame.append method is deprecated and will be removed from pandas in a future version. Use pandas.concat instead.\n",
      "  df_all=df_all.append(dict_df[\"df_corrected\"])\n"
     ]
    },
    {
     "name": "stdout",
     "output_type": "stream",
     "text": [
      "Check smhi.log for data download details!\n",
      ">>> Start downloading each station\n",
      ">>> Downloading 85160\n"
     ]
    },
    {
     "name": "stderr",
     "output_type": "stream",
     "text": [
      "C:\\Users\\MarlonVieiraPassos\\AppData\\Local\\Temp\\ipykernel_8500\\3869588013.py:9: FutureWarning: The frame.append method is deprecated and will be removed from pandas in a future version. Use pandas.concat instead.\n",
      "  df_all=df_all.append(dict_df[\"df_corrected\"])\n"
     ]
    },
    {
     "name": "stdout",
     "output_type": "stream",
     "text": [
      "Check smhi.log for data download details!\n",
      ">>> Start downloading each station\n",
      ">>> Downloading 53650\n"
     ]
    },
    {
     "name": "stderr",
     "output_type": "stream",
     "text": [
      "C:\\Users\\MarlonVieiraPassos\\AppData\\Local\\Temp\\ipykernel_8500\\3869588013.py:9: FutureWarning: The frame.append method is deprecated and will be removed from pandas in a future version. Use pandas.concat instead.\n",
      "  df_all=df_all.append(dict_df[\"df_corrected\"])\n"
     ]
    },
    {
     "name": "stdout",
     "output_type": "stream",
     "text": [
      "Check smhi.log for data download details!\n",
      ">>> Start downloading each station\n",
      ">>> Downloading 142030\n"
     ]
    },
    {
     "name": "stderr",
     "output_type": "stream",
     "text": [
      "C:\\Users\\MarlonVieiraPassos\\AppData\\Local\\Temp\\ipykernel_8500\\3869588013.py:9: FutureWarning: The frame.append method is deprecated and will be removed from pandas in a future version. Use pandas.concat instead.\n",
      "  df_all=df_all.append(dict_df[\"df_corrected\"])\n"
     ]
    },
    {
     "name": "stdout",
     "output_type": "stream",
     "text": [
      "Check smhi.log for data download details!\n",
      ">>> Start downloading each station\n",
      ">>> Downloading 163680\n"
     ]
    },
    {
     "name": "stderr",
     "output_type": "stream",
     "text": [
      "C:\\Users\\MarlonVieiraPassos\\AppData\\Local\\Temp\\ipykernel_8500\\3869588013.py:9: FutureWarning: The frame.append method is deprecated and will be removed from pandas in a future version. Use pandas.concat instead.\n",
      "  df_all=df_all.append(dict_df[\"df_corrected\"])\n"
     ]
    },
    {
     "name": "stdout",
     "output_type": "stream",
     "text": [
      "Check smhi.log for data download details!\n",
      ">>> Start downloading each station\n",
      ">>> Downloading 178820\n"
     ]
    },
    {
     "name": "stderr",
     "output_type": "stream",
     "text": [
      "C:\\Users\\MarlonVieiraPassos\\AppData\\Local\\Temp\\ipykernel_8500\\3869588013.py:9: FutureWarning: The frame.append method is deprecated and will be removed from pandas in a future version. Use pandas.concat instead.\n",
      "  df_all=df_all.append(dict_df[\"df_corrected\"])\n"
     ]
    },
    {
     "name": "stdout",
     "output_type": "stream",
     "text": [
      "Check smhi.log for data download details!\n",
      ">>> Start downloading each station\n",
      ">>> Downloading 83640\n"
     ]
    },
    {
     "name": "stderr",
     "output_type": "stream",
     "text": [
      "C:\\Users\\MarlonVieiraPassos\\AppData\\Local\\Temp\\ipykernel_8500\\3869588013.py:9: FutureWarning: The frame.append method is deprecated and will be removed from pandas in a future version. Use pandas.concat instead.\n",
      "  df_all=df_all.append(dict_df[\"df_corrected\"])\n"
     ]
    },
    {
     "name": "stdout",
     "output_type": "stream",
     "text": [
      "Check smhi.log for data download details!\n",
      ">>> Start downloading each station\n",
      ">>> Downloading 84900\n"
     ]
    },
    {
     "name": "stderr",
     "output_type": "stream",
     "text": [
      "C:\\Users\\MarlonVieiraPassos\\AppData\\Local\\Temp\\ipykernel_8500\\3869588013.py:9: FutureWarning: The frame.append method is deprecated and will be removed from pandas in a future version. Use pandas.concat instead.\n",
      "  df_all=df_all.append(dict_df[\"df_corrected\"])\n"
     ]
    },
    {
     "name": "stdout",
     "output_type": "stream",
     "text": [
      "Check smhi.log for data download details!\n",
      ">>> Start downloading each station\n",
      ">>> Downloading 155710\n"
     ]
    },
    {
     "name": "stderr",
     "output_type": "stream",
     "text": [
      "C:\\Users\\MarlonVieiraPassos\\AppData\\Local\\Temp\\ipykernel_8500\\3869588013.py:9: FutureWarning: The frame.append method is deprecated and will be removed from pandas in a future version. Use pandas.concat instead.\n",
      "  df_all=df_all.append(dict_df[\"df_corrected\"])\n"
     ]
    },
    {
     "name": "stdout",
     "output_type": "stream",
     "text": [
      "Check smhi.log for data download details!\n",
      ">>> Start downloading each station\n",
      ">>> Downloading 75140\n"
     ]
    },
    {
     "name": "stderr",
     "output_type": "stream",
     "text": [
      "C:\\Users\\MarlonVieiraPassos\\AppData\\Local\\Temp\\ipykernel_8500\\3869588013.py:9: FutureWarning: The frame.append method is deprecated and will be removed from pandas in a future version. Use pandas.concat instead.\n",
      "  df_all=df_all.append(dict_df[\"df_corrected\"])\n"
     ]
    },
    {
     "name": "stdout",
     "output_type": "stream",
     "text": [
      "Check smhi.log for data download details!\n",
      ">>> Start downloading each station\n",
      ">>> Downloading 92170\n"
     ]
    },
    {
     "name": "stderr",
     "output_type": "stream",
     "text": [
      "C:\\Users\\MarlonVieiraPassos\\AppData\\Local\\Temp\\ipykernel_8500\\3869588013.py:9: FutureWarning: The frame.append method is deprecated and will be removed from pandas in a future version. Use pandas.concat instead.\n",
      "  df_all=df_all.append(dict_df[\"df_corrected\"])\n"
     ]
    },
    {
     "name": "stdout",
     "output_type": "stream",
     "text": [
      "Check smhi.log for data download details!\n",
      ">>> Start downloading each station\n",
      ">>> Downloading 92130\n"
     ]
    },
    {
     "name": "stderr",
     "output_type": "stream",
     "text": [
      "C:\\Users\\MarlonVieiraPassos\\AppData\\Local\\Temp\\ipykernel_8500\\3869588013.py:9: FutureWarning: The frame.append method is deprecated and will be removed from pandas in a future version. Use pandas.concat instead.\n",
      "  df_all=df_all.append(dict_df[\"df_corrected\"])\n"
     ]
    },
    {
     "name": "stdout",
     "output_type": "stream",
     "text": [
      "Check smhi.log for data download details!\n",
      ">>> Start downloading each station\n",
      ">>> Downloading 132110\n"
     ]
    },
    {
     "name": "stderr",
     "output_type": "stream",
     "text": [
      "C:\\Users\\MarlonVieiraPassos\\AppData\\Local\\Temp\\ipykernel_8500\\3869588013.py:9: FutureWarning: The frame.append method is deprecated and will be removed from pandas in a future version. Use pandas.concat instead.\n",
      "  df_all=df_all.append(dict_df[\"df_corrected\"])\n"
     ]
    },
    {
     "name": "stdout",
     "output_type": "stream",
     "text": [
      "Check smhi.log for data download details!\n",
      ">>> Start downloading each station\n",
      ">>> Downloading 78050\n"
     ]
    },
    {
     "name": "stderr",
     "output_type": "stream",
     "text": [
      "C:\\Users\\MarlonVieiraPassos\\AppData\\Local\\Temp\\ipykernel_8500\\3869588013.py:9: FutureWarning: The frame.append method is deprecated and will be removed from pandas in a future version. Use pandas.concat instead.\n",
      "  df_all=df_all.append(dict_df[\"df_corrected\"])\n"
     ]
    },
    {
     "name": "stdout",
     "output_type": "stream",
     "text": [
      "Check smhi.log for data download details!\n",
      ">>> Start downloading each station\n",
      ">>> Downloading 161940\n"
     ]
    },
    {
     "name": "stderr",
     "output_type": "stream",
     "text": [
      "C:\\Users\\MarlonVieiraPassos\\AppData\\Local\\Temp\\ipykernel_8500\\3869588013.py:9: FutureWarning: The frame.append method is deprecated and will be removed from pandas in a future version. Use pandas.concat instead.\n",
      "  df_all=df_all.append(dict_df[\"df_corrected\"])\n"
     ]
    },
    {
     "name": "stdout",
     "output_type": "stream",
     "text": [
      "Check smhi.log for data download details!\n",
      ">>> Start downloading each station\n",
      ">>> Downloading 170630\n"
     ]
    },
    {
     "name": "stderr",
     "output_type": "stream",
     "text": [
      "C:\\Users\\MarlonVieiraPassos\\AppData\\Local\\Temp\\ipykernel_8500\\3869588013.py:9: FutureWarning: The frame.append method is deprecated and will be removed from pandas in a future version. Use pandas.concat instead.\n",
      "  df_all=df_all.append(dict_df[\"df_corrected\"])\n"
     ]
    },
    {
     "name": "stdout",
     "output_type": "stream",
     "text": [
      "Check smhi.log for data download details!\n",
      ">>> Start downloading each station\n",
      ">>> Downloading 155900\n"
     ]
    },
    {
     "name": "stderr",
     "output_type": "stream",
     "text": [
      "C:\\Users\\MarlonVieiraPassos\\AppData\\Local\\Temp\\ipykernel_8500\\3869588013.py:9: FutureWarning: The frame.append method is deprecated and will be removed from pandas in a future version. Use pandas.concat instead.\n",
      "  df_all=df_all.append(dict_df[\"df_corrected\"])\n"
     ]
    },
    {
     "name": "stdout",
     "output_type": "stream",
     "text": [
      "Check smhi.log for data download details!\n",
      ">>> Start downloading each station\n",
      ">>> Downloading 72400\n"
     ]
    },
    {
     "name": "stderr",
     "output_type": "stream",
     "text": [
      "C:\\Users\\MarlonVieiraPassos\\AppData\\Local\\Temp\\ipykernel_8500\\3869588013.py:9: FutureWarning: The frame.append method is deprecated and will be removed from pandas in a future version. Use pandas.concat instead.\n",
      "  df_all=df_all.append(dict_df[\"df_corrected\"])\n"
     ]
    },
    {
     "name": "stdout",
     "output_type": "stream",
     "text": [
      "Check smhi.log for data download details!\n",
      ">>> Start downloading each station\n",
      ">>> Downloading 54300\n"
     ]
    },
    {
     "name": "stderr",
     "output_type": "stream",
     "text": [
      "C:\\Users\\MarlonVieiraPassos\\AppData\\Local\\Temp\\ipykernel_8500\\3869588013.py:9: FutureWarning: The frame.append method is deprecated and will be removed from pandas in a future version. Use pandas.concat instead.\n",
      "  df_all=df_all.append(dict_df[\"df_corrected\"])\n"
     ]
    },
    {
     "name": "stdout",
     "output_type": "stream",
     "text": [
      "Check smhi.log for data download details!\n",
      ">>> Start downloading each station\n",
      ">>> Downloading 83170\n"
     ]
    },
    {
     "name": "stderr",
     "output_type": "stream",
     "text": [
      "C:\\Users\\MarlonVieiraPassos\\AppData\\Local\\Temp\\ipykernel_8500\\3869588013.py:9: FutureWarning: The frame.append method is deprecated and will be removed from pandas in a future version. Use pandas.concat instead.\n",
      "  df_all=df_all.append(dict_df[\"df_corrected\"])\n"
     ]
    },
    {
     "name": "stdout",
     "output_type": "stream",
     "text": [
      "Check smhi.log for data download details!\n",
      ">>> Start downloading each station\n",
      ">>> Downloading 105310\n"
     ]
    },
    {
     "name": "stderr",
     "output_type": "stream",
     "text": [
      "C:\\Users\\MarlonVieiraPassos\\AppData\\Local\\Temp\\ipykernel_8500\\3869588013.py:9: FutureWarning: The frame.append method is deprecated and will be removed from pandas in a future version. Use pandas.concat instead.\n",
      "  df_all=df_all.append(dict_df[\"df_corrected\"])\n"
     ]
    },
    {
     "name": "stdout",
     "output_type": "stream",
     "text": [
      "Check smhi.log for data download details!\n",
      ">>> Start downloading each station\n",
      ">>> Downloading 105280\n"
     ]
    },
    {
     "name": "stderr",
     "output_type": "stream",
     "text": [
      "C:\\Users\\MarlonVieiraPassos\\AppData\\Local\\Temp\\ipykernel_8500\\3869588013.py:9: FutureWarning: The frame.append method is deprecated and will be removed from pandas in a future version. Use pandas.concat instead.\n",
      "  df_all=df_all.append(dict_df[\"df_corrected\"])\n"
     ]
    },
    {
     "name": "stdout",
     "output_type": "stream",
     "text": [
      "Check smhi.log for data download details!\n",
      ">>> Start downloading each station\n",
      ">>> Downloading 105260\n"
     ]
    },
    {
     "name": "stderr",
     "output_type": "stream",
     "text": [
      "C:\\Users\\MarlonVieiraPassos\\AppData\\Local\\Temp\\ipykernel_8500\\3869588013.py:9: FutureWarning: The frame.append method is deprecated and will be removed from pandas in a future version. Use pandas.concat instead.\n",
      "  df_all=df_all.append(dict_df[\"df_corrected\"])\n"
     ]
    },
    {
     "name": "stdout",
     "output_type": "stream",
     "text": [
      "Check smhi.log for data download details!\n",
      ">>> Start downloading each station\n",
      ">>> Downloading 72450\n",
      "Check smhi.log for data download details!\n",
      ">>> Start downloading each station\n",
      ">>> Downloading 138270\n"
     ]
    },
    {
     "name": "stderr",
     "output_type": "stream",
     "text": [
      "C:\\Users\\MarlonVieiraPassos\\AppData\\Local\\Temp\\ipykernel_8500\\3869588013.py:9: FutureWarning: The frame.append method is deprecated and will be removed from pandas in a future version. Use pandas.concat instead.\n",
      "  df_all=df_all.append(dict_df[\"df_corrected\"])\n"
     ]
    },
    {
     "name": "stdout",
     "output_type": "stream",
     "text": [
      "Check smhi.log for data download details!\n",
      ">>> Start downloading each station\n",
      ">>> Downloading 91130\n"
     ]
    },
    {
     "name": "stderr",
     "output_type": "stream",
     "text": [
      "C:\\Users\\MarlonVieiraPassos\\AppData\\Local\\Temp\\ipykernel_8500\\3869588013.py:9: FutureWarning: The frame.append method is deprecated and will be removed from pandas in a future version. Use pandas.concat instead.\n",
      "  df_all=df_all.append(dict_df[\"df_corrected\"])\n"
     ]
    },
    {
     "name": "stdout",
     "output_type": "stream",
     "text": [
      "Check smhi.log for data download details!\n",
      ">>> Start downloading each station\n",
      ">>> Downloading 96640\n",
      "Check smhi.log for data download details!\n"
     ]
    },
    {
     "name": "stderr",
     "output_type": "stream",
     "text": [
      "C:\\Users\\MarlonVieiraPassos\\AppData\\Local\\Temp\\ipykernel_8500\\3869588013.py:9: FutureWarning: The frame.append method is deprecated and will be removed from pandas in a future version. Use pandas.concat instead.\n",
      "  df_all=df_all.append(dict_df[\"df_corrected\"])\n",
      "C:\\Users\\MarlonVieiraPassos\\AppData\\Local\\Temp\\ipykernel_8500\\3869588013.py:9: FutureWarning: The frame.append method is deprecated and will be removed from pandas in a future version. Use pandas.concat instead.\n",
      "  df_all=df_all.append(dict_df[\"df_corrected\"])\n"
     ]
    },
    {
     "name": "stdout",
     "output_type": "stream",
     "text": [
      ">>> Start downloading each station\n",
      ">>> Downloading 106040\n",
      "Check smhi.log for data download details!\n",
      ">>> Start downloading each station\n",
      ">>> Downloading 92370\n"
     ]
    },
    {
     "name": "stderr",
     "output_type": "stream",
     "text": [
      "C:\\Users\\MarlonVieiraPassos\\AppData\\Local\\Temp\\ipykernel_8500\\3869588013.py:9: FutureWarning: The frame.append method is deprecated and will be removed from pandas in a future version. Use pandas.concat instead.\n",
      "  df_all=df_all.append(dict_df[\"df_corrected\"])\n"
     ]
    },
    {
     "name": "stdout",
     "output_type": "stream",
     "text": [
      "Check smhi.log for data download details!\n",
      ">>> Start downloading each station\n",
      ">>> Downloading 127130\n"
     ]
    },
    {
     "name": "stderr",
     "output_type": "stream",
     "text": [
      "C:\\Users\\MarlonVieiraPassos\\AppData\\Local\\Temp\\ipykernel_8500\\3869588013.py:9: FutureWarning: The frame.append method is deprecated and will be removed from pandas in a future version. Use pandas.concat instead.\n",
      "  df_all=df_all.append(dict_df[\"df_corrected\"])\n"
     ]
    },
    {
     "name": "stdout",
     "output_type": "stream",
     "text": [
      "Check smhi.log for data download details!\n",
      ">>> Start downloading each station\n",
      ">>> Downloading 161930\n"
     ]
    },
    {
     "name": "stderr",
     "output_type": "stream",
     "text": [
      "C:\\Users\\MarlonVieiraPassos\\AppData\\Local\\Temp\\ipykernel_8500\\3869588013.py:9: FutureWarning: The frame.append method is deprecated and will be removed from pandas in a future version. Use pandas.concat instead.\n",
      "  df_all=df_all.append(dict_df[\"df_corrected\"])\n"
     ]
    },
    {
     "name": "stdout",
     "output_type": "stream",
     "text": [
      "Check smhi.log for data download details!\n",
      ">>> Start downloading each station\n",
      ">>> Downloading 145450\n",
      "Check smhi.log for data download details!\n"
     ]
    },
    {
     "name": "stderr",
     "output_type": "stream",
     "text": [
      "C:\\Users\\MarlonVieiraPassos\\AppData\\Local\\Temp\\ipykernel_8500\\3869588013.py:9: FutureWarning: The frame.append method is deprecated and will be removed from pandas in a future version. Use pandas.concat instead.\n",
      "  df_all=df_all.append(dict_df[\"df_corrected\"])\n"
     ]
    },
    {
     "name": "stdout",
     "output_type": "stream",
     "text": [
      ">>> Start downloading each station\n",
      ">>> Downloading 82640\n",
      "Check smhi.log for data download details!\n",
      ">>> Start downloading each station\n",
      ">>> Downloading 157870\n"
     ]
    },
    {
     "name": "stderr",
     "output_type": "stream",
     "text": [
      "C:\\Users\\MarlonVieiraPassos\\AppData\\Local\\Temp\\ipykernel_8500\\3869588013.py:9: FutureWarning: The frame.append method is deprecated and will be removed from pandas in a future version. Use pandas.concat instead.\n",
      "  df_all=df_all.append(dict_df[\"df_corrected\"])\n"
     ]
    },
    {
     "name": "stdout",
     "output_type": "stream",
     "text": [
      "Check smhi.log for data download details!\n",
      ">>> Start downloading each station\n",
      ">>> Downloading 78240\n"
     ]
    },
    {
     "name": "stderr",
     "output_type": "stream",
     "text": [
      "C:\\Users\\MarlonVieiraPassos\\AppData\\Local\\Temp\\ipykernel_8500\\3869588013.py:9: FutureWarning: The frame.append method is deprecated and will be removed from pandas in a future version. Use pandas.concat instead.\n",
      "  df_all=df_all.append(dict_df[\"df_corrected\"])\n",
      "C:\\Users\\MarlonVieiraPassos\\AppData\\Local\\Temp\\ipykernel_8500\\3869588013.py:9: FutureWarning: The frame.append method is deprecated and will be removed from pandas in a future version. Use pandas.concat instead.\n",
      "  df_all=df_all.append(dict_df[\"df_corrected\"])\n"
     ]
    },
    {
     "name": "stdout",
     "output_type": "stream",
     "text": [
      "Check smhi.log for data download details!\n",
      ">>> Start downloading each station\n",
      ">>> Downloading 133030\n",
      "Check smhi.log for data download details!\n",
      ">>> Start downloading each station\n",
      ">>> Downloading 150210\n"
     ]
    },
    {
     "name": "stderr",
     "output_type": "stream",
     "text": [
      "C:\\Users\\MarlonVieiraPassos\\AppData\\Local\\Temp\\ipykernel_8500\\3869588013.py:9: FutureWarning: The frame.append method is deprecated and will be removed from pandas in a future version. Use pandas.concat instead.\n",
      "  df_all=df_all.append(dict_df[\"df_corrected\"])\n"
     ]
    },
    {
     "name": "stdout",
     "output_type": "stream",
     "text": [
      "Check smhi.log for data download details!\n",
      ">>> Start downloading each station\n",
      ">>> Downloading 84620\n"
     ]
    },
    {
     "name": "stderr",
     "output_type": "stream",
     "text": [
      "C:\\Users\\MarlonVieiraPassos\\AppData\\Local\\Temp\\ipykernel_8500\\3869588013.py:9: FutureWarning: The frame.append method is deprecated and will be removed from pandas in a future version. Use pandas.concat instead.\n",
      "  df_all=df_all.append(dict_df[\"df_corrected\"])\n",
      "C:\\Users\\MarlonVieiraPassos\\AppData\\Local\\Temp\\ipykernel_8500\\3869588013.py:9: FutureWarning: The frame.append method is deprecated and will be removed from pandas in a future version. Use pandas.concat instead.\n",
      "  df_all=df_all.append(dict_df[\"df_corrected\"])\n"
     ]
    },
    {
     "name": "stdout",
     "output_type": "stream",
     "text": [
      "Check smhi.log for data download details!\n",
      ">>> Start downloading each station\n",
      ">>> Downloading 62600\n",
      "Check smhi.log for data download details!\n"
     ]
    },
    {
     "name": "stderr",
     "output_type": "stream",
     "text": [
      "C:\\Users\\MarlonVieiraPassos\\AppData\\Local\\Temp\\ipykernel_8500\\3869588013.py:9: FutureWarning: The frame.append method is deprecated and will be removed from pandas in a future version. Use pandas.concat instead.\n",
      "  df_all=df_all.append(dict_df[\"df_corrected\"])\n"
     ]
    },
    {
     "name": "stdout",
     "output_type": "stream",
     "text": [
      ">>> Start downloading each station\n",
      ">>> Downloading 136610\n",
      "Check smhi.log for data download details!\n",
      ">>> Start downloading each station\n",
      ">>> Downloading 123460\n"
     ]
    },
    {
     "name": "stderr",
     "output_type": "stream",
     "text": [
      "C:\\Users\\MarlonVieiraPassos\\AppData\\Local\\Temp\\ipykernel_8500\\3869588013.py:9: FutureWarning: The frame.append method is deprecated and will be removed from pandas in a future version. Use pandas.concat instead.\n",
      "  df_all=df_all.append(dict_df[\"df_corrected\"])\n"
     ]
    },
    {
     "name": "stdout",
     "output_type": "stream",
     "text": [
      "Check smhi.log for data download details!\n",
      ">>> Start downloading each station\n",
      ">>> Downloading 94390\n"
     ]
    },
    {
     "name": "stderr",
     "output_type": "stream",
     "text": [
      "C:\\Users\\MarlonVieiraPassos\\AppData\\Local\\Temp\\ipykernel_8500\\3869588013.py:9: FutureWarning: The frame.append method is deprecated and will be removed from pandas in a future version. Use pandas.concat instead.\n",
      "  df_all=df_all.append(dict_df[\"df_corrected\"])\n",
      "C:\\Users\\MarlonVieiraPassos\\AppData\\Local\\Temp\\ipykernel_8500\\3869588013.py:9: FutureWarning: The frame.append method is deprecated and will be removed from pandas in a future version. Use pandas.concat instead.\n",
      "  df_all=df_all.append(dict_df[\"df_corrected\"])\n"
     ]
    },
    {
     "name": "stdout",
     "output_type": "stream",
     "text": [
      "Check smhi.log for data download details!\n",
      ">>> Start downloading each station\n",
      ">>> Downloading 115630\n",
      "Check smhi.log for data download details!\n"
     ]
    },
    {
     "name": "stderr",
     "output_type": "stream",
     "text": [
      "C:\\Users\\MarlonVieiraPassos\\AppData\\Local\\Temp\\ipykernel_8500\\3869588013.py:9: FutureWarning: The frame.append method is deprecated and will be removed from pandas in a future version. Use pandas.concat instead.\n",
      "  df_all=df_all.append(dict_df[\"df_corrected\"])\n",
      "C:\\Users\\MarlonVieiraPassos\\AppData\\Local\\Temp\\ipykernel_8500\\3869588013.py:9: FutureWarning: The frame.append method is deprecated and will be removed from pandas in a future version. Use pandas.concat instead.\n",
      "  df_all=df_all.append(dict_df[\"df_corrected\"])\n"
     ]
    },
    {
     "name": "stdout",
     "output_type": "stream",
     "text": [
      ">>> Start downloading each station\n",
      ">>> Downloading 160600\n",
      "Check smhi.log for data download details!\n",
      ">>> Start downloading each station\n",
      ">>> Downloading 73430\n",
      "Check smhi.log for data download details!\n",
      ">>> Start downloading each station\n",
      ">>> Downloading 115040\n"
     ]
    },
    {
     "name": "stderr",
     "output_type": "stream",
     "text": [
      "C:\\Users\\MarlonVieiraPassos\\AppData\\Local\\Temp\\ipykernel_8500\\3869588013.py:9: FutureWarning: The frame.append method is deprecated and will be removed from pandas in a future version. Use pandas.concat instead.\n",
      "  df_all=df_all.append(dict_df[\"df_corrected\"])\n"
     ]
    },
    {
     "name": "stdout",
     "output_type": "stream",
     "text": [
      "Check smhi.log for data download details!\n",
      ">>> Start downloading each station\n",
      ">>> Downloading 156850\n"
     ]
    },
    {
     "name": "stderr",
     "output_type": "stream",
     "text": [
      "C:\\Users\\MarlonVieiraPassos\\AppData\\Local\\Temp\\ipykernel_8500\\3869588013.py:9: FutureWarning: The frame.append method is deprecated and will be removed from pandas in a future version. Use pandas.concat instead.\n",
      "  df_all=df_all.append(dict_df[\"df_corrected\"])\n"
     ]
    },
    {
     "name": "stdout",
     "output_type": "stream",
     "text": [
      "Check smhi.log for data download details!\n",
      ">>> Start downloading each station\n",
      ">>> Downloading 107120\n"
     ]
    },
    {
     "name": "stderr",
     "output_type": "stream",
     "text": [
      "C:\\Users\\MarlonVieiraPassos\\AppData\\Local\\Temp\\ipykernel_8500\\3869588013.py:9: FutureWarning: The frame.append method is deprecated and will be removed from pandas in a future version. Use pandas.concat instead.\n",
      "  df_all=df_all.append(dict_df[\"df_corrected\"])\n"
     ]
    },
    {
     "name": "stdout",
     "output_type": "stream",
     "text": [
      "Check smhi.log for data download details!\n",
      ">>> Start downloading each station\n",
      ">>> Downloading 94140\n"
     ]
    },
    {
     "name": "stderr",
     "output_type": "stream",
     "text": [
      "C:\\Users\\MarlonVieiraPassos\\AppData\\Local\\Temp\\ipykernel_8500\\3869588013.py:9: FutureWarning: The frame.append method is deprecated and will be removed from pandas in a future version. Use pandas.concat instead.\n",
      "  df_all=df_all.append(dict_df[\"df_corrected\"])\n"
     ]
    },
    {
     "name": "stdout",
     "output_type": "stream",
     "text": [
      "Check smhi.log for data download details!\n",
      ">>> Start downloading each station\n",
      ">>> Downloading 116480\n"
     ]
    },
    {
     "name": "stderr",
     "output_type": "stream",
     "text": [
      "C:\\Users\\MarlonVieiraPassos\\AppData\\Local\\Temp\\ipykernel_8500\\3869588013.py:9: FutureWarning: The frame.append method is deprecated and will be removed from pandas in a future version. Use pandas.concat instead.\n",
      "  df_all=df_all.append(dict_df[\"df_corrected\"])\n"
     ]
    },
    {
     "name": "stdout",
     "output_type": "stream",
     "text": [
      "Check smhi.log for data download details!\n",
      ">>> Start downloading each station\n",
      ">>> Downloading 116490\n"
     ]
    },
    {
     "name": "stderr",
     "output_type": "stream",
     "text": [
      "C:\\Users\\MarlonVieiraPassos\\AppData\\Local\\Temp\\ipykernel_8500\\3869588013.py:9: FutureWarning: The frame.append method is deprecated and will be removed from pandas in a future version. Use pandas.concat instead.\n",
      "  df_all=df_all.append(dict_df[\"df_corrected\"])\n"
     ]
    },
    {
     "name": "stdout",
     "output_type": "stream",
     "text": [
      "Check smhi.log for data download details!\n",
      ">>> Start downloading each station\n",
      ">>> Downloading 156770\n"
     ]
    },
    {
     "name": "stderr",
     "output_type": "stream",
     "text": [
      "C:\\Users\\MarlonVieiraPassos\\AppData\\Local\\Temp\\ipykernel_8500\\3869588013.py:9: FutureWarning: The frame.append method is deprecated and will be removed from pandas in a future version. Use pandas.concat instead.\n",
      "  df_all=df_all.append(dict_df[\"df_corrected\"])\n"
     ]
    },
    {
     "name": "stdout",
     "output_type": "stream",
     "text": [
      "Check smhi.log for data download details!\n",
      ">>> Start downloading each station\n",
      ">>> Downloading 156790\n",
      "Check smhi.log for data download details!\n",
      ">>> Start downloading each station\n",
      ">>> Downloading 81320\n"
     ]
    },
    {
     "name": "stderr",
     "output_type": "stream",
     "text": [
      "C:\\Users\\MarlonVieiraPassos\\AppData\\Local\\Temp\\ipykernel_8500\\3869588013.py:9: FutureWarning: The frame.append method is deprecated and will be removed from pandas in a future version. Use pandas.concat instead.\n",
      "  df_all=df_all.append(dict_df[\"df_corrected\"])\n",
      "C:\\Users\\MarlonVieiraPassos\\AppData\\Local\\Temp\\ipykernel_8500\\3869588013.py:9: FutureWarning: The frame.append method is deprecated and will be removed from pandas in a future version. Use pandas.concat instead.\n",
      "  df_all=df_all.append(dict_df[\"df_corrected\"])\n"
     ]
    },
    {
     "name": "stdout",
     "output_type": "stream",
     "text": [
      "Check smhi.log for data download details!\n",
      ">>> Start downloading each station\n",
      ">>> Downloading 91370\n",
      "Check smhi.log for data download details!\n",
      ">>> Start downloading each station\n",
      ">>> Downloading 105640\n"
     ]
    },
    {
     "name": "stderr",
     "output_type": "stream",
     "text": [
      "C:\\Users\\MarlonVieiraPassos\\AppData\\Local\\Temp\\ipykernel_8500\\3869588013.py:9: FutureWarning: The frame.append method is deprecated and will be removed from pandas in a future version. Use pandas.concat instead.\n",
      "  df_all=df_all.append(dict_df[\"df_corrected\"])\n"
     ]
    },
    {
     "name": "stdout",
     "output_type": "stream",
     "text": [
      "Check smhi.log for data download details!\n",
      ">>> Start downloading each station\n",
      ">>> Downloading 75120\n"
     ]
    },
    {
     "name": "stderr",
     "output_type": "stream",
     "text": [
      "C:\\Users\\MarlonVieiraPassos\\AppData\\Local\\Temp\\ipykernel_8500\\3869588013.py:9: FutureWarning: The frame.append method is deprecated and will be removed from pandas in a future version. Use pandas.concat instead.\n",
      "  df_all=df_all.append(dict_df[\"df_corrected\"])\n"
     ]
    },
    {
     "name": "stdout",
     "output_type": "stream",
     "text": [
      "Check smhi.log for data download details!\n",
      ">>> Start downloading each station\n",
      ">>> Downloading 123060\n"
     ]
    },
    {
     "name": "stderr",
     "output_type": "stream",
     "text": [
      "C:\\Users\\MarlonVieiraPassos\\AppData\\Local\\Temp\\ipykernel_8500\\3869588013.py:9: FutureWarning: The frame.append method is deprecated and will be removed from pandas in a future version. Use pandas.concat instead.\n",
      "  df_all=df_all.append(dict_df[\"df_corrected\"])\n"
     ]
    },
    {
     "name": "stdout",
     "output_type": "stream",
     "text": [
      "Check smhi.log for data download details!\n",
      ">>> Start downloading each station\n",
      ">>> Downloading 96120\n"
     ]
    },
    {
     "name": "stderr",
     "output_type": "stream",
     "text": [
      "C:\\Users\\MarlonVieiraPassos\\AppData\\Local\\Temp\\ipykernel_8500\\3869588013.py:9: FutureWarning: The frame.append method is deprecated and will be removed from pandas in a future version. Use pandas.concat instead.\n",
      "  df_all=df_all.append(dict_df[\"df_corrected\"])\n"
     ]
    },
    {
     "name": "stdout",
     "output_type": "stream",
     "text": [
      "Check smhi.log for data download details!\n",
      ">>> Start downloading each station\n",
      ">>> Downloading 132240\n"
     ]
    },
    {
     "name": "stderr",
     "output_type": "stream",
     "text": [
      "C:\\Users\\MarlonVieiraPassos\\AppData\\Local\\Temp\\ipykernel_8500\\3869588013.py:9: FutureWarning: The frame.append method is deprecated and will be removed from pandas in a future version. Use pandas.concat instead.\n",
      "  df_all=df_all.append(dict_df[\"df_corrected\"])\n"
     ]
    },
    {
     "name": "stdout",
     "output_type": "stream",
     "text": [
      "Check smhi.log for data download details!\n",
      ">>> Start downloading each station\n",
      ">>> Downloading 116240\n"
     ]
    },
    {
     "name": "stderr",
     "output_type": "stream",
     "text": [
      "C:\\Users\\MarlonVieiraPassos\\AppData\\Local\\Temp\\ipykernel_8500\\3869588013.py:9: FutureWarning: The frame.append method is deprecated and will be removed from pandas in a future version. Use pandas.concat instead.\n",
      "  df_all=df_all.append(dict_df[\"df_corrected\"])\n"
     ]
    },
    {
     "name": "stdout",
     "output_type": "stream",
     "text": [
      "Check smhi.log for data download details!\n",
      ">>> Start downloading each station\n",
      ">>> Downloading 103050\n"
     ]
    },
    {
     "name": "stderr",
     "output_type": "stream",
     "text": [
      "C:\\Users\\MarlonVieiraPassos\\AppData\\Local\\Temp\\ipykernel_8500\\3869588013.py:9: FutureWarning: The frame.append method is deprecated and will be removed from pandas in a future version. Use pandas.concat instead.\n",
      "  df_all=df_all.append(dict_df[\"df_corrected\"])\n"
     ]
    },
    {
     "name": "stdout",
     "output_type": "stream",
     "text": [
      "Check smhi.log for data download details!\n",
      ">>> Start downloading each station\n",
      ">>> Downloading 132590\n"
     ]
    },
    {
     "name": "stderr",
     "output_type": "stream",
     "text": [
      "C:\\Users\\MarlonVieiraPassos\\AppData\\Local\\Temp\\ipykernel_8500\\3869588013.py:9: FutureWarning: The frame.append method is deprecated and will be removed from pandas in a future version. Use pandas.concat instead.\n",
      "  df_all=df_all.append(dict_df[\"df_corrected\"])\n"
     ]
    },
    {
     "name": "stdout",
     "output_type": "stream",
     "text": [
      "Check smhi.log for data download details!\n",
      ">>> Start downloading each station\n",
      ">>> Downloading 115230\n"
     ]
    },
    {
     "name": "stderr",
     "output_type": "stream",
     "text": [
      "C:\\Users\\MarlonVieiraPassos\\AppData\\Local\\Temp\\ipykernel_8500\\3869588013.py:9: FutureWarning: The frame.append method is deprecated and will be removed from pandas in a future version. Use pandas.concat instead.\n",
      "  df_all=df_all.append(dict_df[\"df_corrected\"])\n"
     ]
    },
    {
     "name": "stdout",
     "output_type": "stream",
     "text": [
      "Check smhi.log for data download details!\n",
      ">>> Start downloading each station\n",
      ">>> Downloading 115220\n"
     ]
    },
    {
     "name": "stderr",
     "output_type": "stream",
     "text": [
      "C:\\Users\\MarlonVieiraPassos\\AppData\\Local\\Temp\\ipykernel_8500\\3869588013.py:9: FutureWarning: The frame.append method is deprecated and will be removed from pandas in a future version. Use pandas.concat instead.\n",
      "  df_all=df_all.append(dict_df[\"df_corrected\"])\n"
     ]
    },
    {
     "name": "stdout",
     "output_type": "stream",
     "text": [
      "Check smhi.log for data download details!\n",
      ">>> Start downloading each station\n",
      ">>> Downloading 107440\n"
     ]
    },
    {
     "name": "stderr",
     "output_type": "stream",
     "text": [
      "C:\\Users\\MarlonVieiraPassos\\AppData\\Local\\Temp\\ipykernel_8500\\3869588013.py:9: FutureWarning: The frame.append method is deprecated and will be removed from pandas in a future version. Use pandas.concat instead.\n",
      "  df_all=df_all.append(dict_df[\"df_corrected\"])\n"
     ]
    },
    {
     "name": "stdout",
     "output_type": "stream",
     "text": [
      "Check smhi.log for data download details!\n",
      ">>> Start downloading each station\n",
      ">>> Downloading 53710\n",
      "Check smhi.log for data download details!\n",
      ">>> Start downloading each station\n",
      ">>> Downloading 64330\n"
     ]
    },
    {
     "name": "stderr",
     "output_type": "stream",
     "text": [
      "C:\\Users\\MarlonVieiraPassos\\AppData\\Local\\Temp\\ipykernel_8500\\3869588013.py:9: FutureWarning: The frame.append method is deprecated and will be removed from pandas in a future version. Use pandas.concat instead.\n",
      "  df_all=df_all.append(dict_df[\"df_corrected\"])\n"
     ]
    },
    {
     "name": "stdout",
     "output_type": "stream",
     "text": [
      "Check smhi.log for data download details!\n",
      ">>> Start downloading each station\n",
      ">>> Downloading 66470\n"
     ]
    },
    {
     "name": "stderr",
     "output_type": "stream",
     "text": [
      "C:\\Users\\MarlonVieiraPassos\\AppData\\Local\\Temp\\ipykernel_8500\\3869588013.py:9: FutureWarning: The frame.append method is deprecated and will be removed from pandas in a future version. Use pandas.concat instead.\n",
      "  df_all=df_all.append(dict_df[\"df_corrected\"])\n"
     ]
    },
    {
     "name": "stdout",
     "output_type": "stream",
     "text": [
      "Check smhi.log for data download details!\n",
      ">>> Start downloading each station\n",
      ">>> Downloading 96140\n"
     ]
    },
    {
     "name": "stderr",
     "output_type": "stream",
     "text": [
      "C:\\Users\\MarlonVieiraPassos\\AppData\\Local\\Temp\\ipykernel_8500\\3869588013.py:9: FutureWarning: The frame.append method is deprecated and will be removed from pandas in a future version. Use pandas.concat instead.\n",
      "  df_all=df_all.append(dict_df[\"df_corrected\"])\n"
     ]
    },
    {
     "name": "stdout",
     "output_type": "stream",
     "text": [
      "Check smhi.log for data download details!\n",
      ">>> Start downloading each station\n",
      ">>> Downloading 98630\n"
     ]
    },
    {
     "name": "stderr",
     "output_type": "stream",
     "text": [
      "C:\\Users\\MarlonVieiraPassos\\AppData\\Local\\Temp\\ipykernel_8500\\3869588013.py:9: FutureWarning: The frame.append method is deprecated and will be removed from pandas in a future version. Use pandas.concat instead.\n",
      "  df_all=df_all.append(dict_df[\"df_corrected\"])\n"
     ]
    },
    {
     "name": "stdout",
     "output_type": "stream",
     "text": [
      "Check smhi.log for data download details!\n",
      ">>> Start downloading each station\n",
      ">>> Downloading 97370\n"
     ]
    },
    {
     "name": "stderr",
     "output_type": "stream",
     "text": [
      "C:\\Users\\MarlonVieiraPassos\\AppData\\Local\\Temp\\ipykernel_8500\\3869588013.py:9: FutureWarning: The frame.append method is deprecated and will be removed from pandas in a future version. Use pandas.concat instead.\n",
      "  df_all=df_all.append(dict_df[\"df_corrected\"])\n"
     ]
    },
    {
     "name": "stdout",
     "output_type": "stream",
     "text": [
      "Check smhi.log for data download details!\n",
      ">>> Start downloading each station\n",
      ">>> Downloading 82380\n"
     ]
    },
    {
     "name": "stderr",
     "output_type": "stream",
     "text": [
      "C:\\Users\\MarlonVieiraPassos\\AppData\\Local\\Temp\\ipykernel_8500\\3869588013.py:9: FutureWarning: The frame.append method is deprecated and will be removed from pandas in a future version. Use pandas.concat instead.\n",
      "  df_all=df_all.append(dict_df[\"df_corrected\"])\n"
     ]
    },
    {
     "name": "stdout",
     "output_type": "stream",
     "text": [
      "Check smhi.log for data download details!\n",
      ">>> Start downloading each station\n",
      ">>> Downloading 96230\n"
     ]
    },
    {
     "name": "stderr",
     "output_type": "stream",
     "text": [
      "C:\\Users\\MarlonVieiraPassos\\AppData\\Local\\Temp\\ipykernel_8500\\3869588013.py:9: FutureWarning: The frame.append method is deprecated and will be removed from pandas in a future version. Use pandas.concat instead.\n",
      "  df_all=df_all.append(dict_df[\"df_corrected\"])\n"
     ]
    },
    {
     "name": "stdout",
     "output_type": "stream",
     "text": [
      "Check smhi.log for data download details!\n",
      ">>> Start downloading each station\n",
      ">>> Downloading 96190\n"
     ]
    },
    {
     "name": "stderr",
     "output_type": "stream",
     "text": [
      "C:\\Users\\MarlonVieiraPassos\\AppData\\Local\\Temp\\ipykernel_8500\\3869588013.py:9: FutureWarning: The frame.append method is deprecated and will be removed from pandas in a future version. Use pandas.concat instead.\n",
      "  df_all=df_all.append(dict_df[\"df_corrected\"])\n"
     ]
    },
    {
     "name": "stdout",
     "output_type": "stream",
     "text": [
      "Check smhi.log for data download details!\n",
      ">>> Start downloading each station\n",
      ">>> Downloading 181970\n",
      "Check smhi.log for data download details!\n",
      ">>> Start downloading each station\n",
      ">>> Downloading 98640\n",
      "Check smhi.log for data download details!\n",
      ">>> Start downloading each station\n",
      ">>> Downloading 72120\n"
     ]
    },
    {
     "name": "stderr",
     "output_type": "stream",
     "text": [
      "C:\\Users\\MarlonVieiraPassos\\AppData\\Local\\Temp\\ipykernel_8500\\3869588013.py:9: FutureWarning: The frame.append method is deprecated and will be removed from pandas in a future version. Use pandas.concat instead.\n",
      "  df_all=df_all.append(dict_df[\"df_corrected\"])\n"
     ]
    },
    {
     "name": "stdout",
     "output_type": "stream",
     "text": [
      "Check smhi.log for data download details!\n",
      ">>> Start downloading each station\n",
      ">>> Downloading 107330\n"
     ]
    },
    {
     "name": "stderr",
     "output_type": "stream",
     "text": [
      "C:\\Users\\MarlonVieiraPassos\\AppData\\Local\\Temp\\ipykernel_8500\\3869588013.py:9: FutureWarning: The frame.append method is deprecated and will be removed from pandas in a future version. Use pandas.concat instead.\n",
      "  df_all=df_all.append(dict_df[\"df_corrected\"])\n"
     ]
    },
    {
     "name": "stdout",
     "output_type": "stream",
     "text": [
      "Check smhi.log for data download details!\n",
      ">>> Start downloading each station\n",
      ">>> Downloading 86090\n"
     ]
    },
    {
     "name": "stderr",
     "output_type": "stream",
     "text": [
      "C:\\Users\\MarlonVieiraPassos\\AppData\\Local\\Temp\\ipykernel_8500\\3869588013.py:9: FutureWarning: The frame.append method is deprecated and will be removed from pandas in a future version. Use pandas.concat instead.\n",
      "  df_all=df_all.append(dict_df[\"df_corrected\"])\n"
     ]
    },
    {
     "name": "stdout",
     "output_type": "stream",
     "text": [
      "Check smhi.log for data download details!\n",
      ">>> Start downloading each station\n",
      ">>> Downloading 62520\n"
     ]
    },
    {
     "name": "stderr",
     "output_type": "stream",
     "text": [
      "C:\\Users\\MarlonVieiraPassos\\AppData\\Local\\Temp\\ipykernel_8500\\3869588013.py:9: FutureWarning: The frame.append method is deprecated and will be removed from pandas in a future version. Use pandas.concat instead.\n",
      "  df_all=df_all.append(dict_df[\"df_corrected\"])\n"
     ]
    },
    {
     "name": "stdout",
     "output_type": "stream",
     "text": [
      "Check smhi.log for data download details!\n",
      ">>> Start downloading each station\n",
      ">>> Downloading 83090\n"
     ]
    },
    {
     "name": "stderr",
     "output_type": "stream",
     "text": [
      "C:\\Users\\MarlonVieiraPassos\\AppData\\Local\\Temp\\ipykernel_8500\\3869588013.py:9: FutureWarning: The frame.append method is deprecated and will be removed from pandas in a future version. Use pandas.concat instead.\n",
      "  df_all=df_all.append(dict_df[\"df_corrected\"])\n"
     ]
    },
    {
     "name": "stdout",
     "output_type": "stream",
     "text": [
      "Check smhi.log for data download details!\n",
      ">>> Start downloading each station\n",
      ">>> Downloading 52230\n"
     ]
    },
    {
     "name": "stderr",
     "output_type": "stream",
     "text": [
      "C:\\Users\\MarlonVieiraPassos\\AppData\\Local\\Temp\\ipykernel_8500\\3869588013.py:9: FutureWarning: The frame.append method is deprecated and will be removed from pandas in a future version. Use pandas.concat instead.\n",
      "  df_all=df_all.append(dict_df[\"df_corrected\"])\n"
     ]
    },
    {
     "name": "stdout",
     "output_type": "stream",
     "text": [
      "Check smhi.log for data download details!\n",
      ">>> Start downloading each station\n",
      ">>> Downloading 52240\n"
     ]
    },
    {
     "name": "stderr",
     "output_type": "stream",
     "text": [
      "C:\\Users\\MarlonVieiraPassos\\AppData\\Local\\Temp\\ipykernel_8500\\3869588013.py:9: FutureWarning: The frame.append method is deprecated and will be removed from pandas in a future version. Use pandas.concat instead.\n",
      "  df_all=df_all.append(dict_df[\"df_corrected\"])\n"
     ]
    },
    {
     "name": "stdout",
     "output_type": "stream",
     "text": [
      "Check smhi.log for data download details!\n",
      ">>> Start downloading each station\n",
      ">>> Downloading 105370\n"
     ]
    },
    {
     "name": "stderr",
     "output_type": "stream",
     "text": [
      "C:\\Users\\MarlonVieiraPassos\\AppData\\Local\\Temp\\ipykernel_8500\\3869588013.py:9: FutureWarning: The frame.append method is deprecated and will be removed from pandas in a future version. Use pandas.concat instead.\n",
      "  df_all=df_all.append(dict_df[\"df_corrected\"])\n"
     ]
    },
    {
     "name": "stdout",
     "output_type": "stream",
     "text": [
      "Check smhi.log for data download details!\n",
      ">>> Start downloading each station\n",
      ">>> Downloading 98620\n",
      "Check smhi.log for data download details!\n",
      ">>> Start downloading each station\n",
      ">>> Downloading 162800\n"
     ]
    },
    {
     "name": "stderr",
     "output_type": "stream",
     "text": [
      "C:\\Users\\MarlonVieiraPassos\\AppData\\Local\\Temp\\ipykernel_8500\\3869588013.py:9: FutureWarning: The frame.append method is deprecated and will be removed from pandas in a future version. Use pandas.concat instead.\n",
      "  df_all=df_all.append(dict_df[\"df_corrected\"])\n"
     ]
    },
    {
     "name": "stdout",
     "output_type": "stream",
     "text": [
      "Check smhi.log for data download details!\n",
      ">>> Start downloading each station\n",
      ">>> Downloading 95320\n"
     ]
    },
    {
     "name": "stderr",
     "output_type": "stream",
     "text": [
      "C:\\Users\\MarlonVieiraPassos\\AppData\\Local\\Temp\\ipykernel_8500\\3869588013.py:9: FutureWarning: The frame.append method is deprecated and will be removed from pandas in a future version. Use pandas.concat instead.\n",
      "  df_all=df_all.append(dict_df[\"df_corrected\"])\n"
     ]
    },
    {
     "name": "stdout",
     "output_type": "stream",
     "text": [
      "Check smhi.log for data download details!\n",
      ">>> Start downloading each station\n",
      ">>> Downloading 94430\n"
     ]
    },
    {
     "name": "stderr",
     "output_type": "stream",
     "text": [
      "C:\\Users\\MarlonVieiraPassos\\AppData\\Local\\Temp\\ipykernel_8500\\3869588013.py:9: FutureWarning: The frame.append method is deprecated and will be removed from pandas in a future version. Use pandas.concat instead.\n",
      "  df_all=df_all.append(dict_df[\"df_corrected\"])\n"
     ]
    },
    {
     "name": "stdout",
     "output_type": "stream",
     "text": [
      "Check smhi.log for data download details!\n",
      ">>> Start downloading each station\n",
      ">>> Downloading 107140\n"
     ]
    },
    {
     "name": "stderr",
     "output_type": "stream",
     "text": [
      "C:\\Users\\MarlonVieiraPassos\\AppData\\Local\\Temp\\ipykernel_8500\\3869588013.py:9: FutureWarning: The frame.append method is deprecated and will be removed from pandas in a future version. Use pandas.concat instead.\n",
      "  df_all=df_all.append(dict_df[\"df_corrected\"])\n"
     ]
    },
    {
     "name": "stdout",
     "output_type": "stream",
     "text": [
      "Check smhi.log for data download details!\n",
      ">>> Start downloading each station\n",
      ">>> Downloading 107130\n"
     ]
    },
    {
     "name": "stderr",
     "output_type": "stream",
     "text": [
      "C:\\Users\\MarlonVieiraPassos\\AppData\\Local\\Temp\\ipykernel_8500\\3869588013.py:9: FutureWarning: The frame.append method is deprecated and will be removed from pandas in a future version. Use pandas.concat instead.\n",
      "  df_all=df_all.append(dict_df[\"df_corrected\"])\n"
     ]
    },
    {
     "name": "stdout",
     "output_type": "stream",
     "text": [
      "Check smhi.log for data download details!\n",
      ">>> Start downloading each station\n",
      ">>> Downloading 125020\n"
     ]
    },
    {
     "name": "stderr",
     "output_type": "stream",
     "text": [
      "C:\\Users\\MarlonVieiraPassos\\AppData\\Local\\Temp\\ipykernel_8500\\3869588013.py:9: FutureWarning: The frame.append method is deprecated and will be removed from pandas in a future version. Use pandas.concat instead.\n",
      "  df_all=df_all.append(dict_df[\"df_corrected\"])\n"
     ]
    },
    {
     "name": "stdout",
     "output_type": "stream",
     "text": [
      "Check smhi.log for data download details!\n",
      ">>> Start downloading each station\n",
      ">>> Downloading 118610\n"
     ]
    },
    {
     "name": "stderr",
     "output_type": "stream",
     "text": [
      "C:\\Users\\MarlonVieiraPassos\\AppData\\Local\\Temp\\ipykernel_8500\\3869588013.py:9: FutureWarning: The frame.append method is deprecated and will be removed from pandas in a future version. Use pandas.concat instead.\n",
      "  df_all=df_all.append(dict_df[\"df_corrected\"])\n"
     ]
    },
    {
     "name": "stdout",
     "output_type": "stream",
     "text": [
      "Check smhi.log for data download details!\n",
      ">>> Start downloading each station\n",
      ">>> Downloading 85410\n"
     ]
    },
    {
     "name": "stderr",
     "output_type": "stream",
     "text": [
      "C:\\Users\\MarlonVieiraPassos\\AppData\\Local\\Temp\\ipykernel_8500\\3869588013.py:9: FutureWarning: The frame.append method is deprecated and will be removed from pandas in a future version. Use pandas.concat instead.\n",
      "  df_all=df_all.append(dict_df[\"df_corrected\"])\n"
     ]
    },
    {
     "name": "stdout",
     "output_type": "stream",
     "text": [
      "Check smhi.log for data download details!\n",
      ">>> Start downloading each station\n",
      ">>> Downloading 122360\n"
     ]
    },
    {
     "name": "stderr",
     "output_type": "stream",
     "text": [
      "C:\\Users\\MarlonVieiraPassos\\AppData\\Local\\Temp\\ipykernel_8500\\3869588013.py:9: FutureWarning: The frame.append method is deprecated and will be removed from pandas in a future version. Use pandas.concat instead.\n",
      "  df_all=df_all.append(dict_df[\"df_corrected\"])\n",
      "C:\\Users\\MarlonVieiraPassos\\AppData\\Local\\Temp\\ipykernel_8500\\3869588013.py:9: FutureWarning: The frame.append method is deprecated and will be removed from pandas in a future version. Use pandas.concat instead.\n",
      "  df_all=df_all.append(dict_df[\"df_corrected\"])\n"
     ]
    },
    {
     "name": "stdout",
     "output_type": "stream",
     "text": [
      "Check smhi.log for data download details!\n",
      ">>> Start downloading each station\n",
      ">>> Downloading 136491\n",
      "Check smhi.log for data download details!\n"
     ]
    },
    {
     "name": "stderr",
     "output_type": "stream",
     "text": [
      "C:\\Users\\MarlonVieiraPassos\\AppData\\Local\\Temp\\ipykernel_8500\\3869588013.py:9: FutureWarning: The frame.append method is deprecated and will be removed from pandas in a future version. Use pandas.concat instead.\n",
      "  df_all=df_all.append(dict_df[\"df_corrected\"])\n"
     ]
    },
    {
     "name": "stdout",
     "output_type": "stream",
     "text": [
      ">>> Start downloading each station\n",
      ">>> Downloading 74420\n",
      "Check smhi.log for data download details!\n",
      ">>> Start downloading each station\n",
      ">>> Downloading 104390\n",
      "Check smhi.log for data download details!\n"
     ]
    },
    {
     "name": "stderr",
     "output_type": "stream",
     "text": [
      "C:\\Users\\MarlonVieiraPassos\\AppData\\Local\\Temp\\ipykernel_8500\\3869588013.py:9: FutureWarning: The frame.append method is deprecated and will be removed from pandas in a future version. Use pandas.concat instead.\n",
      "  df_all=df_all.append(dict_df[\"df_corrected\"])\n"
     ]
    },
    {
     "name": "stdout",
     "output_type": "stream",
     "text": [
      ">>> Start downloading each station\n",
      ">>> Downloading 96040\n",
      "Check smhi.log for data download details!\n",
      ">>> Start downloading each station\n",
      ">>> Downloading 112510\n"
     ]
    },
    {
     "name": "stderr",
     "output_type": "stream",
     "text": [
      "C:\\Users\\MarlonVieiraPassos\\AppData\\Local\\Temp\\ipykernel_8500\\3869588013.py:9: FutureWarning: The frame.append method is deprecated and will be removed from pandas in a future version. Use pandas.concat instead.\n",
      "  df_all=df_all.append(dict_df[\"df_corrected\"])\n"
     ]
    },
    {
     "name": "stdout",
     "output_type": "stream",
     "text": [
      "Check smhi.log for data download details!\n",
      ">>> Start downloading each station\n",
      ">>> Downloading 106100\n"
     ]
    },
    {
     "name": "stderr",
     "output_type": "stream",
     "text": [
      "C:\\Users\\MarlonVieiraPassos\\AppData\\Local\\Temp\\ipykernel_8500\\3869588013.py:9: FutureWarning: The frame.append method is deprecated and will be removed from pandas in a future version. Use pandas.concat instead.\n",
      "  df_all=df_all.append(dict_df[\"df_corrected\"])\n"
     ]
    },
    {
     "name": "stdout",
     "output_type": "stream",
     "text": [
      "Check smhi.log for data download details!\n",
      ">>> Start downloading each station\n",
      ">>> Downloading 137080\n",
      "Check smhi.log for data download details!\n",
      ">>> Start downloading each station\n",
      ">>> Downloading 93580\n"
     ]
    },
    {
     "name": "stderr",
     "output_type": "stream",
     "text": [
      "C:\\Users\\MarlonVieiraPassos\\AppData\\Local\\Temp\\ipykernel_8500\\3869588013.py:9: FutureWarning: The frame.append method is deprecated and will be removed from pandas in a future version. Use pandas.concat instead.\n",
      "  df_all=df_all.append(dict_df[\"df_corrected\"])\n"
     ]
    },
    {
     "name": "stdout",
     "output_type": "stream",
     "text": [
      "Check smhi.log for data download details!\n",
      ">>> Start downloading each station\n",
      ">>> Downloading 148050\n"
     ]
    },
    {
     "name": "stderr",
     "output_type": "stream",
     "text": [
      "C:\\Users\\MarlonVieiraPassos\\AppData\\Local\\Temp\\ipykernel_8500\\3869588013.py:9: FutureWarning: The frame.append method is deprecated and will be removed from pandas in a future version. Use pandas.concat instead.\n",
      "  df_all=df_all.append(dict_df[\"df_corrected\"])\n"
     ]
    },
    {
     "name": "stdout",
     "output_type": "stream",
     "text": [
      "Check smhi.log for data download details!\n",
      ">>> Start downloading each station\n",
      ">>> Downloading 148040\n"
     ]
    },
    {
     "name": "stderr",
     "output_type": "stream",
     "text": [
      "C:\\Users\\MarlonVieiraPassos\\AppData\\Local\\Temp\\ipykernel_8500\\3869588013.py:9: FutureWarning: The frame.append method is deprecated and will be removed from pandas in a future version. Use pandas.concat instead.\n",
      "  df_all=df_all.append(dict_df[\"df_corrected\"])\n"
     ]
    },
    {
     "name": "stdout",
     "output_type": "stream",
     "text": [
      "Check smhi.log for data download details!\n",
      ">>> Start downloading each station\n",
      ">>> Downloading 104090\n"
     ]
    },
    {
     "name": "stderr",
     "output_type": "stream",
     "text": [
      "C:\\Users\\MarlonVieiraPassos\\AppData\\Local\\Temp\\ipykernel_8500\\3869588013.py:9: FutureWarning: The frame.append method is deprecated and will be removed from pandas in a future version. Use pandas.concat instead.\n",
      "  df_all=df_all.append(dict_df[\"df_corrected\"])\n"
     ]
    },
    {
     "name": "stdout",
     "output_type": "stream",
     "text": [
      "Check smhi.log for data download details!\n",
      ">>> Start downloading each station\n",
      ">>> Downloading 126630\n",
      "Check smhi.log for data download details!\n",
      ">>> Start downloading each station\n",
      ">>> Downloading 126300\n"
     ]
    },
    {
     "name": "stderr",
     "output_type": "stream",
     "text": [
      "C:\\Users\\MarlonVieiraPassos\\AppData\\Local\\Temp\\ipykernel_8500\\3869588013.py:9: FutureWarning: The frame.append method is deprecated and will be removed from pandas in a future version. Use pandas.concat instead.\n",
      "  df_all=df_all.append(dict_df[\"df_corrected\"])\n"
     ]
    },
    {
     "name": "stdout",
     "output_type": "stream",
     "text": [
      "Check smhi.log for data download details!\n",
      ">>> Start downloading each station\n",
      ">>> Downloading 63530\n"
     ]
    },
    {
     "name": "stderr",
     "output_type": "stream",
     "text": [
      "C:\\Users\\MarlonVieiraPassos\\AppData\\Local\\Temp\\ipykernel_8500\\3869588013.py:9: FutureWarning: The frame.append method is deprecated and will be removed from pandas in a future version. Use pandas.concat instead.\n",
      "  df_all=df_all.append(dict_df[\"df_corrected\"])\n"
     ]
    },
    {
     "name": "stdout",
     "output_type": "stream",
     "text": [
      "Check smhi.log for data download details!\n",
      ">>> Start downloading each station\n",
      ">>> Downloading 134130\n"
     ]
    },
    {
     "name": "stderr",
     "output_type": "stream",
     "text": [
      "C:\\Users\\MarlonVieiraPassos\\AppData\\Local\\Temp\\ipykernel_8500\\3869588013.py:9: FutureWarning: The frame.append method is deprecated and will be removed from pandas in a future version. Use pandas.concat instead.\n",
      "  df_all=df_all.append(dict_df[\"df_corrected\"])\n"
     ]
    },
    {
     "name": "stdout",
     "output_type": "stream",
     "text": [
      "Check smhi.log for data download details!\n",
      ">>> Start downloading each station\n",
      ">>> Downloading 151550\n"
     ]
    },
    {
     "name": "stderr",
     "output_type": "stream",
     "text": [
      "C:\\Users\\MarlonVieiraPassos\\AppData\\Local\\Temp\\ipykernel_8500\\3869588013.py:9: FutureWarning: The frame.append method is deprecated and will be removed from pandas in a future version. Use pandas.concat instead.\n",
      "  df_all=df_all.append(dict_df[\"df_corrected\"])\n"
     ]
    },
    {
     "name": "stdout",
     "output_type": "stream",
     "text": [
      "Check smhi.log for data download details!\n",
      ">>> Start downloading each station\n",
      ">>> Downloading 73390\n"
     ]
    },
    {
     "name": "stderr",
     "output_type": "stream",
     "text": [
      "C:\\Users\\MarlonVieiraPassos\\AppData\\Local\\Temp\\ipykernel_8500\\3869588013.py:9: FutureWarning: The frame.append method is deprecated and will be removed from pandas in a future version. Use pandas.concat instead.\n",
      "  df_all=df_all.append(dict_df[\"df_corrected\"])\n"
     ]
    },
    {
     "name": "stdout",
     "output_type": "stream",
     "text": [
      "Check smhi.log for data download details!\n",
      ">>> Start downloading each station\n",
      ">>> Downloading 84390\n"
     ]
    },
    {
     "name": "stderr",
     "output_type": "stream",
     "text": [
      "C:\\Users\\MarlonVieiraPassos\\AppData\\Local\\Temp\\ipykernel_8500\\3869588013.py:9: FutureWarning: The frame.append method is deprecated and will be removed from pandas in a future version. Use pandas.concat instead.\n",
      "  df_all=df_all.append(dict_df[\"df_corrected\"])\n"
     ]
    },
    {
     "name": "stdout",
     "output_type": "stream",
     "text": [
      "Check smhi.log for data download details!\n",
      ">>> Start downloading each station\n",
      ">>> Downloading 160750\n"
     ]
    },
    {
     "name": "stderr",
     "output_type": "stream",
     "text": [
      "C:\\Users\\MarlonVieiraPassos\\AppData\\Local\\Temp\\ipykernel_8500\\3869588013.py:9: FutureWarning: The frame.append method is deprecated and will be removed from pandas in a future version. Use pandas.concat instead.\n",
      "  df_all=df_all.append(dict_df[\"df_corrected\"])\n"
     ]
    },
    {
     "name": "stdout",
     "output_type": "stream",
     "text": [
      "Check smhi.log for data download details!\n",
      ">>> Start downloading each station\n",
      ">>> Downloading 160740\n"
     ]
    },
    {
     "name": "stderr",
     "output_type": "stream",
     "text": [
      "C:\\Users\\MarlonVieiraPassos\\AppData\\Local\\Temp\\ipykernel_8500\\3869588013.py:9: FutureWarning: The frame.append method is deprecated and will be removed from pandas in a future version. Use pandas.concat instead.\n",
      "  df_all=df_all.append(dict_df[\"df_corrected\"])\n"
     ]
    },
    {
     "name": "stdout",
     "output_type": "stream",
     "text": [
      "Check smhi.log for data download details!\n",
      ">>> Start downloading each station\n",
      ">>> Downloading 79580\n"
     ]
    },
    {
     "name": "stderr",
     "output_type": "stream",
     "text": [
      "C:\\Users\\MarlonVieiraPassos\\AppData\\Local\\Temp\\ipykernel_8500\\3869588013.py:9: FutureWarning: The frame.append method is deprecated and will be removed from pandas in a future version. Use pandas.concat instead.\n",
      "  df_all=df_all.append(dict_df[\"df_corrected\"])\n"
     ]
    },
    {
     "name": "stdout",
     "output_type": "stream",
     "text": [
      "Check smhi.log for data download details!\n",
      ">>> Start downloading each station\n",
      ">>> Downloading 78550\n"
     ]
    },
    {
     "name": "stderr",
     "output_type": "stream",
     "text": [
      "C:\\Users\\MarlonVieiraPassos\\AppData\\Local\\Temp\\ipykernel_8500\\3869588013.py:9: FutureWarning: The frame.append method is deprecated and will be removed from pandas in a future version. Use pandas.concat instead.\n",
      "  df_all=df_all.append(dict_df[\"df_corrected\"])\n"
     ]
    },
    {
     "name": "stdout",
     "output_type": "stream",
     "text": [
      "Check smhi.log for data download details!\n",
      ">>> Start downloading each station\n",
      ">>> Downloading 134410\n"
     ]
    },
    {
     "name": "stderr",
     "output_type": "stream",
     "text": [
      "C:\\Users\\MarlonVieiraPassos\\AppData\\Local\\Temp\\ipykernel_8500\\3869588013.py:9: FutureWarning: The frame.append method is deprecated and will be removed from pandas in a future version. Use pandas.concat instead.\n",
      "  df_all=df_all.append(dict_df[\"df_corrected\"])\n"
     ]
    },
    {
     "name": "stdout",
     "output_type": "stream",
     "text": [
      "Check smhi.log for data download details!\n",
      ">>> Start downloading each station\n",
      ">>> Downloading 134460\n"
     ]
    },
    {
     "name": "stderr",
     "output_type": "stream",
     "text": [
      "C:\\Users\\MarlonVieiraPassos\\AppData\\Local\\Temp\\ipykernel_8500\\3869588013.py:9: FutureWarning: The frame.append method is deprecated and will be removed from pandas in a future version. Use pandas.concat instead.\n",
      "  df_all=df_all.append(dict_df[\"df_corrected\"])\n"
     ]
    },
    {
     "name": "stdout",
     "output_type": "stream",
     "text": [
      "Check smhi.log for data download details!\n",
      ">>> Start downloading each station\n",
      ">>> Downloading 94410\n"
     ]
    },
    {
     "name": "stderr",
     "output_type": "stream",
     "text": [
      "C:\\Users\\MarlonVieiraPassos\\AppData\\Local\\Temp\\ipykernel_8500\\3869588013.py:9: FutureWarning: The frame.append method is deprecated and will be removed from pandas in a future version. Use pandas.concat instead.\n",
      "  df_all=df_all.append(dict_df[\"df_corrected\"])\n"
     ]
    },
    {
     "name": "stdout",
     "output_type": "stream",
     "text": [
      "Check smhi.log for data download details!\n",
      ">>> Start downloading each station\n",
      ">>> Downloading 82030\n"
     ]
    },
    {
     "name": "stderr",
     "output_type": "stream",
     "text": [
      "C:\\Users\\MarlonVieiraPassos\\AppData\\Local\\Temp\\ipykernel_8500\\3869588013.py:9: FutureWarning: The frame.append method is deprecated and will be removed from pandas in a future version. Use pandas.concat instead.\n",
      "  df_all=df_all.append(dict_df[\"df_corrected\"])\n"
     ]
    },
    {
     "name": "stdout",
     "output_type": "stream",
     "text": [
      "Check smhi.log for data download details!\n",
      ">>> Start downloading each station\n",
      ">>> Downloading 82110\n"
     ]
    },
    {
     "name": "stderr",
     "output_type": "stream",
     "text": [
      "C:\\Users\\MarlonVieiraPassos\\AppData\\Local\\Temp\\ipykernel_8500\\3869588013.py:9: FutureWarning: The frame.append method is deprecated and will be removed from pandas in a future version. Use pandas.concat instead.\n",
      "  df_all=df_all.append(dict_df[\"df_corrected\"])\n"
     ]
    },
    {
     "name": "stdout",
     "output_type": "stream",
     "text": [
      "Check smhi.log for data download details!\n",
      ">>> Start downloading each station\n",
      ">>> Downloading 63340\n"
     ]
    },
    {
     "name": "stderr",
     "output_type": "stream",
     "text": [
      "C:\\Users\\MarlonVieiraPassos\\AppData\\Local\\Temp\\ipykernel_8500\\3869588013.py:9: FutureWarning: The frame.append method is deprecated and will be removed from pandas in a future version. Use pandas.concat instead.\n",
      "  df_all=df_all.append(dict_df[\"df_corrected\"])\n"
     ]
    },
    {
     "name": "stdout",
     "output_type": "stream",
     "text": [
      "Check smhi.log for data download details!\n",
      ">>> Start downloading each station\n",
      ">>> Downloading 155790\n"
     ]
    },
    {
     "name": "stderr",
     "output_type": "stream",
     "text": [
      "C:\\Users\\MarlonVieiraPassos\\AppData\\Local\\Temp\\ipykernel_8500\\3869588013.py:9: FutureWarning: The frame.append method is deprecated and will be removed from pandas in a future version. Use pandas.concat instead.\n",
      "  df_all=df_all.append(dict_df[\"df_corrected\"])\n",
      "C:\\Users\\MarlonVieiraPassos\\AppData\\Local\\Temp\\ipykernel_8500\\3869588013.py:9: FutureWarning: The frame.append method is deprecated and will be removed from pandas in a future version. Use pandas.concat instead.\n",
      "  df_all=df_all.append(dict_df[\"df_corrected\"])\n"
     ]
    },
    {
     "name": "stdout",
     "output_type": "stream",
     "text": [
      "Check smhi.log for data download details!\n",
      ">>> Start downloading each station\n",
      ">>> Downloading 73170\n",
      "Check smhi.log for data download details!\n"
     ]
    },
    {
     "name": "stderr",
     "output_type": "stream",
     "text": [
      "C:\\Users\\MarlonVieiraPassos\\AppData\\Local\\Temp\\ipykernel_8500\\3869588013.py:9: FutureWarning: The frame.append method is deprecated and will be removed from pandas in a future version. Use pandas.concat instead.\n",
      "  df_all=df_all.append(dict_df[\"df_corrected\"])\n"
     ]
    },
    {
     "name": "stdout",
     "output_type": "stream",
     "text": [
      ">>> Start downloading each station\n",
      ">>> Downloading 135640\n",
      "Check smhi.log for data download details!\n"
     ]
    },
    {
     "name": "stderr",
     "output_type": "stream",
     "text": [
      "C:\\Users\\MarlonVieiraPassos\\AppData\\Local\\Temp\\ipykernel_8500\\3869588013.py:9: FutureWarning: The frame.append method is deprecated and will be removed from pandas in a future version. Use pandas.concat instead.\n",
      "  df_all=df_all.append(dict_df[\"df_corrected\"])\n"
     ]
    },
    {
     "name": "stdout",
     "output_type": "stream",
     "text": [
      ">>> Start downloading each station\n",
      ">>> Downloading 76420\n",
      "Check smhi.log for data download details!\n",
      ">>> Start downloading each station\n",
      ">>> Downloading 62550\n"
     ]
    },
    {
     "name": "stderr",
     "output_type": "stream",
     "text": [
      "C:\\Users\\MarlonVieiraPassos\\AppData\\Local\\Temp\\ipykernel_8500\\3869588013.py:9: FutureWarning: The frame.append method is deprecated and will be removed from pandas in a future version. Use pandas.concat instead.\n",
      "  df_all=df_all.append(dict_df[\"df_corrected\"])\n"
     ]
    },
    {
     "name": "stdout",
     "output_type": "stream",
     "text": [
      "Check smhi.log for data download details!\n",
      ">>> Start downloading each station\n",
      ">>> Downloading 159770\n"
     ]
    },
    {
     "name": "stderr",
     "output_type": "stream",
     "text": [
      "C:\\Users\\MarlonVieiraPassos\\AppData\\Local\\Temp\\ipykernel_8500\\3869588013.py:9: FutureWarning: The frame.append method is deprecated and will be removed from pandas in a future version. Use pandas.concat instead.\n",
      "  df_all=df_all.append(dict_df[\"df_corrected\"])\n"
     ]
    },
    {
     "name": "stdout",
     "output_type": "stream",
     "text": [
      "Check smhi.log for data download details!\n",
      ">>> Start downloading each station\n",
      ">>> Downloading 85450\n",
      "Check smhi.log for data download details!\n",
      ">>> Start downloading each station\n",
      ">>> Downloading 89240\n"
     ]
    },
    {
     "name": "stderr",
     "output_type": "stream",
     "text": [
      "C:\\Users\\MarlonVieiraPassos\\AppData\\Local\\Temp\\ipykernel_8500\\3869588013.py:9: FutureWarning: The frame.append method is deprecated and will be removed from pandas in a future version. Use pandas.concat instead.\n",
      "  df_all=df_all.append(dict_df[\"df_corrected\"])\n"
     ]
    },
    {
     "name": "stdout",
     "output_type": "stream",
     "text": [
      "Check smhi.log for data download details!\n",
      ">>> Start downloading each station\n",
      ">>> Downloading 89230\n"
     ]
    },
    {
     "name": "stderr",
     "output_type": "stream",
     "text": [
      "C:\\Users\\MarlonVieiraPassos\\AppData\\Local\\Temp\\ipykernel_8500\\3869588013.py:9: FutureWarning: The frame.append method is deprecated and will be removed from pandas in a future version. Use pandas.concat instead.\n",
      "  df_all=df_all.append(dict_df[\"df_corrected\"])\n"
     ]
    },
    {
     "name": "stdout",
     "output_type": "stream",
     "text": [
      "Check smhi.log for data download details!\n",
      ">>> Start downloading each station\n",
      ">>> Downloading 127600\n"
     ]
    },
    {
     "name": "stderr",
     "output_type": "stream",
     "text": [
      "C:\\Users\\MarlonVieiraPassos\\AppData\\Local\\Temp\\ipykernel_8500\\3869588013.py:9: FutureWarning: The frame.append method is deprecated and will be removed from pandas in a future version. Use pandas.concat instead.\n",
      "  df_all=df_all.append(dict_df[\"df_corrected\"])\n"
     ]
    },
    {
     "name": "stdout",
     "output_type": "stream",
     "text": [
      "Check smhi.log for data download details!\n",
      ">>> Start downloading each station\n",
      ">>> Downloading 103290\n"
     ]
    },
    {
     "name": "stderr",
     "output_type": "stream",
     "text": [
      "C:\\Users\\MarlonVieiraPassos\\AppData\\Local\\Temp\\ipykernel_8500\\3869588013.py:9: FutureWarning: The frame.append method is deprecated and will be removed from pandas in a future version. Use pandas.concat instead.\n",
      "  df_all=df_all.append(dict_df[\"df_corrected\"])\n"
     ]
    },
    {
     "name": "stdout",
     "output_type": "stream",
     "text": [
      "Check smhi.log for data download details!\n",
      ">>> Start downloading each station\n",
      ">>> Downloading 72070\n"
     ]
    },
    {
     "name": "stderr",
     "output_type": "stream",
     "text": [
      "C:\\Users\\MarlonVieiraPassos\\AppData\\Local\\Temp\\ipykernel_8500\\3869588013.py:9: FutureWarning: The frame.append method is deprecated and will be removed from pandas in a future version. Use pandas.concat instead.\n",
      "  df_all=df_all.append(dict_df[\"df_corrected\"])\n"
     ]
    },
    {
     "name": "stdout",
     "output_type": "stream",
     "text": [
      "Check smhi.log for data download details!\n",
      ">>> Start downloading each station\n",
      ">>> Downloading 112170\n"
     ]
    },
    {
     "name": "stderr",
     "output_type": "stream",
     "text": [
      "C:\\Users\\MarlonVieiraPassos\\AppData\\Local\\Temp\\ipykernel_8500\\3869588013.py:9: FutureWarning: The frame.append method is deprecated and will be removed from pandas in a future version. Use pandas.concat instead.\n",
      "  df_all=df_all.append(dict_df[\"df_corrected\"])\n"
     ]
    },
    {
     "name": "stdout",
     "output_type": "stream",
     "text": [
      "Check smhi.log for data download details!\n",
      ">>> Start downloading each station\n",
      ">>> Downloading 108300\n"
     ]
    },
    {
     "name": "stderr",
     "output_type": "stream",
     "text": [
      "C:\\Users\\MarlonVieiraPassos\\AppData\\Local\\Temp\\ipykernel_8500\\3869588013.py:9: FutureWarning: The frame.append method is deprecated and will be removed from pandas in a future version. Use pandas.concat instead.\n",
      "  df_all=df_all.append(dict_df[\"df_corrected\"])\n"
     ]
    },
    {
     "name": "stdout",
     "output_type": "stream",
     "text": [
      "Check smhi.log for data download details!\n",
      ">>> Start downloading each station\n",
      ">>> Downloading 105050\n"
     ]
    },
    {
     "name": "stderr",
     "output_type": "stream",
     "text": [
      "C:\\Users\\MarlonVieiraPassos\\AppData\\Local\\Temp\\ipykernel_8500\\3869588013.py:9: FutureWarning: The frame.append method is deprecated and will be removed from pandas in a future version. Use pandas.concat instead.\n",
      "  df_all=df_all.append(dict_df[\"df_corrected\"])\n"
     ]
    },
    {
     "name": "stdout",
     "output_type": "stream",
     "text": [
      "Check smhi.log for data download details!\n",
      ">>> Start downloading each station\n",
      ">>> Downloading 105030\n"
     ]
    },
    {
     "name": "stderr",
     "output_type": "stream",
     "text": [
      "C:\\Users\\MarlonVieiraPassos\\AppData\\Local\\Temp\\ipykernel_8500\\3869588013.py:9: FutureWarning: The frame.append method is deprecated and will be removed from pandas in a future version. Use pandas.concat instead.\n",
      "  df_all=df_all.append(dict_df[\"df_corrected\"])\n"
     ]
    },
    {
     "name": "stdout",
     "output_type": "stream",
     "text": [
      "Check smhi.log for data download details!\n",
      ">>> Start downloading each station\n",
      ">>> Downloading 84610\n"
     ]
    },
    {
     "name": "stderr",
     "output_type": "stream",
     "text": [
      "C:\\Users\\MarlonVieiraPassos\\AppData\\Local\\Temp\\ipykernel_8500\\3869588013.py:9: FutureWarning: The frame.append method is deprecated and will be removed from pandas in a future version. Use pandas.concat instead.\n",
      "  df_all=df_all.append(dict_df[\"df_corrected\"])\n"
     ]
    },
    {
     "name": "stdout",
     "output_type": "stream",
     "text": [
      "Check smhi.log for data download details!\n",
      ">>> Start downloading each station\n",
      ">>> Downloading 82200\n"
     ]
    },
    {
     "name": "stderr",
     "output_type": "stream",
     "text": [
      "C:\\Users\\MarlonVieiraPassos\\AppData\\Local\\Temp\\ipykernel_8500\\3869588013.py:9: FutureWarning: The frame.append method is deprecated and will be removed from pandas in a future version. Use pandas.concat instead.\n",
      "  df_all=df_all.append(dict_df[\"df_corrected\"])\n"
     ]
    },
    {
     "name": "stdout",
     "output_type": "stream",
     "text": [
      "Check smhi.log for data download details!\n",
      ">>> Start downloading each station\n",
      ">>> Downloading 105360\n"
     ]
    },
    {
     "name": "stderr",
     "output_type": "stream",
     "text": [
      "C:\\Users\\MarlonVieiraPassos\\AppData\\Local\\Temp\\ipykernel_8500\\3869588013.py:9: FutureWarning: The frame.append method is deprecated and will be removed from pandas in a future version. Use pandas.concat instead.\n",
      "  df_all=df_all.append(dict_df[\"df_corrected\"])\n"
     ]
    },
    {
     "name": "stdout",
     "output_type": "stream",
     "text": [
      "Check smhi.log for data download details!\n",
      ">>> Start downloading each station\n",
      ">>> Downloading 95380\n"
     ]
    },
    {
     "name": "stderr",
     "output_type": "stream",
     "text": [
      "C:\\Users\\MarlonVieiraPassos\\AppData\\Local\\Temp\\ipykernel_8500\\3869588013.py:9: FutureWarning: The frame.append method is deprecated and will be removed from pandas in a future version. Use pandas.concat instead.\n",
      "  df_all=df_all.append(dict_df[\"df_corrected\"])\n"
     ]
    },
    {
     "name": "stdout",
     "output_type": "stream",
     "text": [
      "Check smhi.log for data download details!\n",
      ">>> Start downloading each station\n",
      ">>> Downloading 122610\n"
     ]
    },
    {
     "name": "stderr",
     "output_type": "stream",
     "text": [
      "C:\\Users\\MarlonVieiraPassos\\AppData\\Local\\Temp\\ipykernel_8500\\3869588013.py:9: FutureWarning: The frame.append method is deprecated and will be removed from pandas in a future version. Use pandas.concat instead.\n",
      "  df_all=df_all.append(dict_df[\"df_corrected\"])\n"
     ]
    },
    {
     "name": "stdout",
     "output_type": "stream",
     "text": [
      "Check smhi.log for data download details!\n",
      ">>> Start downloading each station\n",
      ">>> Downloading 145130\n"
     ]
    },
    {
     "name": "stderr",
     "output_type": "stream",
     "text": [
      "C:\\Users\\MarlonVieiraPassos\\AppData\\Local\\Temp\\ipykernel_8500\\3869588013.py:9: FutureWarning: The frame.append method is deprecated and will be removed from pandas in a future version. Use pandas.concat instead.\n",
      "  df_all=df_all.append(dict_df[\"df_corrected\"])\n"
     ]
    },
    {
     "name": "stdout",
     "output_type": "stream",
     "text": [
      "Check smhi.log for data download details!\n",
      ">>> Start downloading each station\n",
      ">>> Downloading 84690\n"
     ]
    },
    {
     "name": "stderr",
     "output_type": "stream",
     "text": [
      "C:\\Users\\MarlonVieiraPassos\\AppData\\Local\\Temp\\ipykernel_8500\\3869588013.py:9: FutureWarning: The frame.append method is deprecated and will be removed from pandas in a future version. Use pandas.concat instead.\n",
      "  df_all=df_all.append(dict_df[\"df_corrected\"])\n"
     ]
    },
    {
     "name": "stdout",
     "output_type": "stream",
     "text": [
      "Check smhi.log for data download details!\n",
      ">>> Start downloading each station\n",
      ">>> Downloading 147570\n"
     ]
    },
    {
     "name": "stderr",
     "output_type": "stream",
     "text": [
      "C:\\Users\\MarlonVieiraPassos\\AppData\\Local\\Temp\\ipykernel_8500\\3869588013.py:9: FutureWarning: The frame.append method is deprecated and will be removed from pandas in a future version. Use pandas.concat instead.\n",
      "  df_all=df_all.append(dict_df[\"df_corrected\"])\n"
     ]
    },
    {
     "name": "stdout",
     "output_type": "stream",
     "text": [
      "Check smhi.log for data download details!\n",
      ">>> Start downloading each station\n",
      ">>> Downloading 147560\n",
      "Check smhi.log for data download details!\n",
      ">>> Start downloading each station\n",
      ">>> Downloading 76430\n"
     ]
    },
    {
     "name": "stderr",
     "output_type": "stream",
     "text": [
      "C:\\Users\\MarlonVieiraPassos\\AppData\\Local\\Temp\\ipykernel_8500\\3869588013.py:9: FutureWarning: The frame.append method is deprecated and will be removed from pandas in a future version. Use pandas.concat instead.\n",
      "  df_all=df_all.append(dict_df[\"df_corrected\"])\n"
     ]
    },
    {
     "name": "stdout",
     "output_type": "stream",
     "text": [
      "Check smhi.log for data download details!\n",
      ">>> Start downloading each station\n",
      ">>> Downloading 87360\n"
     ]
    },
    {
     "name": "stderr",
     "output_type": "stream",
     "text": [
      "C:\\Users\\MarlonVieiraPassos\\AppData\\Local\\Temp\\ipykernel_8500\\3869588013.py:9: FutureWarning: The frame.append method is deprecated and will be removed from pandas in a future version. Use pandas.concat instead.\n",
      "  df_all=df_all.append(dict_df[\"df_corrected\"])\n"
     ]
    },
    {
     "name": "stdout",
     "output_type": "stream",
     "text": [
      "Check smhi.log for data download details!\n",
      ">>> Start downloading each station\n",
      ">>> Downloading 98180\n"
     ]
    },
    {
     "name": "stderr",
     "output_type": "stream",
     "text": [
      "C:\\Users\\MarlonVieiraPassos\\AppData\\Local\\Temp\\ipykernel_8500\\3869588013.py:9: FutureWarning: The frame.append method is deprecated and will be removed from pandas in a future version. Use pandas.concat instead.\n",
      "  df_all=df_all.append(dict_df[\"df_corrected\"])\n"
     ]
    },
    {
     "name": "stdout",
     "output_type": "stream",
     "text": [
      "Check smhi.log for data download details!\n",
      ">>> Start downloading each station\n",
      ">>> Downloading 103090\n"
     ]
    },
    {
     "name": "stderr",
     "output_type": "stream",
     "text": [
      "C:\\Users\\MarlonVieiraPassos\\AppData\\Local\\Temp\\ipykernel_8500\\3869588013.py:9: FutureWarning: The frame.append method is deprecated and will be removed from pandas in a future version. Use pandas.concat instead.\n",
      "  df_all=df_all.append(dict_df[\"df_corrected\"])\n"
     ]
    },
    {
     "name": "stdout",
     "output_type": "stream",
     "text": [
      "Check smhi.log for data download details!\n",
      ">>> Start downloading each station\n",
      ">>> Downloading 103100\n"
     ]
    },
    {
     "name": "stderr",
     "output_type": "stream",
     "text": [
      "C:\\Users\\MarlonVieiraPassos\\AppData\\Local\\Temp\\ipykernel_8500\\3869588013.py:9: FutureWarning: The frame.append method is deprecated and will be removed from pandas in a future version. Use pandas.concat instead.\n",
      "  df_all=df_all.append(dict_df[\"df_corrected\"])\n"
     ]
    },
    {
     "name": "stdout",
     "output_type": "stream",
     "text": [
      "Check smhi.log for data download details!\n",
      ">>> Start downloading each station\n",
      ">>> Downloading 172740\n"
     ]
    },
    {
     "name": "stderr",
     "output_type": "stream",
     "text": [
      "C:\\Users\\MarlonVieiraPassos\\AppData\\Local\\Temp\\ipykernel_8500\\3869588013.py:9: FutureWarning: The frame.append method is deprecated and will be removed from pandas in a future version. Use pandas.concat instead.\n",
      "  df_all=df_all.append(dict_df[\"df_corrected\"])\n"
     ]
    },
    {
     "name": "stdout",
     "output_type": "stream",
     "text": [
      "Check smhi.log for data download details!\n",
      ">>> Start downloading each station\n",
      ">>> Downloading 106170\n"
     ]
    },
    {
     "name": "stderr",
     "output_type": "stream",
     "text": [
      "C:\\Users\\MarlonVieiraPassos\\AppData\\Local\\Temp\\ipykernel_8500\\3869588013.py:9: FutureWarning: The frame.append method is deprecated and will be removed from pandas in a future version. Use pandas.concat instead.\n",
      "  df_all=df_all.append(dict_df[\"df_corrected\"])\n",
      "C:\\Users\\MarlonVieiraPassos\\AppData\\Local\\Temp\\ipykernel_8500\\3869588013.py:9: FutureWarning: The frame.append method is deprecated and will be removed from pandas in a future version. Use pandas.concat instead.\n",
      "  df_all=df_all.append(dict_df[\"df_corrected\"])\n"
     ]
    },
    {
     "name": "stdout",
     "output_type": "stream",
     "text": [
      "Check smhi.log for data download details!\n",
      ">>> Start downloading each station\n",
      ">>> Downloading 94600\n",
      "Check smhi.log for data download details!\n"
     ]
    },
    {
     "name": "stderr",
     "output_type": "stream",
     "text": [
      "C:\\Users\\MarlonVieiraPassos\\AppData\\Local\\Temp\\ipykernel_8500\\3869588013.py:9: FutureWarning: The frame.append method is deprecated and will be removed from pandas in a future version. Use pandas.concat instead.\n",
      "  df_all=df_all.append(dict_df[\"df_corrected\"])\n"
     ]
    },
    {
     "name": "stdout",
     "output_type": "stream",
     "text": [
      ">>> Start downloading each station\n",
      ">>> Downloading 144300\n",
      "Check smhi.log for data download details!\n",
      ">>> Start downloading each station\n",
      ">>> Downloading 144310\n",
      "Check smhi.log for data download details!\n",
      ">>> Start downloading each station\n",
      ">>> Downloading 180760\n"
     ]
    },
    {
     "name": "stderr",
     "output_type": "stream",
     "text": [
      "C:\\Users\\MarlonVieiraPassos\\AppData\\Local\\Temp\\ipykernel_8500\\3869588013.py:9: FutureWarning: The frame.append method is deprecated and will be removed from pandas in a future version. Use pandas.concat instead.\n",
      "  df_all=df_all.append(dict_df[\"df_corrected\"])\n"
     ]
    },
    {
     "name": "stdout",
     "output_type": "stream",
     "text": [
      "Check smhi.log for data download details!\n",
      ">>> Start downloading each station\n",
      ">>> Downloading 180740\n"
     ]
    },
    {
     "name": "stderr",
     "output_type": "stream",
     "text": [
      "C:\\Users\\MarlonVieiraPassos\\AppData\\Local\\Temp\\ipykernel_8500\\3869588013.py:9: FutureWarning: The frame.append method is deprecated and will be removed from pandas in a future version. Use pandas.concat instead.\n",
      "  df_all=df_all.append(dict_df[\"df_corrected\"])\n",
      "C:\\Users\\MarlonVieiraPassos\\AppData\\Local\\Temp\\ipykernel_8500\\3869588013.py:9: FutureWarning: The frame.append method is deprecated and will be removed from pandas in a future version. Use pandas.concat instead.\n",
      "  df_all=df_all.append(dict_df[\"df_corrected\"])\n"
     ]
    },
    {
     "name": "stdout",
     "output_type": "stream",
     "text": [
      "Check smhi.log for data download details!\n",
      ">>> Start downloading each station\n",
      ">>> Downloading 125501\n",
      "Check smhi.log for data download details!\n"
     ]
    },
    {
     "name": "stderr",
     "output_type": "stream",
     "text": [
      "C:\\Users\\MarlonVieiraPassos\\AppData\\Local\\Temp\\ipykernel_8500\\3869588013.py:9: FutureWarning: The frame.append method is deprecated and will be removed from pandas in a future version. Use pandas.concat instead.\n",
      "  df_all=df_all.append(dict_df[\"df_corrected\"])\n",
      "C:\\Users\\MarlonVieiraPassos\\AppData\\Local\\Temp\\ipykernel_8500\\3869588013.py:9: FutureWarning: The frame.append method is deprecated and will be removed from pandas in a future version. Use pandas.concat instead.\n",
      "  df_all=df_all.append(dict_df[\"df_corrected\"])\n"
     ]
    },
    {
     "name": "stdout",
     "output_type": "stream",
     "text": [
      ">>> Start downloading each station\n",
      ">>> Downloading 54650\n",
      "Check smhi.log for data download details!\n",
      ">>> Start downloading each station\n",
      ">>> Downloading 106630\n",
      "Check smhi.log for data download details!\n",
      ">>> Start downloading each station\n",
      ">>> Downloading 107400\n"
     ]
    },
    {
     "name": "stderr",
     "output_type": "stream",
     "text": [
      "C:\\Users\\MarlonVieiraPassos\\AppData\\Local\\Temp\\ipykernel_8500\\3869588013.py:9: FutureWarning: The frame.append method is deprecated and will be removed from pandas in a future version. Use pandas.concat instead.\n",
      "  df_all=df_all.append(dict_df[\"df_corrected\"])\n"
     ]
    },
    {
     "name": "stdout",
     "output_type": "stream",
     "text": [
      "Check smhi.log for data download details!\n",
      ">>> Start downloading each station\n",
      ">>> Downloading 107420\n",
      "Check smhi.log for data download details!\n",
      ">>> Start downloading each station\n",
      ">>> Downloading 84520\n"
     ]
    },
    {
     "name": "stderr",
     "output_type": "stream",
     "text": [
      "C:\\Users\\MarlonVieiraPassos\\AppData\\Local\\Temp\\ipykernel_8500\\3869588013.py:9: FutureWarning: The frame.append method is deprecated and will be removed from pandas in a future version. Use pandas.concat instead.\n",
      "  df_all=df_all.append(dict_df[\"df_corrected\"])\n"
     ]
    },
    {
     "name": "stdout",
     "output_type": "stream",
     "text": [
      "Check smhi.log for data download details!\n",
      ">>> Start downloading each station\n",
      ">>> Downloading 74350\n"
     ]
    },
    {
     "name": "stderr",
     "output_type": "stream",
     "text": [
      "C:\\Users\\MarlonVieiraPassos\\AppData\\Local\\Temp\\ipykernel_8500\\3869588013.py:9: FutureWarning: The frame.append method is deprecated and will be removed from pandas in a future version. Use pandas.concat instead.\n",
      "  df_all=df_all.append(dict_df[\"df_corrected\"])\n"
     ]
    },
    {
     "name": "stdout",
     "output_type": "stream",
     "text": [
      "Check smhi.log for data download details!\n",
      ">>> Start downloading each station\n",
      ">>> Downloading 72630\n"
     ]
    },
    {
     "name": "stderr",
     "output_type": "stream",
     "text": [
      "C:\\Users\\MarlonVieiraPassos\\AppData\\Local\\Temp\\ipykernel_8500\\3869588013.py:9: FutureWarning: The frame.append method is deprecated and will be removed from pandas in a future version. Use pandas.concat instead.\n",
      "  df_all=df_all.append(dict_df[\"df_corrected\"])\n"
     ]
    },
    {
     "name": "stdout",
     "output_type": "stream",
     "text": [
      "Check smhi.log for data download details!\n",
      ">>> Start downloading each station\n",
      ">>> Downloading 71420\n"
     ]
    },
    {
     "name": "stderr",
     "output_type": "stream",
     "text": [
      "C:\\Users\\MarlonVieiraPassos\\AppData\\Local\\Temp\\ipykernel_8500\\3869588013.py:9: FutureWarning: The frame.append method is deprecated and will be removed from pandas in a future version. Use pandas.concat instead.\n",
      "  df_all=df_all.append(dict_df[\"df_corrected\"])\n"
     ]
    },
    {
     "name": "stdout",
     "output_type": "stream",
     "text": [
      "Check smhi.log for data download details!\n",
      ">>> Start downloading each station\n",
      ">>> Downloading 72420\n",
      "Check smhi.log for data download details!\n",
      ">>> Start downloading each station\n",
      ">>> Downloading 74180\n",
      "Check smhi.log for data download details!\n",
      ">>> Start downloading each station\n",
      ">>> Downloading 62260\n"
     ]
    },
    {
     "name": "stderr",
     "output_type": "stream",
     "text": [
      "C:\\Users\\MarlonVieiraPassos\\AppData\\Local\\Temp\\ipykernel_8500\\3869588013.py:9: FutureWarning: The frame.append method is deprecated and will be removed from pandas in a future version. Use pandas.concat instead.\n",
      "  df_all=df_all.append(dict_df[\"df_corrected\"])\n"
     ]
    },
    {
     "name": "stdout",
     "output_type": "stream",
     "text": [
      "Check smhi.log for data download details!\n",
      ">>> Start downloading each station\n",
      ">>> Downloading 135460\n"
     ]
    },
    {
     "name": "stderr",
     "output_type": "stream",
     "text": [
      "C:\\Users\\MarlonVieiraPassos\\AppData\\Local\\Temp\\ipykernel_8500\\3869588013.py:9: FutureWarning: The frame.append method is deprecated and will be removed from pandas in a future version. Use pandas.concat instead.\n",
      "  df_all=df_all.append(dict_df[\"df_corrected\"])\n"
     ]
    },
    {
     "name": "stdout",
     "output_type": "stream",
     "text": [
      "Check smhi.log for data download details!\n",
      ">>> Start downloading each station\n",
      ">>> Downloading 135440\n"
     ]
    },
    {
     "name": "stderr",
     "output_type": "stream",
     "text": [
      "C:\\Users\\MarlonVieiraPassos\\AppData\\Local\\Temp\\ipykernel_8500\\3869588013.py:9: FutureWarning: The frame.append method is deprecated and will be removed from pandas in a future version. Use pandas.concat instead.\n",
      "  df_all=df_all.append(dict_df[\"df_corrected\"])\n"
     ]
    },
    {
     "name": "stdout",
     "output_type": "stream",
     "text": [
      "Check smhi.log for data download details!\n",
      ">>> Start downloading each station\n",
      ">>> Downloading 62400\n"
     ]
    },
    {
     "name": "stderr",
     "output_type": "stream",
     "text": [
      "C:\\Users\\MarlonVieiraPassos\\AppData\\Local\\Temp\\ipykernel_8500\\3869588013.py:9: FutureWarning: The frame.append method is deprecated and will be removed from pandas in a future version. Use pandas.concat instead.\n",
      "  df_all=df_all.append(dict_df[\"df_corrected\"])\n"
     ]
    },
    {
     "name": "stdout",
     "output_type": "stream",
     "text": [
      "Check smhi.log for data download details!\n",
      ">>> Start downloading each station\n",
      ">>> Downloading 62390\n",
      "Check smhi.log for data download details!\n"
     ]
    },
    {
     "name": "stderr",
     "output_type": "stream",
     "text": [
      "C:\\Users\\MarlonVieiraPassos\\AppData\\Local\\Temp\\ipykernel_8500\\3869588013.py:9: FutureWarning: The frame.append method is deprecated and will be removed from pandas in a future version. Use pandas.concat instead.\n",
      "  df_all=df_all.append(dict_df[\"df_corrected\"])\n"
     ]
    },
    {
     "name": "stdout",
     "output_type": "stream",
     "text": [
      ">>> Start downloading each station\n",
      ">>> Downloading 62410\n",
      "Check smhi.log for data download details!\n",
      ">>> Start downloading each station\n",
      ">>> Downloading 62420\n",
      "Check smhi.log for data download details!\n",
      ">>> Start downloading each station\n",
      ">>> Downloading 54310\n"
     ]
    },
    {
     "name": "stderr",
     "output_type": "stream",
     "text": [
      "C:\\Users\\MarlonVieiraPassos\\AppData\\Local\\Temp\\ipykernel_8500\\3869588013.py:9: FutureWarning: The frame.append method is deprecated and will be removed from pandas in a future version. Use pandas.concat instead.\n",
      "  df_all=df_all.append(dict_df[\"df_corrected\"])\n"
     ]
    },
    {
     "name": "stdout",
     "output_type": "stream",
     "text": [
      "Check smhi.log for data download details!\n",
      ">>> Start downloading each station\n",
      ">>> Downloading 114410\n"
     ]
    },
    {
     "name": "stderr",
     "output_type": "stream",
     "text": [
      "C:\\Users\\MarlonVieiraPassos\\AppData\\Local\\Temp\\ipykernel_8500\\3869588013.py:9: FutureWarning: The frame.append method is deprecated and will be removed from pandas in a future version. Use pandas.concat instead.\n",
      "  df_all=df_all.append(dict_df[\"df_corrected\"])\n",
      "C:\\Users\\MarlonVieiraPassos\\AppData\\Local\\Temp\\ipykernel_8500\\3869588013.py:9: FutureWarning: The frame.append method is deprecated and will be removed from pandas in a future version. Use pandas.concat instead.\n",
      "  df_all=df_all.append(dict_df[\"df_corrected\"])\n"
     ]
    },
    {
     "name": "stdout",
     "output_type": "stream",
     "text": [
      "Check smhi.log for data download details!\n",
      ">>> Start downloading each station\n",
      ">>> Downloading 62530\n",
      "Check smhi.log for data download details!\n"
     ]
    },
    {
     "name": "stderr",
     "output_type": "stream",
     "text": [
      "C:\\Users\\MarlonVieiraPassos\\AppData\\Local\\Temp\\ipykernel_8500\\3869588013.py:9: FutureWarning: The frame.append method is deprecated and will be removed from pandas in a future version. Use pandas.concat instead.\n",
      "  df_all=df_all.append(dict_df[\"df_corrected\"])\n"
     ]
    },
    {
     "name": "stdout",
     "output_type": "stream",
     "text": [
      ">>> Start downloading each station\n",
      ">>> Downloading 64020\n",
      "Check smhi.log for data download details!\n",
      ">>> Start downloading each station\n",
      ">>> Downloading 163950\n"
     ]
    },
    {
     "name": "stderr",
     "output_type": "stream",
     "text": [
      "C:\\Users\\MarlonVieiraPassos\\AppData\\Local\\Temp\\ipykernel_8500\\3869588013.py:9: FutureWarning: The frame.append method is deprecated and will be removed from pandas in a future version. Use pandas.concat instead.\n",
      "  df_all=df_all.append(dict_df[\"df_corrected\"])\n"
     ]
    },
    {
     "name": "stdout",
     "output_type": "stream",
     "text": [
      "Check smhi.log for data download details!\n",
      ">>> Start downloading each station\n",
      ">>> Downloading 163960\n"
     ]
    },
    {
     "name": "stderr",
     "output_type": "stream",
     "text": [
      "C:\\Users\\MarlonVieiraPassos\\AppData\\Local\\Temp\\ipykernel_8500\\3869588013.py:9: FutureWarning: The frame.append method is deprecated and will be removed from pandas in a future version. Use pandas.concat instead.\n",
      "  df_all=df_all.append(dict_df[\"df_corrected\"])\n"
     ]
    },
    {
     "name": "stdout",
     "output_type": "stream",
     "text": [
      "Check smhi.log for data download details!\n",
      ">>> Start downloading each station\n",
      ">>> Downloading 170670\n"
     ]
    },
    {
     "name": "stderr",
     "output_type": "stream",
     "text": [
      "C:\\Users\\MarlonVieiraPassos\\AppData\\Local\\Temp\\ipykernel_8500\\3869588013.py:9: FutureWarning: The frame.append method is deprecated and will be removed from pandas in a future version. Use pandas.concat instead.\n",
      "  df_all=df_all.append(dict_df[\"df_corrected\"])\n"
     ]
    },
    {
     "name": "stdout",
     "output_type": "stream",
     "text": [
      "Check smhi.log for data download details!\n",
      ">>> Start downloading each station\n",
      ">>> Downloading 161780\n"
     ]
    },
    {
     "name": "stderr",
     "output_type": "stream",
     "text": [
      "C:\\Users\\MarlonVieiraPassos\\AppData\\Local\\Temp\\ipykernel_8500\\3869588013.py:9: FutureWarning: The frame.append method is deprecated and will be removed from pandas in a future version. Use pandas.concat instead.\n",
      "  df_all=df_all.append(dict_df[\"df_corrected\"])\n"
     ]
    },
    {
     "name": "stdout",
     "output_type": "stream",
     "text": [
      "Check smhi.log for data download details!\n",
      ">>> Start downloading each station\n",
      ">>> Downloading 180710\n"
     ]
    },
    {
     "name": "stderr",
     "output_type": "stream",
     "text": [
      "C:\\Users\\MarlonVieiraPassos\\AppData\\Local\\Temp\\ipykernel_8500\\3869588013.py:9: FutureWarning: The frame.append method is deprecated and will be removed from pandas in a future version. Use pandas.concat instead.\n",
      "  df_all=df_all.append(dict_df[\"df_corrected\"])\n"
     ]
    },
    {
     "name": "stdout",
     "output_type": "stream",
     "text": [
      "Check smhi.log for data download details!\n",
      ">>> Start downloading each station\n",
      ">>> Downloading 87150\n"
     ]
    },
    {
     "name": "stderr",
     "output_type": "stream",
     "text": [
      "C:\\Users\\MarlonVieiraPassos\\AppData\\Local\\Temp\\ipykernel_8500\\3869588013.py:9: FutureWarning: The frame.append method is deprecated and will be removed from pandas in a future version. Use pandas.concat instead.\n",
      "  df_all=df_all.append(dict_df[\"df_corrected\"])\n"
     ]
    },
    {
     "name": "stdout",
     "output_type": "stream",
     "text": [
      "Check smhi.log for data download details!\n",
      ">>> Start downloading each station\n",
      ">>> Downloading 87140\n"
     ]
    },
    {
     "name": "stderr",
     "output_type": "stream",
     "text": [
      "C:\\Users\\MarlonVieiraPassos\\AppData\\Local\\Temp\\ipykernel_8500\\3869588013.py:9: FutureWarning: The frame.append method is deprecated and will be removed from pandas in a future version. Use pandas.concat instead.\n",
      "  df_all=df_all.append(dict_df[\"df_corrected\"])\n"
     ]
    },
    {
     "name": "stdout",
     "output_type": "stream",
     "text": [
      "Check smhi.log for data download details!\n",
      ">>> Start downloading each station\n",
      ">>> Downloading 62080\n"
     ]
    },
    {
     "name": "stderr",
     "output_type": "stream",
     "text": [
      "C:\\Users\\MarlonVieiraPassos\\AppData\\Local\\Temp\\ipykernel_8500\\3869588013.py:9: FutureWarning: The frame.append method is deprecated and will be removed from pandas in a future version. Use pandas.concat instead.\n",
      "  df_all=df_all.append(dict_df[\"df_corrected\"])\n"
     ]
    },
    {
     "name": "stdout",
     "output_type": "stream",
     "text": [
      "Check smhi.log for data download details!\n",
      ">>> Start downloading each station\n",
      ">>> Downloading 123250\n"
     ]
    },
    {
     "name": "stderr",
     "output_type": "stream",
     "text": [
      "C:\\Users\\MarlonVieiraPassos\\AppData\\Local\\Temp\\ipykernel_8500\\3869588013.py:9: FutureWarning: The frame.append method is deprecated and will be removed from pandas in a future version. Use pandas.concat instead.\n",
      "  df_all=df_all.append(dict_df[\"df_corrected\"])\n",
      "C:\\Users\\MarlonVieiraPassos\\AppData\\Local\\Temp\\ipykernel_8500\\3869588013.py:9: FutureWarning: The frame.append method is deprecated and will be removed from pandas in a future version. Use pandas.concat instead.\n",
      "  df_all=df_all.append(dict_df[\"df_corrected\"])\n"
     ]
    },
    {
     "name": "stdout",
     "output_type": "stream",
     "text": [
      "Check smhi.log for data download details!\n",
      ">>> Start downloading each station\n",
      ">>> Downloading 74410\n",
      "Check smhi.log for data download details!\n"
     ]
    },
    {
     "name": "stderr",
     "output_type": "stream",
     "text": [
      "C:\\Users\\MarlonVieiraPassos\\AppData\\Local\\Temp\\ipykernel_8500\\3869588013.py:9: FutureWarning: The frame.append method is deprecated and will be removed from pandas in a future version. Use pandas.concat instead.\n",
      "  df_all=df_all.append(dict_df[\"df_corrected\"])\n"
     ]
    },
    {
     "name": "stdout",
     "output_type": "stream",
     "text": [
      ">>> Start downloading each station\n",
      ">>> Downloading 123340\n"
     ]
    },
    {
     "name": "stderr",
     "output_type": "stream",
     "text": [
      "C:\\Users\\MarlonVieiraPassos\\AppData\\Local\\Temp\\ipykernel_8500\\3869588013.py:9: FutureWarning: The frame.append method is deprecated and will be removed from pandas in a future version. Use pandas.concat instead.\n",
      "  df_all=df_all.append(dict_df[\"df_corrected\"])\n"
     ]
    },
    {
     "name": "stdout",
     "output_type": "stream",
     "text": [
      "Check smhi.log for data download details!\n",
      ">>> Start downloading each station\n",
      ">>> Downloading 161650\n",
      "Check smhi.log for data download details!\n"
     ]
    },
    {
     "name": "stderr",
     "output_type": "stream",
     "text": [
      "C:\\Users\\MarlonVieiraPassos\\AppData\\Local\\Temp\\ipykernel_8500\\3869588013.py:9: FutureWarning: The frame.append method is deprecated and will be removed from pandas in a future version. Use pandas.concat instead.\n",
      "  df_all=df_all.append(dict_df[\"df_corrected\"])\n"
     ]
    },
    {
     "name": "stdout",
     "output_type": "stream",
     "text": [
      ">>> Start downloading each station\n",
      ">>> Downloading 62030\n",
      "Check smhi.log for data download details!\n",
      ">>> Start downloading each station\n",
      ">>> Downloading 62040\n"
     ]
    },
    {
     "name": "stderr",
     "output_type": "stream",
     "text": [
      "C:\\Users\\MarlonVieiraPassos\\AppData\\Local\\Temp\\ipykernel_8500\\3869588013.py:9: FutureWarning: The frame.append method is deprecated and will be removed from pandas in a future version. Use pandas.concat instead.\n",
      "  df_all=df_all.append(dict_df[\"df_corrected\"])\n"
     ]
    },
    {
     "name": "stdout",
     "output_type": "stream",
     "text": [
      "Check smhi.log for data download details!\n",
      ">>> Start downloading each station\n",
      ">>> Downloading 155940\n"
     ]
    },
    {
     "name": "stderr",
     "output_type": "stream",
     "text": [
      "C:\\Users\\MarlonVieiraPassos\\AppData\\Local\\Temp\\ipykernel_8500\\3869588013.py:9: FutureWarning: The frame.append method is deprecated and will be removed from pandas in a future version. Use pandas.concat instead.\n",
      "  df_all=df_all.append(dict_df[\"df_corrected\"])\n"
     ]
    },
    {
     "name": "stdout",
     "output_type": "stream",
     "text": [
      "Check smhi.log for data download details!\n",
      ">>> Start downloading each station\n",
      ">>> Downloading 155970\n"
     ]
    },
    {
     "name": "stderr",
     "output_type": "stream",
     "text": [
      "C:\\Users\\MarlonVieiraPassos\\AppData\\Local\\Temp\\ipykernel_8500\\3869588013.py:9: FutureWarning: The frame.append method is deprecated and will be removed from pandas in a future version. Use pandas.concat instead.\n",
      "  df_all=df_all.append(dict_df[\"df_corrected\"])\n"
     ]
    },
    {
     "name": "stdout",
     "output_type": "stream",
     "text": [
      "Check smhi.log for data download details!\n",
      ">>> Start downloading each station\n",
      ">>> Downloading 155960\n"
     ]
    },
    {
     "name": "stderr",
     "output_type": "stream",
     "text": [
      "C:\\Users\\MarlonVieiraPassos\\AppData\\Local\\Temp\\ipykernel_8500\\3869588013.py:9: FutureWarning: The frame.append method is deprecated and will be removed from pandas in a future version. Use pandas.concat instead.\n",
      "  df_all=df_all.append(dict_df[\"df_corrected\"])\n"
     ]
    },
    {
     "name": "stdout",
     "output_type": "stream",
     "text": [
      "Check smhi.log for data download details!\n",
      ">>> Start downloading each station\n",
      ">>> Downloading 138400\n"
     ]
    },
    {
     "name": "stderr",
     "output_type": "stream",
     "text": [
      "C:\\Users\\MarlonVieiraPassos\\AppData\\Local\\Temp\\ipykernel_8500\\3869588013.py:9: FutureWarning: The frame.append method is deprecated and will be removed from pandas in a future version. Use pandas.concat instead.\n",
      "  df_all=df_all.append(dict_df[\"df_corrected\"])\n"
     ]
    },
    {
     "name": "stdout",
     "output_type": "stream",
     "text": [
      "Check smhi.log for data download details!\n",
      ">>> Start downloading each station\n",
      ">>> Downloading 138390\n"
     ]
    },
    {
     "name": "stderr",
     "output_type": "stream",
     "text": [
      "C:\\Users\\MarlonVieiraPassos\\AppData\\Local\\Temp\\ipykernel_8500\\3869588013.py:9: FutureWarning: The frame.append method is deprecated and will be removed from pandas in a future version. Use pandas.concat instead.\n",
      "  df_all=df_all.append(dict_df[\"df_corrected\"])\n"
     ]
    },
    {
     "name": "stdout",
     "output_type": "stream",
     "text": [
      "Check smhi.log for data download details!\n",
      ">>> Start downloading each station\n",
      ">>> Downloading 78140\n"
     ]
    },
    {
     "name": "stderr",
     "output_type": "stream",
     "text": [
      "C:\\Users\\MarlonVieiraPassos\\AppData\\Local\\Temp\\ipykernel_8500\\3869588013.py:9: FutureWarning: The frame.append method is deprecated and will be removed from pandas in a future version. Use pandas.concat instead.\n",
      "  df_all=df_all.append(dict_df[\"df_corrected\"])\n"
     ]
    },
    {
     "name": "stdout",
     "output_type": "stream",
     "text": [
      "Check smhi.log for data download details!\n",
      ">>> Start downloading each station\n",
      ">>> Downloading 85210\n"
     ]
    },
    {
     "name": "stderr",
     "output_type": "stream",
     "text": [
      "C:\\Users\\MarlonVieiraPassos\\AppData\\Local\\Temp\\ipykernel_8500\\3869588013.py:9: FutureWarning: The frame.append method is deprecated and will be removed from pandas in a future version. Use pandas.concat instead.\n",
      "  df_all=df_all.append(dict_df[\"df_corrected\"])\n"
     ]
    },
    {
     "name": "stdout",
     "output_type": "stream",
     "text": [
      "Check smhi.log for data download details!\n",
      ">>> Start downloading each station\n",
      ">>> Downloading 78250\n"
     ]
    },
    {
     "name": "stderr",
     "output_type": "stream",
     "text": [
      "C:\\Users\\MarlonVieiraPassos\\AppData\\Local\\Temp\\ipykernel_8500\\3869588013.py:9: FutureWarning: The frame.append method is deprecated and will be removed from pandas in a future version. Use pandas.concat instead.\n",
      "  df_all=df_all.append(dict_df[\"df_corrected\"])\n"
     ]
    },
    {
     "name": "stdout",
     "output_type": "stream",
     "text": [
      "Check smhi.log for data download details!\n",
      ">>> Start downloading each station\n",
      ">>> Downloading 73230\n"
     ]
    },
    {
     "name": "stderr",
     "output_type": "stream",
     "text": [
      "C:\\Users\\MarlonVieiraPassos\\AppData\\Local\\Temp\\ipykernel_8500\\3869588013.py:9: FutureWarning: The frame.append method is deprecated and will be removed from pandas in a future version. Use pandas.concat instead.\n",
      "  df_all=df_all.append(dict_df[\"df_corrected\"])\n",
      "C:\\Users\\MarlonVieiraPassos\\AppData\\Local\\Temp\\ipykernel_8500\\3869588013.py:9: FutureWarning: The frame.append method is deprecated and will be removed from pandas in a future version. Use pandas.concat instead.\n",
      "  df_all=df_all.append(dict_df[\"df_corrected\"])\n"
     ]
    },
    {
     "name": "stdout",
     "output_type": "stream",
     "text": [
      "Check smhi.log for data download details!\n",
      ">>> Start downloading each station\n",
      ">>> Downloading 52560\n",
      "Check smhi.log for data download details!\n"
     ]
    },
    {
     "name": "stderr",
     "output_type": "stream",
     "text": [
      "C:\\Users\\MarlonVieiraPassos\\AppData\\Local\\Temp\\ipykernel_8500\\3869588013.py:9: FutureWarning: The frame.append method is deprecated and will be removed from pandas in a future version. Use pandas.concat instead.\n",
      "  df_all=df_all.append(dict_df[\"df_corrected\"])\n"
     ]
    },
    {
     "name": "stdout",
     "output_type": "stream",
     "text": [
      ">>> Start downloading each station\n",
      ">>> Downloading 68550\n",
      "Check smhi.log for data download details!\n",
      ">>> Start downloading each station\n",
      ">>> Downloading 68560\n"
     ]
    },
    {
     "name": "stderr",
     "output_type": "stream",
     "text": [
      "C:\\Users\\MarlonVieiraPassos\\AppData\\Local\\Temp\\ipykernel_8500\\3869588013.py:9: FutureWarning: The frame.append method is deprecated and will be removed from pandas in a future version. Use pandas.concat instead.\n",
      "  df_all=df_all.append(dict_df[\"df_corrected\"])\n"
     ]
    },
    {
     "name": "stdout",
     "output_type": "stream",
     "text": [
      "Check smhi.log for data download details!\n",
      ">>> Start downloading each station\n",
      ">>> Downloading 86200\n"
     ]
    },
    {
     "name": "stderr",
     "output_type": "stream",
     "text": [
      "C:\\Users\\MarlonVieiraPassos\\AppData\\Local\\Temp\\ipykernel_8500\\3869588013.py:9: FutureWarning: The frame.append method is deprecated and will be removed from pandas in a future version. Use pandas.concat instead.\n",
      "  df_all=df_all.append(dict_df[\"df_corrected\"])\n"
     ]
    },
    {
     "name": "stdout",
     "output_type": "stream",
     "text": [
      "Check smhi.log for data download details!\n",
      ">>> Start downloading each station\n",
      ">>> Downloading 140360\n"
     ]
    },
    {
     "name": "stderr",
     "output_type": "stream",
     "text": [
      "C:\\Users\\MarlonVieiraPassos\\AppData\\Local\\Temp\\ipykernel_8500\\3869588013.py:9: FutureWarning: The frame.append method is deprecated and will be removed from pandas in a future version. Use pandas.concat instead.\n",
      "  df_all=df_all.append(dict_df[\"df_corrected\"])\n"
     ]
    },
    {
     "name": "stdout",
     "output_type": "stream",
     "text": [
      "Check smhi.log for data download details!\n",
      ">>> Start downloading each station\n",
      ">>> Downloading 140460\n"
     ]
    },
    {
     "name": "stderr",
     "output_type": "stream",
     "text": [
      "C:\\Users\\MarlonVieiraPassos\\AppData\\Local\\Temp\\ipykernel_8500\\3869588013.py:9: FutureWarning: The frame.append method is deprecated and will be removed from pandas in a future version. Use pandas.concat instead.\n",
      "  df_all=df_all.append(dict_df[\"df_corrected\"])\n"
     ]
    },
    {
     "name": "stdout",
     "output_type": "stream",
     "text": [
      "Check smhi.log for data download details!\n",
      ">>> Start downloading each station\n",
      ">>> Downloading 75520\n"
     ]
    },
    {
     "name": "stderr",
     "output_type": "stream",
     "text": [
      "C:\\Users\\MarlonVieiraPassos\\AppData\\Local\\Temp\\ipykernel_8500\\3869588013.py:9: FutureWarning: The frame.append method is deprecated and will be removed from pandas in a future version. Use pandas.concat instead.\n",
      "  df_all=df_all.append(dict_df[\"df_corrected\"])\n"
     ]
    },
    {
     "name": "stdout",
     "output_type": "stream",
     "text": [
      "Check smhi.log for data download details!\n",
      ">>> Start downloading each station\n",
      ">>> Downloading 146070\n"
     ]
    },
    {
     "name": "stderr",
     "output_type": "stream",
     "text": [
      "C:\\Users\\MarlonVieiraPassos\\AppData\\Local\\Temp\\ipykernel_8500\\3869588013.py:9: FutureWarning: The frame.append method is deprecated and will be removed from pandas in a future version. Use pandas.concat instead.\n",
      "  df_all=df_all.append(dict_df[\"df_corrected\"])\n"
     ]
    },
    {
     "name": "stdout",
     "output_type": "stream",
     "text": [
      "Check smhi.log for data download details!\n",
      ">>> Start downloading each station\n",
      ">>> Downloading 146050\n"
     ]
    },
    {
     "name": "stderr",
     "output_type": "stream",
     "text": [
      "C:\\Users\\MarlonVieiraPassos\\AppData\\Local\\Temp\\ipykernel_8500\\3869588013.py:9: FutureWarning: The frame.append method is deprecated and will be removed from pandas in a future version. Use pandas.concat instead.\n",
      "  df_all=df_all.append(dict_df[\"df_corrected\"])\n"
     ]
    },
    {
     "name": "stdout",
     "output_type": "stream",
     "text": [
      "Check smhi.log for data download details!\n",
      ">>> Start downloading each station\n",
      ">>> Downloading 117440\n"
     ]
    },
    {
     "name": "stderr",
     "output_type": "stream",
     "text": [
      "C:\\Users\\MarlonVieiraPassos\\AppData\\Local\\Temp\\ipykernel_8500\\3869588013.py:9: FutureWarning: The frame.append method is deprecated and will be removed from pandas in a future version. Use pandas.concat instead.\n",
      "  df_all=df_all.append(dict_df[\"df_corrected\"])\n"
     ]
    },
    {
     "name": "stdout",
     "output_type": "stream",
     "text": [
      "Check smhi.log for data download details!\n",
      ">>> Start downloading each station\n",
      ">>> Downloading 125450\n",
      "Check smhi.log for data download details!\n",
      ">>> Start downloading each station\n",
      ">>> Downloading 125440\n"
     ]
    },
    {
     "name": "stderr",
     "output_type": "stream",
     "text": [
      "C:\\Users\\MarlonVieiraPassos\\AppData\\Local\\Temp\\ipykernel_8500\\3869588013.py:9: FutureWarning: The frame.append method is deprecated and will be removed from pandas in a future version. Use pandas.concat instead.\n",
      "  df_all=df_all.append(dict_df[\"df_corrected\"])\n"
     ]
    },
    {
     "name": "stdout",
     "output_type": "stream",
     "text": [
      "Check smhi.log for data download details!\n",
      ">>> Start downloading each station\n",
      ">>> Downloading 98290\n"
     ]
    },
    {
     "name": "stderr",
     "output_type": "stream",
     "text": [
      "C:\\Users\\MarlonVieiraPassos\\AppData\\Local\\Temp\\ipykernel_8500\\3869588013.py:9: FutureWarning: The frame.append method is deprecated and will be removed from pandas in a future version. Use pandas.concat instead.\n",
      "  df_all=df_all.append(dict_df[\"df_corrected\"])\n"
     ]
    },
    {
     "name": "stdout",
     "output_type": "stream",
     "text": [
      "Check smhi.log for data download details!\n",
      ">>> Start downloading each station\n",
      ">>> Downloading 74480\n"
     ]
    },
    {
     "name": "stderr",
     "output_type": "stream",
     "text": [
      "C:\\Users\\MarlonVieiraPassos\\AppData\\Local\\Temp\\ipykernel_8500\\3869588013.py:9: FutureWarning: The frame.append method is deprecated and will be removed from pandas in a future version. Use pandas.concat instead.\n",
      "  df_all=df_all.append(dict_df[\"df_corrected\"])\n"
     ]
    },
    {
     "name": "stdout",
     "output_type": "stream",
     "text": [
      "Check smhi.log for data download details!\n",
      ">>> Start downloading each station\n",
      ">>> Downloading 88590\n"
     ]
    },
    {
     "name": "stderr",
     "output_type": "stream",
     "text": [
      "C:\\Users\\MarlonVieiraPassos\\AppData\\Local\\Temp\\ipykernel_8500\\3869588013.py:9: FutureWarning: The frame.append method is deprecated and will be removed from pandas in a future version. Use pandas.concat instead.\n",
      "  df_all=df_all.append(dict_df[\"df_corrected\"])\n"
     ]
    },
    {
     "name": "stdout",
     "output_type": "stream",
     "text": [
      "Check smhi.log for data download details!\n",
      ">>> Start downloading each station\n",
      ">>> Downloading 89560\n"
     ]
    },
    {
     "name": "stderr",
     "output_type": "stream",
     "text": [
      "C:\\Users\\MarlonVieiraPassos\\AppData\\Local\\Temp\\ipykernel_8500\\3869588013.py:9: FutureWarning: The frame.append method is deprecated and will be removed from pandas in a future version. Use pandas.concat instead.\n",
      "  df_all=df_all.append(dict_df[\"df_corrected\"])\n"
     ]
    },
    {
     "name": "stdout",
     "output_type": "stream",
     "text": [
      "Check smhi.log for data download details!\n",
      ">>> Start downloading each station\n",
      ">>> Downloading 149700\n"
     ]
    },
    {
     "name": "stderr",
     "output_type": "stream",
     "text": [
      "C:\\Users\\MarlonVieiraPassos\\AppData\\Local\\Temp\\ipykernel_8500\\3869588013.py:9: FutureWarning: The frame.append method is deprecated and will be removed from pandas in a future version. Use pandas.concat instead.\n",
      "  df_all=df_all.append(dict_df[\"df_corrected\"])\n"
     ]
    },
    {
     "name": "stdout",
     "output_type": "stream",
     "text": [
      "Check smhi.log for data download details!\n",
      ">>> Start downloading each station\n",
      ">>> Downloading 149710\n"
     ]
    },
    {
     "name": "stderr",
     "output_type": "stream",
     "text": [
      "C:\\Users\\MarlonVieiraPassos\\AppData\\Local\\Temp\\ipykernel_8500\\3869588013.py:9: FutureWarning: The frame.append method is deprecated and will be removed from pandas in a future version. Use pandas.concat instead.\n",
      "  df_all=df_all.append(dict_df[\"df_corrected\"])\n"
     ]
    },
    {
     "name": "stdout",
     "output_type": "stream",
     "text": [
      "Check smhi.log for data download details!\n",
      ">>> Start downloading each station\n",
      ">>> Downloading 149160\n"
     ]
    },
    {
     "name": "stderr",
     "output_type": "stream",
     "text": [
      "C:\\Users\\MarlonVieiraPassos\\AppData\\Local\\Temp\\ipykernel_8500\\3869588013.py:9: FutureWarning: The frame.append method is deprecated and will be removed from pandas in a future version. Use pandas.concat instead.\n",
      "  df_all=df_all.append(dict_df[\"df_corrected\"])\n"
     ]
    },
    {
     "name": "stdout",
     "output_type": "stream",
     "text": [
      "Check smhi.log for data download details!\n",
      ">>> Start downloading each station\n",
      ">>> Downloading 83190\n"
     ]
    },
    {
     "name": "stderr",
     "output_type": "stream",
     "text": [
      "C:\\Users\\MarlonVieiraPassos\\AppData\\Local\\Temp\\ipykernel_8500\\3869588013.py:9: FutureWarning: The frame.append method is deprecated and will be removed from pandas in a future version. Use pandas.concat instead.\n",
      "  df_all=df_all.append(dict_df[\"df_corrected\"])\n"
     ]
    },
    {
     "name": "stdout",
     "output_type": "stream",
     "text": [
      "Check smhi.log for data download details!\n",
      ">>> Start downloading each station\n",
      ">>> Downloading 128370\n"
     ]
    },
    {
     "name": "stderr",
     "output_type": "stream",
     "text": [
      "C:\\Users\\MarlonVieiraPassos\\AppData\\Local\\Temp\\ipykernel_8500\\3869588013.py:9: FutureWarning: The frame.append method is deprecated and will be removed from pandas in a future version. Use pandas.concat instead.\n",
      "  df_all=df_all.append(dict_df[\"df_corrected\"])\n"
     ]
    },
    {
     "name": "stdout",
     "output_type": "stream",
     "text": [
      "Check smhi.log for data download details!\n",
      ">>> Start downloading each station\n",
      ">>> Downloading 127380\n"
     ]
    },
    {
     "name": "stderr",
     "output_type": "stream",
     "text": [
      "C:\\Users\\MarlonVieiraPassos\\AppData\\Local\\Temp\\ipykernel_8500\\3869588013.py:9: FutureWarning: The frame.append method is deprecated and will be removed from pandas in a future version. Use pandas.concat instead.\n",
      "  df_all=df_all.append(dict_df[\"df_corrected\"])\n"
     ]
    },
    {
     "name": "stdout",
     "output_type": "stream",
     "text": [
      "Check smhi.log for data download details!\n",
      ">>> Start downloading each station\n",
      ">>> Downloading 85180\n"
     ]
    },
    {
     "name": "stderr",
     "output_type": "stream",
     "text": [
      "C:\\Users\\MarlonVieiraPassos\\AppData\\Local\\Temp\\ipykernel_8500\\3869588013.py:9: FutureWarning: The frame.append method is deprecated and will be removed from pandas in a future version. Use pandas.concat instead.\n",
      "  df_all=df_all.append(dict_df[\"df_corrected\"])\n",
      "C:\\Users\\MarlonVieiraPassos\\AppData\\Local\\Temp\\ipykernel_8500\\3869588013.py:9: FutureWarning: The frame.append method is deprecated and will be removed from pandas in a future version. Use pandas.concat instead.\n",
      "  df_all=df_all.append(dict_df[\"df_corrected\"])\n"
     ]
    },
    {
     "name": "stdout",
     "output_type": "stream",
     "text": [
      "Check smhi.log for data download details!\n",
      ">>> Start downloading each station\n",
      ">>> Downloading 97610\n",
      "Check smhi.log for data download details!\n"
     ]
    },
    {
     "name": "stderr",
     "output_type": "stream",
     "text": [
      "C:\\Users\\MarlonVieiraPassos\\AppData\\Local\\Temp\\ipykernel_8500\\3869588013.py:9: FutureWarning: The frame.append method is deprecated and will be removed from pandas in a future version. Use pandas.concat instead.\n",
      "  df_all=df_all.append(dict_df[\"df_corrected\"])\n"
     ]
    },
    {
     "name": "stdout",
     "output_type": "stream",
     "text": [
      ">>> Start downloading each station\n",
      ">>> Downloading 75380\n",
      "Check smhi.log for data download details!\n",
      ">>> Start downloading each station\n",
      ">>> Downloading 63080\n"
     ]
    },
    {
     "name": "stderr",
     "output_type": "stream",
     "text": [
      "C:\\Users\\MarlonVieiraPassos\\AppData\\Local\\Temp\\ipykernel_8500\\3869588013.py:9: FutureWarning: The frame.append method is deprecated and will be removed from pandas in a future version. Use pandas.concat instead.\n",
      "  df_all=df_all.append(dict_df[\"df_corrected\"])\n"
     ]
    },
    {
     "name": "stdout",
     "output_type": "stream",
     "text": [
      "Check smhi.log for data download details!\n",
      ">>> Start downloading each station\n",
      ">>> Downloading 63160\n"
     ]
    },
    {
     "name": "stderr",
     "output_type": "stream",
     "text": [
      "C:\\Users\\MarlonVieiraPassos\\AppData\\Local\\Temp\\ipykernel_8500\\3869588013.py:9: FutureWarning: The frame.append method is deprecated and will be removed from pandas in a future version. Use pandas.concat instead.\n",
      "  df_all=df_all.append(dict_df[\"df_corrected\"])\n"
     ]
    },
    {
     "name": "stdout",
     "output_type": "stream",
     "text": [
      "Check smhi.log for data download details!\n",
      ">>> Start downloading each station\n",
      ">>> Downloading 81630\n"
     ]
    },
    {
     "name": "stderr",
     "output_type": "stream",
     "text": [
      "C:\\Users\\MarlonVieiraPassos\\AppData\\Local\\Temp\\ipykernel_8500\\3869588013.py:9: FutureWarning: The frame.append method is deprecated and will be removed from pandas in a future version. Use pandas.concat instead.\n",
      "  df_all=df_all.append(dict_df[\"df_corrected\"])\n"
     ]
    },
    {
     "name": "stdout",
     "output_type": "stream",
     "text": [
      "Check smhi.log for data download details!\n",
      ">>> Start downloading each station\n",
      ">>> Downloading 91520\n"
     ]
    },
    {
     "name": "stderr",
     "output_type": "stream",
     "text": [
      "C:\\Users\\MarlonVieiraPassos\\AppData\\Local\\Temp\\ipykernel_8500\\3869588013.py:9: FutureWarning: The frame.append method is deprecated and will be removed from pandas in a future version. Use pandas.concat instead.\n",
      "  df_all=df_all.append(dict_df[\"df_corrected\"])\n"
     ]
    },
    {
     "name": "stdout",
     "output_type": "stream",
     "text": [
      "Check smhi.log for data download details!\n",
      ">>> Start downloading each station\n",
      ">>> Downloading 62160\n"
     ]
    },
    {
     "name": "stderr",
     "output_type": "stream",
     "text": [
      "C:\\Users\\MarlonVieiraPassos\\AppData\\Local\\Temp\\ipykernel_8500\\3869588013.py:9: FutureWarning: The frame.append method is deprecated and will be removed from pandas in a future version. Use pandas.concat instead.\n",
      "  df_all=df_all.append(dict_df[\"df_corrected\"])\n"
     ]
    },
    {
     "name": "stdout",
     "output_type": "stream",
     "text": [
      "Check smhi.log for data download details!\n",
      ">>> Start downloading each station\n",
      ">>> Downloading 128560\n"
     ]
    },
    {
     "name": "stderr",
     "output_type": "stream",
     "text": [
      "C:\\Users\\MarlonVieiraPassos\\AppData\\Local\\Temp\\ipykernel_8500\\3869588013.py:9: FutureWarning: The frame.append method is deprecated and will be removed from pandas in a future version. Use pandas.concat instead.\n",
      "  df_all=df_all.append(dict_df[\"df_corrected\"])\n"
     ]
    },
    {
     "name": "stdout",
     "output_type": "stream",
     "text": [
      "Check smhi.log for data download details!\n",
      ">>> Start downloading each station\n",
      ">>> Downloading 145340\n"
     ]
    },
    {
     "name": "stderr",
     "output_type": "stream",
     "text": [
      "C:\\Users\\MarlonVieiraPassos\\AppData\\Local\\Temp\\ipykernel_8500\\3869588013.py:9: FutureWarning: The frame.append method is deprecated and will be removed from pandas in a future version. Use pandas.concat instead.\n",
      "  df_all=df_all.append(dict_df[\"df_corrected\"])\n"
     ]
    },
    {
     "name": "stdout",
     "output_type": "stream",
     "text": [
      "Check smhi.log for data download details!\n",
      ">>> Start downloading each station\n",
      ">>> Downloading 133050\n"
     ]
    },
    {
     "name": "stderr",
     "output_type": "stream",
     "text": [
      "C:\\Users\\MarlonVieiraPassos\\AppData\\Local\\Temp\\ipykernel_8500\\3869588013.py:9: FutureWarning: The frame.append method is deprecated and will be removed from pandas in a future version. Use pandas.concat instead.\n",
      "  df_all=df_all.append(dict_df[\"df_corrected\"])\n"
     ]
    },
    {
     "name": "stdout",
     "output_type": "stream",
     "text": [
      "Check smhi.log for data download details!\n",
      ">>> Start downloading each station\n",
      ">>> Downloading 95020\n"
     ]
    },
    {
     "name": "stderr",
     "output_type": "stream",
     "text": [
      "C:\\Users\\MarlonVieiraPassos\\AppData\\Local\\Temp\\ipykernel_8500\\3869588013.py:9: FutureWarning: The frame.append method is deprecated and will be removed from pandas in a future version. Use pandas.concat instead.\n",
      "  df_all=df_all.append(dict_df[\"df_corrected\"])\n"
     ]
    },
    {
     "name": "stdout",
     "output_type": "stream",
     "text": [
      "Check smhi.log for data download details!\n",
      ">>> Start downloading each station\n",
      ">>> Downloading 83610\n"
     ]
    },
    {
     "name": "stderr",
     "output_type": "stream",
     "text": [
      "C:\\Users\\MarlonVieiraPassos\\AppData\\Local\\Temp\\ipykernel_8500\\3869588013.py:9: FutureWarning: The frame.append method is deprecated and will be removed from pandas in a future version. Use pandas.concat instead.\n",
      "  df_all=df_all.append(dict_df[\"df_corrected\"])\n"
     ]
    },
    {
     "name": "stdout",
     "output_type": "stream",
     "text": [
      "Check smhi.log for data download details!\n"
     ]
    },
    {
     "name": "stderr",
     "output_type": "stream",
     "text": [
      "C:\\Users\\MarlonVieiraPassos\\AppData\\Local\\Temp\\ipykernel_8500\\3869588013.py:9: FutureWarning: The frame.append method is deprecated and will be removed from pandas in a future version. Use pandas.concat instead.\n",
      "  df_all=df_all.append(dict_df[\"df_corrected\"])\n"
     ]
    },
    {
     "name": "stdout",
     "output_type": "stream",
     "text": [
      ">>> Start downloading each station\n",
      ">>> Downloading 91660\n",
      "Check smhi.log for data download details!\n"
     ]
    },
    {
     "name": "stderr",
     "output_type": "stream",
     "text": [
      "C:\\Users\\MarlonVieiraPassos\\AppData\\Local\\Temp\\ipykernel_8500\\3869588013.py:9: FutureWarning: The frame.append method is deprecated and will be removed from pandas in a future version. Use pandas.concat instead.\n",
      "  df_all=df_all.append(dict_df[\"df_corrected\"])\n"
     ]
    },
    {
     "name": "stdout",
     "output_type": "stream",
     "text": [
      ">>> Start downloading each station\n",
      ">>> Downloading 162970\n",
      "Check smhi.log for data download details!\n",
      ">>> Start downloading each station\n",
      ">>> Downloading 53630\n"
     ]
    },
    {
     "name": "stderr",
     "output_type": "stream",
     "text": [
      "C:\\Users\\MarlonVieiraPassos\\AppData\\Local\\Temp\\ipykernel_8500\\3869588013.py:9: FutureWarning: The frame.append method is deprecated and will be removed from pandas in a future version. Use pandas.concat instead.\n",
      "  df_all=df_all.append(dict_df[\"df_corrected\"])\n"
     ]
    },
    {
     "name": "stdout",
     "output_type": "stream",
     "text": [
      "Check smhi.log for data download details!\n",
      ">>> Start downloading each station\n",
      ">>> Downloading 117370\n"
     ]
    },
    {
     "name": "stderr",
     "output_type": "stream",
     "text": [
      "C:\\Users\\MarlonVieiraPassos\\AppData\\Local\\Temp\\ipykernel_8500\\3869588013.py:9: FutureWarning: The frame.append method is deprecated and will be removed from pandas in a future version. Use pandas.concat instead.\n",
      "  df_all=df_all.append(dict_df[\"df_corrected\"])\n"
     ]
    },
    {
     "name": "stdout",
     "output_type": "stream",
     "text": [
      "Check smhi.log for data download details!\n",
      ">>> Start downloading each station\n",
      ">>> Downloading 102540\n"
     ]
    },
    {
     "name": "stderr",
     "output_type": "stream",
     "text": [
      "C:\\Users\\MarlonVieiraPassos\\AppData\\Local\\Temp\\ipykernel_8500\\3869588013.py:9: FutureWarning: The frame.append method is deprecated and will be removed from pandas in a future version. Use pandas.concat instead.\n",
      "  df_all=df_all.append(dict_df[\"df_corrected\"])\n"
     ]
    },
    {
     "name": "stdout",
     "output_type": "stream",
     "text": [
      "Check smhi.log for data download details!\n",
      ">>> Start downloading each station\n",
      ">>> Downloading 53530\n"
     ]
    },
    {
     "name": "stderr",
     "output_type": "stream",
     "text": [
      "C:\\Users\\MarlonVieiraPassos\\AppData\\Local\\Temp\\ipykernel_8500\\3869588013.py:9: FutureWarning: The frame.append method is deprecated and will be removed from pandas in a future version. Use pandas.concat instead.\n",
      "  df_all=df_all.append(dict_df[\"df_corrected\"])\n"
     ]
    },
    {
     "name": "stdout",
     "output_type": "stream",
     "text": [
      "Check smhi.log for data download details!\n",
      ">>> Start downloading each station\n",
      ">>> Downloading 105230\n"
     ]
    },
    {
     "name": "stderr",
     "output_type": "stream",
     "text": [
      "C:\\Users\\MarlonVieiraPassos\\AppData\\Local\\Temp\\ipykernel_8500\\3869588013.py:9: FutureWarning: The frame.append method is deprecated and will be removed from pandas in a future version. Use pandas.concat instead.\n",
      "  df_all=df_all.append(dict_df[\"df_corrected\"])\n"
     ]
    },
    {
     "name": "stdout",
     "output_type": "stream",
     "text": [
      "Check smhi.log for data download details!\n",
      ">>> Start downloading each station\n",
      ">>> Downloading 112540\n"
     ]
    },
    {
     "name": "stderr",
     "output_type": "stream",
     "text": [
      "C:\\Users\\MarlonVieiraPassos\\AppData\\Local\\Temp\\ipykernel_8500\\3869588013.py:9: FutureWarning: The frame.append method is deprecated and will be removed from pandas in a future version. Use pandas.concat instead.\n",
      "  df_all=df_all.append(dict_df[\"df_corrected\"])\n"
     ]
    },
    {
     "name": "stdout",
     "output_type": "stream",
     "text": [
      "Check smhi.log for data download details!\n",
      ">>> Start downloading each station\n",
      ">>> Downloading 147270\n"
     ]
    },
    {
     "name": "stderr",
     "output_type": "stream",
     "text": [
      "C:\\Users\\MarlonVieiraPassos\\AppData\\Local\\Temp\\ipykernel_8500\\3869588013.py:9: FutureWarning: The frame.append method is deprecated and will be removed from pandas in a future version. Use pandas.concat instead.\n",
      "  df_all=df_all.append(dict_df[\"df_corrected\"])\n"
     ]
    },
    {
     "name": "stdout",
     "output_type": "stream",
     "text": [
      "Check smhi.log for data download details!\n",
      ">>> Start downloading each station\n",
      ">>> Downloading 115460\n"
     ]
    },
    {
     "name": "stderr",
     "output_type": "stream",
     "text": [
      "C:\\Users\\MarlonVieiraPassos\\AppData\\Local\\Temp\\ipykernel_8500\\3869588013.py:9: FutureWarning: The frame.append method is deprecated and will be removed from pandas in a future version. Use pandas.concat instead.\n",
      "  df_all=df_all.append(dict_df[\"df_corrected\"])\n"
     ]
    },
    {
     "name": "stdout",
     "output_type": "stream",
     "text": [
      "Check smhi.log for data download details!\n",
      ">>> Start downloading each station\n",
      ">>> Downloading 169880\n"
     ]
    },
    {
     "name": "stderr",
     "output_type": "stream",
     "text": [
      "C:\\Users\\MarlonVieiraPassos\\AppData\\Local\\Temp\\ipykernel_8500\\3869588013.py:9: FutureWarning: The frame.append method is deprecated and will be removed from pandas in a future version. Use pandas.concat instead.\n",
      "  df_all=df_all.append(dict_df[\"df_corrected\"])\n"
     ]
    },
    {
     "name": "stdout",
     "output_type": "stream",
     "text": [
      "Check smhi.log for data download details!\n",
      ">>> Start downloading each station\n",
      ">>> Downloading 170860\n",
      "Check smhi.log for data download details!\n",
      ">>> Start downloading each station\n",
      ">>> Downloading 62560\n"
     ]
    },
    {
     "name": "stderr",
     "output_type": "stream",
     "text": [
      "C:\\Users\\MarlonVieiraPassos\\AppData\\Local\\Temp\\ipykernel_8500\\3869588013.py:9: FutureWarning: The frame.append method is deprecated and will be removed from pandas in a future version. Use pandas.concat instead.\n",
      "  df_all=df_all.append(dict_df[\"df_corrected\"])\n"
     ]
    },
    {
     "name": "stdout",
     "output_type": "stream",
     "text": [
      "Check smhi.log for data download details!\n",
      ">>> Start downloading each station\n",
      ">>> Downloading 53250\n"
     ]
    },
    {
     "name": "stderr",
     "output_type": "stream",
     "text": [
      "C:\\Users\\MarlonVieiraPassos\\AppData\\Local\\Temp\\ipykernel_8500\\3869588013.py:9: FutureWarning: The frame.append method is deprecated and will be removed from pandas in a future version. Use pandas.concat instead.\n",
      "  df_all=df_all.append(dict_df[\"df_corrected\"])\n"
     ]
    },
    {
     "name": "stdout",
     "output_type": "stream",
     "text": [
      "Check smhi.log for data download details!\n",
      ">>> Start downloading each station\n",
      ">>> Downloading 143440\n"
     ]
    },
    {
     "name": "stderr",
     "output_type": "stream",
     "text": [
      "C:\\Users\\MarlonVieiraPassos\\AppData\\Local\\Temp\\ipykernel_8500\\3869588013.py:9: FutureWarning: The frame.append method is deprecated and will be removed from pandas in a future version. Use pandas.concat instead.\n",
      "  df_all=df_all.append(dict_df[\"df_corrected\"])\n"
     ]
    },
    {
     "name": "stdout",
     "output_type": "stream",
     "text": [
      "Check smhi.log for data download details!\n",
      ">>> Start downloading each station\n",
      ">>> Downloading 136420\n",
      "Check smhi.log for data download details!\n",
      ">>> Start downloading each station\n",
      ">>> Downloading 136410\n",
      "Check smhi.log for data download details!\n",
      ">>> Start downloading each station\n",
      ">>> Downloading 166810\n"
     ]
    },
    {
     "name": "stderr",
     "output_type": "stream",
     "text": [
      "C:\\Users\\MarlonVieiraPassos\\AppData\\Local\\Temp\\ipykernel_8500\\3869588013.py:9: FutureWarning: The frame.append method is deprecated and will be removed from pandas in a future version. Use pandas.concat instead.\n",
      "  df_all=df_all.append(dict_df[\"df_corrected\"])\n"
     ]
    },
    {
     "name": "stdout",
     "output_type": "stream",
     "text": [
      "Check smhi.log for data download details!\n",
      ">>> Start downloading each station\n",
      ">>> Downloading 126480\n"
     ]
    },
    {
     "name": "stderr",
     "output_type": "stream",
     "text": [
      "C:\\Users\\MarlonVieiraPassos\\AppData\\Local\\Temp\\ipykernel_8500\\3869588013.py:9: FutureWarning: The frame.append method is deprecated and will be removed from pandas in a future version. Use pandas.concat instead.\n",
      "  df_all=df_all.append(dict_df[\"df_corrected\"])\n"
     ]
    },
    {
     "name": "stdout",
     "output_type": "stream",
     "text": [
      "Check smhi.log for data download details!\n"
     ]
    },
    {
     "name": "stderr",
     "output_type": "stream",
     "text": [
      "C:\\Users\\MarlonVieiraPassos\\AppData\\Local\\Temp\\ipykernel_8500\\3869588013.py:9: FutureWarning: The frame.append method is deprecated and will be removed from pandas in a future version. Use pandas.concat instead.\n",
      "  df_all=df_all.append(dict_df[\"df_corrected\"])\n"
     ]
    },
    {
     "name": "stdout",
     "output_type": "stream",
     "text": [
      ">>> Start downloading each station\n",
      ">>> Downloading 139260\n",
      "Check smhi.log for data download details!\n",
      ">>> Start downloading each station\n",
      ">>> Downloading 133240\n"
     ]
    },
    {
     "name": "stderr",
     "output_type": "stream",
     "text": [
      "C:\\Users\\MarlonVieiraPassos\\AppData\\Local\\Temp\\ipykernel_8500\\3869588013.py:9: FutureWarning: The frame.append method is deprecated and will be removed from pandas in a future version. Use pandas.concat instead.\n",
      "  df_all=df_all.append(dict_df[\"df_corrected\"])\n"
     ]
    },
    {
     "name": "stdout",
     "output_type": "stream",
     "text": [
      "Check smhi.log for data download details!\n",
      ">>> Start downloading each station\n",
      ">>> Downloading 116430\n"
     ]
    },
    {
     "name": "stderr",
     "output_type": "stream",
     "text": [
      "C:\\Users\\MarlonVieiraPassos\\AppData\\Local\\Temp\\ipykernel_8500\\3869588013.py:9: FutureWarning: The frame.append method is deprecated and will be removed from pandas in a future version. Use pandas.concat instead.\n",
      "  df_all=df_all.append(dict_df[\"df_corrected\"])\n"
     ]
    },
    {
     "name": "stdout",
     "output_type": "stream",
     "text": [
      "Check smhi.log for data download details!\n",
      ">>> Start downloading each station\n",
      ">>> Downloading 74470\n"
     ]
    },
    {
     "name": "stderr",
     "output_type": "stream",
     "text": [
      "C:\\Users\\MarlonVieiraPassos\\AppData\\Local\\Temp\\ipykernel_8500\\3869588013.py:9: FutureWarning: The frame.append method is deprecated and will be removed from pandas in a future version. Use pandas.concat instead.\n",
      "  df_all=df_all.append(dict_df[\"df_corrected\"])\n"
     ]
    },
    {
     "name": "stdout",
     "output_type": "stream",
     "text": [
      "Check smhi.log for data download details!\n"
     ]
    },
    {
     "name": "stderr",
     "output_type": "stream",
     "text": [
      "C:\\Users\\MarlonVieiraPassos\\AppData\\Local\\Temp\\ipykernel_8500\\3869588013.py:9: FutureWarning: The frame.append method is deprecated and will be removed from pandas in a future version. Use pandas.concat instead.\n",
      "  df_all=df_all.append(dict_df[\"df_corrected\"])\n"
     ]
    },
    {
     "name": "stdout",
     "output_type": "stream",
     "text": [
      ">>> Start downloading each station\n",
      ">>> Downloading 74460\n",
      "Check smhi.log for data download details!\n",
      ">>> Start downloading each station\n",
      ">>> Downloading 74450\n"
     ]
    },
    {
     "name": "stderr",
     "output_type": "stream",
     "text": [
      "C:\\Users\\MarlonVieiraPassos\\AppData\\Local\\Temp\\ipykernel_8500\\3869588013.py:9: FutureWarning: The frame.append method is deprecated and will be removed from pandas in a future version. Use pandas.concat instead.\n",
      "  df_all=df_all.append(dict_df[\"df_corrected\"])\n"
     ]
    },
    {
     "name": "stdout",
     "output_type": "stream",
     "text": [
      "Check smhi.log for data download details!\n",
      ">>> Start downloading each station\n",
      ">>> Downloading 163940\n"
     ]
    },
    {
     "name": "stderr",
     "output_type": "stream",
     "text": [
      "C:\\Users\\MarlonVieiraPassos\\AppData\\Local\\Temp\\ipykernel_8500\\3869588013.py:9: FutureWarning: The frame.append method is deprecated and will be removed from pandas in a future version. Use pandas.concat instead.\n",
      "  df_all=df_all.append(dict_df[\"df_corrected\"])\n"
     ]
    },
    {
     "name": "stdout",
     "output_type": "stream",
     "text": [
      "Check smhi.log for data download details!\n"
     ]
    },
    {
     "name": "stderr",
     "output_type": "stream",
     "text": [
      "C:\\Users\\MarlonVieiraPassos\\AppData\\Local\\Temp\\ipykernel_8500\\3869588013.py:9: FutureWarning: The frame.append method is deprecated and will be removed from pandas in a future version. Use pandas.concat instead.\n",
      "  df_all=df_all.append(dict_df[\"df_corrected\"])\n"
     ]
    },
    {
     "name": "stdout",
     "output_type": "stream",
     "text": [
      ">>> Start downloading each station\n",
      ">>> Downloading 66430\n",
      "Check smhi.log for data download details!\n",
      ">>> Start downloading each station\n",
      ">>> Downloading 66420\n",
      "Check smhi.log for data download details!\n",
      ">>> Start downloading each station\n",
      ">>> Downloading 168910\n"
     ]
    },
    {
     "name": "stderr",
     "output_type": "stream",
     "text": [
      "C:\\Users\\MarlonVieiraPassos\\AppData\\Local\\Temp\\ipykernel_8500\\3869588013.py:9: FutureWarning: The frame.append method is deprecated and will be removed from pandas in a future version. Use pandas.concat instead.\n",
      "  df_all=df_all.append(dict_df[\"df_corrected\"])\n"
     ]
    },
    {
     "name": "stdout",
     "output_type": "stream",
     "text": [
      "Check smhi.log for data download details!\n",
      ">>> Start downloading each station\n",
      ">>> Downloading 192830\n"
     ]
    },
    {
     "name": "stderr",
     "output_type": "stream",
     "text": [
      "C:\\Users\\MarlonVieiraPassos\\AppData\\Local\\Temp\\ipykernel_8500\\3869588013.py:9: FutureWarning: The frame.append method is deprecated and will be removed from pandas in a future version. Use pandas.concat instead.\n",
      "  df_all=df_all.append(dict_df[\"df_corrected\"])\n"
     ]
    },
    {
     "name": "stdout",
     "output_type": "stream",
     "text": [
      "Check smhi.log for data download details!\n",
      ">>> Start downloading each station\n",
      ">>> Downloading 192840\n",
      "Check smhi.log for data download details!\n",
      ">>> Start downloading each station\n",
      ">>> Downloading 84310\n"
     ]
    },
    {
     "name": "stderr",
     "output_type": "stream",
     "text": [
      "C:\\Users\\MarlonVieiraPassos\\AppData\\Local\\Temp\\ipykernel_8500\\3869588013.py:9: FutureWarning: The frame.append method is deprecated and will be removed from pandas in a future version. Use pandas.concat instead.\n",
      "  df_all=df_all.append(dict_df[\"df_corrected\"])\n"
     ]
    },
    {
     "name": "stdout",
     "output_type": "stream",
     "text": [
      "Check smhi.log for data download details!\n",
      ">>> Start downloading each station\n",
      ">>> Downloading 64130\n",
      "Check smhi.log for data download details!\n",
      ">>> Start downloading each station\n",
      ">>> Downloading 65090\n"
     ]
    },
    {
     "name": "stderr",
     "output_type": "stream",
     "text": [
      "C:\\Users\\MarlonVieiraPassos\\AppData\\Local\\Temp\\ipykernel_8500\\3869588013.py:9: FutureWarning: The frame.append method is deprecated and will be removed from pandas in a future version. Use pandas.concat instead.\n",
      "  df_all=df_all.append(dict_df[\"df_corrected\"])\n"
     ]
    },
    {
     "name": "stdout",
     "output_type": "stream",
     "text": [
      "Check smhi.log for data download details!\n",
      ">>> Start downloading each station\n",
      ">>> Downloading 93250\n"
     ]
    },
    {
     "name": "stderr",
     "output_type": "stream",
     "text": [
      "C:\\Users\\MarlonVieiraPassos\\AppData\\Local\\Temp\\ipykernel_8500\\3869588013.py:9: FutureWarning: The frame.append method is deprecated and will be removed from pandas in a future version. Use pandas.concat instead.\n",
      "  df_all=df_all.append(dict_df[\"df_corrected\"])\n"
     ]
    },
    {
     "name": "stdout",
     "output_type": "stream",
     "text": [
      "Check smhi.log for data download details!\n",
      ">>> Start downloading each station\n",
      ">>> Downloading 93230\n"
     ]
    },
    {
     "name": "stderr",
     "output_type": "stream",
     "text": [
      "C:\\Users\\MarlonVieiraPassos\\AppData\\Local\\Temp\\ipykernel_8500\\3869588013.py:9: FutureWarning: The frame.append method is deprecated and will be removed from pandas in a future version. Use pandas.concat instead.\n",
      "  df_all=df_all.append(dict_df[\"df_corrected\"])\n"
     ]
    },
    {
     "name": "stdout",
     "output_type": "stream",
     "text": [
      "Check smhi.log for data download details!\n",
      ">>> Start downloading each station\n",
      ">>> Downloading 93220\n"
     ]
    },
    {
     "name": "stderr",
     "output_type": "stream",
     "text": [
      "C:\\Users\\MarlonVieiraPassos\\AppData\\Local\\Temp\\ipykernel_8500\\3869588013.py:9: FutureWarning: The frame.append method is deprecated and will be removed from pandas in a future version. Use pandas.concat instead.\n",
      "  df_all=df_all.append(dict_df[\"df_corrected\"])\n"
     ]
    },
    {
     "name": "stdout",
     "output_type": "stream",
     "text": [
      "Check smhi.log for data download details!\n"
     ]
    },
    {
     "name": "stderr",
     "output_type": "stream",
     "text": [
      "C:\\Users\\MarlonVieiraPassos\\AppData\\Local\\Temp\\ipykernel_8500\\3869588013.py:9: FutureWarning: The frame.append method is deprecated and will be removed from pandas in a future version. Use pandas.concat instead.\n",
      "  df_all=df_all.append(dict_df[\"df_corrected\"])\n"
     ]
    },
    {
     "name": "stdout",
     "output_type": "stream",
     "text": [
      ">>> Start downloading each station\n",
      ">>> Downloading 64040\n",
      "Check smhi.log for data download details!\n"
     ]
    },
    {
     "name": "stderr",
     "output_type": "stream",
     "text": [
      "C:\\Users\\MarlonVieiraPassos\\AppData\\Local\\Temp\\ipykernel_8500\\3869588013.py:9: FutureWarning: The frame.append method is deprecated and will be removed from pandas in a future version. Use pandas.concat instead.\n",
      "  df_all=df_all.append(dict_df[\"df_corrected\"])\n"
     ]
    },
    {
     "name": "stdout",
     "output_type": "stream",
     "text": [
      ">>> Start downloading each station\n",
      ">>> Downloading 139200\n",
      "Check smhi.log for data download details!\n"
     ]
    },
    {
     "name": "stderr",
     "output_type": "stream",
     "text": [
      "C:\\Users\\MarlonVieiraPassos\\AppData\\Local\\Temp\\ipykernel_8500\\3869588013.py:9: FutureWarning: The frame.append method is deprecated and will be removed from pandas in a future version. Use pandas.concat instead.\n",
      "  df_all=df_all.append(dict_df[\"df_corrected\"])\n"
     ]
    },
    {
     "name": "stdout",
     "output_type": "stream",
     "text": [
      ">>> Start downloading each station\n",
      ">>> Downloading 116720\n",
      "Check smhi.log for data download details!\n"
     ]
    },
    {
     "name": "stderr",
     "output_type": "stream",
     "text": [
      "C:\\Users\\MarlonVieiraPassos\\AppData\\Local\\Temp\\ipykernel_8500\\3869588013.py:9: FutureWarning: The frame.append method is deprecated and will be removed from pandas in a future version. Use pandas.concat instead.\n",
      "  df_all=df_all.append(dict_df[\"df_corrected\"])\n"
     ]
    },
    {
     "name": "stdout",
     "output_type": "stream",
     "text": [
      ">>> Start downloading each station\n",
      ">>> Downloading 188820\n",
      "Check smhi.log for data download details!\n"
     ]
    },
    {
     "name": "stderr",
     "output_type": "stream",
     "text": [
      "C:\\Users\\MarlonVieiraPassos\\AppData\\Local\\Temp\\ipykernel_8500\\3869588013.py:9: FutureWarning: The frame.append method is deprecated and will be removed from pandas in a future version. Use pandas.concat instead.\n",
      "  df_all=df_all.append(dict_df[\"df_corrected\"])\n"
     ]
    },
    {
     "name": "stdout",
     "output_type": "stream",
     "text": [
      ">>> Start downloading each station\n",
      ">>> Downloading 188850\n",
      "Check smhi.log for data download details!\n",
      ">>> Start downloading each station\n",
      ">>> Downloading 189780\n"
     ]
    },
    {
     "name": "stderr",
     "output_type": "stream",
     "text": [
      "C:\\Users\\MarlonVieiraPassos\\AppData\\Local\\Temp\\ipykernel_8500\\3869588013.py:9: FutureWarning: The frame.append method is deprecated and will be removed from pandas in a future version. Use pandas.concat instead.\n",
      "  df_all=df_all.append(dict_df[\"df_corrected\"])\n"
     ]
    },
    {
     "name": "stdout",
     "output_type": "stream",
     "text": [
      "Check smhi.log for data download details!\n"
     ]
    },
    {
     "name": "stderr",
     "output_type": "stream",
     "text": [
      "C:\\Users\\MarlonVieiraPassos\\AppData\\Local\\Temp\\ipykernel_8500\\3869588013.py:9: FutureWarning: The frame.append method is deprecated and will be removed from pandas in a future version. Use pandas.concat instead.\n",
      "  df_all=df_all.append(dict_df[\"df_corrected\"])\n"
     ]
    },
    {
     "name": "stdout",
     "output_type": "stream",
     "text": [
      ">>> Start downloading each station\n",
      ">>> Downloading 106160\n",
      "Check smhi.log for data download details!\n",
      ">>> Start downloading each station\n",
      ">>> Downloading 85460\n"
     ]
    },
    {
     "name": "stderr",
     "output_type": "stream",
     "text": [
      "C:\\Users\\MarlonVieiraPassos\\AppData\\Local\\Temp\\ipykernel_8500\\3869588013.py:9: FutureWarning: The frame.append method is deprecated and will be removed from pandas in a future version. Use pandas.concat instead.\n",
      "  df_all=df_all.append(dict_df[\"df_corrected\"])\n"
     ]
    },
    {
     "name": "stdout",
     "output_type": "stream",
     "text": [
      "Check smhi.log for data download details!\n",
      ">>> Start downloading each station\n",
      ">>> Downloading 94190\n"
     ]
    },
    {
     "name": "stderr",
     "output_type": "stream",
     "text": [
      "C:\\Users\\MarlonVieiraPassos\\AppData\\Local\\Temp\\ipykernel_8500\\3869588013.py:9: FutureWarning: The frame.append method is deprecated and will be removed from pandas in a future version. Use pandas.concat instead.\n",
      "  df_all=df_all.append(dict_df[\"df_corrected\"])\n"
     ]
    },
    {
     "name": "stdout",
     "output_type": "stream",
     "text": [
      "Check smhi.log for data download details!\n",
      ">>> Start downloading each station\n",
      ">>> Downloading 75650\n"
     ]
    },
    {
     "name": "stderr",
     "output_type": "stream",
     "text": [
      "C:\\Users\\MarlonVieiraPassos\\AppData\\Local\\Temp\\ipykernel_8500\\3869588013.py:9: FutureWarning: The frame.append method is deprecated and will be removed from pandas in a future version. Use pandas.concat instead.\n",
      "  df_all=df_all.append(dict_df[\"df_corrected\"])\n"
     ]
    },
    {
     "name": "stdout",
     "output_type": "stream",
     "text": [
      "Check smhi.log for data download details!\n",
      ">>> Start downloading each station\n",
      ">>> Downloading 73610\n"
     ]
    },
    {
     "name": "stderr",
     "output_type": "stream",
     "text": [
      "C:\\Users\\MarlonVieiraPassos\\AppData\\Local\\Temp\\ipykernel_8500\\3869588013.py:9: FutureWarning: The frame.append method is deprecated and will be removed from pandas in a future version. Use pandas.concat instead.\n",
      "  df_all=df_all.append(dict_df[\"df_corrected\"])\n"
     ]
    },
    {
     "name": "stdout",
     "output_type": "stream",
     "text": [
      "Check smhi.log for data download details!\n",
      ">>> Start downloading each station\n",
      ">>> Downloading 180960\n"
     ]
    },
    {
     "name": "stderr",
     "output_type": "stream",
     "text": [
      "C:\\Users\\MarlonVieiraPassos\\AppData\\Local\\Temp\\ipykernel_8500\\3869588013.py:9: FutureWarning: The frame.append method is deprecated and will be removed from pandas in a future version. Use pandas.concat instead.\n",
      "  df_all=df_all.append(dict_df[\"df_corrected\"])\n"
     ]
    },
    {
     "name": "stdout",
     "output_type": "stream",
     "text": [
      "Check smhi.log for data download details!\n",
      ">>> Start downloading each station\n",
      ">>> Downloading 180940\n"
     ]
    },
    {
     "name": "stderr",
     "output_type": "stream",
     "text": [
      "C:\\Users\\MarlonVieiraPassos\\AppData\\Local\\Temp\\ipykernel_8500\\3869588013.py:9: FutureWarning: The frame.append method is deprecated and will be removed from pandas in a future version. Use pandas.concat instead.\n",
      "  df_all=df_all.append(dict_df[\"df_corrected\"])\n"
     ]
    },
    {
     "name": "stdout",
     "output_type": "stream",
     "text": [
      "Check smhi.log for data download details!\n",
      ">>> Start downloading each station\n",
      ">>> Downloading 155770\n"
     ]
    },
    {
     "name": "stderr",
     "output_type": "stream",
     "text": [
      "C:\\Users\\MarlonVieiraPassos\\AppData\\Local\\Temp\\ipykernel_8500\\3869588013.py:9: FutureWarning: The frame.append method is deprecated and will be removed from pandas in a future version. Use pandas.concat instead.\n",
      "  df_all=df_all.append(dict_df[\"df_corrected\"])\n"
     ]
    },
    {
     "name": "stdout",
     "output_type": "stream",
     "text": [
      "Check smhi.log for data download details!\n",
      ">>> Start downloading each station\n",
      ">>> Downloading 83670\n"
     ]
    },
    {
     "name": "stderr",
     "output_type": "stream",
     "text": [
      "C:\\Users\\MarlonVieiraPassos\\AppData\\Local\\Temp\\ipykernel_8500\\3869588013.py:9: FutureWarning: The frame.append method is deprecated and will be removed from pandas in a future version. Use pandas.concat instead.\n",
      "  df_all=df_all.append(dict_df[\"df_corrected\"])\n"
     ]
    },
    {
     "name": "stdout",
     "output_type": "stream",
     "text": [
      "Check smhi.log for data download details!\n"
     ]
    },
    {
     "name": "stderr",
     "output_type": "stream",
     "text": [
      "C:\\Users\\MarlonVieiraPassos\\AppData\\Local\\Temp\\ipykernel_8500\\3869588013.py:9: FutureWarning: The frame.append method is deprecated and will be removed from pandas in a future version. Use pandas.concat instead.\n",
      "  df_all=df_all.append(dict_df[\"df_corrected\"])\n"
     ]
    },
    {
     "name": "stdout",
     "output_type": "stream",
     "text": [
      ">>> Start downloading each station\n",
      ">>> Downloading 154720\n",
      "Check smhi.log for data download details!\n",
      ">>> Start downloading each station\n",
      ">>> Downloading 95530\n",
      "Check smhi.log for data download details!\n"
     ]
    },
    {
     "name": "stderr",
     "output_type": "stream",
     "text": [
      "C:\\Users\\MarlonVieiraPassos\\AppData\\Local\\Temp\\ipykernel_8500\\3869588013.py:9: FutureWarning: The frame.append method is deprecated and will be removed from pandas in a future version. Use pandas.concat instead.\n",
      "  df_all=df_all.append(dict_df[\"df_corrected\"])\n"
     ]
    },
    {
     "name": "stdout",
     "output_type": "stream",
     "text": [
      ">>> Start downloading each station\n",
      ">>> Downloading 95540\n",
      "Check smhi.log for data download details!\n",
      ">>> Start downloading each station\n",
      ">>> Downloading 150640\n"
     ]
    },
    {
     "name": "stderr",
     "output_type": "stream",
     "text": [
      "C:\\Users\\MarlonVieiraPassos\\AppData\\Local\\Temp\\ipykernel_8500\\3869588013.py:9: FutureWarning: The frame.append method is deprecated and will be removed from pandas in a future version. Use pandas.concat instead.\n",
      "  df_all=df_all.append(dict_df[\"df_corrected\"])\n"
     ]
    },
    {
     "name": "stdout",
     "output_type": "stream",
     "text": [
      "Check smhi.log for data download details!\n"
     ]
    },
    {
     "name": "stderr",
     "output_type": "stream",
     "text": [
      "C:\\Users\\MarlonVieiraPassos\\AppData\\Local\\Temp\\ipykernel_8500\\3869588013.py:9: FutureWarning: The frame.append method is deprecated and will be removed from pandas in a future version. Use pandas.concat instead.\n",
      "  df_all=df_all.append(dict_df[\"df_corrected\"])\n"
     ]
    },
    {
     "name": "stdout",
     "output_type": "stream",
     "text": [
      ">>> Start downloading each station\n",
      ">>> Downloading 124320\n",
      "Check smhi.log for data download details!\n"
     ]
    },
    {
     "name": "stderr",
     "output_type": "stream",
     "text": [
      "C:\\Users\\MarlonVieiraPassos\\AppData\\Local\\Temp\\ipykernel_8500\\3869588013.py:9: FutureWarning: The frame.append method is deprecated and will be removed from pandas in a future version. Use pandas.concat instead.\n",
      "  df_all=df_all.append(dict_df[\"df_corrected\"])\n"
     ]
    },
    {
     "name": "stdout",
     "output_type": "stream",
     "text": [
      ">>> Start downloading each station\n",
      ">>> Downloading 124300\n",
      "Check smhi.log for data download details!\n",
      ">>> Start downloading each station\n",
      ">>> Downloading 63320\n"
     ]
    },
    {
     "name": "stderr",
     "output_type": "stream",
     "text": [
      "C:\\Users\\MarlonVieiraPassos\\AppData\\Local\\Temp\\ipykernel_8500\\3869588013.py:9: FutureWarning: The frame.append method is deprecated and will be removed from pandas in a future version. Use pandas.concat instead.\n",
      "  df_all=df_all.append(dict_df[\"df_corrected\"])\n"
     ]
    },
    {
     "name": "stdout",
     "output_type": "stream",
     "text": [
      "Check smhi.log for data download details!\n",
      ">>> Start downloading each station\n",
      ">>> Downloading 103570\n",
      "Check smhi.log for data download details!\n"
     ]
    },
    {
     "name": "stderr",
     "output_type": "stream",
     "text": [
      "C:\\Users\\MarlonVieiraPassos\\AppData\\Local\\Temp\\ipykernel_8500\\3869588013.py:9: FutureWarning: The frame.append method is deprecated and will be removed from pandas in a future version. Use pandas.concat instead.\n",
      "  df_all=df_all.append(dict_df[\"df_corrected\"])\n"
     ]
    },
    {
     "name": "stdout",
     "output_type": "stream",
     "text": [
      ">>> Start downloading each station\n",
      ">>> Downloading 82100\n",
      "Check smhi.log for data download details!\n"
     ]
    },
    {
     "name": "stderr",
     "output_type": "stream",
     "text": [
      "C:\\Users\\MarlonVieiraPassos\\AppData\\Local\\Temp\\ipykernel_8500\\3869588013.py:9: FutureWarning: The frame.append method is deprecated and will be removed from pandas in a future version. Use pandas.concat instead.\n",
      "  df_all=df_all.append(dict_df[\"df_corrected\"])\n"
     ]
    },
    {
     "name": "stdout",
     "output_type": "stream",
     "text": [
      ">>> Start downloading each station\n",
      ">>> Downloading 63610\n",
      "Check smhi.log for data download details!\n"
     ]
    },
    {
     "name": "stderr",
     "output_type": "stream",
     "text": [
      "C:\\Users\\MarlonVieiraPassos\\AppData\\Local\\Temp\\ipykernel_8500\\3869588013.py:9: FutureWarning: The frame.append method is deprecated and will be removed from pandas in a future version. Use pandas.concat instead.\n",
      "  df_all=df_all.append(dict_df[\"df_corrected\"])\n"
     ]
    },
    {
     "name": "stdout",
     "output_type": "stream",
     "text": [
      ">>> Start downloading each station\n",
      ">>> Downloading 86420\n",
      "Check smhi.log for data download details!\n"
     ]
    },
    {
     "name": "stderr",
     "output_type": "stream",
     "text": [
      "C:\\Users\\MarlonVieiraPassos\\AppData\\Local\\Temp\\ipykernel_8500\\3869588013.py:9: FutureWarning: The frame.append method is deprecated and will be removed from pandas in a future version. Use pandas.concat instead.\n",
      "  df_all=df_all.append(dict_df[\"df_corrected\"])\n"
     ]
    },
    {
     "name": "stdout",
     "output_type": "stream",
     "text": [
      ">>> Start downloading each station\n",
      ">>> Downloading 86650\n",
      "Check smhi.log for data download details!\n"
     ]
    },
    {
     "name": "stderr",
     "output_type": "stream",
     "text": [
      "C:\\Users\\MarlonVieiraPassos\\AppData\\Local\\Temp\\ipykernel_8500\\3869588013.py:9: FutureWarning: The frame.append method is deprecated and will be removed from pandas in a future version. Use pandas.concat instead.\n",
      "  df_all=df_all.append(dict_df[\"df_corrected\"])\n"
     ]
    },
    {
     "name": "stdout",
     "output_type": "stream",
     "text": [
      ">>> Start downloading each station\n",
      ">>> Downloading 182720\n",
      "Check smhi.log for data download details!\n"
     ]
    },
    {
     "name": "stderr",
     "output_type": "stream",
     "text": [
      "C:\\Users\\MarlonVieiraPassos\\AppData\\Local\\Temp\\ipykernel_8500\\3869588013.py:9: FutureWarning: The frame.append method is deprecated and will be removed from pandas in a future version. Use pandas.concat instead.\n",
      "  df_all=df_all.append(dict_df[\"df_corrected\"])\n"
     ]
    },
    {
     "name": "stdout",
     "output_type": "stream",
     "text": [
      ">>> Start downloading each station\n",
      ">>> Downloading 173960\n",
      "Check smhi.log for data download details!\n"
     ]
    },
    {
     "name": "stderr",
     "output_type": "stream",
     "text": [
      "C:\\Users\\MarlonVieiraPassos\\AppData\\Local\\Temp\\ipykernel_8500\\3869588013.py:9: FutureWarning: The frame.append method is deprecated and will be removed from pandas in a future version. Use pandas.concat instead.\n",
      "  df_all=df_all.append(dict_df[\"df_corrected\"])\n"
     ]
    },
    {
     "name": "stdout",
     "output_type": "stream",
     "text": [
      ">>> Start downloading each station\n",
      ">>> Downloading 145280\n",
      "Check smhi.log for data download details!\n"
     ]
    },
    {
     "name": "stderr",
     "output_type": "stream",
     "text": [
      "C:\\Users\\MarlonVieiraPassos\\AppData\\Local\\Temp\\ipykernel_8500\\3869588013.py:9: FutureWarning: The frame.append method is deprecated and will be removed from pandas in a future version. Use pandas.concat instead.\n",
      "  df_all=df_all.append(dict_df[\"df_corrected\"])\n"
     ]
    },
    {
     "name": "stdout",
     "output_type": "stream",
     "text": [
      ">>> Start downloading each station\n",
      ">>> Downloading 133500\n",
      "Check smhi.log for data download details!\n",
      ">>> Start downloading each station\n",
      ">>> Downloading 65510\n"
     ]
    },
    {
     "name": "stderr",
     "output_type": "stream",
     "text": [
      "C:\\Users\\MarlonVieiraPassos\\AppData\\Local\\Temp\\ipykernel_8500\\3869588013.py:9: FutureWarning: The frame.append method is deprecated and will be removed from pandas in a future version. Use pandas.concat instead.\n",
      "  df_all=df_all.append(dict_df[\"df_corrected\"])\n"
     ]
    },
    {
     "name": "stdout",
     "output_type": "stream",
     "text": [
      "Check smhi.log for data download details!\n",
      ">>> Start downloading each station\n",
      ">>> Downloading 137040\n"
     ]
    },
    {
     "name": "stderr",
     "output_type": "stream",
     "text": [
      "C:\\Users\\MarlonVieiraPassos\\AppData\\Local\\Temp\\ipykernel_8500\\3869588013.py:9: FutureWarning: The frame.append method is deprecated and will be removed from pandas in a future version. Use pandas.concat instead.\n",
      "  df_all=df_all.append(dict_df[\"df_corrected\"])\n"
     ]
    },
    {
     "name": "stdout",
     "output_type": "stream",
     "text": [
      "Check smhi.log for data download details!\n"
     ]
    },
    {
     "name": "stderr",
     "output_type": "stream",
     "text": [
      "C:\\Users\\MarlonVieiraPassos\\AppData\\Local\\Temp\\ipykernel_8500\\3869588013.py:9: FutureWarning: The frame.append method is deprecated and will be removed from pandas in a future version. Use pandas.concat instead.\n",
      "  df_all=df_all.append(dict_df[\"df_corrected\"])\n"
     ]
    },
    {
     "name": "stdout",
     "output_type": "stream",
     "text": [
      ">>> Start downloading each station\n",
      ">>> Downloading 106340\n",
      "Check smhi.log for data download details!\n"
     ]
    },
    {
     "name": "stderr",
     "output_type": "stream",
     "text": [
      "C:\\Users\\MarlonVieiraPassos\\AppData\\Local\\Temp\\ipykernel_8500\\3869588013.py:9: FutureWarning: The frame.append method is deprecated and will be removed from pandas in a future version. Use pandas.concat instead.\n",
      "  df_all=df_all.append(dict_df[\"df_corrected\"])\n"
     ]
    },
    {
     "name": "stdout",
     "output_type": "stream",
     "text": [
      ">>> Start downloading each station\n",
      ">>> Downloading 64030\n",
      "Check smhi.log for data download details!\n",
      ">>> Start downloading each station\n",
      ">>> Downloading 54550\n",
      "Check smhi.log for data download details!\n"
     ]
    },
    {
     "name": "stderr",
     "output_type": "stream",
     "text": [
      "C:\\Users\\MarlonVieiraPassos\\AppData\\Local\\Temp\\ipykernel_8500\\3869588013.py:9: FutureWarning: The frame.append method is deprecated and will be removed from pandas in a future version. Use pandas.concat instead.\n",
      "  df_all=df_all.append(dict_df[\"df_corrected\"])\n"
     ]
    },
    {
     "name": "stdout",
     "output_type": "stream",
     "text": [
      ">>> Start downloading each station\n",
      ">>> Downloading 81150\n",
      "Check smhi.log for data download details!\n"
     ]
    },
    {
     "name": "stderr",
     "output_type": "stream",
     "text": [
      "C:\\Users\\MarlonVieiraPassos\\AppData\\Local\\Temp\\ipykernel_8500\\3869588013.py:9: FutureWarning: The frame.append method is deprecated and will be removed from pandas in a future version. Use pandas.concat instead.\n",
      "  df_all=df_all.append(dict_df[\"df_corrected\"])\n"
     ]
    },
    {
     "name": "stdout",
     "output_type": "stream",
     "text": [
      ">>> Start downloading each station\n",
      ">>> Downloading 94180\n",
      "Check smhi.log for data download details!\n"
     ]
    },
    {
     "name": "stderr",
     "output_type": "stream",
     "text": [
      "C:\\Users\\MarlonVieiraPassos\\AppData\\Local\\Temp\\ipykernel_8500\\3869588013.py:9: FutureWarning: The frame.append method is deprecated and will be removed from pandas in a future version. Use pandas.concat instead.\n",
      "  df_all=df_all.append(dict_df[\"df_corrected\"])\n"
     ]
    },
    {
     "name": "stdout",
     "output_type": "stream",
     "text": [
      ">>> Start downloading each station\n",
      ">>> Downloading 148300\n",
      "Check smhi.log for data download details!\n"
     ]
    },
    {
     "name": "stderr",
     "output_type": "stream",
     "text": [
      "C:\\Users\\MarlonVieiraPassos\\AppData\\Local\\Temp\\ipykernel_8500\\3869588013.py:9: FutureWarning: The frame.append method is deprecated and will be removed from pandas in a future version. Use pandas.concat instead.\n",
      "  df_all=df_all.append(dict_df[\"df_corrected\"])\n"
     ]
    },
    {
     "name": "stdout",
     "output_type": "stream",
     "text": [
      ">>> Start downloading each station\n",
      ">>> Downloading 82360\n",
      "Check smhi.log for data download details!\n"
     ]
    },
    {
     "name": "stderr",
     "output_type": "stream",
     "text": [
      "C:\\Users\\MarlonVieiraPassos\\AppData\\Local\\Temp\\ipykernel_8500\\3869588013.py:9: FutureWarning: The frame.append method is deprecated and will be removed from pandas in a future version. Use pandas.concat instead.\n",
      "  df_all=df_all.append(dict_df[\"df_corrected\"])\n"
     ]
    },
    {
     "name": "stdout",
     "output_type": "stream",
     "text": [
      ">>> Start downloading each station\n",
      ">>> Downloading 114330\n",
      "Check smhi.log for data download details!\n"
     ]
    },
    {
     "name": "stderr",
     "output_type": "stream",
     "text": [
      "C:\\Users\\MarlonVieiraPassos\\AppData\\Local\\Temp\\ipykernel_8500\\3869588013.py:9: FutureWarning: The frame.append method is deprecated and will be removed from pandas in a future version. Use pandas.concat instead.\n",
      "  df_all=df_all.append(dict_df[\"df_corrected\"])\n"
     ]
    },
    {
     "name": "stdout",
     "output_type": "stream",
     "text": [
      ">>> Start downloading each station\n",
      ">>> Downloading 136090\n",
      "Check smhi.log for data download details!\n",
      ">>> Start downloading each station\n",
      ">>> Downloading 117430\n",
      "Check smhi.log for data download details!\n"
     ]
    },
    {
     "name": "stderr",
     "output_type": "stream",
     "text": [
      "C:\\Users\\MarlonVieiraPassos\\AppData\\Local\\Temp\\ipykernel_8500\\3869588013.py:9: FutureWarning: The frame.append method is deprecated and will be removed from pandas in a future version. Use pandas.concat instead.\n",
      "  df_all=df_all.append(dict_df[\"df_corrected\"])\n"
     ]
    },
    {
     "name": "stdout",
     "output_type": "stream",
     "text": [
      ">>> Start downloading each station\n",
      ">>> Downloading 149610\n",
      "Check smhi.log for data download details!\n"
     ]
    },
    {
     "name": "stderr",
     "output_type": "stream",
     "text": [
      "C:\\Users\\MarlonVieiraPassos\\AppData\\Local\\Temp\\ipykernel_8500\\3869588013.py:9: FutureWarning: The frame.append method is deprecated and will be removed from pandas in a future version. Use pandas.concat instead.\n",
      "  df_all=df_all.append(dict_df[\"df_corrected\"])\n"
     ]
    },
    {
     "name": "stdout",
     "output_type": "stream",
     "text": [
      ">>> Start downloading each station\n",
      ">>> Downloading 62190\n",
      "Check smhi.log for data download details!\n"
     ]
    },
    {
     "name": "stderr",
     "output_type": "stream",
     "text": [
      "C:\\Users\\MarlonVieiraPassos\\AppData\\Local\\Temp\\ipykernel_8500\\3869588013.py:9: FutureWarning: The frame.append method is deprecated and will be removed from pandas in a future version. Use pandas.concat instead.\n",
      "  df_all=df_all.append(dict_df[\"df_corrected\"])\n"
     ]
    },
    {
     "name": "stdout",
     "output_type": "stream",
     "text": [
      ">>> Start downloading each station\n",
      ">>> Downloading 85390\n",
      "Check smhi.log for data download details!\n"
     ]
    },
    {
     "name": "stderr",
     "output_type": "stream",
     "text": [
      "C:\\Users\\MarlonVieiraPassos\\AppData\\Local\\Temp\\ipykernel_8500\\3869588013.py:9: FutureWarning: The frame.append method is deprecated and will be removed from pandas in a future version. Use pandas.concat instead.\n",
      "  df_all=df_all.append(dict_df[\"df_corrected\"])\n"
     ]
    },
    {
     "name": "stdout",
     "output_type": "stream",
     "text": [
      ">>> Start downloading each station\n",
      ">>> Downloading 114270\n",
      "Check smhi.log for data download details!\n"
     ]
    },
    {
     "name": "stderr",
     "output_type": "stream",
     "text": [
      "C:\\Users\\MarlonVieiraPassos\\AppData\\Local\\Temp\\ipykernel_8500\\3869588013.py:9: FutureWarning: The frame.append method is deprecated and will be removed from pandas in a future version. Use pandas.concat instead.\n",
      "  df_all=df_all.append(dict_df[\"df_corrected\"])\n"
     ]
    },
    {
     "name": "stdout",
     "output_type": "stream",
     "text": [
      ">>> Start downloading each station\n",
      ">>> Downloading 95660\n",
      "Check smhi.log for data download details!\n"
     ]
    },
    {
     "name": "stderr",
     "output_type": "stream",
     "text": [
      "C:\\Users\\MarlonVieiraPassos\\AppData\\Local\\Temp\\ipykernel_8500\\3869588013.py:9: FutureWarning: The frame.append method is deprecated and will be removed from pandas in a future version. Use pandas.concat instead.\n",
      "  df_all=df_all.append(dict_df[\"df_corrected\"])\n"
     ]
    },
    {
     "name": "stdout",
     "output_type": "stream",
     "text": [
      ">>> Start downloading each station\n",
      ">>> Downloading 167980\n",
      "Check smhi.log for data download details!\n",
      ">>> Start downloading each station\n",
      ">>> Downloading 167990\n",
      "Check smhi.log for data download details!\n",
      ">>> Start downloading each station\n",
      ">>> Downloading 92630\n"
     ]
    },
    {
     "name": "stderr",
     "output_type": "stream",
     "text": [
      "C:\\Users\\MarlonVieiraPassos\\AppData\\Local\\Temp\\ipykernel_8500\\3869588013.py:9: FutureWarning: The frame.append method is deprecated and will be removed from pandas in a future version. Use pandas.concat instead.\n",
      "  df_all=df_all.append(dict_df[\"df_corrected\"])\n"
     ]
    },
    {
     "name": "stdout",
     "output_type": "stream",
     "text": [
      "Check smhi.log for data download details!\n"
     ]
    },
    {
     "name": "stderr",
     "output_type": "stream",
     "text": [
      "C:\\Users\\MarlonVieiraPassos\\AppData\\Local\\Temp\\ipykernel_8500\\3869588013.py:9: FutureWarning: The frame.append method is deprecated and will be removed from pandas in a future version. Use pandas.concat instead.\n",
      "  df_all=df_all.append(dict_df[\"df_corrected\"])\n"
     ]
    },
    {
     "name": "stdout",
     "output_type": "stream",
     "text": [
      ">>> Start downloading each station\n",
      ">>> Downloading 72140\n",
      "Check smhi.log for data download details!\n"
     ]
    },
    {
     "name": "stderr",
     "output_type": "stream",
     "text": [
      "C:\\Users\\MarlonVieiraPassos\\AppData\\Local\\Temp\\ipykernel_8500\\3869588013.py:9: FutureWarning: The frame.append method is deprecated and will be removed from pandas in a future version. Use pandas.concat instead.\n",
      "  df_all=df_all.append(dict_df[\"df_corrected\"])\n"
     ]
    },
    {
     "name": "stdout",
     "output_type": "stream",
     "text": [
      ">>> Start downloading each station\n",
      ">>> Downloading 71510\n",
      "Check smhi.log for data download details!\n",
      ">>> Start downloading each station\n",
      ">>> Downloading 85650\n",
      "Check smhi.log for data download details!\n"
     ]
    },
    {
     "name": "stderr",
     "output_type": "stream",
     "text": [
      "C:\\Users\\MarlonVieiraPassos\\AppData\\Local\\Temp\\ipykernel_8500\\3869588013.py:9: FutureWarning: The frame.append method is deprecated and will be removed from pandas in a future version. Use pandas.concat instead.\n",
      "  df_all=df_all.append(dict_df[\"df_corrected\"])\n"
     ]
    },
    {
     "name": "stdout",
     "output_type": "stream",
     "text": [
      ">>> Start downloading each station\n",
      ">>> Downloading 53480\n",
      "Check smhi.log for data download details!\n"
     ]
    },
    {
     "name": "stderr",
     "output_type": "stream",
     "text": [
      "C:\\Users\\MarlonVieiraPassos\\AppData\\Local\\Temp\\ipykernel_8500\\3869588013.py:9: FutureWarning: The frame.append method is deprecated and will be removed from pandas in a future version. Use pandas.concat instead.\n",
      "  df_all=df_all.append(dict_df[\"df_corrected\"])\n"
     ]
    },
    {
     "name": "stdout",
     "output_type": "stream",
     "text": [
      ">>> Start downloading each station\n",
      ">>> Downloading 98400\n",
      "Check smhi.log for data download details!\n"
     ]
    },
    {
     "name": "stderr",
     "output_type": "stream",
     "text": [
      "C:\\Users\\MarlonVieiraPassos\\AppData\\Local\\Temp\\ipykernel_8500\\3869588013.py:9: FutureWarning: The frame.append method is deprecated and will be removed from pandas in a future version. Use pandas.concat instead.\n",
      "  df_all=df_all.append(dict_df[\"df_corrected\"])\n"
     ]
    },
    {
     "name": "stdout",
     "output_type": "stream",
     "text": [
      ">>> Start downloading each station\n",
      ">>> Downloading 104600\n",
      "Check smhi.log for data download details!\n"
     ]
    },
    {
     "name": "stderr",
     "output_type": "stream",
     "text": [
      "C:\\Users\\MarlonVieiraPassos\\AppData\\Local\\Temp\\ipykernel_8500\\3869588013.py:9: FutureWarning: The frame.append method is deprecated and will be removed from pandas in a future version. Use pandas.concat instead.\n",
      "  df_all=df_all.append(dict_df[\"df_corrected\"])\n"
     ]
    },
    {
     "name": "stdout",
     "output_type": "stream",
     "text": [
      ">>> Start downloading each station\n",
      ">>> Downloading 96310\n",
      "Check smhi.log for data download details!\n"
     ]
    },
    {
     "name": "stderr",
     "output_type": "stream",
     "text": [
      "C:\\Users\\MarlonVieiraPassos\\AppData\\Local\\Temp\\ipykernel_8500\\3869588013.py:9: FutureWarning: The frame.append method is deprecated and will be removed from pandas in a future version. Use pandas.concat instead.\n",
      "  df_all=df_all.append(dict_df[\"df_corrected\"])\n"
     ]
    },
    {
     "name": "stdout",
     "output_type": "stream",
     "text": [
      ">>> Start downloading each station\n",
      ">>> Downloading 53270\n",
      "Check smhi.log for data download details!\n"
     ]
    },
    {
     "name": "stderr",
     "output_type": "stream",
     "text": [
      "C:\\Users\\MarlonVieiraPassos\\AppData\\Local\\Temp\\ipykernel_8500\\3869588013.py:9: FutureWarning: The frame.append method is deprecated and will be removed from pandas in a future version. Use pandas.concat instead.\n",
      "  df_all=df_all.append(dict_df[\"df_corrected\"])\n"
     ]
    },
    {
     "name": "stdout",
     "output_type": "stream",
     "text": [
      ">>> Start downloading each station\n",
      ">>> Downloading 71140\n",
      "Check smhi.log for data download details!\n"
     ]
    },
    {
     "name": "stderr",
     "output_type": "stream",
     "text": [
      "C:\\Users\\MarlonVieiraPassos\\AppData\\Local\\Temp\\ipykernel_8500\\3869588013.py:9: FutureWarning: The frame.append method is deprecated and will be removed from pandas in a future version. Use pandas.concat instead.\n",
      "  df_all=df_all.append(dict_df[\"df_corrected\"])\n"
     ]
    },
    {
     "name": "stdout",
     "output_type": "stream",
     "text": [
      ">>> Start downloading each station\n",
      ">>> Downloading 182930\n",
      "Check smhi.log for data download details!\n"
     ]
    },
    {
     "name": "stderr",
     "output_type": "stream",
     "text": [
      "C:\\Users\\MarlonVieiraPassos\\AppData\\Local\\Temp\\ipykernel_8500\\3869588013.py:9: FutureWarning: The frame.append method is deprecated and will be removed from pandas in a future version. Use pandas.concat instead.\n",
      "  df_all=df_all.append(dict_df[\"df_corrected\"])\n"
     ]
    },
    {
     "name": "stdout",
     "output_type": "stream",
     "text": [
      ">>> Start downloading each station\n",
      ">>> Downloading 167730\n",
      "Check smhi.log for data download details!\n"
     ]
    },
    {
     "name": "stderr",
     "output_type": "stream",
     "text": [
      "C:\\Users\\MarlonVieiraPassos\\AppData\\Local\\Temp\\ipykernel_8500\\3869588013.py:9: FutureWarning: The frame.append method is deprecated and will be removed from pandas in a future version. Use pandas.concat instead.\n",
      "  df_all=df_all.append(dict_df[\"df_corrected\"])\n"
     ]
    },
    {
     "name": "stdout",
     "output_type": "stream",
     "text": [
      ">>> Start downloading each station\n",
      ">>> Downloading 171790\n",
      "Check smhi.log for data download details!\n"
     ]
    },
    {
     "name": "stderr",
     "output_type": "stream",
     "text": [
      "C:\\Users\\MarlonVieiraPassos\\AppData\\Local\\Temp\\ipykernel_8500\\3869588013.py:9: FutureWarning: The frame.append method is deprecated and will be removed from pandas in a future version. Use pandas.concat instead.\n",
      "  df_all=df_all.append(dict_df[\"df_corrected\"])\n"
     ]
    },
    {
     "name": "stdout",
     "output_type": "stream",
     "text": [
      ">>> Start downloading each station\n",
      ">>> Downloading 87450\n",
      "Check smhi.log for data download details!\n",
      ">>> Start downloading each station\n",
      ">>> Downloading 87440\n",
      "Check smhi.log for data download details!\n",
      ">>> Start downloading each station\n",
      ">>> Downloading 83210\n"
     ]
    },
    {
     "name": "stderr",
     "output_type": "stream",
     "text": [
      "C:\\Users\\MarlonVieiraPassos\\AppData\\Local\\Temp\\ipykernel_8500\\3869588013.py:9: FutureWarning: The frame.append method is deprecated and will be removed from pandas in a future version. Use pandas.concat instead.\n",
      "  df_all=df_all.append(dict_df[\"df_corrected\"])\n"
     ]
    },
    {
     "name": "stdout",
     "output_type": "stream",
     "text": [
      "Check smhi.log for data download details!\n"
     ]
    },
    {
     "name": "stderr",
     "output_type": "stream",
     "text": [
      "C:\\Users\\MarlonVieiraPassos\\AppData\\Local\\Temp\\ipykernel_8500\\3869588013.py:9: FutureWarning: The frame.append method is deprecated and will be removed from pandas in a future version. Use pandas.concat instead.\n",
      "  df_all=df_all.append(dict_df[\"df_corrected\"])\n"
     ]
    },
    {
     "name": "stdout",
     "output_type": "stream",
     "text": [
      ">>> Start downloading each station\n",
      ">>> Downloading 74640\n",
      "Check smhi.log for data download details!\n"
     ]
    },
    {
     "name": "stderr",
     "output_type": "stream",
     "text": [
      "C:\\Users\\MarlonVieiraPassos\\AppData\\Local\\Temp\\ipykernel_8500\\3869588013.py:9: FutureWarning: The frame.append method is deprecated and will be removed from pandas in a future version. Use pandas.concat instead.\n",
      "  df_all=df_all.append(dict_df[\"df_corrected\"])\n"
     ]
    },
    {
     "name": "stdout",
     "output_type": "stream",
     "text": [
      ">>> Start downloading each station\n",
      ">>> Downloading 192710\n",
      "Check smhi.log for data download details!\n"
     ]
    },
    {
     "name": "stderr",
     "output_type": "stream",
     "text": [
      "C:\\Users\\MarlonVieiraPassos\\AppData\\Local\\Temp\\ipykernel_8500\\3869588013.py:9: FutureWarning: The frame.append method is deprecated and will be removed from pandas in a future version. Use pandas.concat instead.\n",
      "  df_all=df_all.append(dict_df[\"df_corrected\"])\n"
     ]
    },
    {
     "name": "stdout",
     "output_type": "stream",
     "text": [
      ">>> Start downloading each station\n",
      ">>> Downloading 171770\n",
      "Check smhi.log for data download details!\n"
     ]
    },
    {
     "name": "stderr",
     "output_type": "stream",
     "text": [
      "C:\\Users\\MarlonVieiraPassos\\AppData\\Local\\Temp\\ipykernel_8500\\3869588013.py:9: FutureWarning: The frame.append method is deprecated and will be removed from pandas in a future version. Use pandas.concat instead.\n",
      "  df_all=df_all.append(dict_df[\"df_corrected\"])\n"
     ]
    },
    {
     "name": "stdout",
     "output_type": "stream",
     "text": [
      ">>> Start downloading each station\n",
      ">>> Downloading 171710\n",
      "Check smhi.log for data download details!\n"
     ]
    },
    {
     "name": "stderr",
     "output_type": "stream",
     "text": [
      "C:\\Users\\MarlonVieiraPassos\\AppData\\Local\\Temp\\ipykernel_8500\\3869588013.py:9: FutureWarning: The frame.append method is deprecated and will be removed from pandas in a future version. Use pandas.concat instead.\n",
      "  df_all=df_all.append(dict_df[\"df_corrected\"])\n"
     ]
    },
    {
     "name": "stdout",
     "output_type": "stream",
     "text": [
      ">>> Start downloading each station\n",
      ">>> Downloading 180770\n",
      "Check smhi.log for data download details!\n"
     ]
    },
    {
     "name": "stderr",
     "output_type": "stream",
     "text": [
      "C:\\Users\\MarlonVieiraPassos\\AppData\\Local\\Temp\\ipykernel_8500\\3869588013.py:9: FutureWarning: The frame.append method is deprecated and will be removed from pandas in a future version. Use pandas.concat instead.\n",
      "  df_all=df_all.append(dict_df[\"df_corrected\"])\n"
     ]
    },
    {
     "name": "stdout",
     "output_type": "stream",
     "text": [
      ">>> Start downloading each station\n",
      ">>> Downloading 146380\n",
      "Check smhi.log for data download details!\n"
     ]
    },
    {
     "name": "stderr",
     "output_type": "stream",
     "text": [
      "C:\\Users\\MarlonVieiraPassos\\AppData\\Local\\Temp\\ipykernel_8500\\3869588013.py:9: FutureWarning: The frame.append method is deprecated and will be removed from pandas in a future version. Use pandas.concat instead.\n",
      "  df_all=df_all.append(dict_df[\"df_corrected\"])\n"
     ]
    },
    {
     "name": "stdout",
     "output_type": "stream",
     "text": [
      ">>> Start downloading each station\n",
      ">>> Downloading 104120\n",
      "Check smhi.log for data download details!\n"
     ]
    },
    {
     "name": "stderr",
     "output_type": "stream",
     "text": [
      "C:\\Users\\MarlonVieiraPassos\\AppData\\Local\\Temp\\ipykernel_8500\\3869588013.py:9: FutureWarning: The frame.append method is deprecated and will be removed from pandas in a future version. Use pandas.concat instead.\n",
      "  df_all=df_all.append(dict_df[\"df_corrected\"])\n"
     ]
    },
    {
     "name": "stdout",
     "output_type": "stream",
     "text": [
      ">>> Start downloading each station\n",
      ">>> Downloading 105450\n",
      "Check smhi.log for data download details!\n",
      ">>> Start downloading each station\n",
      ">>> Downloading 91620\n",
      "Check smhi.log for data download details!\n",
      ">>> Start downloading each station\n",
      ">>> Downloading 65450\n"
     ]
    },
    {
     "name": "stderr",
     "output_type": "stream",
     "text": [
      "C:\\Users\\MarlonVieiraPassos\\AppData\\Local\\Temp\\ipykernel_8500\\3869588013.py:9: FutureWarning: The frame.append method is deprecated and will be removed from pandas in a future version. Use pandas.concat instead.\n",
      "  df_all=df_all.append(dict_df[\"df_corrected\"])\n"
     ]
    },
    {
     "name": "stdout",
     "output_type": "stream",
     "text": [
      "Check smhi.log for data download details!\n"
     ]
    },
    {
     "name": "stderr",
     "output_type": "stream",
     "text": [
      "C:\\Users\\MarlonVieiraPassos\\AppData\\Local\\Temp\\ipykernel_8500\\3869588013.py:9: FutureWarning: The frame.append method is deprecated and will be removed from pandas in a future version. Use pandas.concat instead.\n",
      "  df_all=df_all.append(dict_df[\"df_corrected\"])\n"
     ]
    },
    {
     "name": "stdout",
     "output_type": "stream",
     "text": [
      ">>> Start downloading each station\n",
      ">>> Downloading 63670\n",
      "Check smhi.log for data download details!\n"
     ]
    },
    {
     "name": "stderr",
     "output_type": "stream",
     "text": [
      "C:\\Users\\MarlonVieiraPassos\\AppData\\Local\\Temp\\ipykernel_8500\\3869588013.py:9: FutureWarning: The frame.append method is deprecated and will be removed from pandas in a future version. Use pandas.concat instead.\n",
      "  df_all=df_all.append(dict_df[\"df_corrected\"])\n"
     ]
    },
    {
     "name": "stdout",
     "output_type": "stream",
     "text": [
      ">>> Start downloading each station\n",
      ">>> Downloading 83320\n",
      "Check smhi.log for data download details!\n"
     ]
    },
    {
     "name": "stderr",
     "output_type": "stream",
     "text": [
      "C:\\Users\\MarlonVieiraPassos\\AppData\\Local\\Temp\\ipykernel_8500\\3869588013.py:9: FutureWarning: The frame.append method is deprecated and will be removed from pandas in a future version. Use pandas.concat instead.\n",
      "  df_all=df_all.append(dict_df[\"df_corrected\"])\n"
     ]
    },
    {
     "name": "stdout",
     "output_type": "stream",
     "text": [
      ">>> Start downloading each station\n",
      ">>> Downloading 103600\n",
      "Check smhi.log for data download details!\n"
     ]
    },
    {
     "name": "stderr",
     "output_type": "stream",
     "text": [
      "C:\\Users\\MarlonVieiraPassos\\AppData\\Local\\Temp\\ipykernel_8500\\3869588013.py:9: FutureWarning: The frame.append method is deprecated and will be removed from pandas in a future version. Use pandas.concat instead.\n",
      "  df_all=df_all.append(dict_df[\"df_corrected\"])\n"
     ]
    },
    {
     "name": "stdout",
     "output_type": "stream",
     "text": [
      ">>> Start downloading each station\n",
      ">>> Downloading 114510\n",
      "Check smhi.log for data download details!\n"
     ]
    },
    {
     "name": "stderr",
     "output_type": "stream",
     "text": [
      "C:\\Users\\MarlonVieiraPassos\\AppData\\Local\\Temp\\ipykernel_8500\\3869588013.py:9: FutureWarning: The frame.append method is deprecated and will be removed from pandas in a future version. Use pandas.concat instead.\n",
      "  df_all=df_all.append(dict_df[\"df_corrected\"])\n"
     ]
    },
    {
     "name": "stdout",
     "output_type": "stream",
     "text": [
      ">>> Start downloading each station\n",
      ">>> Downloading 161810\n",
      "Check smhi.log for data download details!\n"
     ]
    },
    {
     "name": "stderr",
     "output_type": "stream",
     "text": [
      "C:\\Users\\MarlonVieiraPassos\\AppData\\Local\\Temp\\ipykernel_8500\\3869588013.py:9: FutureWarning: The frame.append method is deprecated and will be removed from pandas in a future version. Use pandas.concat instead.\n",
      "  df_all=df_all.append(dict_df[\"df_corrected\"])\n"
     ]
    },
    {
     "name": "stdout",
     "output_type": "stream",
     "text": [
      ">>> Start downloading each station\n",
      ">>> Downloading 95350\n",
      "Check smhi.log for data download details!\n",
      ">>> Start downloading each station\n",
      ">>> Downloading 85250\n"
     ]
    },
    {
     "name": "stderr",
     "output_type": "stream",
     "text": [
      "C:\\Users\\MarlonVieiraPassos\\AppData\\Local\\Temp\\ipykernel_8500\\3869588013.py:9: FutureWarning: The frame.append method is deprecated and will be removed from pandas in a future version. Use pandas.concat instead.\n",
      "  df_all=df_all.append(dict_df[\"df_corrected\"])\n",
      "C:\\Users\\MarlonVieiraPassos\\AppData\\Local\\Temp\\ipykernel_8500\\3869588013.py:9: FutureWarning: The frame.append method is deprecated and will be removed from pandas in a future version. Use pandas.concat instead.\n",
      "  df_all=df_all.append(dict_df[\"df_corrected\"])\n"
     ]
    },
    {
     "name": "stdout",
     "output_type": "stream",
     "text": [
      "Check smhi.log for data download details!\n",
      ">>> Start downloading each station\n",
      ">>> Downloading 85240\n",
      "Check smhi.log for data download details!\n"
     ]
    },
    {
     "name": "stderr",
     "output_type": "stream",
     "text": [
      "C:\\Users\\MarlonVieiraPassos\\AppData\\Local\\Temp\\ipykernel_8500\\3869588013.py:9: FutureWarning: The frame.append method is deprecated and will be removed from pandas in a future version. Use pandas.concat instead.\n",
      "  df_all=df_all.append(dict_df[\"df_corrected\"])\n"
     ]
    },
    {
     "name": "stdout",
     "output_type": "stream",
     "text": [
      ">>> Start downloading each station\n",
      ">>> Downloading 134180\n",
      "Check smhi.log for data download details!\n"
     ]
    },
    {
     "name": "stderr",
     "output_type": "stream",
     "text": [
      "C:\\Users\\MarlonVieiraPassos\\AppData\\Local\\Temp\\ipykernel_8500\\3869588013.py:9: FutureWarning: The frame.append method is deprecated and will be removed from pandas in a future version. Use pandas.concat instead.\n",
      "  df_all=df_all.append(dict_df[\"df_corrected\"])\n"
     ]
    },
    {
     "name": "stdout",
     "output_type": "stream",
     "text": [
      ">>> Start downloading each station\n",
      ">>> Downloading 63500\n",
      "Check smhi.log for data download details!\n",
      ">>> Start downloading each station\n",
      ">>> Downloading 63510\n",
      "Check smhi.log for data download details!\n"
     ]
    },
    {
     "name": "stderr",
     "output_type": "stream",
     "text": [
      "C:\\Users\\MarlonVieiraPassos\\AppData\\Local\\Temp\\ipykernel_8500\\3869588013.py:9: FutureWarning: The frame.append method is deprecated and will be removed from pandas in a future version. Use pandas.concat instead.\n",
      "  df_all=df_all.append(dict_df[\"df_corrected\"])\n"
     ]
    },
    {
     "name": "stdout",
     "output_type": "stream",
     "text": [
      ">>> Start downloading each station\n",
      ">>> Downloading 63050\n",
      "Check smhi.log for data download details!\n"
     ]
    },
    {
     "name": "stderr",
     "output_type": "stream",
     "text": [
      "C:\\Users\\MarlonVieiraPassos\\AppData\\Local\\Temp\\ipykernel_8500\\3869588013.py:9: FutureWarning: The frame.append method is deprecated and will be removed from pandas in a future version. Use pandas.concat instead.\n",
      "  df_all=df_all.append(dict_df[\"df_corrected\"])\n"
     ]
    },
    {
     "name": "stdout",
     "output_type": "stream",
     "text": [
      ">>> Start downloading each station\n",
      ">>> Downloading 81130\n",
      "Check smhi.log for data download details!\n"
     ]
    },
    {
     "name": "stderr",
     "output_type": "stream",
     "text": [
      "C:\\Users\\MarlonVieiraPassos\\AppData\\Local\\Temp\\ipykernel_8500\\3869588013.py:9: FutureWarning: The frame.append method is deprecated and will be removed from pandas in a future version. Use pandas.concat instead.\n",
      "  df_all=df_all.append(dict_df[\"df_corrected\"])\n"
     ]
    },
    {
     "name": "stdout",
     "output_type": "stream",
     "text": [
      ">>> Start downloading each station\n",
      ">>> Downloading 126460\n",
      "Check smhi.log for data download details!\n"
     ]
    },
    {
     "name": "stderr",
     "output_type": "stream",
     "text": [
      "C:\\Users\\MarlonVieiraPassos\\AppData\\Local\\Temp\\ipykernel_8500\\3869588013.py:9: FutureWarning: The frame.append method is deprecated and will be removed from pandas in a future version. Use pandas.concat instead.\n",
      "  df_all=df_all.append(dict_df[\"df_corrected\"])\n"
     ]
    },
    {
     "name": "stdout",
     "output_type": "stream",
     "text": [
      ">>> Start downloading each station\n",
      ">>> Downloading 116500\n",
      "Check smhi.log for data download details!\n"
     ]
    },
    {
     "name": "stderr",
     "output_type": "stream",
     "text": [
      "C:\\Users\\MarlonVieiraPassos\\AppData\\Local\\Temp\\ipykernel_8500\\3869588013.py:9: FutureWarning: The frame.append method is deprecated and will be removed from pandas in a future version. Use pandas.concat instead.\n",
      "  df_all=df_all.append(dict_df[\"df_corrected\"])\n"
     ]
    },
    {
     "name": "stdout",
     "output_type": "stream",
     "text": [
      ">>> Start downloading each station\n",
      ">>> Downloading 122330\n",
      "Check smhi.log for data download details!\n"
     ]
    },
    {
     "name": "stderr",
     "output_type": "stream",
     "text": [
      "C:\\Users\\MarlonVieiraPassos\\AppData\\Local\\Temp\\ipykernel_8500\\3869588013.py:9: FutureWarning: The frame.append method is deprecated and will be removed from pandas in a future version. Use pandas.concat instead.\n",
      "  df_all=df_all.append(dict_df[\"df_corrected\"])\n"
     ]
    },
    {
     "name": "stdout",
     "output_type": "stream",
     "text": [
      ">>> Start downloading each station\n",
      ">>> Downloading 123070\n",
      "Check smhi.log for data download details!\n"
     ]
    },
    {
     "name": "stderr",
     "output_type": "stream",
     "text": [
      "C:\\Users\\MarlonVieiraPassos\\AppData\\Local\\Temp\\ipykernel_8500\\3869588013.py:9: FutureWarning: The frame.append method is deprecated and will be removed from pandas in a future version. Use pandas.concat instead.\n",
      "  df_all=df_all.append(dict_df[\"df_corrected\"])\n"
     ]
    },
    {
     "name": "stdout",
     "output_type": "stream",
     "text": [
      ">>> Start downloading each station\n",
      ">>> Downloading 74530\n",
      "Check smhi.log for data download details!\n"
     ]
    },
    {
     "name": "stderr",
     "output_type": "stream",
     "text": [
      "C:\\Users\\MarlonVieiraPassos\\AppData\\Local\\Temp\\ipykernel_8500\\3869588013.py:9: FutureWarning: The frame.append method is deprecated and will be removed from pandas in a future version. Use pandas.concat instead.\n",
      "  df_all=df_all.append(dict_df[\"df_corrected\"])\n"
     ]
    },
    {
     "name": "stdout",
     "output_type": "stream",
     "text": [
      ">>> Start downloading each station\n",
      ">>> Downloading 162870\n",
      "Check smhi.log for data download details!\n"
     ]
    },
    {
     "name": "stderr",
     "output_type": "stream",
     "text": [
      "C:\\Users\\MarlonVieiraPassos\\AppData\\Local\\Temp\\ipykernel_8500\\3869588013.py:9: FutureWarning: The frame.append method is deprecated and will be removed from pandas in a future version. Use pandas.concat instead.\n",
      "  df_all=df_all.append(dict_df[\"df_corrected\"])\n"
     ]
    },
    {
     "name": "stdout",
     "output_type": "stream",
     "text": [
      ">>> Start downloading each station\n",
      ">>> Downloading 162860\n",
      "Check smhi.log for data download details!\n"
     ]
    },
    {
     "name": "stderr",
     "output_type": "stream",
     "text": [
      "C:\\Users\\MarlonVieiraPassos\\AppData\\Local\\Temp\\ipykernel_8500\\3869588013.py:9: FutureWarning: The frame.append method is deprecated and will be removed from pandas in a future version. Use pandas.concat instead.\n",
      "  df_all=df_all.append(dict_df[\"df_corrected\"])\n"
     ]
    },
    {
     "name": "stdout",
     "output_type": "stream",
     "text": [
      ">>> Start downloading each station\n",
      ">>> Downloading 53430\n",
      "Check smhi.log for data download details!\n",
      ">>> Start downloading each station\n",
      ">>> Downloading 53440\n",
      "Check smhi.log for data download details!\n"
     ]
    },
    {
     "name": "stderr",
     "output_type": "stream",
     "text": [
      "C:\\Users\\MarlonVieiraPassos\\AppData\\Local\\Temp\\ipykernel_8500\\3869588013.py:9: FutureWarning: The frame.append method is deprecated and will be removed from pandas in a future version. Use pandas.concat instead.\n",
      "  df_all=df_all.append(dict_df[\"df_corrected\"])\n"
     ]
    },
    {
     "name": "stdout",
     "output_type": "stream",
     "text": [
      ">>> Start downloading each station\n",
      ">>> Downloading 53460\n",
      "Check smhi.log for data download details!\n"
     ]
    },
    {
     "name": "stderr",
     "output_type": "stream",
     "text": [
      "C:\\Users\\MarlonVieiraPassos\\AppData\\Local\\Temp\\ipykernel_8500\\3869588013.py:9: FutureWarning: The frame.append method is deprecated and will be removed from pandas in a future version. Use pandas.concat instead.\n",
      "  df_all=df_all.append(dict_df[\"df_corrected\"])\n"
     ]
    },
    {
     "name": "stdout",
     "output_type": "stream",
     "text": [
      ">>> Start downloading each station\n",
      ">>> Downloading 128390\n",
      "Check smhi.log for data download details!\n"
     ]
    },
    {
     "name": "stderr",
     "output_type": "stream",
     "text": [
      "C:\\Users\\MarlonVieiraPassos\\AppData\\Local\\Temp\\ipykernel_8500\\3869588013.py:9: FutureWarning: The frame.append method is deprecated and will be removed from pandas in a future version. Use pandas.concat instead.\n",
      "  df_all=df_all.append(dict_df[\"df_corrected\"])\n"
     ]
    },
    {
     "name": "stdout",
     "output_type": "stream",
     "text": [
      ">>> Start downloading each station\n",
      ">>> Downloading 83460\n",
      "Check smhi.log for data download details!\n"
     ]
    },
    {
     "name": "stderr",
     "output_type": "stream",
     "text": [
      "C:\\Users\\MarlonVieiraPassos\\AppData\\Local\\Temp\\ipykernel_8500\\3869588013.py:9: FutureWarning: The frame.append method is deprecated and will be removed from pandas in a future version. Use pandas.concat instead.\n",
      "  df_all=df_all.append(dict_df[\"df_corrected\"])\n"
     ]
    },
    {
     "name": "stdout",
     "output_type": "stream",
     "text": [
      ">>> Start downloading each station\n",
      ">>> Downloading 148330\n",
      "Check smhi.log for data download details!\n",
      ">>> Start downloading each station\n",
      ">>> Downloading 97240\n",
      "Check smhi.log for data download details!\n"
     ]
    },
    {
     "name": "stderr",
     "output_type": "stream",
     "text": [
      "C:\\Users\\MarlonVieiraPassos\\AppData\\Local\\Temp\\ipykernel_8500\\3869588013.py:9: FutureWarning: The frame.append method is deprecated and will be removed from pandas in a future version. Use pandas.concat instead.\n",
      "  df_all=df_all.append(dict_df[\"df_corrected\"])\n"
     ]
    },
    {
     "name": "stdout",
     "output_type": "stream",
     "text": [
      ">>> Start downloading each station\n",
      ">>> Downloading 83130\n",
      "Check smhi.log for data download details!\n",
      ">>> Start downloading each station\n",
      ">>> Downloading 137110\n"
     ]
    },
    {
     "name": "stderr",
     "output_type": "stream",
     "text": [
      "C:\\Users\\MarlonVieiraPassos\\AppData\\Local\\Temp\\ipykernel_8500\\3869588013.py:9: FutureWarning: The frame.append method is deprecated and will be removed from pandas in a future version. Use pandas.concat instead.\n",
      "  df_all=df_all.append(dict_df[\"df_corrected\"])\n"
     ]
    },
    {
     "name": "stdout",
     "output_type": "stream",
     "text": [
      "Check smhi.log for data download details!\n"
     ]
    },
    {
     "name": "stderr",
     "output_type": "stream",
     "text": [
      "C:\\Users\\MarlonVieiraPassos\\AppData\\Local\\Temp\\ipykernel_8500\\3869588013.py:9: FutureWarning: The frame.append method is deprecated and will be removed from pandas in a future version. Use pandas.concat instead.\n",
      "  df_all=df_all.append(dict_df[\"df_corrected\"])\n"
     ]
    },
    {
     "name": "stdout",
     "output_type": "stream",
     "text": [
      ">>> Start downloading each station\n",
      ">>> Downloading 188700\n",
      "Check smhi.log for data download details!\n"
     ]
    },
    {
     "name": "stderr",
     "output_type": "stream",
     "text": [
      "C:\\Users\\MarlonVieiraPassos\\AppData\\Local\\Temp\\ipykernel_8500\\3869588013.py:9: FutureWarning: The frame.append method is deprecated and will be removed from pandas in a future version. Use pandas.concat instead.\n",
      "  df_all=df_all.append(dict_df[\"df_corrected\"])\n"
     ]
    },
    {
     "name": "stdout",
     "output_type": "stream",
     "text": [
      ">>> Start downloading each station\n",
      ">>> Downloading 156730\n",
      "Check smhi.log for data download details!\n"
     ]
    },
    {
     "name": "stderr",
     "output_type": "stream",
     "text": [
      "C:\\Users\\MarlonVieiraPassos\\AppData\\Local\\Temp\\ipykernel_8500\\3869588013.py:9: FutureWarning: The frame.append method is deprecated and will be removed from pandas in a future version. Use pandas.concat instead.\n",
      "  df_all=df_all.append(dict_df[\"df_corrected\"])\n"
     ]
    },
    {
     "name": "stdout",
     "output_type": "stream",
     "text": [
      ">>> Start downloading each station\n",
      ">>> Downloading 127140\n",
      "Check smhi.log for data download details!\n"
     ]
    },
    {
     "name": "stderr",
     "output_type": "stream",
     "text": [
      "C:\\Users\\MarlonVieiraPassos\\AppData\\Local\\Temp\\ipykernel_8500\\3869588013.py:9: FutureWarning: The frame.append method is deprecated and will be removed from pandas in a future version. Use pandas.concat instead.\n",
      "  df_all=df_all.append(dict_df[\"df_corrected\"])\n"
     ]
    },
    {
     "name": "stdout",
     "output_type": "stream",
     "text": [
      ">>> Start downloading each station\n",
      ">>> Downloading 151220\n",
      "Check smhi.log for data download details!\n"
     ]
    },
    {
     "name": "stderr",
     "output_type": "stream",
     "text": [
      "C:\\Users\\MarlonVieiraPassos\\AppData\\Local\\Temp\\ipykernel_8500\\3869588013.py:9: FutureWarning: The frame.append method is deprecated and will be removed from pandas in a future version. Use pandas.concat instead.\n",
      "  df_all=df_all.append(dict_df[\"df_corrected\"])\n"
     ]
    },
    {
     "name": "stdout",
     "output_type": "stream",
     "text": [
      ">>> Start downloading each station\n",
      ">>> Downloading 53220\n",
      "Check smhi.log for data download details!\n"
     ]
    },
    {
     "name": "stderr",
     "output_type": "stream",
     "text": [
      "C:\\Users\\MarlonVieiraPassos\\AppData\\Local\\Temp\\ipykernel_8500\\3869588013.py:9: FutureWarning: The frame.append method is deprecated and will be removed from pandas in a future version. Use pandas.concat instead.\n",
      "  df_all=df_all.append(dict_df[\"df_corrected\"])\n"
     ]
    },
    {
     "name": "stdout",
     "output_type": "stream",
     "text": [
      ">>> Start downloading each station\n",
      ">>> Downloading 85040\n",
      "Check smhi.log for data download details!\n",
      ">>> Start downloading each station\n",
      ">>> Downloading 85050\n",
      "Check smhi.log for data download details!\n"
     ]
    },
    {
     "name": "stderr",
     "output_type": "stream",
     "text": [
      "C:\\Users\\MarlonVieiraPassos\\AppData\\Local\\Temp\\ipykernel_8500\\3869588013.py:9: FutureWarning: The frame.append method is deprecated and will be removed from pandas in a future version. Use pandas.concat instead.\n",
      "  df_all=df_all.append(dict_df[\"df_corrected\"])\n"
     ]
    },
    {
     "name": "stdout",
     "output_type": "stream",
     "text": [
      ">>> Start downloading each station\n",
      ">>> Downloading 180750\n",
      "Check smhi.log for data download details!\n",
      ">>> Start downloading each station\n",
      ">>> Downloading 53360\n",
      "Check smhi.log for data download details!\n",
      ">>> Start downloading each station\n",
      ">>> Downloading 53370\n",
      "Check smhi.log for data download details!\n"
     ]
    },
    {
     "name": "stderr",
     "output_type": "stream",
     "text": [
      "C:\\Users\\MarlonVieiraPassos\\AppData\\Local\\Temp\\ipykernel_8500\\3869588013.py:9: FutureWarning: The frame.append method is deprecated and will be removed from pandas in a future version. Use pandas.concat instead.\n",
      "  df_all=df_all.append(dict_df[\"df_corrected\"])\n"
     ]
    },
    {
     "name": "stdout",
     "output_type": "stream",
     "text": [
      ">>> Start downloading each station\n",
      ">>> Downloading 52350\n",
      "Check smhi.log for data download details!\n"
     ]
    },
    {
     "name": "stderr",
     "output_type": "stream",
     "text": [
      "C:\\Users\\MarlonVieiraPassos\\AppData\\Local\\Temp\\ipykernel_8500\\3869588013.py:9: FutureWarning: The frame.append method is deprecated and will be removed from pandas in a future version. Use pandas.concat instead.\n",
      "  df_all=df_all.append(dict_df[\"df_corrected\"])\n"
     ]
    },
    {
     "name": "stdout",
     "output_type": "stream",
     "text": [
      ">>> Start downloading each station\n",
      ">>> Downloading 53300\n",
      "Check smhi.log for data download details!\n",
      ">>> Start downloading each station\n",
      ">>> Downloading 103410\n"
     ]
    },
    {
     "name": "stderr",
     "output_type": "stream",
     "text": [
      "C:\\Users\\MarlonVieiraPassos\\AppData\\Local\\Temp\\ipykernel_8500\\3869588013.py:9: FutureWarning: The frame.append method is deprecated and will be removed from pandas in a future version. Use pandas.concat instead.\n",
      "  df_all=df_all.append(dict_df[\"df_corrected\"])\n"
     ]
    },
    {
     "name": "stdout",
     "output_type": "stream",
     "text": [
      "Check smhi.log for data download details!\n",
      ">>> Start downloading each station\n",
      ">>> Downloading 103420\n",
      "Check smhi.log for data download details!\n"
     ]
    },
    {
     "name": "stderr",
     "output_type": "stream",
     "text": [
      "C:\\Users\\MarlonVieiraPassos\\AppData\\Local\\Temp\\ipykernel_8500\\3869588013.py:9: FutureWarning: The frame.append method is deprecated and will be removed from pandas in a future version. Use pandas.concat instead.\n",
      "  df_all=df_all.append(dict_df[\"df_corrected\"])\n"
     ]
    },
    {
     "name": "stdout",
     "output_type": "stream",
     "text": [
      ">>> Start downloading each station\n",
      ">>> Downloading 158750\n",
      "Check smhi.log for data download details!\n",
      ">>> Start downloading each station\n",
      ">>> Downloading 158740\n",
      "Check smhi.log for data download details!\n"
     ]
    },
    {
     "name": "stderr",
     "output_type": "stream",
     "text": [
      "C:\\Users\\MarlonVieiraPassos\\AppData\\Local\\Temp\\ipykernel_8500\\3869588013.py:9: FutureWarning: The frame.append method is deprecated and will be removed from pandas in a future version. Use pandas.concat instead.\n",
      "  df_all=df_all.append(dict_df[\"df_corrected\"])\n"
     ]
    },
    {
     "name": "stdout",
     "output_type": "stream",
     "text": [
      ">>> Start downloading each station\n",
      ">>> Downloading 85520\n",
      "Check smhi.log for data download details!\n"
     ]
    },
    {
     "name": "stderr",
     "output_type": "stream",
     "text": [
      "C:\\Users\\MarlonVieiraPassos\\AppData\\Local\\Temp\\ipykernel_8500\\3869588013.py:9: FutureWarning: The frame.append method is deprecated and will be removed from pandas in a future version. Use pandas.concat instead.\n",
      "  df_all=df_all.append(dict_df[\"df_corrected\"])\n"
     ]
    },
    {
     "name": "stdout",
     "output_type": "stream",
     "text": [
      ">>> Start downloading each station\n",
      ">>> Downloading 97170\n",
      "Check smhi.log for data download details!\n"
     ]
    },
    {
     "name": "stderr",
     "output_type": "stream",
     "text": [
      "C:\\Users\\MarlonVieiraPassos\\AppData\\Local\\Temp\\ipykernel_8500\\3869588013.py:9: FutureWarning: The frame.append method is deprecated and will be removed from pandas in a future version. Use pandas.concat instead.\n",
      "  df_all=df_all.append(dict_df[\"df_corrected\"])\n"
     ]
    },
    {
     "name": "stdout",
     "output_type": "stream",
     "text": [
      ">>> Start downloading each station\n",
      ">>> Downloading 65130\n",
      "Check smhi.log for data download details!\n"
     ]
    },
    {
     "name": "stderr",
     "output_type": "stream",
     "text": [
      "C:\\Users\\MarlonVieiraPassos\\AppData\\Local\\Temp\\ipykernel_8500\\3869588013.py:9: FutureWarning: The frame.append method is deprecated and will be removed from pandas in a future version. Use pandas.concat instead.\n",
      "  df_all=df_all.append(dict_df[\"df_corrected\"])\n"
     ]
    },
    {
     "name": "stdout",
     "output_type": "stream",
     "text": [
      ">>> Start downloading each station\n",
      ">>> Downloading 83440\n",
      "Check smhi.log for data download details!\n",
      ">>> Start downloading each station\n",
      ">>> Downloading 63280\n"
     ]
    },
    {
     "name": "stderr",
     "output_type": "stream",
     "text": [
      "C:\\Users\\MarlonVieiraPassos\\AppData\\Local\\Temp\\ipykernel_8500\\3869588013.py:9: FutureWarning: The frame.append method is deprecated and will be removed from pandas in a future version. Use pandas.concat instead.\n",
      "  df_all=df_all.append(dict_df[\"df_corrected\"])\n"
     ]
    },
    {
     "name": "stdout",
     "output_type": "stream",
     "text": [
      "Check smhi.log for data download details!\n",
      ">>> Start downloading each station\n",
      ">>> Downloading 172920\n",
      "Check smhi.log for data download details!\n",
      ">>> Start downloading each station\n",
      ">>> Downloading 155720\n"
     ]
    },
    {
     "name": "stderr",
     "output_type": "stream",
     "text": [
      "C:\\Users\\MarlonVieiraPassos\\AppData\\Local\\Temp\\ipykernel_8500\\3869588013.py:9: FutureWarning: The frame.append method is deprecated and will be removed from pandas in a future version. Use pandas.concat instead.\n",
      "  df_all=df_all.append(dict_df[\"df_corrected\"])\n"
     ]
    },
    {
     "name": "stdout",
     "output_type": "stream",
     "text": [
      "Check smhi.log for data download details!\n"
     ]
    },
    {
     "name": "stderr",
     "output_type": "stream",
     "text": [
      "C:\\Users\\MarlonVieiraPassos\\AppData\\Local\\Temp\\ipykernel_8500\\3869588013.py:9: FutureWarning: The frame.append method is deprecated and will be removed from pandas in a future version. Use pandas.concat instead.\n",
      "  df_all=df_all.append(dict_df[\"df_corrected\"])\n"
     ]
    },
    {
     "name": "stdout",
     "output_type": "stream",
     "text": [
      ">>> Start downloading each station\n",
      ">>> Downloading 86330\n",
      "Check smhi.log for data download details!\n"
     ]
    },
    {
     "name": "stderr",
     "output_type": "stream",
     "text": [
      "C:\\Users\\MarlonVieiraPassos\\AppData\\Local\\Temp\\ipykernel_8500\\3869588013.py:9: FutureWarning: The frame.append method is deprecated and will be removed from pandas in a future version. Use pandas.concat instead.\n",
      "  df_all=df_all.append(dict_df[\"df_corrected\"])\n"
     ]
    },
    {
     "name": "stdout",
     "output_type": "stream",
     "text": [
      ">>> Start downloading each station\n",
      ">>> Downloading 96070\n",
      "Check smhi.log for data download details!\n"
     ]
    },
    {
     "name": "stderr",
     "output_type": "stream",
     "text": [
      "C:\\Users\\MarlonVieiraPassos\\AppData\\Local\\Temp\\ipykernel_8500\\3869588013.py:9: FutureWarning: The frame.append method is deprecated and will be removed from pandas in a future version. Use pandas.concat instead.\n",
      "  df_all=df_all.append(dict_df[\"df_corrected\"])\n"
     ]
    },
    {
     "name": "stdout",
     "output_type": "stream",
     "text": [
      ">>> Start downloading each station\n",
      ">>> Downloading 166910\n",
      "Check smhi.log for data download details!\n"
     ]
    },
    {
     "name": "stderr",
     "output_type": "stream",
     "text": [
      "C:\\Users\\MarlonVieiraPassos\\AppData\\Local\\Temp\\ipykernel_8500\\3869588013.py:9: FutureWarning: The frame.append method is deprecated and will be removed from pandas in a future version. Use pandas.concat instead.\n",
      "  df_all=df_all.append(dict_df[\"df_corrected\"])\n"
     ]
    },
    {
     "name": "stdout",
     "output_type": "stream",
     "text": [
      ">>> Start downloading each station\n",
      ">>> Downloading 166900\n",
      "Check smhi.log for data download details!\n"
     ]
    },
    {
     "name": "stderr",
     "output_type": "stream",
     "text": [
      "C:\\Users\\MarlonVieiraPassos\\AppData\\Local\\Temp\\ipykernel_8500\\3869588013.py:9: FutureWarning: The frame.append method is deprecated and will be removed from pandas in a future version. Use pandas.concat instead.\n",
      "  df_all=df_all.append(dict_df[\"df_corrected\"])\n"
     ]
    },
    {
     "name": "stdout",
     "output_type": "stream",
     "text": [
      ">>> Start downloading each station\n",
      ">>> Downloading 133630\n",
      "Check smhi.log for data download details!\n"
     ]
    },
    {
     "name": "stderr",
     "output_type": "stream",
     "text": [
      "C:\\Users\\MarlonVieiraPassos\\AppData\\Local\\Temp\\ipykernel_8500\\3869588013.py:9: FutureWarning: The frame.append method is deprecated and will be removed from pandas in a future version. Use pandas.concat instead.\n",
      "  df_all=df_all.append(dict_df[\"df_corrected\"])\n"
     ]
    },
    {
     "name": "stdout",
     "output_type": "stream",
     "text": [
      ">>> Start downloading each station\n",
      ">>> Downloading 104300\n",
      "Check smhi.log for data download details!\n",
      ">>> Start downloading each station\n",
      ">>> Downloading 93360\n"
     ]
    },
    {
     "name": "stderr",
     "output_type": "stream",
     "text": [
      "C:\\Users\\MarlonVieiraPassos\\AppData\\Local\\Temp\\ipykernel_8500\\3869588013.py:9: FutureWarning: The frame.append method is deprecated and will be removed from pandas in a future version. Use pandas.concat instead.\n",
      "  df_all=df_all.append(dict_df[\"df_corrected\"])\n"
     ]
    },
    {
     "name": "stdout",
     "output_type": "stream",
     "text": [
      "Check smhi.log for data download details!\n"
     ]
    },
    {
     "name": "stderr",
     "output_type": "stream",
     "text": [
      "C:\\Users\\MarlonVieiraPassos\\AppData\\Local\\Temp\\ipykernel_8500\\3869588013.py:9: FutureWarning: The frame.append method is deprecated and will be removed from pandas in a future version. Use pandas.concat instead.\n",
      "  df_all=df_all.append(dict_df[\"df_corrected\"])\n"
     ]
    },
    {
     "name": "stdout",
     "output_type": "stream",
     "text": [
      ">>> Start downloading each station\n",
      ">>> Downloading 73570\n",
      "Check smhi.log for data download details!\n"
     ]
    },
    {
     "name": "stderr",
     "output_type": "stream",
     "text": [
      "C:\\Users\\MarlonVieiraPassos\\AppData\\Local\\Temp\\ipykernel_8500\\3869588013.py:9: FutureWarning: The frame.append method is deprecated and will be removed from pandas in a future version. Use pandas.concat instead.\n",
      "  df_all=df_all.append(dict_df[\"df_corrected\"])\n"
     ]
    },
    {
     "name": "stdout",
     "output_type": "stream",
     "text": [
      ">>> Start downloading each station\n",
      ">>> Downloading 104580\n",
      "Check smhi.log for data download details!\n",
      ">>> Start downloading each station\n",
      ">>> Downloading 77170\n",
      "Check smhi.log for data download details!\n"
     ]
    },
    {
     "name": "stderr",
     "output_type": "stream",
     "text": [
      "C:\\Users\\MarlonVieiraPassos\\AppData\\Local\\Temp\\ipykernel_8500\\3869588013.py:9: FutureWarning: The frame.append method is deprecated and will be removed from pandas in a future version. Use pandas.concat instead.\n",
      "  df_all=df_all.append(dict_df[\"df_corrected\"])\n"
     ]
    },
    {
     "name": "stdout",
     "output_type": "stream",
     "text": [
      ">>> Start downloading each station\n",
      ">>> Downloading 85330\n",
      "Check smhi.log for data download details!\n"
     ]
    },
    {
     "name": "stderr",
     "output_type": "stream",
     "text": [
      "C:\\Users\\MarlonVieiraPassos\\AppData\\Local\\Temp\\ipykernel_8500\\3869588013.py:9: FutureWarning: The frame.append method is deprecated and will be removed from pandas in a future version. Use pandas.concat instead.\n",
      "  df_all=df_all.append(dict_df[\"df_corrected\"])\n"
     ]
    },
    {
     "name": "stdout",
     "output_type": "stream",
     "text": [
      ">>> Start downloading each station\n",
      ">>> Downloading 73560\n",
      "Check smhi.log for data download details!\n"
     ]
    },
    {
     "name": "stderr",
     "output_type": "stream",
     "text": [
      "C:\\Users\\MarlonVieiraPassos\\AppData\\Local\\Temp\\ipykernel_8500\\3869588013.py:9: FutureWarning: The frame.append method is deprecated and will be removed from pandas in a future version. Use pandas.concat instead.\n",
      "  df_all=df_all.append(dict_df[\"df_corrected\"])\n"
     ]
    },
    {
     "name": "stdout",
     "output_type": "stream",
     "text": [
      ">>> Start downloading each station\n",
      ">>> Downloading 62130\n",
      "Check smhi.log for data download details!\n"
     ]
    },
    {
     "name": "stderr",
     "output_type": "stream",
     "text": [
      "C:\\Users\\MarlonVieiraPassos\\AppData\\Local\\Temp\\ipykernel_8500\\3869588013.py:9: FutureWarning: The frame.append method is deprecated and will be removed from pandas in a future version. Use pandas.concat instead.\n",
      "  df_all=df_all.append(dict_df[\"df_corrected\"])\n"
     ]
    },
    {
     "name": "stdout",
     "output_type": "stream",
     "text": [
      ">>> Start downloading each station\n",
      ">>> Downloading 144160\n",
      "Check smhi.log for data download details!\n"
     ]
    },
    {
     "name": "stderr",
     "output_type": "stream",
     "text": [
      "C:\\Users\\MarlonVieiraPassos\\AppData\\Local\\Temp\\ipykernel_8500\\3869588013.py:9: FutureWarning: The frame.append method is deprecated and will be removed from pandas in a future version. Use pandas.concat instead.\n",
      "  df_all=df_all.append(dict_df[\"df_corrected\"])\n"
     ]
    },
    {
     "name": "stdout",
     "output_type": "stream",
     "text": [
      ">>> Start downloading each station\n",
      ">>> Downloading 183980\n",
      "Check smhi.log for data download details!\n"
     ]
    },
    {
     "name": "stderr",
     "output_type": "stream",
     "text": [
      "C:\\Users\\MarlonVieiraPassos\\AppData\\Local\\Temp\\ipykernel_8500\\3869588013.py:9: FutureWarning: The frame.append method is deprecated and will be removed from pandas in a future version. Use pandas.concat instead.\n",
      "  df_all=df_all.append(dict_df[\"df_corrected\"])\n"
     ]
    },
    {
     "name": "stdout",
     "output_type": "stream",
     "text": [
      ">>> Start downloading each station\n",
      ">>> Downloading 170850\n",
      "Check smhi.log for data download details!\n",
      ">>> Start downloading each station\n",
      ">>> Downloading 160790\n",
      "Check smhi.log for data download details!\n"
     ]
    },
    {
     "name": "stderr",
     "output_type": "stream",
     "text": [
      "C:\\Users\\MarlonVieiraPassos\\AppData\\Local\\Temp\\ipykernel_8500\\3869588013.py:9: FutureWarning: The frame.append method is deprecated and will be removed from pandas in a future version. Use pandas.concat instead.\n",
      "  df_all=df_all.append(dict_df[\"df_corrected\"])\n"
     ]
    },
    {
     "name": "stdout",
     "output_type": "stream",
     "text": [
      ">>> Start downloading each station\n",
      ">>> Downloading 93190\n",
      "Check smhi.log for data download details!\n"
     ]
    },
    {
     "name": "stderr",
     "output_type": "stream",
     "text": [
      "C:\\Users\\MarlonVieiraPassos\\AppData\\Local\\Temp\\ipykernel_8500\\3869588013.py:9: FutureWarning: The frame.append method is deprecated and will be removed from pandas in a future version. Use pandas.concat instead.\n",
      "  df_all=df_all.append(dict_df[\"df_corrected\"])\n"
     ]
    },
    {
     "name": "stdout",
     "output_type": "stream",
     "text": [
      ">>> Start downloading each station\n",
      ">>> Downloading 78320\n",
      "Check smhi.log for data download details!\n"
     ]
    },
    {
     "name": "stderr",
     "output_type": "stream",
     "text": [
      "C:\\Users\\MarlonVieiraPassos\\AppData\\Local\\Temp\\ipykernel_8500\\3869588013.py:9: FutureWarning: The frame.append method is deprecated and will be removed from pandas in a future version. Use pandas.concat instead.\n",
      "  df_all=df_all.append(dict_df[\"df_corrected\"])\n"
     ]
    },
    {
     "name": "stdout",
     "output_type": "stream",
     "text": [
      ">>> Start downloading each station\n",
      ">>> Downloading 75240\n",
      "Check smhi.log for data download details!\n",
      ">>> Start downloading each station\n",
      ">>> Downloading 75250\n",
      "Check smhi.log for data download details!\n",
      ">>> Start downloading each station\n",
      ">>> Downloading 81060\n"
     ]
    },
    {
     "name": "stderr",
     "output_type": "stream",
     "text": [
      "C:\\Users\\MarlonVieiraPassos\\AppData\\Local\\Temp\\ipykernel_8500\\3869588013.py:9: FutureWarning: The frame.append method is deprecated and will be removed from pandas in a future version. Use pandas.concat instead.\n",
      "  df_all=df_all.append(dict_df[\"df_corrected\"])\n"
     ]
    },
    {
     "name": "stdout",
     "output_type": "stream",
     "text": [
      "Check smhi.log for data download details!\n",
      ">>> Start downloading each station\n",
      ">>> Downloading 81050\n"
     ]
    },
    {
     "name": "stderr",
     "output_type": "stream",
     "text": [
      "C:\\Users\\MarlonVieiraPassos\\AppData\\Local\\Temp\\ipykernel_8500\\3869588013.py:9: FutureWarning: The frame.append method is deprecated and will be removed from pandas in a future version. Use pandas.concat instead.\n",
      "  df_all=df_all.append(dict_df[\"df_corrected\"])\n"
     ]
    },
    {
     "name": "stdout",
     "output_type": "stream",
     "text": [
      "Check smhi.log for data download details!\n"
     ]
    },
    {
     "name": "stderr",
     "output_type": "stream",
     "text": [
      "C:\\Users\\MarlonVieiraPassos\\AppData\\Local\\Temp\\ipykernel_8500\\3869588013.py:9: FutureWarning: The frame.append method is deprecated and will be removed from pandas in a future version. Use pandas.concat instead.\n",
      "  df_all=df_all.append(dict_df[\"df_corrected\"])\n"
     ]
    },
    {
     "name": "stdout",
     "output_type": "stream",
     "text": [
      ">>> Start downloading each station\n",
      ">>> Downloading 66320\n",
      "Check smhi.log for data download details!\n",
      ">>> Start downloading each station\n",
      ">>> Downloading 133190\n"
     ]
    },
    {
     "name": "stderr",
     "output_type": "stream",
     "text": [
      "C:\\Users\\MarlonVieiraPassos\\AppData\\Local\\Temp\\ipykernel_8500\\3869588013.py:9: FutureWarning: The frame.append method is deprecated and will be removed from pandas in a future version. Use pandas.concat instead.\n",
      "  df_all=df_all.append(dict_df[\"df_corrected\"])\n"
     ]
    },
    {
     "name": "stdout",
     "output_type": "stream",
     "text": [
      "Check smhi.log for data download details!\n",
      ">>> Start downloading each station\n",
      ">>> Downloading 74630\n"
     ]
    },
    {
     "name": "stderr",
     "output_type": "stream",
     "text": [
      "C:\\Users\\MarlonVieiraPassos\\AppData\\Local\\Temp\\ipykernel_8500\\3869588013.py:9: FutureWarning: The frame.append method is deprecated and will be removed from pandas in a future version. Use pandas.concat instead.\n",
      "  df_all=df_all.append(dict_df[\"df_corrected\"])\n"
     ]
    },
    {
     "name": "stdout",
     "output_type": "stream",
     "text": [
      "Check smhi.log for data download details!\n"
     ]
    },
    {
     "name": "stderr",
     "output_type": "stream",
     "text": [
      "C:\\Users\\MarlonVieiraPassos\\AppData\\Local\\Temp\\ipykernel_8500\\3869588013.py:9: FutureWarning: The frame.append method is deprecated and will be removed from pandas in a future version. Use pandas.concat instead.\n",
      "  df_all=df_all.append(dict_df[\"df_corrected\"])\n"
     ]
    },
    {
     "name": "stdout",
     "output_type": "stream",
     "text": [
      ">>> Start downloading each station\n",
      ">>> Downloading 191900\n",
      "Check smhi.log for data download details!\n"
     ]
    },
    {
     "name": "stderr",
     "output_type": "stream",
     "text": [
      "C:\\Users\\MarlonVieiraPassos\\AppData\\Local\\Temp\\ipykernel_8500\\3869588013.py:9: FutureWarning: The frame.append method is deprecated and will be removed from pandas in a future version. Use pandas.concat instead.\n",
      "  df_all=df_all.append(dict_df[\"df_corrected\"])\n"
     ]
    },
    {
     "name": "stdout",
     "output_type": "stream",
     "text": [
      ">>> Start downloading each station\n",
      ">>> Downloading 191910\n",
      "Check smhi.log for data download details!\n"
     ]
    },
    {
     "name": "stderr",
     "output_type": "stream",
     "text": [
      "C:\\Users\\MarlonVieiraPassos\\AppData\\Local\\Temp\\ipykernel_8500\\3869588013.py:9: FutureWarning: The frame.append method is deprecated and will be removed from pandas in a future version. Use pandas.concat instead.\n",
      "  df_all=df_all.append(dict_df[\"df_corrected\"])\n"
     ]
    },
    {
     "name": "stdout",
     "output_type": "stream",
     "text": [
      ">>> Start downloading each station\n",
      ">>> Downloading 172680\n",
      "Check smhi.log for data download details!\n"
     ]
    },
    {
     "name": "stderr",
     "output_type": "stream",
     "text": [
      "C:\\Users\\MarlonVieiraPassos\\AppData\\Local\\Temp\\ipykernel_8500\\3869588013.py:9: FutureWarning: The frame.append method is deprecated and will be removed from pandas in a future version. Use pandas.concat instead.\n",
      "  df_all=df_all.append(dict_df[\"df_corrected\"])\n"
     ]
    },
    {
     "name": "stdout",
     "output_type": "stream",
     "text": [
      ">>> Start downloading each station\n",
      ">>> Downloading 170930\n",
      "Check smhi.log for data download details!\n",
      ">>> Start downloading each station\n",
      ">>> Downloading 171920\n"
     ]
    },
    {
     "name": "stderr",
     "output_type": "stream",
     "text": [
      "C:\\Users\\MarlonVieiraPassos\\AppData\\Local\\Temp\\ipykernel_8500\\3869588013.py:9: FutureWarning: The frame.append method is deprecated and will be removed from pandas in a future version. Use pandas.concat instead.\n",
      "  df_all=df_all.append(dict_df[\"df_corrected\"])\n"
     ]
    },
    {
     "name": "stdout",
     "output_type": "stream",
     "text": [
      "Check smhi.log for data download details!\n",
      ">>> Start downloading each station\n",
      ">>> Downloading 83420\n",
      "Check smhi.log for data download details!\n",
      ">>> Start downloading each station\n",
      ">>> Downloading 71190\n"
     ]
    },
    {
     "name": "stderr",
     "output_type": "stream",
     "text": [
      "C:\\Users\\MarlonVieiraPassos\\AppData\\Local\\Temp\\ipykernel_8500\\3869588013.py:9: FutureWarning: The frame.append method is deprecated and will be removed from pandas in a future version. Use pandas.concat instead.\n",
      "  df_all=df_all.append(dict_df[\"df_corrected\"])\n"
     ]
    },
    {
     "name": "stdout",
     "output_type": "stream",
     "text": [
      "Check smhi.log for data download details!\n",
      ">>> Start downloading each station\n",
      ">>> Downloading 179950\n",
      "Check smhi.log for data download details!\n"
     ]
    },
    {
     "name": "stderr",
     "output_type": "stream",
     "text": [
      "C:\\Users\\MarlonVieiraPassos\\AppData\\Local\\Temp\\ipykernel_8500\\3869588013.py:9: FutureWarning: The frame.append method is deprecated and will be removed from pandas in a future version. Use pandas.concat instead.\n",
      "  df_all=df_all.append(dict_df[\"df_corrected\"])\n"
     ]
    },
    {
     "name": "stdout",
     "output_type": "stream",
     "text": [
      ">>> Start downloading each station\n",
      ">>> Downloading 179960\n",
      "Check smhi.log for data download details!\n"
     ]
    },
    {
     "name": "stderr",
     "output_type": "stream",
     "text": [
      "C:\\Users\\MarlonVieiraPassos\\AppData\\Local\\Temp\\ipykernel_8500\\3869588013.py:9: FutureWarning: The frame.append method is deprecated and will be removed from pandas in a future version. Use pandas.concat instead.\n",
      "  df_all=df_all.append(dict_df[\"df_corrected\"])\n"
     ]
    },
    {
     "name": "stdout",
     "output_type": "stream",
     "text": [
      ">>> Start downloading each station\n",
      ">>> Downloading 167600\n",
      "Check smhi.log for data download details!\n"
     ]
    },
    {
     "name": "stderr",
     "output_type": "stream",
     "text": [
      "C:\\Users\\MarlonVieiraPassos\\AppData\\Local\\Temp\\ipykernel_8500\\3869588013.py:9: FutureWarning: The frame.append method is deprecated and will be removed from pandas in a future version. Use pandas.concat instead.\n",
      "  df_all=df_all.append(dict_df[\"df_corrected\"])\n"
     ]
    },
    {
     "name": "stdout",
     "output_type": "stream",
     "text": [
      ">>> Start downloading each station\n",
      ">>> Downloading 114630\n",
      "Check smhi.log for data download details!\n"
     ]
    },
    {
     "name": "stderr",
     "output_type": "stream",
     "text": [
      "C:\\Users\\MarlonVieiraPassos\\AppData\\Local\\Temp\\ipykernel_8500\\3869588013.py:9: FutureWarning: The frame.append method is deprecated and will be removed from pandas in a future version. Use pandas.concat instead.\n",
      "  df_all=df_all.append(dict_df[\"df_corrected\"])\n"
     ]
    },
    {
     "name": "stdout",
     "output_type": "stream",
     "text": [
      ">>> Start downloading each station\n",
      ">>> Downloading 95300\n",
      "Check smhi.log for data download details!\n"
     ]
    },
    {
     "name": "stderr",
     "output_type": "stream",
     "text": [
      "C:\\Users\\MarlonVieiraPassos\\AppData\\Local\\Temp\\ipykernel_8500\\3869588013.py:9: FutureWarning: The frame.append method is deprecated and will be removed from pandas in a future version. Use pandas.concat instead.\n",
      "  df_all=df_all.append(dict_df[\"df_corrected\"])\n"
     ]
    },
    {
     "name": "stdout",
     "output_type": "stream",
     "text": [
      ">>> Start downloading each station\n",
      ">>> Downloading 134090\n",
      "Check smhi.log for data download details!\n",
      ">>> Start downloading each station\n",
      ">>> Downloading 81540\n"
     ]
    },
    {
     "name": "stderr",
     "output_type": "stream",
     "text": [
      "C:\\Users\\MarlonVieiraPassos\\AppData\\Local\\Temp\\ipykernel_8500\\3869588013.py:9: FutureWarning: The frame.append method is deprecated and will be removed from pandas in a future version. Use pandas.concat instead.\n",
      "  df_all=df_all.append(dict_df[\"df_corrected\"])\n"
     ]
    },
    {
     "name": "stdout",
     "output_type": "stream",
     "text": [
      "Check smhi.log for data download details!\n",
      ">>> Start downloading each station\n",
      ">>> Downloading 139340\n",
      "Check smhi.log for data download details!\n",
      ">>> Start downloading each station\n",
      ">>> Downloading 128510\n",
      "Check smhi.log for data download details!\n"
     ]
    },
    {
     "name": "stderr",
     "output_type": "stream",
     "text": [
      "C:\\Users\\MarlonVieiraPassos\\AppData\\Local\\Temp\\ipykernel_8500\\3869588013.py:9: FutureWarning: The frame.append method is deprecated and will be removed from pandas in a future version. Use pandas.concat instead.\n",
      "  df_all=df_all.append(dict_df[\"df_corrected\"])\n"
     ]
    },
    {
     "name": "stdout",
     "output_type": "stream",
     "text": [
      ">>> Start downloading each station\n",
      ">>> Downloading 171780\n",
      "Check smhi.log for data download details!\n"
     ]
    },
    {
     "name": "stderr",
     "output_type": "stream",
     "text": [
      "C:\\Users\\MarlonVieiraPassos\\AppData\\Local\\Temp\\ipykernel_8500\\3869588013.py:9: FutureWarning: The frame.append method is deprecated and will be removed from pandas in a future version. Use pandas.concat instead.\n",
      "  df_all=df_all.append(dict_df[\"df_corrected\"])\n"
     ]
    },
    {
     "name": "stdout",
     "output_type": "stream",
     "text": [
      ">>> Start downloading each station\n",
      ">>> Downloading 86360\n",
      "Check smhi.log for data download details!\n"
     ]
    },
    {
     "name": "stderr",
     "output_type": "stream",
     "text": [
      "C:\\Users\\MarlonVieiraPassos\\AppData\\Local\\Temp\\ipykernel_8500\\3869588013.py:9: FutureWarning: The frame.append method is deprecated and will be removed from pandas in a future version. Use pandas.concat instead.\n",
      "  df_all=df_all.append(dict_df[\"df_corrected\"])\n"
     ]
    },
    {
     "name": "stdout",
     "output_type": "stream",
     "text": [
      ">>> Start downloading each station\n",
      ">>> Downloading 86350\n",
      "Check smhi.log for data download details!\n"
     ]
    },
    {
     "name": "stderr",
     "output_type": "stream",
     "text": [
      "C:\\Users\\MarlonVieiraPassos\\AppData\\Local\\Temp\\ipykernel_8500\\3869588013.py:9: FutureWarning: The frame.append method is deprecated and will be removed from pandas in a future version. Use pandas.concat instead.\n",
      "  df_all=df_all.append(dict_df[\"df_corrected\"])\n"
     ]
    },
    {
     "name": "stdout",
     "output_type": "stream",
     "text": [
      ">>> Start downloading each station\n",
      ">>> Downloading 86340\n",
      "Check smhi.log for data download details!\n",
      ">>> Start downloading each station\n",
      ">>> Downloading 86370\n"
     ]
    },
    {
     "name": "stderr",
     "output_type": "stream",
     "text": [
      "C:\\Users\\MarlonVieiraPassos\\AppData\\Local\\Temp\\ipykernel_8500\\3869588013.py:9: FutureWarning: The frame.append method is deprecated and will be removed from pandas in a future version. Use pandas.concat instead.\n",
      "  df_all=df_all.append(dict_df[\"df_corrected\"])\n"
     ]
    },
    {
     "name": "stdout",
     "output_type": "stream",
     "text": [
      "Check smhi.log for data download details!\n"
     ]
    },
    {
     "name": "stderr",
     "output_type": "stream",
     "text": [
      "C:\\Users\\MarlonVieiraPassos\\AppData\\Local\\Temp\\ipykernel_8500\\3869588013.py:9: FutureWarning: The frame.append method is deprecated and will be removed from pandas in a future version. Use pandas.concat instead.\n",
      "  df_all=df_all.append(dict_df[\"df_corrected\"])\n"
     ]
    },
    {
     "name": "stdout",
     "output_type": "stream",
     "text": [
      ">>> Start downloading each station\n",
      ">>> Downloading 157600\n",
      "Check smhi.log for data download details!\n"
     ]
    },
    {
     "name": "stderr",
     "output_type": "stream",
     "text": [
      "C:\\Users\\MarlonVieiraPassos\\AppData\\Local\\Temp\\ipykernel_8500\\3869588013.py:9: FutureWarning: The frame.append method is deprecated and will be removed from pandas in a future version. Use pandas.concat instead.\n",
      "  df_all=df_all.append(dict_df[\"df_corrected\"])\n"
     ]
    },
    {
     "name": "stdout",
     "output_type": "stream",
     "text": [
      ">>> Start downloading each station\n",
      ">>> Downloading 136270\n",
      "Check smhi.log for data download details!\n"
     ]
    },
    {
     "name": "stderr",
     "output_type": "stream",
     "text": [
      "C:\\Users\\MarlonVieiraPassos\\AppData\\Local\\Temp\\ipykernel_8500\\3869588013.py:9: FutureWarning: The frame.append method is deprecated and will be removed from pandas in a future version. Use pandas.concat instead.\n",
      "  df_all=df_all.append(dict_df[\"df_corrected\"])\n"
     ]
    },
    {
     "name": "stdout",
     "output_type": "stream",
     "text": [
      ">>> Start downloading each station\n",
      ">>> Downloading 98460\n",
      "Check smhi.log for data download details!\n",
      ">>> Start downloading each station\n",
      ">>> Downloading 98510\n",
      "Check smhi.log for data download details!\n"
     ]
    },
    {
     "name": "stderr",
     "output_type": "stream",
     "text": [
      "C:\\Users\\MarlonVieiraPassos\\AppData\\Local\\Temp\\ipykernel_8500\\3869588013.py:9: FutureWarning: The frame.append method is deprecated and will be removed from pandas in a future version. Use pandas.concat instead.\n",
      "  df_all=df_all.append(dict_df[\"df_corrected\"])\n"
     ]
    },
    {
     "name": "stdout",
     "output_type": "stream",
     "text": [
      ">>> Start downloading each station\n",
      ">>> Downloading 145260\n",
      "Check smhi.log for data download details!\n"
     ]
    },
    {
     "name": "stderr",
     "output_type": "stream",
     "text": [
      "C:\\Users\\MarlonVieiraPassos\\AppData\\Local\\Temp\\ipykernel_8500\\3869588013.py:9: FutureWarning: The frame.append method is deprecated and will be removed from pandas in a future version. Use pandas.concat instead.\n",
      "  df_all=df_all.append(dict_df[\"df_corrected\"])\n"
     ]
    },
    {
     "name": "stdout",
     "output_type": "stream",
     "text": [
      ">>> Start downloading each station\n",
      ">>> Downloading 97160\n",
      "Check smhi.log for data download details!\n"
     ]
    },
    {
     "name": "stderr",
     "output_type": "stream",
     "text": [
      "C:\\Users\\MarlonVieiraPassos\\AppData\\Local\\Temp\\ipykernel_8500\\3869588013.py:9: FutureWarning: The frame.append method is deprecated and will be removed from pandas in a future version. Use pandas.concat instead.\n",
      "  df_all=df_all.append(dict_df[\"df_corrected\"])\n"
     ]
    },
    {
     "name": "stdout",
     "output_type": "stream",
     "text": [
      ">>> Start downloading each station\n",
      ">>> Downloading 149540\n",
      "Check smhi.log for data download details!\n",
      ">>> Start downloading each station\n",
      ">>> Downloading 149560\n",
      "Check smhi.log for data download details!\n"
     ]
    },
    {
     "name": "stderr",
     "output_type": "stream",
     "text": [
      "C:\\Users\\MarlonVieiraPassos\\AppData\\Local\\Temp\\ipykernel_8500\\3869588013.py:9: FutureWarning: The frame.append method is deprecated and will be removed from pandas in a future version. Use pandas.concat instead.\n",
      "  df_all=df_all.append(dict_df[\"df_corrected\"])\n"
     ]
    },
    {
     "name": "stdout",
     "output_type": "stream",
     "text": [
      ">>> Start downloading each station\n",
      ">>> Downloading 97180\n",
      "Check smhi.log for data download details!\n"
     ]
    },
    {
     "name": "stderr",
     "output_type": "stream",
     "text": [
      "C:\\Users\\MarlonVieiraPassos\\AppData\\Local\\Temp\\ipykernel_8500\\3869588013.py:9: FutureWarning: The frame.append method is deprecated and will be removed from pandas in a future version. Use pandas.concat instead.\n",
      "  df_all=df_all.append(dict_df[\"df_corrected\"])\n"
     ]
    },
    {
     "name": "stdout",
     "output_type": "stream",
     "text": [
      ">>> Start downloading each station\n",
      ">>> Downloading 62140\n",
      "Check smhi.log for data download details!\n"
     ]
    },
    {
     "name": "stderr",
     "output_type": "stream",
     "text": [
      "C:\\Users\\MarlonVieiraPassos\\AppData\\Local\\Temp\\ipykernel_8500\\3869588013.py:9: FutureWarning: The frame.append method is deprecated and will be removed from pandas in a future version. Use pandas.concat instead.\n",
      "  df_all=df_all.append(dict_df[\"df_corrected\"])\n"
     ]
    },
    {
     "name": "stdout",
     "output_type": "stream",
     "text": [
      ">>> Start downloading each station\n",
      ">>> Downloading 86660\n",
      "Check smhi.log for data download details!\n"
     ]
    },
    {
     "name": "stderr",
     "output_type": "stream",
     "text": [
      "C:\\Users\\MarlonVieiraPassos\\AppData\\Local\\Temp\\ipykernel_8500\\3869588013.py:9: FutureWarning: The frame.append method is deprecated and will be removed from pandas in a future version. Use pandas.concat instead.\n",
      "  df_all=df_all.append(dict_df[\"df_corrected\"])\n"
     ]
    },
    {
     "name": "stdout",
     "output_type": "stream",
     "text": [
      ">>> Start downloading each station\n",
      ">>> Downloading 86480\n",
      "Check smhi.log for data download details!\n"
     ]
    },
    {
     "name": "stderr",
     "output_type": "stream",
     "text": [
      "C:\\Users\\MarlonVieiraPassos\\AppData\\Local\\Temp\\ipykernel_8500\\3869588013.py:9: FutureWarning: The frame.append method is deprecated and will be removed from pandas in a future version. Use pandas.concat instead.\n",
      "  df_all=df_all.append(dict_df[\"df_corrected\"])\n"
     ]
    },
    {
     "name": "stdout",
     "output_type": "stream",
     "text": [
      ">>> Start downloading each station\n",
      ">>> Downloading 87570\n",
      "Check smhi.log for data download details!\n",
      ">>> Start downloading each station\n",
      ">>> Downloading 74390\n"
     ]
    },
    {
     "name": "stderr",
     "output_type": "stream",
     "text": [
      "C:\\Users\\MarlonVieiraPassos\\AppData\\Local\\Temp\\ipykernel_8500\\3869588013.py:9: FutureWarning: The frame.append method is deprecated and will be removed from pandas in a future version. Use pandas.concat instead.\n",
      "  df_all=df_all.append(dict_df[\"df_corrected\"])\n"
     ]
    },
    {
     "name": "stdout",
     "output_type": "stream",
     "text": [
      "Check smhi.log for data download details!\n"
     ]
    },
    {
     "name": "stderr",
     "output_type": "stream",
     "text": [
      "C:\\Users\\MarlonVieiraPassos\\AppData\\Local\\Temp\\ipykernel_8500\\3869588013.py:9: FutureWarning: The frame.append method is deprecated and will be removed from pandas in a future version. Use pandas.concat instead.\n",
      "  df_all=df_all.append(dict_df[\"df_corrected\"])\n"
     ]
    },
    {
     "name": "stdout",
     "output_type": "stream",
     "text": [
      ">>> Start downloading each station\n",
      ">>> Downloading 78040\n",
      "Check smhi.log for data download details!\n"
     ]
    },
    {
     "name": "stderr",
     "output_type": "stream",
     "text": [
      "C:\\Users\\MarlonVieiraPassos\\AppData\\Local\\Temp\\ipykernel_8500\\3869588013.py:9: FutureWarning: The frame.append method is deprecated and will be removed from pandas in a future version. Use pandas.concat instead.\n",
      "  df_all=df_all.append(dict_df[\"df_corrected\"])\n"
     ]
    },
    {
     "name": "stdout",
     "output_type": "stream",
     "text": [
      ">>> Start downloading each station\n",
      ">>> Downloading 65080\n",
      "Check smhi.log for data download details!\n"
     ]
    },
    {
     "name": "stderr",
     "output_type": "stream",
     "text": [
      "C:\\Users\\MarlonVieiraPassos\\AppData\\Local\\Temp\\ipykernel_8500\\3869588013.py:9: FutureWarning: The frame.append method is deprecated and will be removed from pandas in a future version. Use pandas.concat instead.\n",
      "  df_all=df_all.append(dict_df[\"df_corrected\"])\n"
     ]
    },
    {
     "name": "stdout",
     "output_type": "stream",
     "text": [
      ">>> Start downloading each station\n",
      ">>> Downloading 74240\n",
      "Check smhi.log for data download details!\n"
     ]
    },
    {
     "name": "stderr",
     "output_type": "stream",
     "text": [
      "C:\\Users\\MarlonVieiraPassos\\AppData\\Local\\Temp\\ipykernel_8500\\3869588013.py:9: FutureWarning: The frame.append method is deprecated and will be removed from pandas in a future version. Use pandas.concat instead.\n",
      "  df_all=df_all.append(dict_df[\"df_corrected\"])\n"
     ]
    },
    {
     "name": "stdout",
     "output_type": "stream",
     "text": [
      ">>> Start downloading each station\n",
      ">>> Downloading 137070\n",
      "Check smhi.log for data download details!\n"
     ]
    },
    {
     "name": "stderr",
     "output_type": "stream",
     "text": [
      "C:\\Users\\MarlonVieiraPassos\\AppData\\Local\\Temp\\ipykernel_8500\\3869588013.py:9: FutureWarning: The frame.append method is deprecated and will be removed from pandas in a future version. Use pandas.concat instead.\n",
      "  df_all=df_all.append(dict_df[\"df_corrected\"])\n"
     ]
    },
    {
     "name": "stdout",
     "output_type": "stream",
     "text": [
      ">>> Start downloading each station\n",
      ">>> Downloading 76530\n",
      "Check smhi.log for data download details!\n"
     ]
    },
    {
     "name": "stderr",
     "output_type": "stream",
     "text": [
      "C:\\Users\\MarlonVieiraPassos\\AppData\\Local\\Temp\\ipykernel_8500\\3869588013.py:9: FutureWarning: The frame.append method is deprecated and will be removed from pandas in a future version. Use pandas.concat instead.\n",
      "  df_all=df_all.append(dict_df[\"df_corrected\"])\n"
     ]
    },
    {
     "name": "stdout",
     "output_type": "stream",
     "text": [
      ">>> Start downloading each station\n",
      ">>> Downloading 64170\n",
      "Check smhi.log for data download details!\n"
     ]
    },
    {
     "name": "stderr",
     "output_type": "stream",
     "text": [
      "C:\\Users\\MarlonVieiraPassos\\AppData\\Local\\Temp\\ipykernel_8500\\3869588013.py:9: FutureWarning: The frame.append method is deprecated and will be removed from pandas in a future version. Use pandas.concat instead.\n",
      "  df_all=df_all.append(dict_df[\"df_corrected\"])\n"
     ]
    },
    {
     "name": "stdout",
     "output_type": "stream",
     "text": [
      ">>> Start downloading each station\n",
      ">>> Downloading 162980\n",
      "Check smhi.log for data download details!\n"
     ]
    },
    {
     "name": "stderr",
     "output_type": "stream",
     "text": [
      "C:\\Users\\MarlonVieiraPassos\\AppData\\Local\\Temp\\ipykernel_8500\\3869588013.py:9: FutureWarning: The frame.append method is deprecated and will be removed from pandas in a future version. Use pandas.concat instead.\n",
      "  df_all=df_all.append(dict_df[\"df_corrected\"])\n"
     ]
    },
    {
     "name": "stdout",
     "output_type": "stream",
     "text": [
      ">>> Start downloading each station\n",
      ">>> Downloading 63220\n",
      "Check smhi.log for data download details!\n",
      ">>> Start downloading each station\n",
      ">>> Downloading 52360\n",
      "Check smhi.log for data download details!\n"
     ]
    },
    {
     "name": "stderr",
     "output_type": "stream",
     "text": [
      "C:\\Users\\MarlonVieiraPassos\\AppData\\Local\\Temp\\ipykernel_8500\\3869588013.py:9: FutureWarning: The frame.append method is deprecated and will be removed from pandas in a future version. Use pandas.concat instead.\n",
      "  df_all=df_all.append(dict_df[\"df_corrected\"])\n"
     ]
    },
    {
     "name": "stdout",
     "output_type": "stream",
     "text": [
      ">>> Start downloading each station\n",
      ">>> Downloading 76160\n",
      "Check smhi.log for data download details!\n"
     ]
    },
    {
     "name": "stderr",
     "output_type": "stream",
     "text": [
      "C:\\Users\\MarlonVieiraPassos\\AppData\\Local\\Temp\\ipykernel_8500\\3869588013.py:9: FutureWarning: The frame.append method is deprecated and will be removed from pandas in a future version. Use pandas.concat instead.\n",
      "  df_all=df_all.append(dict_df[\"df_corrected\"])\n"
     ]
    },
    {
     "name": "stdout",
     "output_type": "stream",
     "text": [
      ">>> Start downloading each station\n",
      ">>> Downloading 87400\n",
      "Check smhi.log for data download details!\n"
     ]
    },
    {
     "name": "stderr",
     "output_type": "stream",
     "text": [
      "C:\\Users\\MarlonVieiraPassos\\AppData\\Local\\Temp\\ipykernel_8500\\3869588013.py:9: FutureWarning: The frame.append method is deprecated and will be removed from pandas in a future version. Use pandas.concat instead.\n",
      "  df_all=df_all.append(dict_df[\"df_corrected\"])\n"
     ]
    },
    {
     "name": "stdout",
     "output_type": "stream",
     "text": [
      ">>> Start downloading each station\n",
      ">>> Downloading 172940\n",
      "Check smhi.log for data download details!\n"
     ]
    },
    {
     "name": "stderr",
     "output_type": "stream",
     "text": [
      "C:\\Users\\MarlonVieiraPassos\\AppData\\Local\\Temp\\ipykernel_8500\\3869588013.py:9: FutureWarning: The frame.append method is deprecated and will be removed from pandas in a future version. Use pandas.concat instead.\n",
      "  df_all=df_all.append(dict_df[\"df_corrected\"])\n"
     ]
    },
    {
     "name": "stdout",
     "output_type": "stream",
     "text": [
      ">>> Start downloading each station\n",
      ">>> Downloading 183760\n",
      "Check smhi.log for data download details!\n"
     ]
    },
    {
     "name": "stderr",
     "output_type": "stream",
     "text": [
      "C:\\Users\\MarlonVieiraPassos\\AppData\\Local\\Temp\\ipykernel_8500\\3869588013.py:9: FutureWarning: The frame.append method is deprecated and will be removed from pandas in a future version. Use pandas.concat instead.\n",
      "  df_all=df_all.append(dict_df[\"df_corrected\"])\n"
     ]
    },
    {
     "name": "stdout",
     "output_type": "stream",
     "text": [
      ">>> Start downloading each station\n",
      ">>> Downloading 183750\n",
      "Check smhi.log for data download details!\n"
     ]
    },
    {
     "name": "stderr",
     "output_type": "stream",
     "text": [
      "C:\\Users\\MarlonVieiraPassos\\AppData\\Local\\Temp\\ipykernel_8500\\3869588013.py:9: FutureWarning: The frame.append method is deprecated and will be removed from pandas in a future version. Use pandas.concat instead.\n",
      "  df_all=df_all.append(dict_df[\"df_corrected\"])\n"
     ]
    },
    {
     "name": "stdout",
     "output_type": "stream",
     "text": [
      ">>> Start downloading each station\n",
      ">>> Downloading 182910\n",
      "Check smhi.log for data download details!\n"
     ]
    },
    {
     "name": "stderr",
     "output_type": "stream",
     "text": [
      "C:\\Users\\MarlonVieiraPassos\\AppData\\Local\\Temp\\ipykernel_8500\\3869588013.py:9: FutureWarning: The frame.append method is deprecated and will be removed from pandas in a future version. Use pandas.concat instead.\n",
      "  df_all=df_all.append(dict_df[\"df_corrected\"])\n"
     ]
    },
    {
     "name": "stdout",
     "output_type": "stream",
     "text": [
      ">>> Start downloading each station\n",
      ">>> Downloading 94450\n",
      "Check smhi.log for data download details!\n"
     ]
    },
    {
     "name": "stderr",
     "output_type": "stream",
     "text": [
      "C:\\Users\\MarlonVieiraPassos\\AppData\\Local\\Temp\\ipykernel_8500\\3869588013.py:9: FutureWarning: The frame.append method is deprecated and will be removed from pandas in a future version. Use pandas.concat instead.\n",
      "  df_all=df_all.append(dict_df[\"df_corrected\"])\n"
     ]
    },
    {
     "name": "stdout",
     "output_type": "stream",
     "text": [
      ">>> Start downloading each station\n",
      ">>> Downloading 149340\n",
      "Check smhi.log for data download details!\n"
     ]
    },
    {
     "name": "stderr",
     "output_type": "stream",
     "text": [
      "C:\\Users\\MarlonVieiraPassos\\AppData\\Local\\Temp\\ipykernel_8500\\3869588013.py:9: FutureWarning: The frame.append method is deprecated and will be removed from pandas in a future version. Use pandas.concat instead.\n",
      "  df_all=df_all.append(dict_df[\"df_corrected\"])\n"
     ]
    },
    {
     "name": "stdout",
     "output_type": "stream",
     "text": [
      ">>> Start downloading each station\n",
      ">>> Downloading 161710\n",
      "Check smhi.log for data download details!\n",
      ">>> Start downloading each station\n",
      ">>> Downloading 161790\n",
      "Check smhi.log for data download details!\n",
      ">>> Start downloading each station\n",
      ">>> Downloading 161770\n",
      "Check smhi.log for data download details!\n"
     ]
    },
    {
     "name": "stderr",
     "output_type": "stream",
     "text": [
      "C:\\Users\\MarlonVieiraPassos\\AppData\\Local\\Temp\\ipykernel_8500\\3869588013.py:9: FutureWarning: The frame.append method is deprecated and will be removed from pandas in a future version. Use pandas.concat instead.\n",
      "  df_all=df_all.append(dict_df[\"df_corrected\"])\n"
     ]
    },
    {
     "name": "stdout",
     "output_type": "stream",
     "text": [
      ">>> Start downloading each station\n",
      ">>> Downloading 169980\n",
      "Check smhi.log for data download details!\n"
     ]
    },
    {
     "name": "stderr",
     "output_type": "stream",
     "text": [
      "C:\\Users\\MarlonVieiraPassos\\AppData\\Local\\Temp\\ipykernel_8500\\3869588013.py:9: FutureWarning: The frame.append method is deprecated and will be removed from pandas in a future version. Use pandas.concat instead.\n",
      "  df_all=df_all.append(dict_df[\"df_corrected\"])\n"
     ]
    },
    {
     "name": "stdout",
     "output_type": "stream",
     "text": [
      ">>> Start downloading each station\n",
      ">>> Downloading 74440\n",
      "Check smhi.log for data download details!\n"
     ]
    },
    {
     "name": "stderr",
     "output_type": "stream",
     "text": [
      "C:\\Users\\MarlonVieiraPassos\\AppData\\Local\\Temp\\ipykernel_8500\\3869588013.py:9: FutureWarning: The frame.append method is deprecated and will be removed from pandas in a future version. Use pandas.concat instead.\n",
      "  df_all=df_all.append(dict_df[\"df_corrected\"])\n"
     ]
    },
    {
     "name": "stdout",
     "output_type": "stream",
     "text": [
      ">>> Start downloading each station\n",
      ">>> Downloading 171810\n",
      "Check smhi.log for data download details!\n"
     ]
    },
    {
     "name": "stderr",
     "output_type": "stream",
     "text": [
      "C:\\Users\\MarlonVieiraPassos\\AppData\\Local\\Temp\\ipykernel_8500\\3869588013.py:9: FutureWarning: The frame.append method is deprecated and will be removed from pandas in a future version. Use pandas.concat instead.\n",
      "  df_all=df_all.append(dict_df[\"df_corrected\"])\n"
     ]
    },
    {
     "name": "stdout",
     "output_type": "stream",
     "text": [
      ">>> Start downloading each station\n",
      ">>> Downloading 171820\n",
      "Check smhi.log for data download details!\n",
      ">>> Start downloading each station\n",
      ">>> Downloading 136320\n"
     ]
    },
    {
     "name": "stderr",
     "output_type": "stream",
     "text": [
      "C:\\Users\\MarlonVieiraPassos\\AppData\\Local\\Temp\\ipykernel_8500\\3869588013.py:9: FutureWarning: The frame.append method is deprecated and will be removed from pandas in a future version. Use pandas.concat instead.\n",
      "  df_all=df_all.append(dict_df[\"df_corrected\"])\n"
     ]
    },
    {
     "name": "stdout",
     "output_type": "stream",
     "text": [
      "Check smhi.log for data download details!\n"
     ]
    },
    {
     "name": "stderr",
     "output_type": "stream",
     "text": [
      "C:\\Users\\MarlonVieiraPassos\\AppData\\Local\\Temp\\ipykernel_8500\\3869588013.py:9: FutureWarning: The frame.append method is deprecated and will be removed from pandas in a future version. Use pandas.concat instead.\n",
      "  df_all=df_all.append(dict_df[\"df_corrected\"])\n"
     ]
    },
    {
     "name": "stdout",
     "output_type": "stream",
     "text": [
      ">>> Start downloading each station\n",
      ">>> Downloading 74490\n",
      "Check smhi.log for data download details!\n"
     ]
    },
    {
     "name": "stderr",
     "output_type": "stream",
     "text": [
      "C:\\Users\\MarlonVieiraPassos\\AppData\\Local\\Temp\\ipykernel_8500\\3869588013.py:9: FutureWarning: The frame.append method is deprecated and will be removed from pandas in a future version. Use pandas.concat instead.\n",
      "  df_all=df_all.append(dict_df[\"df_corrected\"])\n"
     ]
    },
    {
     "name": "stdout",
     "output_type": "stream",
     "text": [
      ">>> Start downloading each station\n",
      ">>> Downloading 169930\n",
      "Check smhi.log for data download details!\n"
     ]
    },
    {
     "name": "stderr",
     "output_type": "stream",
     "text": [
      "C:\\Users\\MarlonVieiraPassos\\AppData\\Local\\Temp\\ipykernel_8500\\3869588013.py:9: FutureWarning: The frame.append method is deprecated and will be removed from pandas in a future version. Use pandas.concat instead.\n",
      "  df_all=df_all.append(dict_df[\"df_corrected\"])\n"
     ]
    },
    {
     "name": "stdout",
     "output_type": "stream",
     "text": [
      ">>> Start downloading each station\n",
      ">>> Downloading 83280\n",
      "Check smhi.log for data download details!\n",
      ">>> Start downloading each station\n",
      ">>> Downloading 189720\n",
      "Check smhi.log for data download details!\n"
     ]
    },
    {
     "name": "stderr",
     "output_type": "stream",
     "text": [
      "C:\\Users\\MarlonVieiraPassos\\AppData\\Local\\Temp\\ipykernel_8500\\3869588013.py:9: FutureWarning: The frame.append method is deprecated and will be removed from pandas in a future version. Use pandas.concat instead.\n",
      "  df_all=df_all.append(dict_df[\"df_corrected\"])\n"
     ]
    },
    {
     "name": "stdout",
     "output_type": "stream",
     "text": [
      ">>> Start downloading each station\n",
      ">>> Downloading 150090\n",
      "Check smhi.log for data download details!\n"
     ]
    },
    {
     "name": "stderr",
     "output_type": "stream",
     "text": [
      "C:\\Users\\MarlonVieiraPassos\\AppData\\Local\\Temp\\ipykernel_8500\\3869588013.py:9: FutureWarning: The frame.append method is deprecated and will be removed from pandas in a future version. Use pandas.concat instead.\n",
      "  df_all=df_all.append(dict_df[\"df_corrected\"])\n"
     ]
    },
    {
     "name": "stdout",
     "output_type": "stream",
     "text": [
      ">>> Start downloading each station\n",
      ">>> Downloading 95490\n",
      "Check smhi.log for data download details!\n"
     ]
    },
    {
     "name": "stderr",
     "output_type": "stream",
     "text": [
      "C:\\Users\\MarlonVieiraPassos\\AppData\\Local\\Temp\\ipykernel_8500\\3869588013.py:9: FutureWarning: The frame.append method is deprecated and will be removed from pandas in a future version. Use pandas.concat instead.\n",
      "  df_all=df_all.append(dict_df[\"df_corrected\"])\n"
     ]
    },
    {
     "name": "stdout",
     "output_type": "stream",
     "text": [
      ">>> Start downloading each station\n",
      ">>> Downloading 188830\n",
      "Check smhi.log for data download details!\n"
     ]
    },
    {
     "name": "stderr",
     "output_type": "stream",
     "text": [
      "C:\\Users\\MarlonVieiraPassos\\AppData\\Local\\Temp\\ipykernel_8500\\3869588013.py:9: FutureWarning: The frame.append method is deprecated and will be removed from pandas in a future version. Use pandas.concat instead.\n",
      "  df_all=df_all.append(dict_df[\"df_corrected\"])\n"
     ]
    },
    {
     "name": "stdout",
     "output_type": "stream",
     "text": [
      ">>> Start downloading each station\n",
      ">>> Downloading 72150\n",
      "Check smhi.log for data download details!\n"
     ]
    },
    {
     "name": "stderr",
     "output_type": "stream",
     "text": [
      "C:\\Users\\MarlonVieiraPassos\\AppData\\Local\\Temp\\ipykernel_8500\\3869588013.py:9: FutureWarning: The frame.append method is deprecated and will be removed from pandas in a future version. Use pandas.concat instead.\n",
      "  df_all=df_all.append(dict_df[\"df_corrected\"])\n"
     ]
    },
    {
     "name": "stdout",
     "output_type": "stream",
     "text": [
      ">>> Start downloading each station\n",
      ">>> Downloading 72160\n",
      "Check smhi.log for data download details!\n"
     ]
    },
    {
     "name": "stderr",
     "output_type": "stream",
     "text": [
      "C:\\Users\\MarlonVieiraPassos\\AppData\\Local\\Temp\\ipykernel_8500\\3869588013.py:9: FutureWarning: The frame.append method is deprecated and will be removed from pandas in a future version. Use pandas.concat instead.\n",
      "  df_all=df_all.append(dict_df[\"df_corrected\"])\n"
     ]
    },
    {
     "name": "stdout",
     "output_type": "stream",
     "text": [
      ">>> Start downloading each station\n",
      ">>> Downloading 64600\n",
      "Check smhi.log for data download details!\n"
     ]
    },
    {
     "name": "stderr",
     "output_type": "stream",
     "text": [
      "C:\\Users\\MarlonVieiraPassos\\AppData\\Local\\Temp\\ipykernel_8500\\3869588013.py:9: FutureWarning: The frame.append method is deprecated and will be removed from pandas in a future version. Use pandas.concat instead.\n",
      "  df_all=df_all.append(dict_df[\"df_corrected\"])\n"
     ]
    },
    {
     "name": "stdout",
     "output_type": "stream",
     "text": [
      ">>> Start downloading each station\n",
      ">>> Downloading 86570\n",
      "Check smhi.log for data download details!\n"
     ]
    },
    {
     "name": "stderr",
     "output_type": "stream",
     "text": [
      "C:\\Users\\MarlonVieiraPassos\\AppData\\Local\\Temp\\ipykernel_8500\\3869588013.py:9: FutureWarning: The frame.append method is deprecated and will be removed from pandas in a future version. Use pandas.concat instead.\n",
      "  df_all=df_all.append(dict_df[\"df_corrected\"])\n"
     ]
    },
    {
     "name": "stdout",
     "output_type": "stream",
     "text": [
      ">>> Start downloading each station\n",
      ">>> Downloading 108110\n",
      "Check smhi.log for data download details!\n"
     ]
    },
    {
     "name": "stderr",
     "output_type": "stream",
     "text": [
      "C:\\Users\\MarlonVieiraPassos\\AppData\\Local\\Temp\\ipykernel_8500\\3869588013.py:9: FutureWarning: The frame.append method is deprecated and will be removed from pandas in a future version. Use pandas.concat instead.\n",
      "  df_all=df_all.append(dict_df[\"df_corrected\"])\n"
     ]
    },
    {
     "name": "stdout",
     "output_type": "stream",
     "text": [
      ">>> Start downloading each station\n",
      ">>> Downloading 146150\n",
      "Check smhi.log for data download details!\n"
     ]
    },
    {
     "name": "stderr",
     "output_type": "stream",
     "text": [
      "C:\\Users\\MarlonVieiraPassos\\AppData\\Local\\Temp\\ipykernel_8500\\3869588013.py:9: FutureWarning: The frame.append method is deprecated and will be removed from pandas in a future version. Use pandas.concat instead.\n",
      "  df_all=df_all.append(dict_df[\"df_corrected\"])\n"
     ]
    },
    {
     "name": "stdout",
     "output_type": "stream",
     "text": [
      ">>> Start downloading each station\n",
      ">>> Downloading 177920\n",
      "Check smhi.log for data download details!\n"
     ]
    },
    {
     "name": "stderr",
     "output_type": "stream",
     "text": [
      "C:\\Users\\MarlonVieiraPassos\\AppData\\Local\\Temp\\ipykernel_8500\\3869588013.py:9: FutureWarning: The frame.append method is deprecated and will be removed from pandas in a future version. Use pandas.concat instead.\n",
      "  df_all=df_all.append(dict_df[\"df_corrected\"])\n"
     ]
    },
    {
     "name": "stdout",
     "output_type": "stream",
     "text": [
      ">>> Start downloading each station\n",
      ">>> Downloading 177930\n",
      "Check smhi.log for data download details!\n"
     ]
    },
    {
     "name": "stderr",
     "output_type": "stream",
     "text": [
      "C:\\Users\\MarlonVieiraPassos\\AppData\\Local\\Temp\\ipykernel_8500\\3869588013.py:9: FutureWarning: The frame.append method is deprecated and will be removed from pandas in a future version. Use pandas.concat instead.\n",
      "  df_all=df_all.append(dict_df[\"df_corrected\"])\n"
     ]
    },
    {
     "name": "stdout",
     "output_type": "stream",
     "text": [
      ">>> Start downloading each station\n",
      ">>> Downloading 150110\n",
      "Check smhi.log for data download details!\n"
     ]
    },
    {
     "name": "stderr",
     "output_type": "stream",
     "text": [
      "C:\\Users\\MarlonVieiraPassos\\AppData\\Local\\Temp\\ipykernel_8500\\3869588013.py:9: FutureWarning: The frame.append method is deprecated and will be removed from pandas in a future version. Use pandas.concat instead.\n",
      "  df_all=df_all.append(dict_df[\"df_corrected\"])\n"
     ]
    },
    {
     "name": "stdout",
     "output_type": "stream",
     "text": [
      ">>> Start downloading each station\n",
      ">>> Downloading 78310\n",
      "Check smhi.log for data download details!\n"
     ]
    },
    {
     "name": "stderr",
     "output_type": "stream",
     "text": [
      "C:\\Users\\MarlonVieiraPassos\\AppData\\Local\\Temp\\ipykernel_8500\\3869588013.py:9: FutureWarning: The frame.append method is deprecated and will be removed from pandas in a future version. Use pandas.concat instead.\n",
      "  df_all=df_all.append(dict_df[\"df_corrected\"])\n"
     ]
    },
    {
     "name": "stdout",
     "output_type": "stream",
     "text": [
      ">>> Start downloading each station\n",
      ">>> Downloading 78300\n",
      "Check smhi.log for data download details!\n"
     ]
    },
    {
     "name": "stderr",
     "output_type": "stream",
     "text": [
      "C:\\Users\\MarlonVieiraPassos\\AppData\\Local\\Temp\\ipykernel_8500\\3869588013.py:9: FutureWarning: The frame.append method is deprecated and will be removed from pandas in a future version. Use pandas.concat instead.\n",
      "  df_all=df_all.append(dict_df[\"df_corrected\"])\n"
     ]
    },
    {
     "name": "stdout",
     "output_type": "stream",
     "text": [
      ">>> Start downloading each station\n",
      ">>> Downloading 85010\n",
      "Check smhi.log for data download details!\n"
     ]
    },
    {
     "name": "stderr",
     "output_type": "stream",
     "text": [
      "C:\\Users\\MarlonVieiraPassos\\AppData\\Local\\Temp\\ipykernel_8500\\3869588013.py:9: FutureWarning: The frame.append method is deprecated and will be removed from pandas in a future version. Use pandas.concat instead.\n",
      "  df_all=df_all.append(dict_df[\"df_corrected\"])\n"
     ]
    },
    {
     "name": "stdout",
     "output_type": "stream",
     "text": [
      ">>> Start downloading each station\n",
      ">>> Downloading 65730\n",
      "Check smhi.log for data download details!\n"
     ]
    },
    {
     "name": "stderr",
     "output_type": "stream",
     "text": [
      "C:\\Users\\MarlonVieiraPassos\\AppData\\Local\\Temp\\ipykernel_8500\\3869588013.py:9: FutureWarning: The frame.append method is deprecated and will be removed from pandas in a future version. Use pandas.concat instead.\n",
      "  df_all=df_all.append(dict_df[\"df_corrected\"])\n"
     ]
    },
    {
     "name": "stdout",
     "output_type": "stream",
     "text": [
      ">>> Start downloading each station\n",
      ">>> Downloading 65160\n",
      "Check smhi.log for data download details!\n",
      ">>> Start downloading each station\n",
      ">>> Downloading 72300\n"
     ]
    },
    {
     "name": "stderr",
     "output_type": "stream",
     "text": [
      "C:\\Users\\MarlonVieiraPassos\\AppData\\Local\\Temp\\ipykernel_8500\\3869588013.py:9: FutureWarning: The frame.append method is deprecated and will be removed from pandas in a future version. Use pandas.concat instead.\n",
      "  df_all=df_all.append(dict_df[\"df_corrected\"])\n"
     ]
    },
    {
     "name": "stdout",
     "output_type": "stream",
     "text": [
      "Check smhi.log for data download details!\n"
     ]
    },
    {
     "name": "stderr",
     "output_type": "stream",
     "text": [
      "C:\\Users\\MarlonVieiraPassos\\AppData\\Local\\Temp\\ipykernel_8500\\3869588013.py:9: FutureWarning: The frame.append method is deprecated and will be removed from pandas in a future version. Use pandas.concat instead.\n",
      "  df_all=df_all.append(dict_df[\"df_corrected\"])\n"
     ]
    },
    {
     "name": "stdout",
     "output_type": "stream",
     "text": [
      ">>> Start downloading each station\n",
      ">>> Downloading 64620\n",
      "Check smhi.log for data download details!\n"
     ]
    },
    {
     "name": "stderr",
     "output_type": "stream",
     "text": [
      "C:\\Users\\MarlonVieiraPassos\\AppData\\Local\\Temp\\ipykernel_8500\\3869588013.py:9: FutureWarning: The frame.append method is deprecated and will be removed from pandas in a future version. Use pandas.concat instead.\n",
      "  df_all=df_all.append(dict_df[\"df_corrected\"])\n"
     ]
    },
    {
     "name": "stdout",
     "output_type": "stream",
     "text": [
      ">>> Start downloading each station\n",
      ">>> Downloading 75160\n",
      "Check smhi.log for data download details!\n"
     ]
    },
    {
     "name": "stderr",
     "output_type": "stream",
     "text": [
      "C:\\Users\\MarlonVieiraPassos\\AppData\\Local\\Temp\\ipykernel_8500\\3869588013.py:9: FutureWarning: The frame.append method is deprecated and will be removed from pandas in a future version. Use pandas.concat instead.\n",
      "  df_all=df_all.append(dict_df[\"df_corrected\"])\n"
     ]
    },
    {
     "name": "stdout",
     "output_type": "stream",
     "text": [
      ">>> Start downloading each station\n",
      ">>> Downloading 105200\n",
      "Check smhi.log for data download details!\n"
     ]
    },
    {
     "name": "stderr",
     "output_type": "stream",
     "text": [
      "C:\\Users\\MarlonVieiraPassos\\AppData\\Local\\Temp\\ipykernel_8500\\3869588013.py:9: FutureWarning: The frame.append method is deprecated and will be removed from pandas in a future version. Use pandas.concat instead.\n",
      "  df_all=df_all.append(dict_df[\"df_corrected\"])\n"
     ]
    },
    {
     "name": "stdout",
     "output_type": "stream",
     "text": [
      ">>> Start downloading each station\n",
      ">>> Downloading 73480\n",
      "Check smhi.log for data download details!\n"
     ]
    },
    {
     "name": "stderr",
     "output_type": "stream",
     "text": [
      "C:\\Users\\MarlonVieiraPassos\\AppData\\Local\\Temp\\ipykernel_8500\\3869588013.py:9: FutureWarning: The frame.append method is deprecated and will be removed from pandas in a future version. Use pandas.concat instead.\n",
      "  df_all=df_all.append(dict_df[\"df_corrected\"])\n"
     ]
    },
    {
     "name": "stdout",
     "output_type": "stream",
     "text": [
      ">>> Start downloading each station\n",
      ">>> Downloading 83630\n",
      "Check smhi.log for data download details!\n"
     ]
    },
    {
     "name": "stderr",
     "output_type": "stream",
     "text": [
      "C:\\Users\\MarlonVieiraPassos\\AppData\\Local\\Temp\\ipykernel_8500\\3869588013.py:9: FutureWarning: The frame.append method is deprecated and will be removed from pandas in a future version. Use pandas.concat instead.\n",
      "  df_all=df_all.append(dict_df[\"df_corrected\"])\n"
     ]
    },
    {
     "name": "stdout",
     "output_type": "stream",
     "text": [
      ">>> Start downloading each station\n",
      ">>> Downloading 162790\n",
      "Check smhi.log for data download details!\n"
     ]
    },
    {
     "name": "stderr",
     "output_type": "stream",
     "text": [
      "C:\\Users\\MarlonVieiraPassos\\AppData\\Local\\Temp\\ipykernel_8500\\3869588013.py:9: FutureWarning: The frame.append method is deprecated and will be removed from pandas in a future version. Use pandas.concat instead.\n",
      "  df_all=df_all.append(dict_df[\"df_corrected\"])\n"
     ]
    },
    {
     "name": "stdout",
     "output_type": "stream",
     "text": [
      ">>> Start downloading each station\n",
      ">>> Downloading 81040\n",
      "Check smhi.log for data download details!\n"
     ]
    },
    {
     "name": "stderr",
     "output_type": "stream",
     "text": [
      "C:\\Users\\MarlonVieiraPassos\\AppData\\Local\\Temp\\ipykernel_8500\\3869588013.py:9: FutureWarning: The frame.append method is deprecated and will be removed from pandas in a future version. Use pandas.concat instead.\n",
      "  df_all=df_all.append(dict_df[\"df_corrected\"])\n"
     ]
    },
    {
     "name": "stdout",
     "output_type": "stream",
     "text": [
      ">>> Start downloading each station\n",
      ">>> Downloading 112080\n",
      "Check smhi.log for data download details!\n",
      ">>> Start downloading each station\n",
      ">>> Downloading 65360\n",
      "Check smhi.log for data download details!\n"
     ]
    },
    {
     "name": "stderr",
     "output_type": "stream",
     "text": [
      "C:\\Users\\MarlonVieiraPassos\\AppData\\Local\\Temp\\ipykernel_8500\\3869588013.py:9: FutureWarning: The frame.append method is deprecated and will be removed from pandas in a future version. Use pandas.concat instead.\n",
      "  df_all=df_all.append(dict_df[\"df_corrected\"])\n"
     ]
    },
    {
     "name": "stdout",
     "output_type": "stream",
     "text": [
      ">>> Start downloading each station\n",
      ">>> Downloading 98260\n",
      "Check smhi.log for data download details!\n"
     ]
    },
    {
     "name": "stderr",
     "output_type": "stream",
     "text": [
      "C:\\Users\\MarlonVieiraPassos\\AppData\\Local\\Temp\\ipykernel_8500\\3869588013.py:9: FutureWarning: The frame.append method is deprecated and will be removed from pandas in a future version. Use pandas.concat instead.\n",
      "  df_all=df_all.append(dict_df[\"df_corrected\"])\n"
     ]
    },
    {
     "name": "stdout",
     "output_type": "stream",
     "text": [
      ">>> Start downloading each station\n",
      ">>> Downloading 134150\n",
      "Check smhi.log for data download details!\n"
     ]
    },
    {
     "name": "stderr",
     "output_type": "stream",
     "text": [
      "C:\\Users\\MarlonVieiraPassos\\AppData\\Local\\Temp\\ipykernel_8500\\3869588013.py:9: FutureWarning: The frame.append method is deprecated and will be removed from pandas in a future version. Use pandas.concat instead.\n",
      "  df_all=df_all.append(dict_df[\"df_corrected\"])\n"
     ]
    },
    {
     "name": "stdout",
     "output_type": "stream",
     "text": [
      ">>> Start downloading each station\n",
      ">>> Downloading 116230\n",
      "Check smhi.log for data download details!\n"
     ]
    },
    {
     "name": "stderr",
     "output_type": "stream",
     "text": [
      "C:\\Users\\MarlonVieiraPassos\\AppData\\Local\\Temp\\ipykernel_8500\\3869588013.py:9: FutureWarning: The frame.append method is deprecated and will be removed from pandas in a future version. Use pandas.concat instead.\n",
      "  df_all=df_all.append(dict_df[\"df_corrected\"])\n"
     ]
    },
    {
     "name": "stdout",
     "output_type": "stream",
     "text": [
      ">>> Start downloading each station\n",
      ">>> Downloading 182810\n",
      "Check smhi.log for data download details!\n"
     ]
    },
    {
     "name": "stderr",
     "output_type": "stream",
     "text": [
      "C:\\Users\\MarlonVieiraPassos\\AppData\\Local\\Temp\\ipykernel_8500\\3869588013.py:9: FutureWarning: The frame.append method is deprecated and will be removed from pandas in a future version. Use pandas.concat instead.\n",
      "  df_all=df_all.append(dict_df[\"df_corrected\"])\n"
     ]
    },
    {
     "name": "stdout",
     "output_type": "stream",
     "text": [
      ">>> Start downloading each station\n",
      ">>> Downloading 96550\n",
      "Check smhi.log for data download details!\n"
     ]
    },
    {
     "name": "stderr",
     "output_type": "stream",
     "text": [
      "C:\\Users\\MarlonVieiraPassos\\AppData\\Local\\Temp\\ipykernel_8500\\3869588013.py:9: FutureWarning: The frame.append method is deprecated and will be removed from pandas in a future version. Use pandas.concat instead.\n",
      "  df_all=df_all.append(dict_df[\"df_corrected\"])\n"
     ]
    },
    {
     "name": "stdout",
     "output_type": "stream",
     "text": [
      ">>> Start downloading each station\n",
      ">>> Downloading 96560\n",
      "Check smhi.log for data download details!\n"
     ]
    },
    {
     "name": "stderr",
     "output_type": "stream",
     "text": [
      "C:\\Users\\MarlonVieiraPassos\\AppData\\Local\\Temp\\ipykernel_8500\\3869588013.py:9: FutureWarning: The frame.append method is deprecated and will be removed from pandas in a future version. Use pandas.concat instead.\n",
      "  df_all=df_all.append(dict_df[\"df_corrected\"])\n"
     ]
    },
    {
     "name": "stdout",
     "output_type": "stream",
     "text": [
      ">>> Start downloading each station\n",
      ">>> Downloading 159680\n",
      "Check smhi.log for data download details!\n"
     ]
    },
    {
     "name": "stderr",
     "output_type": "stream",
     "text": [
      "C:\\Users\\MarlonVieiraPassos\\AppData\\Local\\Temp\\ipykernel_8500\\3869588013.py:9: FutureWarning: The frame.append method is deprecated and will be removed from pandas in a future version. Use pandas.concat instead.\n",
      "  df_all=df_all.append(dict_df[\"df_corrected\"])\n"
     ]
    },
    {
     "name": "stdout",
     "output_type": "stream",
     "text": [
      ">>> Start downloading each station\n",
      ">>> Downloading 178680\n",
      "Check smhi.log for data download details!\n"
     ]
    },
    {
     "name": "stderr",
     "output_type": "stream",
     "text": [
      "C:\\Users\\MarlonVieiraPassos\\AppData\\Local\\Temp\\ipykernel_8500\\3869588013.py:9: FutureWarning: The frame.append method is deprecated and will be removed from pandas in a future version. Use pandas.concat instead.\n",
      "  df_all=df_all.append(dict_df[\"df_corrected\"])\n"
     ]
    },
    {
     "name": "stdout",
     "output_type": "stream",
     "text": [
      ">>> Start downloading each station\n",
      ">>> Downloading 107050\n",
      "Check smhi.log for data download details!\n"
     ]
    },
    {
     "name": "stderr",
     "output_type": "stream",
     "text": [
      "C:\\Users\\MarlonVieiraPassos\\AppData\\Local\\Temp\\ipykernel_8500\\3869588013.py:9: FutureWarning: The frame.append method is deprecated and will be removed from pandas in a future version. Use pandas.concat instead.\n",
      "  df_all=df_all.append(dict_df[\"df_corrected\"])\n"
     ]
    },
    {
     "name": "stdout",
     "output_type": "stream",
     "text": [
      ">>> Start downloading each station\n",
      ">>> Downloading 76000\n",
      "Check smhi.log for data download details!\n"
     ]
    },
    {
     "name": "stderr",
     "output_type": "stream",
     "text": [
      "C:\\Users\\MarlonVieiraPassos\\AppData\\Local\\Temp\\ipykernel_8500\\3869588013.py:9: FutureWarning: The frame.append method is deprecated and will be removed from pandas in a future version. Use pandas.concat instead.\n",
      "  df_all=df_all.append(dict_df[\"df_corrected\"])\n"
     ]
    },
    {
     "name": "stdout",
     "output_type": "stream",
     "text": [
      ">>> Start downloading each station\n",
      ">>> Downloading 54230\n",
      "Check smhi.log for data download details!\n"
     ]
    },
    {
     "name": "stderr",
     "output_type": "stream",
     "text": [
      "C:\\Users\\MarlonVieiraPassos\\AppData\\Local\\Temp\\ipykernel_8500\\3869588013.py:9: FutureWarning: The frame.append method is deprecated and will be removed from pandas in a future version. Use pandas.concat instead.\n",
      "  df_all=df_all.append(dict_df[\"df_corrected\"])\n"
     ]
    },
    {
     "name": "stdout",
     "output_type": "stream",
     "text": [
      ">>> Start downloading each station\n",
      ">>> Downloading 98170\n",
      "Check smhi.log for data download details!\n"
     ]
    },
    {
     "name": "stderr",
     "output_type": "stream",
     "text": [
      "C:\\Users\\MarlonVieiraPassos\\AppData\\Local\\Temp\\ipykernel_8500\\3869588013.py:9: FutureWarning: The frame.append method is deprecated and will be removed from pandas in a future version. Use pandas.concat instead.\n",
      "  df_all=df_all.append(dict_df[\"df_corrected\"])\n"
     ]
    },
    {
     "name": "stdout",
     "output_type": "stream",
     "text": [
      ">>> Start downloading each station\n",
      ">>> Downloading 72340\n",
      "Check smhi.log for data download details!\n"
     ]
    },
    {
     "name": "stderr",
     "output_type": "stream",
     "text": [
      "C:\\Users\\MarlonVieiraPassos\\AppData\\Local\\Temp\\ipykernel_8500\\3869588013.py:9: FutureWarning: The frame.append method is deprecated and will be removed from pandas in a future version. Use pandas.concat instead.\n",
      "  df_all=df_all.append(dict_df[\"df_corrected\"])\n"
     ]
    },
    {
     "name": "stdout",
     "output_type": "stream",
     "text": [
      ">>> Start downloading each station\n",
      ">>> Downloading 106360\n",
      "Check smhi.log for data download details!\n"
     ]
    },
    {
     "name": "stderr",
     "output_type": "stream",
     "text": [
      "C:\\Users\\MarlonVieiraPassos\\AppData\\Local\\Temp\\ipykernel_8500\\3869588013.py:9: FutureWarning: The frame.append method is deprecated and will be removed from pandas in a future version. Use pandas.concat instead.\n",
      "  df_all=df_all.append(dict_df[\"df_corrected\"])\n"
     ]
    },
    {
     "name": "stdout",
     "output_type": "stream",
     "text": [
      ">>> Start downloading each station\n",
      ">>> Downloading 54390\n",
      "Check smhi.log for data download details!\n"
     ]
    },
    {
     "name": "stderr",
     "output_type": "stream",
     "text": [
      "C:\\Users\\MarlonVieiraPassos\\AppData\\Local\\Temp\\ipykernel_8500\\3869588013.py:9: FutureWarning: The frame.append method is deprecated and will be removed from pandas in a future version. Use pandas.concat instead.\n",
      "  df_all=df_all.append(dict_df[\"df_corrected\"])\n"
     ]
    },
    {
     "name": "stdout",
     "output_type": "stream",
     "text": [
      ">>> Start downloading each station\n",
      ">>> Downloading 170920\n",
      "Check smhi.log for data download details!\n"
     ]
    },
    {
     "name": "stderr",
     "output_type": "stream",
     "text": [
      "C:\\Users\\MarlonVieiraPassos\\AppData\\Local\\Temp\\ipykernel_8500\\3869588013.py:9: FutureWarning: The frame.append method is deprecated and will be removed from pandas in a future version. Use pandas.concat instead.\n",
      "  df_all=df_all.append(dict_df[\"df_corrected\"])\n"
     ]
    },
    {
     "name": "stdout",
     "output_type": "stream",
     "text": [
      ">>> Start downloading each station\n",
      ">>> Downloading 178850\n",
      "Check smhi.log for data download details!\n"
     ]
    },
    {
     "name": "stderr",
     "output_type": "stream",
     "text": [
      "C:\\Users\\MarlonVieiraPassos\\AppData\\Local\\Temp\\ipykernel_8500\\3869588013.py:9: FutureWarning: The frame.append method is deprecated and will be removed from pandas in a future version. Use pandas.concat instead.\n",
      "  df_all=df_all.append(dict_df[\"df_corrected\"])\n"
     ]
    },
    {
     "name": "stdout",
     "output_type": "stream",
     "text": [
      ">>> Start downloading each station\n",
      ">>> Downloading 127220\n",
      "Check smhi.log for data download details!\n"
     ]
    },
    {
     "name": "stderr",
     "output_type": "stream",
     "text": [
      "C:\\Users\\MarlonVieiraPassos\\AppData\\Local\\Temp\\ipykernel_8500\\3869588013.py:9: FutureWarning: The frame.append method is deprecated and will be removed from pandas in a future version. Use pandas.concat instead.\n",
      "  df_all=df_all.append(dict_df[\"df_corrected\"])\n"
     ]
    },
    {
     "name": "stdout",
     "output_type": "stream",
     "text": [
      ">>> Start downloading each station\n",
      ">>> Downloading 135380\n",
      "Check smhi.log for data download details!\n"
     ]
    },
    {
     "name": "stderr",
     "output_type": "stream",
     "text": [
      "C:\\Users\\MarlonVieiraPassos\\AppData\\Local\\Temp\\ipykernel_8500\\3869588013.py:9: FutureWarning: The frame.append method is deprecated and will be removed from pandas in a future version. Use pandas.concat instead.\n",
      "  df_all=df_all.append(dict_df[\"df_corrected\"])\n"
     ]
    },
    {
     "name": "stdout",
     "output_type": "stream",
     "text": [
      ">>> Start downloading each station\n",
      ">>> Downloading 104530\n",
      "Check smhi.log for data download details!\n"
     ]
    },
    {
     "name": "stderr",
     "output_type": "stream",
     "text": [
      "C:\\Users\\MarlonVieiraPassos\\AppData\\Local\\Temp\\ipykernel_8500\\3869588013.py:9: FutureWarning: The frame.append method is deprecated and will be removed from pandas in a future version. Use pandas.concat instead.\n",
      "  df_all=df_all.append(dict_df[\"df_corrected\"])\n"
     ]
    },
    {
     "name": "stdout",
     "output_type": "stream",
     "text": [
      ">>> Start downloading each station\n",
      ">>> Downloading 63440\n",
      "Check smhi.log for data download details!\n"
     ]
    },
    {
     "name": "stderr",
     "output_type": "stream",
     "text": [
      "C:\\Users\\MarlonVieiraPassos\\AppData\\Local\\Temp\\ipykernel_8500\\3869588013.py:9: FutureWarning: The frame.append method is deprecated and will be removed from pandas in a future version. Use pandas.concat instead.\n",
      "  df_all=df_all.append(dict_df[\"df_corrected\"])\n"
     ]
    },
    {
     "name": "stdout",
     "output_type": "stream",
     "text": [
      ">>> Start downloading each station\n",
      ">>> Downloading 83050\n",
      "Check smhi.log for data download details!\n"
     ]
    },
    {
     "name": "stderr",
     "output_type": "stream",
     "text": [
      "C:\\Users\\MarlonVieiraPassos\\AppData\\Local\\Temp\\ipykernel_8500\\3869588013.py:9: FutureWarning: The frame.append method is deprecated and will be removed from pandas in a future version. Use pandas.concat instead.\n",
      "  df_all=df_all.append(dict_df[\"df_corrected\"])\n"
     ]
    },
    {
     "name": "stdout",
     "output_type": "stream",
     "text": [
      ">>> Start downloading each station\n",
      ">>> Downloading 86470\n",
      "Check smhi.log for data download details!\n"
     ]
    },
    {
     "name": "stderr",
     "output_type": "stream",
     "text": [
      "C:\\Users\\MarlonVieiraPassos\\AppData\\Local\\Temp\\ipykernel_8500\\3869588013.py:9: FutureWarning: The frame.append method is deprecated and will be removed from pandas in a future version. Use pandas.concat instead.\n",
      "  df_all=df_all.append(dict_df[\"df_corrected\"])\n"
     ]
    },
    {
     "name": "stdout",
     "output_type": "stream",
     "text": [
      ">>> Start downloading each station\n",
      ">>> Downloading 54330\n",
      "Check smhi.log for data download details!\n"
     ]
    },
    {
     "name": "stderr",
     "output_type": "stream",
     "text": [
      "C:\\Users\\MarlonVieiraPassos\\AppData\\Local\\Temp\\ipykernel_8500\\3869588013.py:9: FutureWarning: The frame.append method is deprecated and will be removed from pandas in a future version. Use pandas.concat instead.\n",
      "  df_all=df_all.append(dict_df[\"df_corrected\"])\n"
     ]
    },
    {
     "name": "stdout",
     "output_type": "stream",
     "text": [
      ">>> Start downloading each station\n",
      ">>> Downloading 63450\n",
      "Check smhi.log for data download details!\n"
     ]
    },
    {
     "name": "stderr",
     "output_type": "stream",
     "text": [
      "C:\\Users\\MarlonVieiraPassos\\AppData\\Local\\Temp\\ipykernel_8500\\3869588013.py:9: FutureWarning: The frame.append method is deprecated and will be removed from pandas in a future version. Use pandas.concat instead.\n",
      "  df_all=df_all.append(dict_df[\"df_corrected\"])\n"
     ]
    },
    {
     "name": "stdout",
     "output_type": "stream",
     "text": [
      ">>> Start downloading each station\n",
      ">>> Downloading 108100\n",
      "Check smhi.log for data download details!\n"
     ]
    },
    {
     "name": "stderr",
     "output_type": "stream",
     "text": [
      "C:\\Users\\MarlonVieiraPassos\\AppData\\Local\\Temp\\ipykernel_8500\\3869588013.py:9: FutureWarning: The frame.append method is deprecated and will be removed from pandas in a future version. Use pandas.concat instead.\n",
      "  df_all=df_all.append(dict_df[\"df_corrected\"])\n"
     ]
    },
    {
     "name": "stdout",
     "output_type": "stream",
     "text": [
      ">>> Start downloading each station\n",
      ">>> Downloading 64630\n",
      "Check smhi.log for data download details!\n"
     ]
    },
    {
     "name": "stderr",
     "output_type": "stream",
     "text": [
      "C:\\Users\\MarlonVieiraPassos\\AppData\\Local\\Temp\\ipykernel_8500\\3869588013.py:9: FutureWarning: The frame.append method is deprecated and will be removed from pandas in a future version. Use pandas.concat instead.\n",
      "  df_all=df_all.append(dict_df[\"df_corrected\"])\n"
     ]
    },
    {
     "name": "stdout",
     "output_type": "stream",
     "text": [
      ">>> Start downloading each station\n",
      ">>> Downloading 53660\n",
      "Check smhi.log for data download details!\n"
     ]
    },
    {
     "name": "stderr",
     "output_type": "stream",
     "text": [
      "C:\\Users\\MarlonVieiraPassos\\AppData\\Local\\Temp\\ipykernel_8500\\3869588013.py:9: FutureWarning: The frame.append method is deprecated and will be removed from pandas in a future version. Use pandas.concat instead.\n",
      "  df_all=df_all.append(dict_df[\"df_corrected\"])\n"
     ]
    },
    {
     "name": "stdout",
     "output_type": "stream",
     "text": [
      ">>> Start downloading each station\n",
      ">>> Downloading 83690\n",
      "Check smhi.log for data download details!\n"
     ]
    },
    {
     "name": "stderr",
     "output_type": "stream",
     "text": [
      "C:\\Users\\MarlonVieiraPassos\\AppData\\Local\\Temp\\ipykernel_8500\\3869588013.py:9: FutureWarning: The frame.append method is deprecated and will be removed from pandas in a future version. Use pandas.concat instead.\n",
      "  df_all=df_all.append(dict_df[\"df_corrected\"])\n"
     ]
    },
    {
     "name": "stdout",
     "output_type": "stream",
     "text": [
      ">>> Start downloading each station\n",
      ">>> Downloading 139110\n",
      "Check smhi.log for data download details!\n"
     ]
    },
    {
     "name": "stderr",
     "output_type": "stream",
     "text": [
      "C:\\Users\\MarlonVieiraPassos\\AppData\\Local\\Temp\\ipykernel_8500\\3869588013.py:9: FutureWarning: The frame.append method is deprecated and will be removed from pandas in a future version. Use pandas.concat instead.\n",
      "  df_all=df_all.append(dict_df[\"df_corrected\"])\n"
     ]
    },
    {
     "name": "stdout",
     "output_type": "stream",
     "text": [
      ">>> Start downloading each station\n",
      ">>> Downloading 139120\n",
      "Check smhi.log for data download details!\n"
     ]
    },
    {
     "name": "stderr",
     "output_type": "stream",
     "text": [
      "C:\\Users\\MarlonVieiraPassos\\AppData\\Local\\Temp\\ipykernel_8500\\3869588013.py:9: FutureWarning: The frame.append method is deprecated and will be removed from pandas in a future version. Use pandas.concat instead.\n",
      "  df_all=df_all.append(dict_df[\"df_corrected\"])\n"
     ]
    },
    {
     "name": "stdout",
     "output_type": "stream",
     "text": [
      ">>> Start downloading each station\n",
      ">>> Downloading 98100\n",
      "Check smhi.log for data download details!\n"
     ]
    },
    {
     "name": "stderr",
     "output_type": "stream",
     "text": [
      "C:\\Users\\MarlonVieiraPassos\\AppData\\Local\\Temp\\ipykernel_8500\\3869588013.py:9: FutureWarning: The frame.append method is deprecated and will be removed from pandas in a future version. Use pandas.concat instead.\n",
      "  df_all=df_all.append(dict_df[\"df_corrected\"])\n"
     ]
    },
    {
     "name": "stdout",
     "output_type": "stream",
     "text": [
      ">>> Start downloading each station\n",
      ">>> Downloading 83270\n",
      "Check smhi.log for data download details!\n"
     ]
    },
    {
     "name": "stderr",
     "output_type": "stream",
     "text": [
      "C:\\Users\\MarlonVieiraPassos\\AppData\\Local\\Temp\\ipykernel_8500\\3869588013.py:9: FutureWarning: The frame.append method is deprecated and will be removed from pandas in a future version. Use pandas.concat instead.\n",
      "  df_all=df_all.append(dict_df[\"df_corrected\"])\n"
     ]
    },
    {
     "name": "stdout",
     "output_type": "stream",
     "text": [
      ">>> Start downloading each station\n",
      ">>> Downloading 83620\n",
      "Check smhi.log for data download details!\n"
     ]
    },
    {
     "name": "stderr",
     "output_type": "stream",
     "text": [
      "C:\\Users\\MarlonVieiraPassos\\AppData\\Local\\Temp\\ipykernel_8500\\3869588013.py:9: FutureWarning: The frame.append method is deprecated and will be removed from pandas in a future version. Use pandas.concat instead.\n",
      "  df_all=df_all.append(dict_df[\"df_corrected\"])\n"
     ]
    },
    {
     "name": "stdout",
     "output_type": "stream",
     "text": [
      ">>> Start downloading each station\n",
      ">>> Downloading 83240\n",
      "Check smhi.log for data download details!\n"
     ]
    },
    {
     "name": "stderr",
     "output_type": "stream",
     "text": [
      "C:\\Users\\MarlonVieiraPassos\\AppData\\Local\\Temp\\ipykernel_8500\\3869588013.py:9: FutureWarning: The frame.append method is deprecated and will be removed from pandas in a future version. Use pandas.concat instead.\n",
      "  df_all=df_all.append(dict_df[\"df_corrected\"])\n"
     ]
    },
    {
     "name": "stdout",
     "output_type": "stream",
     "text": [
      ">>> Start downloading each station\n",
      ">>> Downloading 83200\n",
      "Check smhi.log for data download details!\n"
     ]
    },
    {
     "name": "stderr",
     "output_type": "stream",
     "text": [
      "C:\\Users\\MarlonVieiraPassos\\AppData\\Local\\Temp\\ipykernel_8500\\3869588013.py:9: FutureWarning: The frame.append method is deprecated and will be removed from pandas in a future version. Use pandas.concat instead.\n",
      "  df_all=df_all.append(dict_df[\"df_corrected\"])\n"
     ]
    },
    {
     "name": "stdout",
     "output_type": "stream",
     "text": [
      ">>> Start downloading each station\n",
      ">>> Downloading 83260\n",
      "Check smhi.log for data download details!\n"
     ]
    },
    {
     "name": "stderr",
     "output_type": "stream",
     "text": [
      "C:\\Users\\MarlonVieiraPassos\\AppData\\Local\\Temp\\ipykernel_8500\\3869588013.py:9: FutureWarning: The frame.append method is deprecated and will be removed from pandas in a future version. Use pandas.concat instead.\n",
      "  df_all=df_all.append(dict_df[\"df_corrected\"])\n"
     ]
    },
    {
     "name": "stdout",
     "output_type": "stream",
     "text": [
      ">>> Start downloading each station\n",
      ">>> Downloading 98160\n",
      "Check smhi.log for data download details!\n",
      ">>> Start downloading each station\n",
      ">>> Downloading 66500\n",
      "Check smhi.log for data download details!\n"
     ]
    },
    {
     "name": "stderr",
     "output_type": "stream",
     "text": [
      "C:\\Users\\MarlonVieiraPassos\\AppData\\Local\\Temp\\ipykernel_8500\\3869588013.py:9: FutureWarning: The frame.append method is deprecated and will be removed from pandas in a future version. Use pandas.concat instead.\n",
      "  df_all=df_all.append(dict_df[\"df_corrected\"])\n"
     ]
    },
    {
     "name": "stdout",
     "output_type": "stream",
     "text": [
      ">>> Start downloading each station\n",
      ">>> Downloading 150450\n",
      "Check smhi.log for data download details!\n"
     ]
    },
    {
     "name": "stderr",
     "output_type": "stream",
     "text": [
      "C:\\Users\\MarlonVieiraPassos\\AppData\\Local\\Temp\\ipykernel_8500\\3869588013.py:9: FutureWarning: The frame.append method is deprecated and will be removed from pandas in a future version. Use pandas.concat instead.\n",
      "  df_all=df_all.append(dict_df[\"df_corrected\"])\n"
     ]
    },
    {
     "name": "stdout",
     "output_type": "stream",
     "text": [
      ">>> Start downloading each station\n",
      ">>> Downloading 151380\n",
      "Check smhi.log for data download details!\n"
     ]
    },
    {
     "name": "stderr",
     "output_type": "stream",
     "text": [
      "C:\\Users\\MarlonVieiraPassos\\AppData\\Local\\Temp\\ipykernel_8500\\3869588013.py:9: FutureWarning: The frame.append method is deprecated and will be removed from pandas in a future version. Use pandas.concat instead.\n",
      "  df_all=df_all.append(dict_df[\"df_corrected\"])\n"
     ]
    },
    {
     "name": "stdout",
     "output_type": "stream",
     "text": [
      ">>> Start downloading each station\n",
      ">>> Downloading 97750\n",
      "Check smhi.log for data download details!\n"
     ]
    },
    {
     "name": "stderr",
     "output_type": "stream",
     "text": [
      "C:\\Users\\MarlonVieiraPassos\\AppData\\Local\\Temp\\ipykernel_8500\\3869588013.py:9: FutureWarning: The frame.append method is deprecated and will be removed from pandas in a future version. Use pandas.concat instead.\n",
      "  df_all=df_all.append(dict_df[\"df_corrected\"])\n"
     ]
    },
    {
     "name": "stdout",
     "output_type": "stream",
     "text": [
      ">>> Start downloading each station\n",
      ">>> Downloading 54290\n",
      "Check smhi.log for data download details!\n"
     ]
    },
    {
     "name": "stderr",
     "output_type": "stream",
     "text": [
      "C:\\Users\\MarlonVieiraPassos\\AppData\\Local\\Temp\\ipykernel_8500\\3869588013.py:9: FutureWarning: The frame.append method is deprecated and will be removed from pandas in a future version. Use pandas.concat instead.\n",
      "  df_all=df_all.append(dict_df[\"df_corrected\"])\n"
     ]
    },
    {
     "name": "stdout",
     "output_type": "stream",
     "text": [
      ">>> Start downloading each station\n",
      ">>> Downloading 95500\n",
      "Check smhi.log for data download details!\n"
     ]
    },
    {
     "name": "stderr",
     "output_type": "stream",
     "text": [
      "C:\\Users\\MarlonVieiraPassos\\AppData\\Local\\Temp\\ipykernel_8500\\3869588013.py:9: FutureWarning: The frame.append method is deprecated and will be removed from pandas in a future version. Use pandas.concat instead.\n",
      "  df_all=df_all.append(dict_df[\"df_corrected\"])\n"
     ]
    },
    {
     "name": "stdout",
     "output_type": "stream",
     "text": [
      ">>> Start downloading each station\n",
      ">>> Downloading 53670\n",
      "Check smhi.log for data download details!\n"
     ]
    },
    {
     "name": "stderr",
     "output_type": "stream",
     "text": [
      "C:\\Users\\MarlonVieiraPassos\\AppData\\Local\\Temp\\ipykernel_8500\\3869588013.py:9: FutureWarning: The frame.append method is deprecated and will be removed from pandas in a future version. Use pandas.concat instead.\n",
      "  df_all=df_all.append(dict_df[\"df_corrected\"])\n"
     ]
    },
    {
     "name": "stdout",
     "output_type": "stream",
     "text": [
      ">>> Start downloading each station\n",
      ">>> Downloading 85280\n",
      "Check smhi.log for data download details!\n"
     ]
    },
    {
     "name": "stderr",
     "output_type": "stream",
     "text": [
      "C:\\Users\\MarlonVieiraPassos\\AppData\\Local\\Temp\\ipykernel_8500\\3869588013.py:9: FutureWarning: The frame.append method is deprecated and will be removed from pandas in a future version. Use pandas.concat instead.\n",
      "  df_all=df_all.append(dict_df[\"df_corrected\"])\n"
     ]
    },
    {
     "name": "stdout",
     "output_type": "stream",
     "text": [
      ">>> Start downloading each station\n",
      ">>> Downloading 74690\n",
      "Check smhi.log for data download details!\n"
     ]
    },
    {
     "name": "stderr",
     "output_type": "stream",
     "text": [
      "C:\\Users\\MarlonVieiraPassos\\AppData\\Local\\Temp\\ipykernel_8500\\3869588013.py:9: FutureWarning: The frame.append method is deprecated and will be removed from pandas in a future version. Use pandas.concat instead.\n",
      "  df_all=df_all.append(dict_df[\"df_corrected\"])\n"
     ]
    },
    {
     "name": "stdout",
     "output_type": "stream",
     "text": [
      ">>> Start downloading each station\n",
      ">>> Downloading 124390\n",
      "Check smhi.log for data download details!\n"
     ]
    },
    {
     "name": "stderr",
     "output_type": "stream",
     "text": [
      "C:\\Users\\MarlonVieiraPassos\\AppData\\Local\\Temp\\ipykernel_8500\\3869588013.py:9: FutureWarning: The frame.append method is deprecated and will be removed from pandas in a future version. Use pandas.concat instead.\n",
      "  df_all=df_all.append(dict_df[\"df_corrected\"])\n"
     ]
    },
    {
     "name": "stdout",
     "output_type": "stream",
     "text": [
      ">>> Start downloading each station\n",
      ">>> Downloading 63230\n",
      "Check smhi.log for data download details!\n"
     ]
    },
    {
     "name": "stderr",
     "output_type": "stream",
     "text": [
      "C:\\Users\\MarlonVieiraPassos\\AppData\\Local\\Temp\\ipykernel_8500\\3869588013.py:9: FutureWarning: The frame.append method is deprecated and will be removed from pandas in a future version. Use pandas.concat instead.\n",
      "  df_all=df_all.append(dict_df[\"df_corrected\"])\n"
     ]
    },
    {
     "name": "stdout",
     "output_type": "stream",
     "text": [
      ">>> Start downloading each station\n",
      ">>> Downloading 83230\n",
      "Check smhi.log for data download details!\n"
     ]
    },
    {
     "name": "stderr",
     "output_type": "stream",
     "text": [
      "C:\\Users\\MarlonVieiraPassos\\AppData\\Local\\Temp\\ipykernel_8500\\3869588013.py:9: FutureWarning: The frame.append method is deprecated and will be removed from pandas in a future version. Use pandas.concat instead.\n",
      "  df_all=df_all.append(dict_df[\"df_corrected\"])\n"
     ]
    },
    {
     "name": "stdout",
     "output_type": "stream",
     "text": [
      ">>> Start downloading each station\n",
      ">>> Downloading 53200\n",
      "Check smhi.log for data download details!\n"
     ]
    },
    {
     "name": "stderr",
     "output_type": "stream",
     "text": [
      "C:\\Users\\MarlonVieiraPassos\\AppData\\Local\\Temp\\ipykernel_8500\\3869588013.py:9: FutureWarning: The frame.append method is deprecated and will be removed from pandas in a future version. Use pandas.concat instead.\n",
      "  df_all=df_all.append(dict_df[\"df_corrected\"])\n"
     ]
    },
    {
     "name": "stdout",
     "output_type": "stream",
     "text": [
      ">>> Start downloading each station\n",
      ">>> Downloading 81220\n",
      "Check smhi.log for data download details!\n"
     ]
    },
    {
     "name": "stderr",
     "output_type": "stream",
     "text": [
      "C:\\Users\\MarlonVieiraPassos\\AppData\\Local\\Temp\\ipykernel_8500\\3869588013.py:9: FutureWarning: The frame.append method is deprecated and will be removed from pandas in a future version. Use pandas.concat instead.\n",
      "  df_all=df_all.append(dict_df[\"df_corrected\"])\n"
     ]
    },
    {
     "name": "stdout",
     "output_type": "stream",
     "text": [
      ">>> Start downloading each station\n",
      ">>> Downloading 84580\n",
      "Check smhi.log for data download details!\n"
     ]
    },
    {
     "name": "stderr",
     "output_type": "stream",
     "text": [
      "C:\\Users\\MarlonVieiraPassos\\AppData\\Local\\Temp\\ipykernel_8500\\3869588013.py:9: FutureWarning: The frame.append method is deprecated and will be removed from pandas in a future version. Use pandas.concat instead.\n",
      "  df_all=df_all.append(dict_df[\"df_corrected\"])\n"
     ]
    },
    {
     "name": "stdout",
     "output_type": "stream",
     "text": [
      ">>> Start downloading each station\n",
      ">>> Downloading 137100\n",
      "Check smhi.log for data download details!\n"
     ]
    },
    {
     "name": "stderr",
     "output_type": "stream",
     "text": [
      "C:\\Users\\MarlonVieiraPassos\\AppData\\Local\\Temp\\ipykernel_8500\\3869588013.py:9: FutureWarning: The frame.append method is deprecated and will be removed from pandas in a future version. Use pandas.concat instead.\n",
      "  df_all=df_all.append(dict_df[\"df_corrected\"])\n"
     ]
    },
    {
     "name": "stdout",
     "output_type": "stream",
     "text": [
      ">>> Start downloading each station\n",
      ">>> Downloading 97560\n",
      "Check smhi.log for data download details!\n"
     ]
    },
    {
     "name": "stderr",
     "output_type": "stream",
     "text": [
      "C:\\Users\\MarlonVieiraPassos\\AppData\\Local\\Temp\\ipykernel_8500\\3869588013.py:9: FutureWarning: The frame.append method is deprecated and will be removed from pandas in a future version. Use pandas.concat instead.\n",
      "  df_all=df_all.append(dict_df[\"df_corrected\"])\n"
     ]
    },
    {
     "name": "stdout",
     "output_type": "stream",
     "text": [
      ">>> Start downloading each station\n",
      ">>> Downloading 106060\n",
      "Check smhi.log for data download details!\n"
     ]
    },
    {
     "name": "stderr",
     "output_type": "stream",
     "text": [
      "C:\\Users\\MarlonVieiraPassos\\AppData\\Local\\Temp\\ipykernel_8500\\3869588013.py:9: FutureWarning: The frame.append method is deprecated and will be removed from pandas in a future version. Use pandas.concat instead.\n",
      "  df_all=df_all.append(dict_df[\"df_corrected\"])\n"
     ]
    },
    {
     "name": "stdout",
     "output_type": "stream",
     "text": [
      ">>> Start downloading each station\n",
      ">>> Downloading 157860\n",
      "Check smhi.log for data download details!\n",
      ">>> Start downloading each station\n",
      ">>> Downloading 74340\n",
      "Check smhi.log for data download details!\n"
     ]
    },
    {
     "name": "stderr",
     "output_type": "stream",
     "text": [
      "C:\\Users\\MarlonVieiraPassos\\AppData\\Local\\Temp\\ipykernel_8500\\3869588013.py:9: FutureWarning: The frame.append method is deprecated and will be removed from pandas in a future version. Use pandas.concat instead.\n",
      "  df_all=df_all.append(dict_df[\"df_corrected\"])\n"
     ]
    },
    {
     "name": "stdout",
     "output_type": "stream",
     "text": [
      ">>> Start downloading each station\n",
      ">>> Downloading 88580\n",
      "Check smhi.log for data download details!\n"
     ]
    },
    {
     "name": "stderr",
     "output_type": "stream",
     "text": [
      "C:\\Users\\MarlonVieiraPassos\\AppData\\Local\\Temp\\ipykernel_8500\\3869588013.py:9: FutureWarning: The frame.append method is deprecated and will be removed from pandas in a future version. Use pandas.concat instead.\n",
      "  df_all=df_all.append(dict_df[\"df_corrected\"])\n"
     ]
    },
    {
     "name": "stdout",
     "output_type": "stream",
     "text": [
      ">>> Start downloading each station\n",
      ">>> Downloading 53720\n",
      "Check smhi.log for data download details!\n"
     ]
    },
    {
     "name": "stderr",
     "output_type": "stream",
     "text": [
      "C:\\Users\\MarlonVieiraPassos\\AppData\\Local\\Temp\\ipykernel_8500\\3869588013.py:9: FutureWarning: The frame.append method is deprecated and will be removed from pandas in a future version. Use pandas.concat instead.\n",
      "  df_all=df_all.append(dict_df[\"df_corrected\"])\n"
     ]
    },
    {
     "name": "stdout",
     "output_type": "stream",
     "text": [
      ">>> Start downloading each station\n",
      ">>> Downloading 86440\n",
      "Check smhi.log for data download details!\n"
     ]
    },
    {
     "name": "stderr",
     "output_type": "stream",
     "text": [
      "C:\\Users\\MarlonVieiraPassos\\AppData\\Local\\Temp\\ipykernel_8500\\3869588013.py:9: FutureWarning: The frame.append method is deprecated and will be removed from pandas in a future version. Use pandas.concat instead.\n",
      "  df_all=df_all.append(dict_df[\"df_corrected\"])\n"
     ]
    },
    {
     "name": "stdout",
     "output_type": "stream",
     "text": [
      ">>> Start downloading each station\n",
      ">>> Downloading 53540\n",
      "Check smhi.log for data download details!\n"
     ]
    },
    {
     "name": "stderr",
     "output_type": "stream",
     "text": [
      "C:\\Users\\MarlonVieiraPassos\\AppData\\Local\\Temp\\ipykernel_8500\\3869588013.py:9: FutureWarning: The frame.append method is deprecated and will be removed from pandas in a future version. Use pandas.concat instead.\n",
      "  df_all=df_all.append(dict_df[\"df_corrected\"])\n"
     ]
    },
    {
     "name": "stdout",
     "output_type": "stream",
     "text": [
      ">>> Start downloading each station\n",
      ">>> Downloading 154740\n",
      "Check smhi.log for data download details!\n"
     ]
    },
    {
     "name": "stderr",
     "output_type": "stream",
     "text": [
      "C:\\Users\\MarlonVieiraPassos\\AppData\\Local\\Temp\\ipykernel_8500\\3869588013.py:9: FutureWarning: The frame.append method is deprecated and will be removed from pandas in a future version. Use pandas.concat instead.\n",
      "  df_all=df_all.append(dict_df[\"df_corrected\"])\n"
     ]
    },
    {
     "name": "stdout",
     "output_type": "stream",
     "text": [
      ">>> Start downloading each station\n",
      ">>> Downloading 154730\n",
      "Check smhi.log for data download details!\n"
     ]
    },
    {
     "name": "stderr",
     "output_type": "stream",
     "text": [
      "C:\\Users\\MarlonVieiraPassos\\AppData\\Local\\Temp\\ipykernel_8500\\3869588013.py:9: FutureWarning: The frame.append method is deprecated and will be removed from pandas in a future version. Use pandas.concat instead.\n",
      "  df_all=df_all.append(dict_df[\"df_corrected\"])\n"
     ]
    },
    {
     "name": "stdout",
     "output_type": "stream",
     "text": [
      ">>> Start downloading each station\n",
      ">>> Downloading 116610\n",
      "Check smhi.log for data download details!\n"
     ]
    },
    {
     "name": "stderr",
     "output_type": "stream",
     "text": [
      "C:\\Users\\MarlonVieiraPassos\\AppData\\Local\\Temp\\ipykernel_8500\\3869588013.py:9: FutureWarning: The frame.append method is deprecated and will be removed from pandas in a future version. Use pandas.concat instead.\n",
      "  df_all=df_all.append(dict_df[\"df_corrected\"])\n"
     ]
    },
    {
     "name": "stdout",
     "output_type": "stream",
     "text": [
      ">>> Start downloading each station\n",
      ">>> Downloading 86670\n",
      "Check smhi.log for data download details!\n"
     ]
    },
    {
     "name": "stderr",
     "output_type": "stream",
     "text": [
      "C:\\Users\\MarlonVieiraPassos\\AppData\\Local\\Temp\\ipykernel_8500\\3869588013.py:9: FutureWarning: The frame.append method is deprecated and will be removed from pandas in a future version. Use pandas.concat instead.\n",
      "  df_all=df_all.append(dict_df[\"df_corrected\"])\n"
     ]
    },
    {
     "name": "stdout",
     "output_type": "stream",
     "text": [
      ">>> Start downloading each station\n",
      ">>> Downloading 96210\n",
      "Check smhi.log for data download details!\n"
     ]
    },
    {
     "name": "stderr",
     "output_type": "stream",
     "text": [
      "C:\\Users\\MarlonVieiraPassos\\AppData\\Local\\Temp\\ipykernel_8500\\3869588013.py:9: FutureWarning: The frame.append method is deprecated and will be removed from pandas in a future version. Use pandas.concat instead.\n",
      "  df_all=df_all.append(dict_df[\"df_corrected\"])\n"
     ]
    },
    {
     "name": "stdout",
     "output_type": "stream",
     "text": [
      ">>> Start downloading each station\n",
      ">>> Downloading 157720\n",
      "Check smhi.log for data download details!\n"
     ]
    },
    {
     "name": "stderr",
     "output_type": "stream",
     "text": [
      "C:\\Users\\MarlonVieiraPassos\\AppData\\Local\\Temp\\ipykernel_8500\\3869588013.py:9: FutureWarning: The frame.append method is deprecated and will be removed from pandas in a future version. Use pandas.concat instead.\n",
      "  df_all=df_all.append(dict_df[\"df_corrected\"])\n"
     ]
    },
    {
     "name": "stdout",
     "output_type": "stream",
     "text": [
      ">>> Start downloading each station\n",
      ">>> Downloading 54400\n",
      "Check smhi.log for data download details!\n"
     ]
    },
    {
     "name": "stderr",
     "output_type": "stream",
     "text": [
      "C:\\Users\\MarlonVieiraPassos\\AppData\\Local\\Temp\\ipykernel_8500\\3869588013.py:9: FutureWarning: The frame.append method is deprecated and will be removed from pandas in a future version. Use pandas.concat instead.\n",
      "  df_all=df_all.append(dict_df[\"df_corrected\"])\n"
     ]
    },
    {
     "name": "stdout",
     "output_type": "stream",
     "text": [
      ">>> Start downloading each station\n",
      ">>> Downloading 78360\n",
      "Check smhi.log for data download details!\n"
     ]
    },
    {
     "name": "stderr",
     "output_type": "stream",
     "text": [
      "C:\\Users\\MarlonVieiraPassos\\AppData\\Local\\Temp\\ipykernel_8500\\3869588013.py:9: FutureWarning: The frame.append method is deprecated and will be removed from pandas in a future version. Use pandas.concat instead.\n",
      "  df_all=df_all.append(dict_df[\"df_corrected\"])\n"
     ]
    },
    {
     "name": "stdout",
     "output_type": "stream",
     "text": [
      ">>> Start downloading each station\n",
      ">>> Downloading 167860\n",
      "Check smhi.log for data download details!\n"
     ]
    },
    {
     "name": "stderr",
     "output_type": "stream",
     "text": [
      "C:\\Users\\MarlonVieiraPassos\\AppData\\Local\\Temp\\ipykernel_8500\\3869588013.py:9: FutureWarning: The frame.append method is deprecated and will be removed from pandas in a future version. Use pandas.concat instead.\n",
      "  df_all=df_all.append(dict_df[\"df_corrected\"])\n"
     ]
    },
    {
     "name": "stdout",
     "output_type": "stream",
     "text": [
      ">>> Start downloading each station\n",
      ">>> Downloading 106270\n",
      "Check smhi.log for data download details!\n"
     ]
    },
    {
     "name": "stderr",
     "output_type": "stream",
     "text": [
      "C:\\Users\\MarlonVieiraPassos\\AppData\\Local\\Temp\\ipykernel_8500\\3869588013.py:9: FutureWarning: The frame.append method is deprecated and will be removed from pandas in a future version. Use pandas.concat instead.\n",
      "  df_all=df_all.append(dict_df[\"df_corrected\"])\n"
     ]
    },
    {
     "name": "stdout",
     "output_type": "stream",
     "text": [
      ">>> Start downloading each station\n",
      ">>> Downloading 97400\n",
      "Check smhi.log for data download details!\n"
     ]
    },
    {
     "name": "stderr",
     "output_type": "stream",
     "text": [
      "C:\\Users\\MarlonVieiraPassos\\AppData\\Local\\Temp\\ipykernel_8500\\3869588013.py:9: FutureWarning: The frame.append method is deprecated and will be removed from pandas in a future version. Use pandas.concat instead.\n",
      "  df_all=df_all.append(dict_df[\"df_corrected\"])\n"
     ]
    },
    {
     "name": "stdout",
     "output_type": "stream",
     "text": [
      ">>> Start downloading each station\n",
      ">>> Downloading 97200\n",
      "Check smhi.log for data download details!\n"
     ]
    },
    {
     "name": "stderr",
     "output_type": "stream",
     "text": [
      "C:\\Users\\MarlonVieiraPassos\\AppData\\Local\\Temp\\ipykernel_8500\\3869588013.py:9: FutureWarning: The frame.append method is deprecated and will be removed from pandas in a future version. Use pandas.concat instead.\n",
      "  df_all=df_all.append(dict_df[\"df_corrected\"])\n"
     ]
    },
    {
     "name": "stdout",
     "output_type": "stream",
     "text": [
      ">>> Start downloading each station\n",
      ">>> Downloading 98210\n",
      "Check smhi.log for data download details!\n"
     ]
    },
    {
     "name": "stderr",
     "output_type": "stream",
     "text": [
      "C:\\Users\\MarlonVieiraPassos\\AppData\\Local\\Temp\\ipykernel_8500\\3869588013.py:9: FutureWarning: The frame.append method is deprecated and will be removed from pandas in a future version. Use pandas.concat instead.\n",
      "  df_all=df_all.append(dict_df[\"df_corrected\"])\n"
     ]
    },
    {
     "name": "stdout",
     "output_type": "stream",
     "text": [
      ">>> Start downloading each station\n",
      ">>> Downloading 98230\n",
      "Check smhi.log for data download details!\n"
     ]
    },
    {
     "name": "stderr",
     "output_type": "stream",
     "text": [
      "C:\\Users\\MarlonVieiraPassos\\AppData\\Local\\Temp\\ipykernel_8500\\3869588013.py:9: FutureWarning: The frame.append method is deprecated and will be removed from pandas in a future version. Use pandas.concat instead.\n",
      "  df_all=df_all.append(dict_df[\"df_corrected\"])\n"
     ]
    },
    {
     "name": "stdout",
     "output_type": "stream",
     "text": [
      ">>> Start downloading each station\n",
      ">>> Downloading 77180\n",
      "Check smhi.log for data download details!\n"
     ]
    },
    {
     "name": "stderr",
     "output_type": "stream",
     "text": [
      "C:\\Users\\MarlonVieiraPassos\\AppData\\Local\\Temp\\ipykernel_8500\\3869588013.py:9: FutureWarning: The frame.append method is deprecated and will be removed from pandas in a future version. Use pandas.concat instead.\n",
      "  df_all=df_all.append(dict_df[\"df_corrected\"])\n"
     ]
    },
    {
     "name": "stdout",
     "output_type": "stream",
     "text": [
      ">>> Start downloading each station\n",
      ">>> Downloading 73090\n",
      "Check smhi.log for data download details!\n"
     ]
    },
    {
     "name": "stderr",
     "output_type": "stream",
     "text": [
      "C:\\Users\\MarlonVieiraPassos\\AppData\\Local\\Temp\\ipykernel_8500\\3869588013.py:9: FutureWarning: The frame.append method is deprecated and will be removed from pandas in a future version. Use pandas.concat instead.\n",
      "  df_all=df_all.append(dict_df[\"df_corrected\"])\n"
     ]
    },
    {
     "name": "stdout",
     "output_type": "stream",
     "text": [
      ">>> Start downloading each station\n",
      ">>> Downloading 178860\n",
      "Check smhi.log for data download details!\n"
     ]
    },
    {
     "name": "stderr",
     "output_type": "stream",
     "text": [
      "C:\\Users\\MarlonVieiraPassos\\AppData\\Local\\Temp\\ipykernel_8500\\3869588013.py:9: FutureWarning: The frame.append method is deprecated and will be removed from pandas in a future version. Use pandas.concat instead.\n",
      "  df_all=df_all.append(dict_df[\"df_corrected\"])\n"
     ]
    },
    {
     "name": "stdout",
     "output_type": "stream",
     "text": [
      ">>> Start downloading each station\n",
      ">>> Downloading 105220\n",
      "Check smhi.log for data download details!\n"
     ]
    },
    {
     "name": "stderr",
     "output_type": "stream",
     "text": [
      "C:\\Users\\MarlonVieiraPassos\\AppData\\Local\\Temp\\ipykernel_8500\\3869588013.py:9: FutureWarning: The frame.append method is deprecated and will be removed from pandas in a future version. Use pandas.concat instead.\n",
      "  df_all=df_all.append(dict_df[\"df_corrected\"])\n"
     ]
    },
    {
     "name": "stdout",
     "output_type": "stream",
     "text": [
      ">>> Start downloading each station\n",
      ">>> Downloading 133570\n",
      "Check smhi.log for data download details!\n"
     ]
    },
    {
     "name": "stderr",
     "output_type": "stream",
     "text": [
      "C:\\Users\\MarlonVieiraPassos\\AppData\\Local\\Temp\\ipykernel_8500\\3869588013.py:9: FutureWarning: The frame.append method is deprecated and will be removed from pandas in a future version. Use pandas.concat instead.\n",
      "  df_all=df_all.append(dict_df[\"df_corrected\"])\n"
     ]
    },
    {
     "name": "stdout",
     "output_type": "stream",
     "text": [
      ">>> Start downloading each station\n",
      ">>> Downloading 158850\n",
      "Check smhi.log for data download details!\n"
     ]
    },
    {
     "name": "stderr",
     "output_type": "stream",
     "text": [
      "C:\\Users\\MarlonVieiraPassos\\AppData\\Local\\Temp\\ipykernel_8500\\3869588013.py:9: FutureWarning: The frame.append method is deprecated and will be removed from pandas in a future version. Use pandas.concat instead.\n",
      "  df_all=df_all.append(dict_df[\"df_corrected\"])\n"
     ]
    },
    {
     "name": "stdout",
     "output_type": "stream",
     "text": [
      ">>> Start downloading each station\n",
      ">>> Downloading 112530\n",
      "Check smhi.log for data download details!\n"
     ]
    },
    {
     "name": "stderr",
     "output_type": "stream",
     "text": [
      "C:\\Users\\MarlonVieiraPassos\\AppData\\Local\\Temp\\ipykernel_8500\\3869588013.py:9: FutureWarning: The frame.append method is deprecated and will be removed from pandas in a future version. Use pandas.concat instead.\n",
      "  df_all=df_all.append(dict_df[\"df_corrected\"])\n"
     ]
    },
    {
     "name": "stdout",
     "output_type": "stream",
     "text": [
      ">>> Start downloading each station\n",
      ">>> Downloading 136360\n",
      "Check smhi.log for data download details!\n"
     ]
    },
    {
     "name": "stderr",
     "output_type": "stream",
     "text": [
      "C:\\Users\\MarlonVieiraPassos\\AppData\\Local\\Temp\\ipykernel_8500\\3869588013.py:9: FutureWarning: The frame.append method is deprecated and will be removed from pandas in a future version. Use pandas.concat instead.\n",
      "  df_all=df_all.append(dict_df[\"df_corrected\"])\n"
     ]
    },
    {
     "name": "stdout",
     "output_type": "stream",
     "text": [
      ">>> Start downloading each station\n",
      ">>> Downloading 113610\n",
      "Check smhi.log for data download details!\n"
     ]
    },
    {
     "name": "stderr",
     "output_type": "stream",
     "text": [
      "C:\\Users\\MarlonVieiraPassos\\AppData\\Local\\Temp\\ipykernel_8500\\3869588013.py:9: FutureWarning: The frame.append method is deprecated and will be removed from pandas in a future version. Use pandas.concat instead.\n",
      "  df_all=df_all.append(dict_df[\"df_corrected\"])\n"
     ]
    },
    {
     "name": "stdout",
     "output_type": "stream",
     "text": [
      ">>> Start downloading each station\n",
      ">>> Downloading 94320\n",
      "Check smhi.log for data download details!\n"
     ]
    },
    {
     "name": "stderr",
     "output_type": "stream",
     "text": [
      "C:\\Users\\MarlonVieiraPassos\\AppData\\Local\\Temp\\ipykernel_8500\\3869588013.py:9: FutureWarning: The frame.append method is deprecated and will be removed from pandas in a future version. Use pandas.concat instead.\n",
      "  df_all=df_all.append(dict_df[\"df_corrected\"])\n"
     ]
    },
    {
     "name": "stdout",
     "output_type": "stream",
     "text": [
      ">>> Start downloading each station\n",
      ">>> Downloading 146710\n",
      "Check smhi.log for data download details!\n"
     ]
    },
    {
     "name": "stderr",
     "output_type": "stream",
     "text": [
      "C:\\Users\\MarlonVieiraPassos\\AppData\\Local\\Temp\\ipykernel_8500\\3869588013.py:9: FutureWarning: The frame.append method is deprecated and will be removed from pandas in a future version. Use pandas.concat instead.\n",
      "  df_all=df_all.append(dict_df[\"df_corrected\"])\n"
     ]
    },
    {
     "name": "stdout",
     "output_type": "stream",
     "text": [
      ">>> Start downloading each station\n",
      ">>> Downloading 117610\n",
      "Check smhi.log for data download details!\n"
     ]
    },
    {
     "name": "stderr",
     "output_type": "stream",
     "text": [
      "C:\\Users\\MarlonVieiraPassos\\AppData\\Local\\Temp\\ipykernel_8500\\3869588013.py:9: FutureWarning: The frame.append method is deprecated and will be removed from pandas in a future version. Use pandas.concat instead.\n",
      "  df_all=df_all.append(dict_df[\"df_corrected\"])\n"
     ]
    },
    {
     "name": "stdout",
     "output_type": "stream",
     "text": [
      ">>> Start downloading each station\n",
      ">>> Downloading 149570\n",
      "Check smhi.log for data download details!\n"
     ]
    },
    {
     "name": "stderr",
     "output_type": "stream",
     "text": [
      "C:\\Users\\MarlonVieiraPassos\\AppData\\Local\\Temp\\ipykernel_8500\\3869588013.py:9: FutureWarning: The frame.append method is deprecated and will be removed from pandas in a future version. Use pandas.concat instead.\n",
      "  df_all=df_all.append(dict_df[\"df_corrected\"])\n"
     ]
    },
    {
     "name": "stdout",
     "output_type": "stream",
     "text": [
      ">>> Start downloading each station\n",
      ">>> Downloading 132620\n",
      "Check smhi.log for data download details!\n"
     ]
    },
    {
     "name": "stderr",
     "output_type": "stream",
     "text": [
      "C:\\Users\\MarlonVieiraPassos\\AppData\\Local\\Temp\\ipykernel_8500\\3869588013.py:9: FutureWarning: The frame.append method is deprecated and will be removed from pandas in a future version. Use pandas.concat instead.\n",
      "  df_all=df_all.append(dict_df[\"df_corrected\"])\n"
     ]
    },
    {
     "name": "stdout",
     "output_type": "stream",
     "text": [
      ">>> Start downloading each station\n",
      ">>> Downloading 132170\n",
      "Check smhi.log for data download details!\n"
     ]
    },
    {
     "name": "stderr",
     "output_type": "stream",
     "text": [
      "C:\\Users\\MarlonVieiraPassos\\AppData\\Local\\Temp\\ipykernel_8500\\3869588013.py:9: FutureWarning: The frame.append method is deprecated and will be removed from pandas in a future version. Use pandas.concat instead.\n",
      "  df_all=df_all.append(dict_df[\"df_corrected\"])\n"
     ]
    },
    {
     "name": "stdout",
     "output_type": "stream",
     "text": [
      ">>> Start downloading each station\n",
      ">>> Downloading 132180\n",
      "Check smhi.log for data download details!\n"
     ]
    },
    {
     "name": "stderr",
     "output_type": "stream",
     "text": [
      "C:\\Users\\MarlonVieiraPassos\\AppData\\Local\\Temp\\ipykernel_8500\\3869588013.py:9: FutureWarning: The frame.append method is deprecated and will be removed from pandas in a future version. Use pandas.concat instead.\n",
      "  df_all=df_all.append(dict_df[\"df_corrected\"])\n"
     ]
    },
    {
     "name": "stdout",
     "output_type": "stream",
     "text": [
      ">>> Start downloading each station\n",
      ">>> Downloading 98140\n",
      "Check smhi.log for data download details!\n"
     ]
    },
    {
     "name": "stderr",
     "output_type": "stream",
     "text": [
      "C:\\Users\\MarlonVieiraPassos\\AppData\\Local\\Temp\\ipykernel_8500\\3869588013.py:9: FutureWarning: The frame.append method is deprecated and will be removed from pandas in a future version. Use pandas.concat instead.\n",
      "  df_all=df_all.append(dict_df[\"df_corrected\"])\n"
     ]
    },
    {
     "name": "stdout",
     "output_type": "stream",
     "text": [
      ">>> Start downloading each station\n",
      ">>> Downloading 159600\n",
      "Check smhi.log for data download details!\n"
     ]
    },
    {
     "name": "stderr",
     "output_type": "stream",
     "text": [
      "C:\\Users\\MarlonVieiraPassos\\AppData\\Local\\Temp\\ipykernel_8500\\3869588013.py:9: FutureWarning: The frame.append method is deprecated and will be removed from pandas in a future version. Use pandas.concat instead.\n",
      "  df_all=df_all.append(dict_df[\"df_corrected\"])\n"
     ]
    },
    {
     "name": "stdout",
     "output_type": "stream",
     "text": [
      ">>> Start downloading each station\n",
      ">>> Downloading 146520\n",
      "Check smhi.log for data download details!\n"
     ]
    },
    {
     "name": "stderr",
     "output_type": "stream",
     "text": [
      "C:\\Users\\MarlonVieiraPassos\\AppData\\Local\\Temp\\ipykernel_8500\\3869588013.py:9: FutureWarning: The frame.append method is deprecated and will be removed from pandas in a future version. Use pandas.concat instead.\n",
      "  df_all=df_all.append(dict_df[\"df_corrected\"])\n"
     ]
    },
    {
     "name": "stdout",
     "output_type": "stream",
     "text": [
      ">>> Start downloading each station\n",
      ">>> Downloading 123480\n",
      "Check smhi.log for data download details!\n"
     ]
    },
    {
     "name": "stderr",
     "output_type": "stream",
     "text": [
      "C:\\Users\\MarlonVieiraPassos\\AppData\\Local\\Temp\\ipykernel_8500\\3869588013.py:9: FutureWarning: The frame.append method is deprecated and will be removed from pandas in a future version. Use pandas.concat instead.\n",
      "  df_all=df_all.append(dict_df[\"df_corrected\"])\n"
     ]
    },
    {
     "name": "stdout",
     "output_type": "stream",
     "text": [
      ">>> Start downloading each station\n",
      ">>> Downloading 122600\n",
      "Check smhi.log for data download details!\n"
     ]
    },
    {
     "name": "stderr",
     "output_type": "stream",
     "text": [
      "C:\\Users\\MarlonVieiraPassos\\AppData\\Local\\Temp\\ipykernel_8500\\3869588013.py:9: FutureWarning: The frame.append method is deprecated and will be removed from pandas in a future version. Use pandas.concat instead.\n",
      "  df_all=df_all.append(dict_df[\"df_corrected\"])\n"
     ]
    },
    {
     "name": "stdout",
     "output_type": "stream",
     "text": [
      ">>> Start downloading each station\n",
      ">>> Downloading 154710\n",
      "Check smhi.log for data download details!\n"
     ]
    },
    {
     "name": "stderr",
     "output_type": "stream",
     "text": [
      "C:\\Users\\MarlonVieiraPassos\\AppData\\Local\\Temp\\ipykernel_8500\\3869588013.py:9: FutureWarning: The frame.append method is deprecated and will be removed from pandas in a future version. Use pandas.concat instead.\n",
      "  df_all=df_all.append(dict_df[\"df_corrected\"])\n"
     ]
    },
    {
     "name": "stdout",
     "output_type": "stream",
     "text": [
      ">>> Start downloading each station\n",
      ">>> Downloading 163920\n",
      "Check smhi.log for data download details!\n"
     ]
    },
    {
     "name": "stderr",
     "output_type": "stream",
     "text": [
      "C:\\Users\\MarlonVieiraPassos\\AppData\\Local\\Temp\\ipykernel_8500\\3869588013.py:9: FutureWarning: The frame.append method is deprecated and will be removed from pandas in a future version. Use pandas.concat instead.\n",
      "  df_all=df_all.append(dict_df[\"df_corrected\"])\n"
     ]
    },
    {
     "name": "stdout",
     "output_type": "stream",
     "text": [
      ">>> Start downloading each station\n",
      ">>> Downloading 163900\n",
      "Check smhi.log for data download details!\n"
     ]
    },
    {
     "name": "stderr",
     "output_type": "stream",
     "text": [
      "C:\\Users\\MarlonVieiraPassos\\AppData\\Local\\Temp\\ipykernel_8500\\3869588013.py:9: FutureWarning: The frame.append method is deprecated and will be removed from pandas in a future version. Use pandas.concat instead.\n",
      "  df_all=df_all.append(dict_df[\"df_corrected\"])\n"
     ]
    },
    {
     "name": "stdout",
     "output_type": "stream",
     "text": [
      ">>> Start downloading each station\n",
      ">>> Downloading 74650\n",
      "Check smhi.log for data download details!\n"
     ]
    },
    {
     "name": "stderr",
     "output_type": "stream",
     "text": [
      "C:\\Users\\MarlonVieiraPassos\\AppData\\Local\\Temp\\ipykernel_8500\\3869588013.py:9: FutureWarning: The frame.append method is deprecated and will be removed from pandas in a future version. Use pandas.concat instead.\n",
      "  df_all=df_all.append(dict_df[\"df_corrected\"])\n"
     ]
    },
    {
     "name": "stdout",
     "output_type": "stream",
     "text": [
      ">>> Start downloading each station\n",
      ">>> Downloading 97270\n",
      "Check smhi.log for data download details!\n"
     ]
    },
    {
     "name": "stderr",
     "output_type": "stream",
     "text": [
      "C:\\Users\\MarlonVieiraPassos\\AppData\\Local\\Temp\\ipykernel_8500\\3869588013.py:9: FutureWarning: The frame.append method is deprecated and will be removed from pandas in a future version. Use pandas.concat instead.\n",
      "  df_all=df_all.append(dict_df[\"df_corrected\"])\n"
     ]
    },
    {
     "name": "stdout",
     "output_type": "stream",
     "text": [
      ">>> Start downloading each station\n",
      ">>> Downloading 96030\n",
      "Check smhi.log for data download details!\n"
     ]
    },
    {
     "name": "stderr",
     "output_type": "stream",
     "text": [
      "C:\\Users\\MarlonVieiraPassos\\AppData\\Local\\Temp\\ipykernel_8500\\3869588013.py:9: FutureWarning: The frame.append method is deprecated and will be removed from pandas in a future version. Use pandas.concat instead.\n",
      "  df_all=df_all.append(dict_df[\"df_corrected\"])\n"
     ]
    },
    {
     "name": "stdout",
     "output_type": "stream",
     "text": [
      ">>> Start downloading each station\n",
      ">>> Downloading 81560\n",
      "Check smhi.log for data download details!\n"
     ]
    },
    {
     "name": "stderr",
     "output_type": "stream",
     "text": [
      "C:\\Users\\MarlonVieiraPassos\\AppData\\Local\\Temp\\ipykernel_8500\\3869588013.py:9: FutureWarning: The frame.append method is deprecated and will be removed from pandas in a future version. Use pandas.concat instead.\n",
      "  df_all=df_all.append(dict_df[\"df_corrected\"])\n"
     ]
    },
    {
     "name": "stdout",
     "output_type": "stream",
     "text": [
      ">>> Start downloading each station\n",
      ">>> Downloading 135520\n",
      "Check smhi.log for data download details!\n"
     ]
    },
    {
     "name": "stderr",
     "output_type": "stream",
     "text": [
      "C:\\Users\\MarlonVieiraPassos\\AppData\\Local\\Temp\\ipykernel_8500\\3869588013.py:9: FutureWarning: The frame.append method is deprecated and will be removed from pandas in a future version. Use pandas.concat instead.\n",
      "  df_all=df_all.append(dict_df[\"df_corrected\"])\n"
     ]
    },
    {
     "name": "stdout",
     "output_type": "stream",
     "text": [
      ">>> Start downloading each station\n",
      ">>> Downloading 94580\n",
      "Check smhi.log for data download details!\n",
      ">>> Start downloading each station\n",
      ">>> Downloading 94660\n",
      "Check smhi.log for data download details!\n"
     ]
    },
    {
     "name": "stderr",
     "output_type": "stream",
     "text": [
      "C:\\Users\\MarlonVieiraPassos\\AppData\\Local\\Temp\\ipykernel_8500\\3869588013.py:9: FutureWarning: The frame.append method is deprecated and will be removed from pandas in a future version. Use pandas.concat instead.\n",
      "  df_all=df_all.append(dict_df[\"df_corrected\"])\n"
     ]
    },
    {
     "name": "stdout",
     "output_type": "stream",
     "text": [
      ">>> Start downloading each station\n",
      ">>> Downloading 159970\n",
      "Check smhi.log for data download details!\n"
     ]
    },
    {
     "name": "stderr",
     "output_type": "stream",
     "text": [
      "C:\\Users\\MarlonVieiraPassos\\AppData\\Local\\Temp\\ipykernel_8500\\3869588013.py:9: FutureWarning: The frame.append method is deprecated and will be removed from pandas in a future version. Use pandas.concat instead.\n",
      "  df_all=df_all.append(dict_df[\"df_corrected\"])\n"
     ]
    },
    {
     "name": "stdout",
     "output_type": "stream",
     "text": [
      ">>> Start downloading each station\n",
      ">>> Downloading 170790\n",
      "Check smhi.log for data download details!\n"
     ]
    },
    {
     "name": "stderr",
     "output_type": "stream",
     "text": [
      "C:\\Users\\MarlonVieiraPassos\\AppData\\Local\\Temp\\ipykernel_8500\\3869588013.py:9: FutureWarning: The frame.append method is deprecated and will be removed from pandas in a future version. Use pandas.concat instead.\n",
      "  df_all=df_all.append(dict_df[\"df_corrected\"])\n"
     ]
    },
    {
     "name": "stdout",
     "output_type": "stream",
     "text": [
      ">>> Start downloading each station\n",
      ">>> Downloading 161680\n",
      "Check smhi.log for data download details!\n"
     ]
    },
    {
     "name": "stderr",
     "output_type": "stream",
     "text": [
      "C:\\Users\\MarlonVieiraPassos\\AppData\\Local\\Temp\\ipykernel_8500\\3869588013.py:9: FutureWarning: The frame.append method is deprecated and will be removed from pandas in a future version. Use pandas.concat instead.\n",
      "  df_all=df_all.append(dict_df[\"df_corrected\"])\n"
     ]
    },
    {
     "name": "stdout",
     "output_type": "stream",
     "text": [
      ">>> Start downloading each station\n",
      ">>> Downloading 136640\n",
      "Check smhi.log for data download details!\n"
     ]
    },
    {
     "name": "stderr",
     "output_type": "stream",
     "text": [
      "C:\\Users\\MarlonVieiraPassos\\AppData\\Local\\Temp\\ipykernel_8500\\3869588013.py:9: FutureWarning: The frame.append method is deprecated and will be removed from pandas in a future version. Use pandas.concat instead.\n",
      "  df_all=df_all.append(dict_df[\"df_corrected\"])\n"
     ]
    },
    {
     "name": "stdout",
     "output_type": "stream",
     "text": [
      ">>> Start downloading each station\n",
      ">>> Downloading 127240\n",
      "Check smhi.log for data download details!\n"
     ]
    },
    {
     "name": "stderr",
     "output_type": "stream",
     "text": [
      "C:\\Users\\MarlonVieiraPassos\\AppData\\Local\\Temp\\ipykernel_8500\\3869588013.py:9: FutureWarning: The frame.append method is deprecated and will be removed from pandas in a future version. Use pandas.concat instead.\n",
      "  df_all=df_all.append(dict_df[\"df_corrected\"])\n"
     ]
    },
    {
     "name": "stdout",
     "output_type": "stream",
     "text": [
      ">>> Start downloading each station\n",
      ">>> Downloading 127310\n",
      "Check smhi.log for data download details!\n"
     ]
    },
    {
     "name": "stderr",
     "output_type": "stream",
     "text": [
      "C:\\Users\\MarlonVieiraPassos\\AppData\\Local\\Temp\\ipykernel_8500\\3869588013.py:9: FutureWarning: The frame.append method is deprecated and will be removed from pandas in a future version. Use pandas.concat instead.\n",
      "  df_all=df_all.append(dict_df[\"df_corrected\"])\n"
     ]
    },
    {
     "name": "stdout",
     "output_type": "stream",
     "text": [
      ">>> Start downloading each station\n",
      ">>> Downloading 93520\n",
      "Check smhi.log for data download details!\n"
     ]
    },
    {
     "name": "stderr",
     "output_type": "stream",
     "text": [
      "C:\\Users\\MarlonVieiraPassos\\AppData\\Local\\Temp\\ipykernel_8500\\3869588013.py:9: FutureWarning: The frame.append method is deprecated and will be removed from pandas in a future version. Use pandas.concat instead.\n",
      "  df_all=df_all.append(dict_df[\"df_corrected\"])\n"
     ]
    },
    {
     "name": "stdout",
     "output_type": "stream",
     "text": [
      ">>> Start downloading each station\n",
      ">>> Downloading 93340\n",
      "Check smhi.log for data download details!\n"
     ]
    },
    {
     "name": "stderr",
     "output_type": "stream",
     "text": [
      "C:\\Users\\MarlonVieiraPassos\\AppData\\Local\\Temp\\ipykernel_8500\\3869588013.py:9: FutureWarning: The frame.append method is deprecated and will be removed from pandas in a future version. Use pandas.concat instead.\n",
      "  df_all=df_all.append(dict_df[\"df_corrected\"])\n"
     ]
    },
    {
     "name": "stdout",
     "output_type": "stream",
     "text": [
      ">>> Start downloading each station\n",
      ">>> Downloading 115050\n",
      "Check smhi.log for data download details!\n"
     ]
    },
    {
     "name": "stderr",
     "output_type": "stream",
     "text": [
      "C:\\Users\\MarlonVieiraPassos\\AppData\\Local\\Temp\\ipykernel_8500\\3869588013.py:9: FutureWarning: The frame.append method is deprecated and will be removed from pandas in a future version. Use pandas.concat instead.\n",
      "  df_all=df_all.append(dict_df[\"df_corrected\"])\n"
     ]
    },
    {
     "name": "stdout",
     "output_type": "stream",
     "text": [
      ">>> Start downloading each station\n",
      ">>> Downloading 53560\n",
      "Check smhi.log for data download details!\n"
     ]
    },
    {
     "name": "stderr",
     "output_type": "stream",
     "text": [
      "C:\\Users\\MarlonVieiraPassos\\AppData\\Local\\Temp\\ipykernel_8500\\3869588013.py:9: FutureWarning: The frame.append method is deprecated and will be removed from pandas in a future version. Use pandas.concat instead.\n",
      "  df_all=df_all.append(dict_df[\"df_corrected\"])\n"
     ]
    },
    {
     "name": "stdout",
     "output_type": "stream",
     "text": [
      ">>> Start downloading each station\n",
      ">>> Downloading 98490\n",
      "Check smhi.log for data download details!\n"
     ]
    },
    {
     "name": "stderr",
     "output_type": "stream",
     "text": [
      "C:\\Users\\MarlonVieiraPassos\\AppData\\Local\\Temp\\ipykernel_8500\\3869588013.py:9: FutureWarning: The frame.append method is deprecated and will be removed from pandas in a future version. Use pandas.concat instead.\n",
      "  df_all=df_all.append(dict_df[\"df_corrected\"])\n"
     ]
    },
    {
     "name": "stdout",
     "output_type": "stream",
     "text": [
      ">>> Start downloading each station\n",
      ">>> Downloading 84780\n",
      "Check smhi.log for data download details!\n"
     ]
    },
    {
     "name": "stderr",
     "output_type": "stream",
     "text": [
      "C:\\Users\\MarlonVieiraPassos\\AppData\\Local\\Temp\\ipykernel_8500\\3869588013.py:9: FutureWarning: The frame.append method is deprecated and will be removed from pandas in a future version. Use pandas.concat instead.\n",
      "  df_all=df_all.append(dict_df[\"df_corrected\"])\n"
     ]
    },
    {
     "name": "stdout",
     "output_type": "stream",
     "text": [
      ">>> Start downloading each station\n",
      ">>> Downloading 181890\n",
      "Check smhi.log for data download details!\n",
      ">>> Start downloading each station\n",
      ">>> Downloading 81340\n",
      "Check smhi.log for data download details!\n"
     ]
    },
    {
     "name": "stderr",
     "output_type": "stream",
     "text": [
      "C:\\Users\\MarlonVieiraPassos\\AppData\\Local\\Temp\\ipykernel_8500\\3869588013.py:9: FutureWarning: The frame.append method is deprecated and will be removed from pandas in a future version. Use pandas.concat instead.\n",
      "  df_all=df_all.append(dict_df[\"df_corrected\"])\n"
     ]
    },
    {
     "name": "stdout",
     "output_type": "stream",
     "text": [
      ">>> Start downloading each station\n",
      ">>> Downloading 66460\n",
      "Check smhi.log for data download details!\n"
     ]
    },
    {
     "name": "stderr",
     "output_type": "stream",
     "text": [
      "C:\\Users\\MarlonVieiraPassos\\AppData\\Local\\Temp\\ipykernel_8500\\3869588013.py:9: FutureWarning: The frame.append method is deprecated and will be removed from pandas in a future version. Use pandas.concat instead.\n",
      "  df_all=df_all.append(dict_df[\"df_corrected\"])\n"
     ]
    },
    {
     "name": "stdout",
     "output_type": "stream",
     "text": [
      ">>> Start downloading each station\n",
      ">>> Downloading 97220\n",
      "Check smhi.log for data download details!\n"
     ]
    },
    {
     "name": "stderr",
     "output_type": "stream",
     "text": [
      "C:\\Users\\MarlonVieiraPassos\\AppData\\Local\\Temp\\ipykernel_8500\\3869588013.py:9: FutureWarning: The frame.append method is deprecated and will be removed from pandas in a future version. Use pandas.concat instead.\n",
      "  df_all=df_all.append(dict_df[\"df_corrected\"])\n"
     ]
    },
    {
     "name": "stdout",
     "output_type": "stream",
     "text": [
      ">>> Start downloading each station\n",
      ">>> Downloading 53780\n",
      "Check smhi.log for data download details!\n"
     ]
    },
    {
     "name": "stderr",
     "output_type": "stream",
     "text": [
      "C:\\Users\\MarlonVieiraPassos\\AppData\\Local\\Temp\\ipykernel_8500\\3869588013.py:9: FutureWarning: The frame.append method is deprecated and will be removed from pandas in a future version. Use pandas.concat instead.\n",
      "  df_all=df_all.append(dict_df[\"df_corrected\"])\n"
     ]
    },
    {
     "name": "stdout",
     "output_type": "stream",
     "text": [
      ">>> Start downloading each station\n",
      ">>> Downloading 124020\n",
      "Check smhi.log for data download details!\n",
      ">>> Start downloading each station\n",
      ">>> Downloading 124030\n",
      "Check smhi.log for data download details!\n"
     ]
    },
    {
     "name": "stderr",
     "output_type": "stream",
     "text": [
      "C:\\Users\\MarlonVieiraPassos\\AppData\\Local\\Temp\\ipykernel_8500\\3869588013.py:9: FutureWarning: The frame.append method is deprecated and will be removed from pandas in a future version. Use pandas.concat instead.\n",
      "  df_all=df_all.append(dict_df[\"df_corrected\"])\n"
     ]
    },
    {
     "name": "stdout",
     "output_type": "stream",
     "text": [
      ">>> Start downloading each station\n",
      ">>> Downloading 99330\n",
      "Check smhi.log for data download details!\n"
     ]
    },
    {
     "name": "stderr",
     "output_type": "stream",
     "text": [
      "C:\\Users\\MarlonVieiraPassos\\AppData\\Local\\Temp\\ipykernel_8500\\3869588013.py:9: FutureWarning: The frame.append method is deprecated and will be removed from pandas in a future version. Use pandas.concat instead.\n",
      "  df_all=df_all.append(dict_df[\"df_corrected\"])\n"
     ]
    },
    {
     "name": "stdout",
     "output_type": "stream",
     "text": [
      ">>> Start downloading each station\n",
      ">>> Downloading 99270\n",
      "Check smhi.log for data download details!\n"
     ]
    },
    {
     "name": "stderr",
     "output_type": "stream",
     "text": [
      "C:\\Users\\MarlonVieiraPassos\\AppData\\Local\\Temp\\ipykernel_8500\\3869588013.py:9: FutureWarning: The frame.append method is deprecated and will be removed from pandas in a future version. Use pandas.concat instead.\n",
      "  df_all=df_all.append(dict_df[\"df_corrected\"])\n"
     ]
    },
    {
     "name": "stdout",
     "output_type": "stream",
     "text": [
      ">>> Start downloading each station\n",
      ">>> Downloading 99280\n",
      "Check smhi.log for data download details!\n"
     ]
    },
    {
     "name": "stderr",
     "output_type": "stream",
     "text": [
      "C:\\Users\\MarlonVieiraPassos\\AppData\\Local\\Temp\\ipykernel_8500\\3869588013.py:9: FutureWarning: The frame.append method is deprecated and will be removed from pandas in a future version. Use pandas.concat instead.\n",
      "  df_all=df_all.append(dict_df[\"df_corrected\"])\n"
     ]
    },
    {
     "name": "stdout",
     "output_type": "stream",
     "text": [
      ">>> Start downloading each station\n",
      ">>> Downloading 140200\n",
      "Check smhi.log for data download details!\n"
     ]
    },
    {
     "name": "stderr",
     "output_type": "stream",
     "text": [
      "C:\\Users\\MarlonVieiraPassos\\AppData\\Local\\Temp\\ipykernel_8500\\3869588013.py:9: FutureWarning: The frame.append method is deprecated and will be removed from pandas in a future version. Use pandas.concat instead.\n",
      "  df_all=df_all.append(dict_df[\"df_corrected\"])\n"
     ]
    },
    {
     "name": "stdout",
     "output_type": "stream",
     "text": [
      ">>> Start downloading each station\n",
      ">>> Downloading 132030\n",
      "Check smhi.log for data download details!\n"
     ]
    },
    {
     "name": "stderr",
     "output_type": "stream",
     "text": [
      "C:\\Users\\MarlonVieiraPassos\\AppData\\Local\\Temp\\ipykernel_8500\\3869588013.py:9: FutureWarning: The frame.append method is deprecated and will be removed from pandas in a future version. Use pandas.concat instead.\n",
      "  df_all=df_all.append(dict_df[\"df_corrected\"])\n"
     ]
    },
    {
     "name": "stdout",
     "output_type": "stream",
     "text": [
      ">>> Start downloading each station\n",
      ">>> Downloading 81010\n",
      "Check smhi.log for data download details!\n"
     ]
    },
    {
     "name": "stderr",
     "output_type": "stream",
     "text": [
      "C:\\Users\\MarlonVieiraPassos\\AppData\\Local\\Temp\\ipykernel_8500\\3869588013.py:9: FutureWarning: The frame.append method is deprecated and will be removed from pandas in a future version. Use pandas.concat instead.\n",
      "  df_all=df_all.append(dict_df[\"df_corrected\"])\n"
     ]
    },
    {
     "name": "stdout",
     "output_type": "stream",
     "text": [
      ">>> Start downloading each station\n",
      ">>> Downloading 52660\n",
      "Check smhi.log for data download details!\n"
     ]
    },
    {
     "name": "stderr",
     "output_type": "stream",
     "text": [
      "C:\\Users\\MarlonVieiraPassos\\AppData\\Local\\Temp\\ipykernel_8500\\3869588013.py:9: FutureWarning: The frame.append method is deprecated and will be removed from pandas in a future version. Use pandas.concat instead.\n",
      "  df_all=df_all.append(dict_df[\"df_corrected\"])\n"
     ]
    },
    {
     "name": "stdout",
     "output_type": "stream",
     "text": [
      ">>> Start downloading each station\n",
      ">>> Downloading 92100\n",
      "Check smhi.log for data download details!\n"
     ]
    },
    {
     "name": "stderr",
     "output_type": "stream",
     "text": [
      "C:\\Users\\MarlonVieiraPassos\\AppData\\Local\\Temp\\ipykernel_8500\\3869588013.py:9: FutureWarning: The frame.append method is deprecated and will be removed from pandas in a future version. Use pandas.concat instead.\n",
      "  df_all=df_all.append(dict_df[\"df_corrected\"])\n"
     ]
    },
    {
     "name": "stdout",
     "output_type": "stream",
     "text": [
      ">>> Start downloading each station\n",
      ">>> Downloading 113100\n",
      "Check smhi.log for data download details!\n"
     ]
    },
    {
     "name": "stderr",
     "output_type": "stream",
     "text": [
      "C:\\Users\\MarlonVieiraPassos\\AppData\\Local\\Temp\\ipykernel_8500\\3869588013.py:9: FutureWarning: The frame.append method is deprecated and will be removed from pandas in a future version. Use pandas.concat instead.\n",
      "  df_all=df_all.append(dict_df[\"df_corrected\"])\n"
     ]
    },
    {
     "name": "stdout",
     "output_type": "stream",
     "text": [
      ">>> Start downloading each station\n",
      ">>> Downloading 113410\n",
      "Check smhi.log for data download details!\n",
      ">>> Start downloading each station\n",
      ">>> Downloading 113420\n",
      "Check smhi.log for data download details!\n"
     ]
    },
    {
     "name": "stderr",
     "output_type": "stream",
     "text": [
      "C:\\Users\\MarlonVieiraPassos\\AppData\\Local\\Temp\\ipykernel_8500\\3869588013.py:9: FutureWarning: The frame.append method is deprecated and will be removed from pandas in a future version. Use pandas.concat instead.\n",
      "  df_all=df_all.append(dict_df[\"df_corrected\"])\n"
     ]
    },
    {
     "name": "stdout",
     "output_type": "stream",
     "text": [
      ">>> Start downloading each station\n",
      ">>> Downloading 105210\n",
      "Check smhi.log for data download details!\n"
     ]
    },
    {
     "name": "stderr",
     "output_type": "stream",
     "text": [
      "C:\\Users\\MarlonVieiraPassos\\AppData\\Local\\Temp\\ipykernel_8500\\3869588013.py:9: FutureWarning: The frame.append method is deprecated and will be removed from pandas in a future version. Use pandas.concat instead.\n",
      "  df_all=df_all.append(dict_df[\"df_corrected\"])\n"
     ]
    },
    {
     "name": "stdout",
     "output_type": "stream",
     "text": [
      ">>> Start downloading each station\n",
      ">>> Downloading 71470\n",
      "Check smhi.log for data download details!\n"
     ]
    },
    {
     "name": "stderr",
     "output_type": "stream",
     "text": [
      "C:\\Users\\MarlonVieiraPassos\\AppData\\Local\\Temp\\ipykernel_8500\\3869588013.py:9: FutureWarning: The frame.append method is deprecated and will be removed from pandas in a future version. Use pandas.concat instead.\n",
      "  df_all=df_all.append(dict_df[\"df_corrected\"])\n"
     ]
    },
    {
     "name": "stdout",
     "output_type": "stream",
     "text": [
      ">>> Start downloading each station\n",
      ">>> Downloading 71500\n",
      "Check smhi.log for data download details!\n"
     ]
    },
    {
     "name": "stderr",
     "output_type": "stream",
     "text": [
      "C:\\Users\\MarlonVieiraPassos\\AppData\\Local\\Temp\\ipykernel_8500\\3869588013.py:9: FutureWarning: The frame.append method is deprecated and will be removed from pandas in a future version. Use pandas.concat instead.\n",
      "  df_all=df_all.append(dict_df[\"df_corrected\"])\n"
     ]
    },
    {
     "name": "stdout",
     "output_type": "stream",
     "text": [
      ">>> Start downloading each station\n",
      ">>> Downloading 105410\n",
      "Check smhi.log for data download details!\n"
     ]
    },
    {
     "name": "stderr",
     "output_type": "stream",
     "text": [
      "C:\\Users\\MarlonVieiraPassos\\AppData\\Local\\Temp\\ipykernel_8500\\3869588013.py:9: FutureWarning: The frame.append method is deprecated and will be removed from pandas in a future version. Use pandas.concat instead.\n",
      "  df_all=df_all.append(dict_df[\"df_corrected\"])\n"
     ]
    },
    {
     "name": "stdout",
     "output_type": "stream",
     "text": [
      ">>> Start downloading each station\n",
      ">>> Downloading 64390\n",
      "Check smhi.log for data download details!\n"
     ]
    },
    {
     "name": "stderr",
     "output_type": "stream",
     "text": [
      "C:\\Users\\MarlonVieiraPassos\\AppData\\Local\\Temp\\ipykernel_8500\\3869588013.py:9: FutureWarning: The frame.append method is deprecated and will be removed from pandas in a future version. Use pandas.concat instead.\n",
      "  df_all=df_all.append(dict_df[\"df_corrected\"])\n"
     ]
    },
    {
     "name": "stdout",
     "output_type": "stream",
     "text": [
      ">>> Start downloading each station\n",
      ">>> Downloading 82260\n",
      "Check smhi.log for data download details!\n"
     ]
    },
    {
     "name": "stderr",
     "output_type": "stream",
     "text": [
      "C:\\Users\\MarlonVieiraPassos\\AppData\\Local\\Temp\\ipykernel_8500\\3869588013.py:9: FutureWarning: The frame.append method is deprecated and will be removed from pandas in a future version. Use pandas.concat instead.\n",
      "  df_all=df_all.append(dict_df[\"df_corrected\"])\n"
     ]
    },
    {
     "name": "stdout",
     "output_type": "stream",
     "text": [
      ">>> Start downloading each station\n",
      ">>> Downloading 82250\n",
      "Check smhi.log for data download details!\n"
     ]
    },
    {
     "name": "stderr",
     "output_type": "stream",
     "text": [
      "C:\\Users\\MarlonVieiraPassos\\AppData\\Local\\Temp\\ipykernel_8500\\3869588013.py:9: FutureWarning: The frame.append method is deprecated and will be removed from pandas in a future version. Use pandas.concat instead.\n",
      "  df_all=df_all.append(dict_df[\"df_corrected\"])\n"
     ]
    },
    {
     "name": "stdout",
     "output_type": "stream",
     "text": [
      ">>> Start downloading each station\n",
      ">>> Downloading 99450\n",
      "Check smhi.log for data download details!\n"
     ]
    },
    {
     "name": "stderr",
     "output_type": "stream",
     "text": [
      "C:\\Users\\MarlonVieiraPassos\\AppData\\Local\\Temp\\ipykernel_8500\\3869588013.py:9: FutureWarning: The frame.append method is deprecated and will be removed from pandas in a future version. Use pandas.concat instead.\n",
      "  df_all=df_all.append(dict_df[\"df_corrected\"])\n"
     ]
    },
    {
     "name": "stdout",
     "output_type": "stream",
     "text": [
      ">>> Start downloading each station\n",
      ">>> Downloading 97730\n",
      "Check smhi.log for data download details!\n"
     ]
    },
    {
     "name": "stderr",
     "output_type": "stream",
     "text": [
      "C:\\Users\\MarlonVieiraPassos\\AppData\\Local\\Temp\\ipykernel_8500\\3869588013.py:9: FutureWarning: The frame.append method is deprecated and will be removed from pandas in a future version. Use pandas.concat instead.\n",
      "  df_all=df_all.append(dict_df[\"df_corrected\"])\n"
     ]
    },
    {
     "name": "stdout",
     "output_type": "stream",
     "text": [
      ">>> Start downloading each station\n",
      ">>> Downloading 117170\n",
      "Check smhi.log for data download details!\n"
     ]
    },
    {
     "name": "stderr",
     "output_type": "stream",
     "text": [
      "C:\\Users\\MarlonVieiraPassos\\AppData\\Local\\Temp\\ipykernel_8500\\3869588013.py:9: FutureWarning: The frame.append method is deprecated and will be removed from pandas in a future version. Use pandas.concat instead.\n",
      "  df_all=df_all.append(dict_df[\"df_corrected\"])\n"
     ]
    },
    {
     "name": "stdout",
     "output_type": "stream",
     "text": [
      ">>> Start downloading each station\n",
      ">>> Downloading 117160\n",
      "Check smhi.log for data download details!\n"
     ]
    },
    {
     "name": "stderr",
     "output_type": "stream",
     "text": [
      "C:\\Users\\MarlonVieiraPassos\\AppData\\Local\\Temp\\ipykernel_8500\\3869588013.py:9: FutureWarning: The frame.append method is deprecated and will be removed from pandas in a future version. Use pandas.concat instead.\n",
      "  df_all=df_all.append(dict_df[\"df_corrected\"])\n"
     ]
    },
    {
     "name": "stdout",
     "output_type": "stream",
     "text": [
      ">>> Start downloading each station\n",
      ">>> Downloading 97120\n",
      "Check smhi.log for data download details!\n",
      ">>> Start downloading each station\n",
      ">>> Downloading 127630\n",
      "Check smhi.log for data download details!\n"
     ]
    },
    {
     "name": "stderr",
     "output_type": "stream",
     "text": [
      "C:\\Users\\MarlonVieiraPassos\\AppData\\Local\\Temp\\ipykernel_8500\\3869588013.py:9: FutureWarning: The frame.append method is deprecated and will be removed from pandas in a future version. Use pandas.concat instead.\n",
      "  df_all=df_all.append(dict_df[\"df_corrected\"])\n"
     ]
    },
    {
     "name": "stdout",
     "output_type": "stream",
     "text": [
      ">>> Start downloading each station\n",
      ">>> Downloading 113110\n",
      "Check smhi.log for data download details!\n"
     ]
    },
    {
     "name": "stderr",
     "output_type": "stream",
     "text": [
      "C:\\Users\\MarlonVieiraPassos\\AppData\\Local\\Temp\\ipykernel_8500\\3869588013.py:9: FutureWarning: The frame.append method is deprecated and will be removed from pandas in a future version. Use pandas.concat instead.\n",
      "  df_all=df_all.append(dict_df[\"df_corrected\"])\n"
     ]
    },
    {
     "name": "stdout",
     "output_type": "stream",
     "text": [
      ">>> Start downloading each station\n",
      ">>> Downloading 178970\n",
      "Check smhi.log for data download details!\n"
     ]
    },
    {
     "name": "stderr",
     "output_type": "stream",
     "text": [
      "C:\\Users\\MarlonVieiraPassos\\AppData\\Local\\Temp\\ipykernel_8500\\3869588013.py:9: FutureWarning: The frame.append method is deprecated and will be removed from pandas in a future version. Use pandas.concat instead.\n",
      "  df_all=df_all.append(dict_df[\"df_corrected\"])\n"
     ]
    },
    {
     "name": "stdout",
     "output_type": "stream",
     "text": [
      ">>> Start downloading each station\n",
      ">>> Downloading 53580\n",
      "Check smhi.log for data download details!\n"
     ]
    },
    {
     "name": "stderr",
     "output_type": "stream",
     "text": [
      "C:\\Users\\MarlonVieiraPassos\\AppData\\Local\\Temp\\ipykernel_8500\\3869588013.py:9: FutureWarning: The frame.append method is deprecated and will be removed from pandas in a future version. Use pandas.concat instead.\n",
      "  df_all=df_all.append(dict_df[\"df_corrected\"])\n"
     ]
    },
    {
     "name": "stdout",
     "output_type": "stream",
     "text": [
      ">>> Start downloading each station\n",
      ">>> Downloading 137560\n",
      "Check smhi.log for data download details!\n"
     ]
    },
    {
     "name": "stderr",
     "output_type": "stream",
     "text": [
      "C:\\Users\\MarlonVieiraPassos\\AppData\\Local\\Temp\\ipykernel_8500\\3869588013.py:9: FutureWarning: The frame.append method is deprecated and will be removed from pandas in a future version. Use pandas.concat instead.\n",
      "  df_all=df_all.append(dict_df[\"df_corrected\"])\n"
     ]
    },
    {
     "name": "stdout",
     "output_type": "stream",
     "text": [
      ">>> Start downloading each station\n",
      ">>> Downloading 84630\n",
      "Check smhi.log for data download details!\n"
     ]
    },
    {
     "name": "stderr",
     "output_type": "stream",
     "text": [
      "C:\\Users\\MarlonVieiraPassos\\AppData\\Local\\Temp\\ipykernel_8500\\3869588013.py:9: FutureWarning: The frame.append method is deprecated and will be removed from pandas in a future version. Use pandas.concat instead.\n",
      "  df_all=df_all.append(dict_df[\"df_corrected\"])\n"
     ]
    },
    {
     "name": "stdout",
     "output_type": "stream",
     "text": [
      ">>> Start downloading each station\n",
      ">>> Downloading 73660\n",
      "Check smhi.log for data download details!\n"
     ]
    },
    {
     "name": "stderr",
     "output_type": "stream",
     "text": [
      "C:\\Users\\MarlonVieiraPassos\\AppData\\Local\\Temp\\ipykernel_8500\\3869588013.py:9: FutureWarning: The frame.append method is deprecated and will be removed from pandas in a future version. Use pandas.concat instead.\n",
      "  df_all=df_all.append(dict_df[\"df_corrected\"])\n"
     ]
    },
    {
     "name": "stdout",
     "output_type": "stream",
     "text": [
      ">>> Start downloading each station\n",
      ">>> Downloading 64320\n",
      "Check smhi.log for data download details!\n"
     ]
    },
    {
     "name": "stderr",
     "output_type": "stream",
     "text": [
      "C:\\Users\\MarlonVieiraPassos\\AppData\\Local\\Temp\\ipykernel_8500\\3869588013.py:9: FutureWarning: The frame.append method is deprecated and will be removed from pandas in a future version. Use pandas.concat instead.\n",
      "  df_all=df_all.append(dict_df[\"df_corrected\"])\n"
     ]
    },
    {
     "name": "stdout",
     "output_type": "stream",
     "text": [
      ">>> Start downloading each station\n",
      ">>> Downloading 169790\n",
      "Check smhi.log for data download details!\n"
     ]
    },
    {
     "name": "stderr",
     "output_type": "stream",
     "text": [
      "C:\\Users\\MarlonVieiraPassos\\AppData\\Local\\Temp\\ipykernel_8500\\3869588013.py:9: FutureWarning: The frame.append method is deprecated and will be removed from pandas in a future version. Use pandas.concat instead.\n",
      "  df_all=df_all.append(dict_df[\"df_corrected\"])\n"
     ]
    },
    {
     "name": "stdout",
     "output_type": "stream",
     "text": [
      ">>> Start downloading each station\n",
      ">>> Downloading 96480\n",
      "Check smhi.log for data download details!\n"
     ]
    },
    {
     "name": "stderr",
     "output_type": "stream",
     "text": [
      "C:\\Users\\MarlonVieiraPassos\\AppData\\Local\\Temp\\ipykernel_8500\\3869588013.py:9: FutureWarning: The frame.append method is deprecated and will be removed from pandas in a future version. Use pandas.concat instead.\n",
      "  df_all=df_all.append(dict_df[\"df_corrected\"])\n"
     ]
    },
    {
     "name": "stdout",
     "output_type": "stream",
     "text": [
      ">>> Start downloading each station\n",
      ">>> Downloading 74300\n",
      "Check smhi.log for data download details!\n"
     ]
    },
    {
     "name": "stderr",
     "output_type": "stream",
     "text": [
      "C:\\Users\\MarlonVieiraPassos\\AppData\\Local\\Temp\\ipykernel_8500\\3869588013.py:9: FutureWarning: The frame.append method is deprecated and will be removed from pandas in a future version. Use pandas.concat instead.\n",
      "  df_all=df_all.append(dict_df[\"df_corrected\"])\n"
     ]
    },
    {
     "name": "stdout",
     "output_type": "stream",
     "text": [
      ">>> Start downloading each station\n",
      ">>> Downloading 188840\n",
      "Check smhi.log for data download details!\n"
     ]
    },
    {
     "name": "stderr",
     "output_type": "stream",
     "text": [
      "C:\\Users\\MarlonVieiraPassos\\AppData\\Local\\Temp\\ipykernel_8500\\3869588013.py:9: FutureWarning: The frame.append method is deprecated and will be removed from pandas in a future version. Use pandas.concat instead.\n",
      "  df_all=df_all.append(dict_df[\"df_corrected\"])\n"
     ]
    },
    {
     "name": "stdout",
     "output_type": "stream",
     "text": [
      ">>> Start downloading each station\n",
      ">>> Downloading 189760\n",
      "Check smhi.log for data download details!\n"
     ]
    },
    {
     "name": "stderr",
     "output_type": "stream",
     "text": [
      "C:\\Users\\MarlonVieiraPassos\\AppData\\Local\\Temp\\ipykernel_8500\\3869588013.py:9: FutureWarning: The frame.append method is deprecated and will be removed from pandas in a future version. Use pandas.concat instead.\n",
      "  df_all=df_all.append(dict_df[\"df_corrected\"])\n"
     ]
    },
    {
     "name": "stdout",
     "output_type": "stream",
     "text": [
      ">>> Start downloading each station\n",
      ">>> Downloading 126290\n",
      "Check smhi.log for data download details!\n"
     ]
    },
    {
     "name": "stderr",
     "output_type": "stream",
     "text": [
      "C:\\Users\\MarlonVieiraPassos\\AppData\\Local\\Temp\\ipykernel_8500\\3869588013.py:9: FutureWarning: The frame.append method is deprecated and will be removed from pandas in a future version. Use pandas.concat instead.\n",
      "  df_all=df_all.append(dict_df[\"df_corrected\"])\n"
     ]
    },
    {
     "name": "stdout",
     "output_type": "stream",
     "text": [
      ">>> Start downloading each station\n",
      ">>> Downloading 103080\n",
      "Check smhi.log for data download details!\n",
      ">>> Start downloading each station\n",
      ">>> Downloading 71430\n",
      "Check smhi.log for data download details!\n"
     ]
    },
    {
     "name": "stderr",
     "output_type": "stream",
     "text": [
      "C:\\Users\\MarlonVieiraPassos\\AppData\\Local\\Temp\\ipykernel_8500\\3869588013.py:9: FutureWarning: The frame.append method is deprecated and will be removed from pandas in a future version. Use pandas.concat instead.\n",
      "  df_all=df_all.append(dict_df[\"df_corrected\"])\n"
     ]
    },
    {
     "name": "stdout",
     "output_type": "stream",
     "text": [
      ">>> Start downloading each station\n",
      ">>> Downloading 63600\n",
      "Check smhi.log for data download details!\n",
      ">>> Start downloading each station\n",
      ">>> Downloading 63590\n",
      "Check smhi.log for data download details!\n"
     ]
    },
    {
     "name": "stderr",
     "output_type": "stream",
     "text": [
      "C:\\Users\\MarlonVieiraPassos\\AppData\\Local\\Temp\\ipykernel_8500\\3869588013.py:9: FutureWarning: The frame.append method is deprecated and will be removed from pandas in a future version. Use pandas.concat instead.\n",
      "  df_all=df_all.append(dict_df[\"df_corrected\"])\n"
     ]
    },
    {
     "name": "stdout",
     "output_type": "stream",
     "text": [
      ">>> Start downloading each station\n",
      ">>> Downloading 76380\n",
      "Check smhi.log for data download details!\n"
     ]
    },
    {
     "name": "stderr",
     "output_type": "stream",
     "text": [
      "C:\\Users\\MarlonVieiraPassos\\AppData\\Local\\Temp\\ipykernel_8500\\3869588013.py:9: FutureWarning: The frame.append method is deprecated and will be removed from pandas in a future version. Use pandas.concat instead.\n",
      "  df_all=df_all.append(dict_df[\"df_corrected\"])\n"
     ]
    },
    {
     "name": "stdout",
     "output_type": "stream",
     "text": [
      ">>> Start downloading each station\n",
      ">>> Downloading 84020\n",
      "Check smhi.log for data download details!\n"
     ]
    },
    {
     "name": "stderr",
     "output_type": "stream",
     "text": [
      "C:\\Users\\MarlonVieiraPassos\\AppData\\Local\\Temp\\ipykernel_8500\\3869588013.py:9: FutureWarning: The frame.append method is deprecated and will be removed from pandas in a future version. Use pandas.concat instead.\n",
      "  df_all=df_all.append(dict_df[\"df_corrected\"])\n"
     ]
    },
    {
     "name": "stdout",
     "output_type": "stream",
     "text": [
      ">>> Start downloading each station\n",
      ">>> Downloading 85020\n",
      "Check smhi.log for data download details!\n"
     ]
    },
    {
     "name": "stderr",
     "output_type": "stream",
     "text": [
      "C:\\Users\\MarlonVieiraPassos\\AppData\\Local\\Temp\\ipykernel_8500\\3869588013.py:9: FutureWarning: The frame.append method is deprecated and will be removed from pandas in a future version. Use pandas.concat instead.\n",
      "  df_all=df_all.append(dict_df[\"df_corrected\"])\n"
     ]
    },
    {
     "name": "stdout",
     "output_type": "stream",
     "text": [
      ">>> Start downloading each station\n",
      ">>> Downloading 53230\n",
      "Check smhi.log for data download details!\n"
     ]
    },
    {
     "name": "stderr",
     "output_type": "stream",
     "text": [
      "C:\\Users\\MarlonVieiraPassos\\AppData\\Local\\Temp\\ipykernel_8500\\3869588013.py:9: FutureWarning: The frame.append method is deprecated and will be removed from pandas in a future version. Use pandas.concat instead.\n",
      "  df_all=df_all.append(dict_df[\"df_corrected\"])\n"
     ]
    },
    {
     "name": "stdout",
     "output_type": "stream",
     "text": [
      ">>> Start downloading each station\n",
      ">>> Downloading 133160\n",
      "Check smhi.log for data download details!\n"
     ]
    },
    {
     "name": "stderr",
     "output_type": "stream",
     "text": [
      "C:\\Users\\MarlonVieiraPassos\\AppData\\Local\\Temp\\ipykernel_8500\\3869588013.py:9: FutureWarning: The frame.append method is deprecated and will be removed from pandas in a future version. Use pandas.concat instead.\n",
      "  df_all=df_all.append(dict_df[\"df_corrected\"])\n"
     ]
    },
    {
     "name": "stdout",
     "output_type": "stream",
     "text": [
      ">>> Start downloading each station\n",
      ">>> Downloading 53510\n",
      "Check smhi.log for data download details!\n"
     ]
    },
    {
     "name": "stderr",
     "output_type": "stream",
     "text": [
      "C:\\Users\\MarlonVieiraPassos\\AppData\\Local\\Temp\\ipykernel_8500\\3869588013.py:9: FutureWarning: The frame.append method is deprecated and will be removed from pandas in a future version. Use pandas.concat instead.\n",
      "  df_all=df_all.append(dict_df[\"df_corrected\"])\n"
     ]
    },
    {
     "name": "stdout",
     "output_type": "stream",
     "text": [
      ">>> Start downloading each station\n",
      ">>> Downloading 82620\n",
      "Check smhi.log for data download details!\n"
     ]
    },
    {
     "name": "stderr",
     "output_type": "stream",
     "text": [
      "C:\\Users\\MarlonVieiraPassos\\AppData\\Local\\Temp\\ipykernel_8500\\3869588013.py:9: FutureWarning: The frame.append method is deprecated and will be removed from pandas in a future version. Use pandas.concat instead.\n",
      "  df_all=df_all.append(dict_df[\"df_corrected\"])\n"
     ]
    },
    {
     "name": "stdout",
     "output_type": "stream",
     "text": [
      ">>> Start downloading each station\n",
      ">>> Downloading 82190\n",
      "Check smhi.log for data download details!\n"
     ]
    },
    {
     "name": "stderr",
     "output_type": "stream",
     "text": [
      "C:\\Users\\MarlonVieiraPassos\\AppData\\Local\\Temp\\ipykernel_8500\\3869588013.py:9: FutureWarning: The frame.append method is deprecated and will be removed from pandas in a future version. Use pandas.concat instead.\n",
      "  df_all=df_all.append(dict_df[\"df_corrected\"])\n"
     ]
    },
    {
     "name": "stdout",
     "output_type": "stream",
     "text": [
      ">>> Start downloading each station\n",
      ">>> Downloading 87540\n",
      "Check smhi.log for data download details!\n"
     ]
    },
    {
     "name": "stderr",
     "output_type": "stream",
     "text": [
      "C:\\Users\\MarlonVieiraPassos\\AppData\\Local\\Temp\\ipykernel_8500\\3869588013.py:9: FutureWarning: The frame.append method is deprecated and will be removed from pandas in a future version. Use pandas.concat instead.\n",
      "  df_all=df_all.append(dict_df[\"df_corrected\"])\n"
     ]
    },
    {
     "name": "stdout",
     "output_type": "stream",
     "text": [
      ">>> Start downloading each station\n",
      ">>> Downloading 71360\n",
      "Check smhi.log for data download details!\n"
     ]
    },
    {
     "name": "stderr",
     "output_type": "stream",
     "text": [
      "C:\\Users\\MarlonVieiraPassos\\AppData\\Local\\Temp\\ipykernel_8500\\3869588013.py:9: FutureWarning: The frame.append method is deprecated and will be removed from pandas in a future version. Use pandas.concat instead.\n",
      "  df_all=df_all.append(dict_df[\"df_corrected\"])\n"
     ]
    },
    {
     "name": "stdout",
     "output_type": "stream",
     "text": [
      ">>> Start downloading each station\n",
      ">>> Downloading 113230\n",
      "Check smhi.log for data download details!\n"
     ]
    },
    {
     "name": "stderr",
     "output_type": "stream",
     "text": [
      "C:\\Users\\MarlonVieiraPassos\\AppData\\Local\\Temp\\ipykernel_8500\\3869588013.py:9: FutureWarning: The frame.append method is deprecated and will be removed from pandas in a future version. Use pandas.concat instead.\n",
      "  df_all=df_all.append(dict_df[\"df_corrected\"])\n"
     ]
    },
    {
     "name": "stdout",
     "output_type": "stream",
     "text": [
      ">>> Start downloading each station\n",
      ">>> Downloading 97100\n",
      "Check smhi.log for data download details!\n",
      ">>> Start downloading each station\n",
      ">>> Downloading 86010\n",
      "Check smhi.log for data download details!\n"
     ]
    },
    {
     "name": "stderr",
     "output_type": "stream",
     "text": [
      "C:\\Users\\MarlonVieiraPassos\\AppData\\Local\\Temp\\ipykernel_8500\\3869588013.py:9: FutureWarning: The frame.append method is deprecated and will be removed from pandas in a future version. Use pandas.concat instead.\n",
      "  df_all=df_all.append(dict_df[\"df_corrected\"])\n"
     ]
    },
    {
     "name": "stdout",
     "output_type": "stream",
     "text": [
      ">>> Start downloading each station\n",
      ">>> Downloading 122260\n",
      "Check smhi.log for data download details!\n"
     ]
    },
    {
     "name": "stderr",
     "output_type": "stream",
     "text": [
      "C:\\Users\\MarlonVieiraPassos\\AppData\\Local\\Temp\\ipykernel_8500\\3869588013.py:9: FutureWarning: The frame.append method is deprecated and will be removed from pandas in a future version. Use pandas.concat instead.\n",
      "  df_all=df_all.append(dict_df[\"df_corrected\"])\n"
     ]
    },
    {
     "name": "stdout",
     "output_type": "stream",
     "text": [
      ">>> Start downloading each station\n",
      ">>> Downloading 155910\n",
      "Check smhi.log for data download details!\n"
     ]
    },
    {
     "name": "stderr",
     "output_type": "stream",
     "text": [
      "C:\\Users\\MarlonVieiraPassos\\AppData\\Local\\Temp\\ipykernel_8500\\3869588013.py:9: FutureWarning: The frame.append method is deprecated and will be removed from pandas in a future version. Use pandas.concat instead.\n",
      "  df_all=df_all.append(dict_df[\"df_corrected\"])\n"
     ]
    },
    {
     "name": "stdout",
     "output_type": "stream",
     "text": [
      ">>> Start downloading each station\n",
      ">>> Downloading 72520\n",
      "Check smhi.log for data download details!\n"
     ]
    },
    {
     "name": "stderr",
     "output_type": "stream",
     "text": [
      "C:\\Users\\MarlonVieiraPassos\\AppData\\Local\\Temp\\ipykernel_8500\\3869588013.py:9: FutureWarning: The frame.append method is deprecated and will be removed from pandas in a future version. Use pandas.concat instead.\n",
      "  df_all=df_all.append(dict_df[\"df_corrected\"])\n"
     ]
    },
    {
     "name": "stdout",
     "output_type": "stream",
     "text": [
      ">>> Start downloading each station\n",
      ">>> Downloading 81210\n",
      "Check smhi.log for data download details!\n"
     ]
    },
    {
     "name": "stderr",
     "output_type": "stream",
     "text": [
      "C:\\Users\\MarlonVieiraPassos\\AppData\\Local\\Temp\\ipykernel_8500\\3869588013.py:9: FutureWarning: The frame.append method is deprecated and will be removed from pandas in a future version. Use pandas.concat instead.\n",
      "  df_all=df_all.append(dict_df[\"df_corrected\"])\n"
     ]
    },
    {
     "name": "stdout",
     "output_type": "stream",
     "text": [
      ">>> Start downloading each station\n",
      ">>> Downloading 54580\n",
      "Check smhi.log for data download details!\n"
     ]
    },
    {
     "name": "stderr",
     "output_type": "stream",
     "text": [
      "C:\\Users\\MarlonVieiraPassos\\AppData\\Local\\Temp\\ipykernel_8500\\3869588013.py:9: FutureWarning: The frame.append method is deprecated and will be removed from pandas in a future version. Use pandas.concat instead.\n",
      "  df_all=df_all.append(dict_df[\"df_corrected\"])\n"
     ]
    },
    {
     "name": "stdout",
     "output_type": "stream",
     "text": [
      ">>> Start downloading each station\n",
      ">>> Downloading 72090\n",
      "Check smhi.log for data download details!\n"
     ]
    },
    {
     "name": "stderr",
     "output_type": "stream",
     "text": [
      "C:\\Users\\MarlonVieiraPassos\\AppData\\Local\\Temp\\ipykernel_8500\\3869588013.py:9: FutureWarning: The frame.append method is deprecated and will be removed from pandas in a future version. Use pandas.concat instead.\n",
      "  df_all=df_all.append(dict_df[\"df_corrected\"])\n"
     ]
    },
    {
     "name": "stdout",
     "output_type": "stream",
     "text": [
      ">>> Start downloading each station\n",
      ">>> Downloading 128590\n",
      "Check smhi.log for data download details!\n"
     ]
    },
    {
     "name": "stderr",
     "output_type": "stream",
     "text": [
      "C:\\Users\\MarlonVieiraPassos\\AppData\\Local\\Temp\\ipykernel_8500\\3869588013.py:9: FutureWarning: The frame.append method is deprecated and will be removed from pandas in a future version. Use pandas.concat instead.\n",
      "  df_all=df_all.append(dict_df[\"df_corrected\"])\n"
     ]
    },
    {
     "name": "stdout",
     "output_type": "stream",
     "text": [
      ">>> Start downloading each station\n",
      ">>> Downloading 73470\n",
      "Check smhi.log for data download details!\n",
      ">>> Start downloading each station\n",
      ">>> Downloading 135500\n",
      "Check smhi.log for data download details!\n"
     ]
    },
    {
     "name": "stderr",
     "output_type": "stream",
     "text": [
      "C:\\Users\\MarlonVieiraPassos\\AppData\\Local\\Temp\\ipykernel_8500\\3869588013.py:9: FutureWarning: The frame.append method is deprecated and will be removed from pandas in a future version. Use pandas.concat instead.\n",
      "  df_all=df_all.append(dict_df[\"df_corrected\"])\n"
     ]
    },
    {
     "name": "stdout",
     "output_type": "stream",
     "text": [
      ">>> Start downloading each station\n",
      ">>> Downloading 97490\n",
      "Check smhi.log for data download details!\n"
     ]
    },
    {
     "name": "stderr",
     "output_type": "stream",
     "text": [
      "C:\\Users\\MarlonVieiraPassos\\AppData\\Local\\Temp\\ipykernel_8500\\3869588013.py:9: FutureWarning: The frame.append method is deprecated and will be removed from pandas in a future version. Use pandas.concat instead.\n",
      "  df_all=df_all.append(dict_df[\"df_corrected\"])\n"
     ]
    },
    {
     "name": "stdout",
     "output_type": "stream",
     "text": [
      ">>> Start downloading each station\n",
      ">>> Downloading 97210\n",
      "Check smhi.log for data download details!\n"
     ]
    },
    {
     "name": "stderr",
     "output_type": "stream",
     "text": [
      "C:\\Users\\MarlonVieiraPassos\\AppData\\Local\\Temp\\ipykernel_8500\\3869588013.py:9: FutureWarning: The frame.append method is deprecated and will be removed from pandas in a future version. Use pandas.concat instead.\n",
      "  df_all=df_all.append(dict_df[\"df_corrected\"])\n"
     ]
    },
    {
     "name": "stdout",
     "output_type": "stream",
     "text": [
      ">>> Start downloading each station\n",
      ">>> Downloading 147460\n",
      "Check smhi.log for data download details!\n"
     ]
    },
    {
     "name": "stderr",
     "output_type": "stream",
     "text": [
      "C:\\Users\\MarlonVieiraPassos\\AppData\\Local\\Temp\\ipykernel_8500\\3869588013.py:9: FutureWarning: The frame.append method is deprecated and will be removed from pandas in a future version. Use pandas.concat instead.\n",
      "  df_all=df_all.append(dict_df[\"df_corrected\"])\n"
     ]
    },
    {
     "name": "stdout",
     "output_type": "stream",
     "text": [
      ">>> Start downloading each station\n",
      ">>> Downloading 114360\n",
      "Check smhi.log for data download details!\n"
     ]
    },
    {
     "name": "stderr",
     "output_type": "stream",
     "text": [
      "C:\\Users\\MarlonVieiraPassos\\AppData\\Local\\Temp\\ipykernel_8500\\3869588013.py:9: FutureWarning: The frame.append method is deprecated and will be removed from pandas in a future version. Use pandas.concat instead.\n",
      "  df_all=df_all.append(dict_df[\"df_corrected\"])\n"
     ]
    },
    {
     "name": "stdout",
     "output_type": "stream",
     "text": [
      ">>> Start downloading each station\n",
      ">>> Downloading 140500\n",
      "Check smhi.log for data download details!\n"
     ]
    },
    {
     "name": "stderr",
     "output_type": "stream",
     "text": [
      "C:\\Users\\MarlonVieiraPassos\\AppData\\Local\\Temp\\ipykernel_8500\\3869588013.py:9: FutureWarning: The frame.append method is deprecated and will be removed from pandas in a future version. Use pandas.concat instead.\n",
      "  df_all=df_all.append(dict_df[\"df_corrected\"])\n"
     ]
    },
    {
     "name": "stdout",
     "output_type": "stream",
     "text": [
      ">>> Start downloading each station\n",
      ">>> Downloading 140480\n",
      "Check smhi.log for data download details!\n"
     ]
    },
    {
     "name": "stderr",
     "output_type": "stream",
     "text": [
      "C:\\Users\\MarlonVieiraPassos\\AppData\\Local\\Temp\\ipykernel_8500\\3869588013.py:9: FutureWarning: The frame.append method is deprecated and will be removed from pandas in a future version. Use pandas.concat instead.\n",
      "  df_all=df_all.append(dict_df[\"df_corrected\"])\n"
     ]
    },
    {
     "name": "stdout",
     "output_type": "stream",
     "text": [
      ">>> Start downloading each station\n",
      ">>> Downloading 140490\n",
      "Check smhi.log for data download details!\n"
     ]
    },
    {
     "name": "stderr",
     "output_type": "stream",
     "text": [
      "C:\\Users\\MarlonVieiraPassos\\AppData\\Local\\Temp\\ipykernel_8500\\3869588013.py:9: FutureWarning: The frame.append method is deprecated and will be removed from pandas in a future version. Use pandas.concat instead.\n",
      "  df_all=df_all.append(dict_df[\"df_corrected\"])\n"
     ]
    },
    {
     "name": "stdout",
     "output_type": "stream",
     "text": [
      ">>> Start downloading each station\n",
      ">>> Downloading 108170\n",
      "Check smhi.log for data download details!\n"
     ]
    },
    {
     "name": "stderr",
     "output_type": "stream",
     "text": [
      "C:\\Users\\MarlonVieiraPassos\\AppData\\Local\\Temp\\ipykernel_8500\\3869588013.py:9: FutureWarning: The frame.append method is deprecated and will be removed from pandas in a future version. Use pandas.concat instead.\n",
      "  df_all=df_all.append(dict_df[\"df_corrected\"])\n"
     ]
    },
    {
     "name": "stdout",
     "output_type": "stream",
     "text": [
      ">>> Start downloading each station\n",
      ">>> Downloading 133200\n",
      "Check smhi.log for data download details!\n"
     ]
    },
    {
     "name": "stderr",
     "output_type": "stream",
     "text": [
      "C:\\Users\\MarlonVieiraPassos\\AppData\\Local\\Temp\\ipykernel_8500\\3869588013.py:9: FutureWarning: The frame.append method is deprecated and will be removed from pandas in a future version. Use pandas.concat instead.\n",
      "  df_all=df_all.append(dict_df[\"df_corrected\"])\n"
     ]
    },
    {
     "name": "stdout",
     "output_type": "stream",
     "text": [
      ">>> Start downloading each station\n",
      ">>> Downloading 65020\n",
      "Check smhi.log for data download details!\n"
     ]
    },
    {
     "name": "stderr",
     "output_type": "stream",
     "text": [
      "C:\\Users\\MarlonVieiraPassos\\AppData\\Local\\Temp\\ipykernel_8500\\3869588013.py:9: FutureWarning: The frame.append method is deprecated and will be removed from pandas in a future version. Use pandas.concat instead.\n",
      "  df_all=df_all.append(dict_df[\"df_corrected\"])\n"
     ]
    },
    {
     "name": "stdout",
     "output_type": "stream",
     "text": [
      ">>> Start downloading each station\n",
      ">>> Downloading 107270\n",
      "Check smhi.log for data download details!\n"
     ]
    },
    {
     "name": "stderr",
     "output_type": "stream",
     "text": [
      "C:\\Users\\MarlonVieiraPassos\\AppData\\Local\\Temp\\ipykernel_8500\\3869588013.py:9: FutureWarning: The frame.append method is deprecated and will be removed from pandas in a future version. Use pandas.concat instead.\n",
      "  df_all=df_all.append(dict_df[\"df_corrected\"])\n"
     ]
    },
    {
     "name": "stdout",
     "output_type": "stream",
     "text": [
      ">>> Start downloading each station\n",
      ">>> Downloading 97520\n",
      "Check smhi.log for data download details!\n"
     ]
    },
    {
     "name": "stderr",
     "output_type": "stream",
     "text": [
      "C:\\Users\\MarlonVieiraPassos\\AppData\\Local\\Temp\\ipykernel_8500\\3869588013.py:9: FutureWarning: The frame.append method is deprecated and will be removed from pandas in a future version. Use pandas.concat instead.\n",
      "  df_all=df_all.append(dict_df[\"df_corrected\"])\n"
     ]
    },
    {
     "name": "stdout",
     "output_type": "stream",
     "text": [
      ">>> Start downloading each station\n",
      ">>> Downloading 97510\n",
      "Check smhi.log for data download details!\n"
     ]
    },
    {
     "name": "stderr",
     "output_type": "stream",
     "text": [
      "C:\\Users\\MarlonVieiraPassos\\AppData\\Local\\Temp\\ipykernel_8500\\3869588013.py:9: FutureWarning: The frame.append method is deprecated and will be removed from pandas in a future version. Use pandas.concat instead.\n",
      "  df_all=df_all.append(dict_df[\"df_corrected\"])\n"
     ]
    },
    {
     "name": "stdout",
     "output_type": "stream",
     "text": [
      ">>> Start downloading each station\n",
      ">>> Downloading 97530\n",
      "Check smhi.log for data download details!\n"
     ]
    },
    {
     "name": "stderr",
     "output_type": "stream",
     "text": [
      "C:\\Users\\MarlonVieiraPassos\\AppData\\Local\\Temp\\ipykernel_8500\\3869588013.py:9: FutureWarning: The frame.append method is deprecated and will be removed from pandas in a future version. Use pandas.concat instead.\n",
      "  df_all=df_all.append(dict_df[\"df_corrected\"])\n"
     ]
    },
    {
     "name": "stdout",
     "output_type": "stream",
     "text": [
      ">>> Start downloading each station\n",
      ">>> Downloading 81640\n",
      "Check smhi.log for data download details!\n"
     ]
    },
    {
     "name": "stderr",
     "output_type": "stream",
     "text": [
      "C:\\Users\\MarlonVieiraPassos\\AppData\\Local\\Temp\\ipykernel_8500\\3869588013.py:9: FutureWarning: The frame.append method is deprecated and will be removed from pandas in a future version. Use pandas.concat instead.\n",
      "  df_all=df_all.append(dict_df[\"df_corrected\"])\n"
     ]
    },
    {
     "name": "stdout",
     "output_type": "stream",
     "text": [
      ">>> Start downloading each station\n",
      ">>> Downloading 64290\n",
      "Check smhi.log for data download details!\n"
     ]
    },
    {
     "name": "stderr",
     "output_type": "stream",
     "text": [
      "C:\\Users\\MarlonVieiraPassos\\AppData\\Local\\Temp\\ipykernel_8500\\3869588013.py:9: FutureWarning: The frame.append method is deprecated and will be removed from pandas in a future version. Use pandas.concat instead.\n",
      "  df_all=df_all.append(dict_df[\"df_corrected\"])\n"
     ]
    },
    {
     "name": "stdout",
     "output_type": "stream",
     "text": [
      ">>> Start downloading each station\n",
      ">>> Downloading 151640\n",
      "Check smhi.log for data download details!\n"
     ]
    },
    {
     "name": "stderr",
     "output_type": "stream",
     "text": [
      "C:\\Users\\MarlonVieiraPassos\\AppData\\Local\\Temp\\ipykernel_8500\\3869588013.py:9: FutureWarning: The frame.append method is deprecated and will be removed from pandas in a future version. Use pandas.concat instead.\n",
      "  df_all=df_all.append(dict_df[\"df_corrected\"])\n"
     ]
    },
    {
     "name": "stdout",
     "output_type": "stream",
     "text": [
      ">>> Start downloading each station\n",
      ">>> Downloading 64400\n",
      "Check smhi.log for data download details!\n"
     ]
    },
    {
     "name": "stderr",
     "output_type": "stream",
     "text": [
      "C:\\Users\\MarlonVieiraPassos\\AppData\\Local\\Temp\\ipykernel_8500\\3869588013.py:9: FutureWarning: The frame.append method is deprecated and will be removed from pandas in a future version. Use pandas.concat instead.\n",
      "  df_all=df_all.append(dict_df[\"df_corrected\"])\n"
     ]
    },
    {
     "name": "stdout",
     "output_type": "stream",
     "text": [
      ">>> Start downloading each station\n",
      ">>> Downloading 55570\n",
      "Check smhi.log for data download details!\n"
     ]
    },
    {
     "name": "stderr",
     "output_type": "stream",
     "text": [
      "C:\\Users\\MarlonVieiraPassos\\AppData\\Local\\Temp\\ipykernel_8500\\3869588013.py:9: FutureWarning: The frame.append method is deprecated and will be removed from pandas in a future version. Use pandas.concat instead.\n",
      "  df_all=df_all.append(dict_df[\"df_corrected\"])\n"
     ]
    },
    {
     "name": "stdout",
     "output_type": "stream",
     "text": [
      ">>> Start downloading each station\n",
      ">>> Downloading 95640\n",
      "Check smhi.log for data download details!\n"
     ]
    },
    {
     "name": "stderr",
     "output_type": "stream",
     "text": [
      "C:\\Users\\MarlonVieiraPassos\\AppData\\Local\\Temp\\ipykernel_8500\\3869588013.py:9: FutureWarning: The frame.append method is deprecated and will be removed from pandas in a future version. Use pandas.concat instead.\n",
      "  df_all=df_all.append(dict_df[\"df_corrected\"])\n"
     ]
    },
    {
     "name": "stdout",
     "output_type": "stream",
     "text": [
      ">>> Start downloading each station\n",
      ">>> Downloading 107450\n",
      "Check smhi.log for data download details!\n"
     ]
    },
    {
     "name": "stderr",
     "output_type": "stream",
     "text": [
      "C:\\Users\\MarlonVieiraPassos\\AppData\\Local\\Temp\\ipykernel_8500\\3869588013.py:9: FutureWarning: The frame.append method is deprecated and will be removed from pandas in a future version. Use pandas.concat instead.\n",
      "  df_all=df_all.append(dict_df[\"df_corrected\"])\n"
     ]
    },
    {
     "name": "stdout",
     "output_type": "stream",
     "text": [
      ">>> Start downloading each station\n",
      ">>> Downloading 88570\n",
      "Check smhi.log for data download details!\n"
     ]
    },
    {
     "name": "stderr",
     "output_type": "stream",
     "text": [
      "C:\\Users\\MarlonVieiraPassos\\AppData\\Local\\Temp\\ipykernel_8500\\3869588013.py:9: FutureWarning: The frame.append method is deprecated and will be removed from pandas in a future version. Use pandas.concat instead.\n",
      "  df_all=df_all.append(dict_df[\"df_corrected\"])\n"
     ]
    },
    {
     "name": "stdout",
     "output_type": "stream",
     "text": [
      ">>> Start downloading each station\n",
      ">>> Downloading 78030\n",
      "Check smhi.log for data download details!\n"
     ]
    },
    {
     "name": "stderr",
     "output_type": "stream",
     "text": [
      "C:\\Users\\MarlonVieiraPassos\\AppData\\Local\\Temp\\ipykernel_8500\\3869588013.py:9: FutureWarning: The frame.append method is deprecated and will be removed from pandas in a future version. Use pandas.concat instead.\n",
      "  df_all=df_all.append(dict_df[\"df_corrected\"])\n"
     ]
    },
    {
     "name": "stdout",
     "output_type": "stream",
     "text": [
      ">>> Start downloading each station\n",
      ">>> Downloading 86130\n",
      "Check smhi.log for data download details!\n"
     ]
    },
    {
     "name": "stderr",
     "output_type": "stream",
     "text": [
      "C:\\Users\\MarlonVieiraPassos\\AppData\\Local\\Temp\\ipykernel_8500\\3869588013.py:9: FutureWarning: The frame.append method is deprecated and will be removed from pandas in a future version. Use pandas.concat instead.\n",
      "  df_all=df_all.append(dict_df[\"df_corrected\"])\n"
     ]
    },
    {
     "name": "stdout",
     "output_type": "stream",
     "text": [
      ">>> Start downloading each station\n",
      ">>> Downloading 96000\n",
      "Check smhi.log for data download details!\n"
     ]
    },
    {
     "name": "stderr",
     "output_type": "stream",
     "text": [
      "C:\\Users\\MarlonVieiraPassos\\AppData\\Local\\Temp\\ipykernel_8500\\3869588013.py:9: FutureWarning: The frame.append method is deprecated and will be removed from pandas in a future version. Use pandas.concat instead.\n",
      "  df_all=df_all.append(dict_df[\"df_corrected\"])\n"
     ]
    },
    {
     "name": "stdout",
     "output_type": "stream",
     "text": [
      ">>> Start downloading each station\n",
      ">>> Downloading 72080\n",
      "Check smhi.log for data download details!\n"
     ]
    },
    {
     "name": "stderr",
     "output_type": "stream",
     "text": [
      "C:\\Users\\MarlonVieiraPassos\\AppData\\Local\\Temp\\ipykernel_8500\\3869588013.py:9: FutureWarning: The frame.append method is deprecated and will be removed from pandas in a future version. Use pandas.concat instead.\n",
      "  df_all=df_all.append(dict_df[\"df_corrected\"])\n"
     ]
    },
    {
     "name": "stdout",
     "output_type": "stream",
     "text": [
      ">>> Start downloading each station\n",
      ">>> Downloading 93240\n",
      "Check smhi.log for data download details!\n"
     ]
    },
    {
     "name": "stderr",
     "output_type": "stream",
     "text": [
      "C:\\Users\\MarlonVieiraPassos\\AppData\\Local\\Temp\\ipykernel_8500\\3869588013.py:9: FutureWarning: The frame.append method is deprecated and will be removed from pandas in a future version. Use pandas.concat instead.\n",
      "  df_all=df_all.append(dict_df[\"df_corrected\"])\n"
     ]
    },
    {
     "name": "stdout",
     "output_type": "stream",
     "text": [
      ">>> Start downloading each station\n",
      ">>> Downloading 105630\n",
      "Check smhi.log for data download details!\n"
     ]
    },
    {
     "name": "stderr",
     "output_type": "stream",
     "text": [
      "C:\\Users\\MarlonVieiraPassos\\AppData\\Local\\Temp\\ipykernel_8500\\3869588013.py:9: FutureWarning: The frame.append method is deprecated and will be removed from pandas in a future version. Use pandas.concat instead.\n",
      "  df_all=df_all.append(dict_df[\"df_corrected\"])\n"
     ]
    },
    {
     "name": "stdout",
     "output_type": "stream",
     "text": [
      ">>> Start downloading each station\n",
      ">>> Downloading 188810\n",
      "Check smhi.log for data download details!\n"
     ]
    },
    {
     "name": "stderr",
     "output_type": "stream",
     "text": [
      "C:\\Users\\MarlonVieiraPassos\\AppData\\Local\\Temp\\ipykernel_8500\\3869588013.py:9: FutureWarning: The frame.append method is deprecated and will be removed from pandas in a future version. Use pandas.concat instead.\n",
      "  df_all=df_all.append(dict_df[\"df_corrected\"])\n"
     ]
    },
    {
     "name": "stdout",
     "output_type": "stream",
     "text": [
      ">>> Start downloading each station\n",
      ">>> Downloading 52550\n",
      "Check smhi.log for data download details!\n",
      ">>> Start downloading each station\n",
      ">>> Downloading 75630\n",
      "Check smhi.log for data download details!\n"
     ]
    },
    {
     "name": "stderr",
     "output_type": "stream",
     "text": [
      "C:\\Users\\MarlonVieiraPassos\\AppData\\Local\\Temp\\ipykernel_8500\\3869588013.py:9: FutureWarning: The frame.append method is deprecated and will be removed from pandas in a future version. Use pandas.concat instead.\n",
      "  df_all=df_all.append(dict_df[\"df_corrected\"])\n"
     ]
    },
    {
     "name": "stdout",
     "output_type": "stream",
     "text": [
      ">>> Start downloading each station\n",
      ">>> Downloading 160960\n",
      "Check smhi.log for data download details!\n"
     ]
    },
    {
     "name": "stderr",
     "output_type": "stream",
     "text": [
      "C:\\Users\\MarlonVieiraPassos\\AppData\\Local\\Temp\\ipykernel_8500\\3869588013.py:9: FutureWarning: The frame.append method is deprecated and will be removed from pandas in a future version. Use pandas.concat instead.\n",
      "  df_all=df_all.append(dict_df[\"df_corrected\"])\n"
     ]
    },
    {
     "name": "stdout",
     "output_type": "stream",
     "text": [
      ">>> Start downloading each station\n",
      ">>> Downloading 160970\n",
      "Check smhi.log for data download details!\n"
     ]
    },
    {
     "name": "stderr",
     "output_type": "stream",
     "text": [
      "C:\\Users\\MarlonVieiraPassos\\AppData\\Local\\Temp\\ipykernel_8500\\3869588013.py:9: FutureWarning: The frame.append method is deprecated and will be removed from pandas in a future version. Use pandas.concat instead.\n",
      "  df_all=df_all.append(dict_df[\"df_corrected\"])\n"
     ]
    },
    {
     "name": "stdout",
     "output_type": "stream",
     "text": [
      ">>> Start downloading each station\n",
      ">>> Downloading 137030\n",
      "Check smhi.log for data download details!\n"
     ]
    },
    {
     "name": "stderr",
     "output_type": "stream",
     "text": [
      "C:\\Users\\MarlonVieiraPassos\\AppData\\Local\\Temp\\ipykernel_8500\\3869588013.py:9: FutureWarning: The frame.append method is deprecated and will be removed from pandas in a future version. Use pandas.concat instead.\n",
      "  df_all=df_all.append(dict_df[\"df_corrected\"])\n"
     ]
    },
    {
     "name": "stdout",
     "output_type": "stream",
     "text": [
      ">>> Start downloading each station\n",
      ">>> Downloading 146350\n",
      "Check smhi.log for data download details!\n"
     ]
    },
    {
     "name": "stderr",
     "output_type": "stream",
     "text": [
      "C:\\Users\\MarlonVieiraPassos\\AppData\\Local\\Temp\\ipykernel_8500\\3869588013.py:9: FutureWarning: The frame.append method is deprecated and will be removed from pandas in a future version. Use pandas.concat instead.\n",
      "  df_all=df_all.append(dict_df[\"df_corrected\"])\n"
     ]
    },
    {
     "name": "stdout",
     "output_type": "stream",
     "text": [
      ">>> Start downloading each station\n",
      ">>> Downloading 94170\n",
      "Check smhi.log for data download details!\n"
     ]
    },
    {
     "name": "stderr",
     "output_type": "stream",
     "text": [
      "C:\\Users\\MarlonVieiraPassos\\AppData\\Local\\Temp\\ipykernel_8500\\3869588013.py:9: FutureWarning: The frame.append method is deprecated and will be removed from pandas in a future version. Use pandas.concat instead.\n",
      "  df_all=df_all.append(dict_df[\"df_corrected\"])\n"
     ]
    },
    {
     "name": "stdout",
     "output_type": "stream",
     "text": [
      ">>> Start downloading each station\n",
      ">>> Downloading 75400\n",
      "Check smhi.log for data download details!\n"
     ]
    },
    {
     "name": "stderr",
     "output_type": "stream",
     "text": [
      "C:\\Users\\MarlonVieiraPassos\\AppData\\Local\\Temp\\ipykernel_8500\\3869588013.py:9: FutureWarning: The frame.append method is deprecated and will be removed from pandas in a future version. Use pandas.concat instead.\n",
      "  df_all=df_all.append(dict_df[\"df_corrected\"])\n"
     ]
    },
    {
     "name": "stdout",
     "output_type": "stream",
     "text": [
      ">>> Start downloading each station\n",
      ">>> Downloading 156940\n",
      "Check smhi.log for data download details!\n"
     ]
    },
    {
     "name": "stderr",
     "output_type": "stream",
     "text": [
      "C:\\Users\\MarlonVieiraPassos\\AppData\\Local\\Temp\\ipykernel_8500\\3869588013.py:9: FutureWarning: The frame.append method is deprecated and will be removed from pandas in a future version. Use pandas.concat instead.\n",
      "  df_all=df_all.append(dict_df[\"df_corrected\"])\n"
     ]
    },
    {
     "name": "stdout",
     "output_type": "stream",
     "text": [
      ">>> Start downloading each station\n",
      ">>> Downloading 157930\n",
      "Check smhi.log for data download details!\n"
     ]
    },
    {
     "name": "stderr",
     "output_type": "stream",
     "text": [
      "C:\\Users\\MarlonVieiraPassos\\AppData\\Local\\Temp\\ipykernel_8500\\3869588013.py:9: FutureWarning: The frame.append method is deprecated and will be removed from pandas in a future version. Use pandas.concat instead.\n",
      "  df_all=df_all.append(dict_df[\"df_corrected\"])\n"
     ]
    },
    {
     "name": "stdout",
     "output_type": "stream",
     "text": [
      ">>> Start downloading each station\n",
      ">>> Downloading 149120\n",
      "Check smhi.log for data download details!\n"
     ]
    },
    {
     "name": "stderr",
     "output_type": "stream",
     "text": [
      "C:\\Users\\MarlonVieiraPassos\\AppData\\Local\\Temp\\ipykernel_8500\\3869588013.py:9: FutureWarning: The frame.append method is deprecated and will be removed from pandas in a future version. Use pandas.concat instead.\n",
      "  df_all=df_all.append(dict_df[\"df_corrected\"])\n"
     ]
    },
    {
     "name": "stdout",
     "output_type": "stream",
     "text": [
      ">>> Start downloading each station\n",
      ">>> Downloading 71380\n",
      "Check smhi.log for data download details!\n"
     ]
    },
    {
     "name": "stderr",
     "output_type": "stream",
     "text": [
      "C:\\Users\\MarlonVieiraPassos\\AppData\\Local\\Temp\\ipykernel_8500\\3869588013.py:9: FutureWarning: The frame.append method is deprecated and will be removed from pandas in a future version. Use pandas.concat instead.\n",
      "  df_all=df_all.append(dict_df[\"df_corrected\"])\n"
     ]
    },
    {
     "name": "stdout",
     "output_type": "stream",
     "text": [
      ">>> Start downloading each station\n",
      ">>> Downloading 95030\n",
      "Check smhi.log for data download details!\n",
      ">>> Start downloading each station\n",
      ">>> Downloading 106500\n",
      "Check smhi.log for data download details!\n",
      ">>> Start downloading each station\n",
      ">>> Downloading 78390\n",
      "Check smhi.log for data download details!\n"
     ]
    },
    {
     "name": "stderr",
     "output_type": "stream",
     "text": [
      "C:\\Users\\MarlonVieiraPassos\\AppData\\Local\\Temp\\ipykernel_8500\\3869588013.py:9: FutureWarning: The frame.append method is deprecated and will be removed from pandas in a future version. Use pandas.concat instead.\n",
      "  df_all=df_all.append(dict_df[\"df_corrected\"])\n"
     ]
    },
    {
     "name": "stdout",
     "output_type": "stream",
     "text": [
      ">>> Start downloading each station\n",
      ">>> Downloading 78400\n",
      "Check smhi.log for data download details!\n"
     ]
    },
    {
     "name": "stderr",
     "output_type": "stream",
     "text": [
      "C:\\Users\\MarlonVieiraPassos\\AppData\\Local\\Temp\\ipykernel_8500\\3869588013.py:9: FutureWarning: The frame.append method is deprecated and will be removed from pandas in a future version. Use pandas.concat instead.\n",
      "  df_all=df_all.append(dict_df[\"df_corrected\"])\n"
     ]
    },
    {
     "name": "stdout",
     "output_type": "stream",
     "text": [
      ">>> Start downloading each station\n",
      ">>> Downloading 84060\n",
      "Check smhi.log for data download details!\n"
     ]
    },
    {
     "name": "stderr",
     "output_type": "stream",
     "text": [
      "C:\\Users\\MarlonVieiraPassos\\AppData\\Local\\Temp\\ipykernel_8500\\3869588013.py:9: FutureWarning: The frame.append method is deprecated and will be removed from pandas in a future version. Use pandas.concat instead.\n",
      "  df_all=df_all.append(dict_df[\"df_corrected\"])\n"
     ]
    },
    {
     "name": "stdout",
     "output_type": "stream",
     "text": [
      ">>> Start downloading each station\n",
      ">>> Downloading 84050\n",
      "Check smhi.log for data download details!\n"
     ]
    },
    {
     "name": "stderr",
     "output_type": "stream",
     "text": [
      "C:\\Users\\MarlonVieiraPassos\\AppData\\Local\\Temp\\ipykernel_8500\\3869588013.py:9: FutureWarning: The frame.append method is deprecated and will be removed from pandas in a future version. Use pandas.concat instead.\n",
      "  df_all=df_all.append(dict_df[\"df_corrected\"])\n"
     ]
    },
    {
     "name": "stdout",
     "output_type": "stream",
     "text": [
      ">>> Start downloading each station\n",
      ">>> Downloading 65310\n",
      "Check smhi.log for data download details!\n"
     ]
    },
    {
     "name": "stderr",
     "output_type": "stream",
     "text": [
      "C:\\Users\\MarlonVieiraPassos\\AppData\\Local\\Temp\\ipykernel_8500\\3869588013.py:9: FutureWarning: The frame.append method is deprecated and will be removed from pandas in a future version. Use pandas.concat instead.\n",
      "  df_all=df_all.append(dict_df[\"df_corrected\"])\n"
     ]
    },
    {
     "name": "stdout",
     "output_type": "stream",
     "text": [
      ">>> Start downloading each station\n",
      ">>> Downloading 181900\n",
      "Check smhi.log for data download details!\n"
     ]
    },
    {
     "name": "stderr",
     "output_type": "stream",
     "text": [
      "C:\\Users\\MarlonVieiraPassos\\AppData\\Local\\Temp\\ipykernel_8500\\3869588013.py:9: FutureWarning: The frame.append method is deprecated and will be removed from pandas in a future version. Use pandas.concat instead.\n",
      "  df_all=df_all.append(dict_df[\"df_corrected\"])\n"
     ]
    },
    {
     "name": "stdout",
     "output_type": "stream",
     "text": [
      ">>> Start downloading each station\n",
      ">>> Downloading 166870\n",
      "Check smhi.log for data download details!\n"
     ]
    },
    {
     "name": "stderr",
     "output_type": "stream",
     "text": [
      "C:\\Users\\MarlonVieiraPassos\\AppData\\Local\\Temp\\ipykernel_8500\\3869588013.py:9: FutureWarning: The frame.append method is deprecated and will be removed from pandas in a future version. Use pandas.concat instead.\n",
      "  df_all=df_all.append(dict_df[\"df_corrected\"])\n"
     ]
    },
    {
     "name": "stdout",
     "output_type": "stream",
     "text": [
      ">>> Start downloading each station\n",
      ">>> Downloading 98590\n",
      "Check smhi.log for data download details!\n"
     ]
    },
    {
     "name": "stderr",
     "output_type": "stream",
     "text": [
      "C:\\Users\\MarlonVieiraPassos\\AppData\\Local\\Temp\\ipykernel_8500\\3869588013.py:9: FutureWarning: The frame.append method is deprecated and will be removed from pandas in a future version. Use pandas.concat instead.\n",
      "  df_all=df_all.append(dict_df[\"df_corrected\"])\n"
     ]
    },
    {
     "name": "stdout",
     "output_type": "stream",
     "text": [
      ">>> Start downloading each station\n",
      ">>> Downloading 81350\n",
      "Check smhi.log for data download details!\n"
     ]
    },
    {
     "name": "stderr",
     "output_type": "stream",
     "text": [
      "C:\\Users\\MarlonVieiraPassos\\AppData\\Local\\Temp\\ipykernel_8500\\3869588013.py:9: FutureWarning: The frame.append method is deprecated and will be removed from pandas in a future version. Use pandas.concat instead.\n",
      "  df_all=df_all.append(dict_df[\"df_corrected\"])\n"
     ]
    },
    {
     "name": "stdout",
     "output_type": "stream",
     "text": [
      ">>> Start downloading each station\n",
      ">>> Downloading 81620\n",
      "Check smhi.log for data download details!\n"
     ]
    },
    {
     "name": "stderr",
     "output_type": "stream",
     "text": [
      "C:\\Users\\MarlonVieiraPassos\\AppData\\Local\\Temp\\ipykernel_8500\\3869588013.py:9: FutureWarning: The frame.append method is deprecated and will be removed from pandas in a future version. Use pandas.concat instead.\n",
      "  df_all=df_all.append(dict_df[\"df_corrected\"])\n"
     ]
    },
    {
     "name": "stdout",
     "output_type": "stream",
     "text": [
      ">>> Start downloading each station\n",
      ">>> Downloading 82230\n",
      "Check smhi.log for data download details!\n"
     ]
    },
    {
     "name": "stderr",
     "output_type": "stream",
     "text": [
      "C:\\Users\\MarlonVieiraPassos\\AppData\\Local\\Temp\\ipykernel_8500\\3869588013.py:9: FutureWarning: The frame.append method is deprecated and will be removed from pandas in a future version. Use pandas.concat instead.\n",
      "  df_all=df_all.append(dict_df[\"df_corrected\"])\n"
     ]
    },
    {
     "name": "stdout",
     "output_type": "stream",
     "text": [
      ">>> Start downloading each station\n",
      ">>> Downloading 97620\n",
      "Check smhi.log for data download details!\n"
     ]
    },
    {
     "name": "stderr",
     "output_type": "stream",
     "text": [
      "C:\\Users\\MarlonVieiraPassos\\AppData\\Local\\Temp\\ipykernel_8500\\3869588013.py:9: FutureWarning: The frame.append method is deprecated and will be removed from pandas in a future version. Use pandas.concat instead.\n",
      "  df_all=df_all.append(dict_df[\"df_corrected\"])\n"
     ]
    },
    {
     "name": "stdout",
     "output_type": "stream",
     "text": [
      ">>> Start downloading each station\n",
      ">>> Downloading 139540\n",
      "Check smhi.log for data download details!\n"
     ]
    },
    {
     "name": "stderr",
     "output_type": "stream",
     "text": [
      "C:\\Users\\MarlonVieiraPassos\\AppData\\Local\\Temp\\ipykernel_8500\\3869588013.py:9: FutureWarning: The frame.append method is deprecated and will be removed from pandas in a future version. Use pandas.concat instead.\n",
      "  df_all=df_all.append(dict_df[\"df_corrected\"])\n"
     ]
    },
    {
     "name": "stdout",
     "output_type": "stream",
     "text": [
      ">>> Start downloading each station\n",
      ">>> Downloading 98200\n",
      "Check smhi.log for data download details!\n"
     ]
    },
    {
     "name": "stderr",
     "output_type": "stream",
     "text": [
      "C:\\Users\\MarlonVieiraPassos\\AppData\\Local\\Temp\\ipykernel_8500\\3869588013.py:9: FutureWarning: The frame.append method is deprecated and will be removed from pandas in a future version. Use pandas.concat instead.\n",
      "  df_all=df_all.append(dict_df[\"df_corrected\"])\n"
     ]
    },
    {
     "name": "stdout",
     "output_type": "stream",
     "text": [
      ">>> Start downloading each station\n",
      ">>> Downloading 107180\n",
      "Check smhi.log for data download details!\n"
     ]
    },
    {
     "name": "stderr",
     "output_type": "stream",
     "text": [
      "C:\\Users\\MarlonVieiraPassos\\AppData\\Local\\Temp\\ipykernel_8500\\3869588013.py:9: FutureWarning: The frame.append method is deprecated and will be removed from pandas in a future version. Use pandas.concat instead.\n",
      "  df_all=df_all.append(dict_df[\"df_corrected\"])\n"
     ]
    },
    {
     "name": "stdout",
     "output_type": "stream",
     "text": [
      ">>> Start downloading each station\n",
      ">>> Downloading 150270\n",
      "Check smhi.log for data download details!\n"
     ]
    },
    {
     "name": "stderr",
     "output_type": "stream",
     "text": [
      "C:\\Users\\MarlonVieiraPassos\\AppData\\Local\\Temp\\ipykernel_8500\\3869588013.py:9: FutureWarning: The frame.append method is deprecated and will be removed from pandas in a future version. Use pandas.concat instead.\n",
      "  df_all=df_all.append(dict_df[\"df_corrected\"])\n"
     ]
    },
    {
     "name": "stdout",
     "output_type": "stream",
     "text": [
      ">>> Start downloading each station\n",
      ">>> Downloading 85270\n",
      "Check smhi.log for data download details!\n"
     ]
    },
    {
     "name": "stderr",
     "output_type": "stream",
     "text": [
      "C:\\Users\\MarlonVieiraPassos\\AppData\\Local\\Temp\\ipykernel_8500\\3869588013.py:9: FutureWarning: The frame.append method is deprecated and will be removed from pandas in a future version. Use pandas.concat instead.\n",
      "  df_all=df_all.append(dict_df[\"df_corrected\"])\n"
     ]
    },
    {
     "name": "stdout",
     "output_type": "stream",
     "text": [
      ">>> Start downloading each station\n",
      ">>> Downloading 83340\n",
      "Check smhi.log for data download details!\n"
     ]
    },
    {
     "name": "stderr",
     "output_type": "stream",
     "text": [
      "C:\\Users\\MarlonVieiraPassos\\AppData\\Local\\Temp\\ipykernel_8500\\3869588013.py:9: FutureWarning: The frame.append method is deprecated and will be removed from pandas in a future version. Use pandas.concat instead.\n",
      "  df_all=df_all.append(dict_df[\"df_corrected\"])\n"
     ]
    },
    {
     "name": "stdout",
     "output_type": "stream",
     "text": [
      ">>> Start downloading each station\n",
      ">>> Downloading 76470\n",
      "Check smhi.log for data download details!\n"
     ]
    },
    {
     "name": "stderr",
     "output_type": "stream",
     "text": [
      "C:\\Users\\MarlonVieiraPassos\\AppData\\Local\\Temp\\ipykernel_8500\\3869588013.py:9: FutureWarning: The frame.append method is deprecated and will be removed from pandas in a future version. Use pandas.concat instead.\n",
      "  df_all=df_all.append(dict_df[\"df_corrected\"])\n"
     ]
    },
    {
     "name": "stdout",
     "output_type": "stream",
     "text": [
      ">>> Start downloading each station\n",
      ">>> Downloading 96350\n",
      "Check smhi.log for data download details!\n",
      ">>> Start downloading each station\n",
      ">>> Downloading 96370\n",
      "Check smhi.log for data download details!\n"
     ]
    },
    {
     "name": "stderr",
     "output_type": "stream",
     "text": [
      "C:\\Users\\MarlonVieiraPassos\\AppData\\Local\\Temp\\ipykernel_8500\\3869588013.py:9: FutureWarning: The frame.append method is deprecated and will be removed from pandas in a future version. Use pandas.concat instead.\n",
      "  df_all=df_all.append(dict_df[\"df_corrected\"])\n"
     ]
    },
    {
     "name": "stdout",
     "output_type": "stream",
     "text": [
      ">>> Start downloading each station\n",
      ">>> Downloading 138070\n",
      "Check smhi.log for data download details!\n"
     ]
    },
    {
     "name": "stderr",
     "output_type": "stream",
     "text": [
      "C:\\Users\\MarlonVieiraPassos\\AppData\\Local\\Temp\\ipykernel_8500\\3869588013.py:9: FutureWarning: The frame.append method is deprecated and will be removed from pandas in a future version. Use pandas.concat instead.\n",
      "  df_all=df_all.append(dict_df[\"df_corrected\"])\n"
     ]
    },
    {
     "name": "stdout",
     "output_type": "stream",
     "text": [
      ">>> Start downloading each station\n",
      ">>> Downloading 107530\n",
      "Check smhi.log for data download details!\n"
     ]
    },
    {
     "name": "stderr",
     "output_type": "stream",
     "text": [
      "C:\\Users\\MarlonVieiraPassos\\AppData\\Local\\Temp\\ipykernel_8500\\3869588013.py:9: FutureWarning: The frame.append method is deprecated and will be removed from pandas in a future version. Use pandas.concat instead.\n",
      "  df_all=df_all.append(dict_df[\"df_corrected\"])\n"
     ]
    },
    {
     "name": "stdout",
     "output_type": "stream",
     "text": [
      ">>> Start downloading each station\n",
      ">>> Downloading 85630\n",
      "Check smhi.log for data download details!\n"
     ]
    },
    {
     "name": "stderr",
     "output_type": "stream",
     "text": [
      "C:\\Users\\MarlonVieiraPassos\\AppData\\Local\\Temp\\ipykernel_8500\\3869588013.py:9: FutureWarning: The frame.append method is deprecated and will be removed from pandas in a future version. Use pandas.concat instead.\n",
      "  df_all=df_all.append(dict_df[\"df_corrected\"])\n"
     ]
    },
    {
     "name": "stdout",
     "output_type": "stream",
     "text": [
      ">>> Start downloading each station\n",
      ">>> Downloading 64520\n",
      "Check smhi.log for data download details!\n"
     ]
    },
    {
     "name": "stderr",
     "output_type": "stream",
     "text": [
      "C:\\Users\\MarlonVieiraPassos\\AppData\\Local\\Temp\\ipykernel_8500\\3869588013.py:9: FutureWarning: The frame.append method is deprecated and will be removed from pandas in a future version. Use pandas.concat instead.\n",
      "  df_all=df_all.append(dict_df[\"df_corrected\"])\n"
     ]
    },
    {
     "name": "stdout",
     "output_type": "stream",
     "text": [
      ">>> Start downloading each station\n",
      ">>> Downloading 64510\n",
      "Check smhi.log for data download details!\n"
     ]
    },
    {
     "name": "stderr",
     "output_type": "stream",
     "text": [
      "C:\\Users\\MarlonVieiraPassos\\AppData\\Local\\Temp\\ipykernel_8500\\3869588013.py:9: FutureWarning: The frame.append method is deprecated and will be removed from pandas in a future version. Use pandas.concat instead.\n",
      "  df_all=df_all.append(dict_df[\"df_corrected\"])\n"
     ]
    },
    {
     "name": "stdout",
     "output_type": "stream",
     "text": [
      ">>> Start downloading each station\n",
      ">>> Downloading 64560\n",
      "Check smhi.log for data download details!\n"
     ]
    },
    {
     "name": "stderr",
     "output_type": "stream",
     "text": [
      "C:\\Users\\MarlonVieiraPassos\\AppData\\Local\\Temp\\ipykernel_8500\\3869588013.py:9: FutureWarning: The frame.append method is deprecated and will be removed from pandas in a future version. Use pandas.concat instead.\n",
      "  df_all=df_all.append(dict_df[\"df_corrected\"])\n"
     ]
    },
    {
     "name": "stdout",
     "output_type": "stream",
     "text": [
      ">>> Start downloading each station\n",
      ">>> Downloading 82010\n",
      "Check smhi.log for data download details!\n"
     ]
    },
    {
     "name": "stderr",
     "output_type": "stream",
     "text": [
      "C:\\Users\\MarlonVieiraPassos\\AppData\\Local\\Temp\\ipykernel_8500\\3869588013.py:9: FutureWarning: The frame.append method is deprecated and will be removed from pandas in a future version. Use pandas.concat instead.\n",
      "  df_all=df_all.append(dict_df[\"df_corrected\"])\n"
     ]
    },
    {
     "name": "stdout",
     "output_type": "stream",
     "text": [
      ">>> Start downloading each station\n",
      ">>> Downloading 73190\n",
      "Check smhi.log for data download details!\n"
     ]
    },
    {
     "name": "stderr",
     "output_type": "stream",
     "text": [
      "C:\\Users\\MarlonVieiraPassos\\AppData\\Local\\Temp\\ipykernel_8500\\3869588013.py:9: FutureWarning: The frame.append method is deprecated and will be removed from pandas in a future version. Use pandas.concat instead.\n",
      "  df_all=df_all.append(dict_df[\"df_corrected\"])\n"
     ]
    },
    {
     "name": "stdout",
     "output_type": "stream",
     "text": [
      ">>> Start downloading each station\n",
      ">>> Downloading 52620\n",
      "Check smhi.log for data download details!\n"
     ]
    },
    {
     "name": "stderr",
     "output_type": "stream",
     "text": [
      "C:\\Users\\MarlonVieiraPassos\\AppData\\Local\\Temp\\ipykernel_8500\\3869588013.py:9: FutureWarning: The frame.append method is deprecated and will be removed from pandas in a future version. Use pandas.concat instead.\n",
      "  df_all=df_all.append(dict_df[\"df_corrected\"])\n"
     ]
    },
    {
     "name": "stdout",
     "output_type": "stream",
     "text": [
      ">>> Start downloading each station\n",
      ">>> Downloading 97070\n",
      "Check smhi.log for data download details!\n"
     ]
    },
    {
     "name": "stderr",
     "output_type": "stream",
     "text": [
      "C:\\Users\\MarlonVieiraPassos\\AppData\\Local\\Temp\\ipykernel_8500\\3869588013.py:9: FutureWarning: The frame.append method is deprecated and will be removed from pandas in a future version. Use pandas.concat instead.\n",
      "  df_all=df_all.append(dict_df[\"df_corrected\"])\n"
     ]
    },
    {
     "name": "stdout",
     "output_type": "stream",
     "text": [
      ">>> Start downloading each station\n",
      ">>> Downloading 173900\n",
      "Check smhi.log for data download details!\n"
     ]
    },
    {
     "name": "stderr",
     "output_type": "stream",
     "text": [
      "C:\\Users\\MarlonVieiraPassos\\AppData\\Local\\Temp\\ipykernel_8500\\3869588013.py:9: FutureWarning: The frame.append method is deprecated and will be removed from pandas in a future version. Use pandas.concat instead.\n",
      "  df_all=df_all.append(dict_df[\"df_corrected\"])\n"
     ]
    },
    {
     "name": "stdout",
     "output_type": "stream",
     "text": [
      ">>> Start downloading each station\n",
      ">>> Downloading 53260\n",
      "Check smhi.log for data download details!\n"
     ]
    },
    {
     "name": "stderr",
     "output_type": "stream",
     "text": [
      "C:\\Users\\MarlonVieiraPassos\\AppData\\Local\\Temp\\ipykernel_8500\\3869588013.py:9: FutureWarning: The frame.append method is deprecated and will be removed from pandas in a future version. Use pandas.concat instead.\n",
      "  df_all=df_all.append(dict_df[\"df_corrected\"])\n"
     ]
    },
    {
     "name": "stdout",
     "output_type": "stream",
     "text": [
      ">>> Start downloading each station\n",
      ">>> Downloading 124110\n",
      "Check smhi.log for data download details!\n",
      ">>> Start downloading each station\n",
      ">>> Downloading 147170\n",
      "Check smhi.log for data download details!\n"
     ]
    },
    {
     "name": "stderr",
     "output_type": "stream",
     "text": [
      "C:\\Users\\MarlonVieiraPassos\\AppData\\Local\\Temp\\ipykernel_8500\\3869588013.py:9: FutureWarning: The frame.append method is deprecated and will be removed from pandas in a future version. Use pandas.concat instead.\n",
      "  df_all=df_all.append(dict_df[\"df_corrected\"])\n"
     ]
    },
    {
     "name": "stdout",
     "output_type": "stream",
     "text": [
      ">>> Start downloading each station\n",
      ">>> Downloading 85490\n",
      "Check smhi.log for data download details!\n"
     ]
    },
    {
     "name": "stderr",
     "output_type": "stream",
     "text": [
      "C:\\Users\\MarlonVieiraPassos\\AppData\\Local\\Temp\\ipykernel_8500\\3869588013.py:9: FutureWarning: The frame.append method is deprecated and will be removed from pandas in a future version. Use pandas.concat instead.\n",
      "  df_all=df_all.append(dict_df[\"df_corrected\"])\n"
     ]
    },
    {
     "name": "stdout",
     "output_type": "stream",
     "text": [
      ">>> Start downloading each station\n",
      ">>> Downloading 84470\n",
      "Check smhi.log for data download details!\n"
     ]
    },
    {
     "name": "stderr",
     "output_type": "stream",
     "text": [
      "C:\\Users\\MarlonVieiraPassos\\AppData\\Local\\Temp\\ipykernel_8500\\3869588013.py:9: FutureWarning: The frame.append method is deprecated and will be removed from pandas in a future version. Use pandas.concat instead.\n",
      "  df_all=df_all.append(dict_df[\"df_corrected\"])\n"
     ]
    },
    {
     "name": "stdout",
     "output_type": "stream",
     "text": [
      ">>> Start downloading each station\n",
      ">>> Downloading 114160\n",
      "Check smhi.log for data download details!\n"
     ]
    },
    {
     "name": "stderr",
     "output_type": "stream",
     "text": [
      "C:\\Users\\MarlonVieiraPassos\\AppData\\Local\\Temp\\ipykernel_8500\\3869588013.py:9: FutureWarning: The frame.append method is deprecated and will be removed from pandas in a future version. Use pandas.concat instead.\n",
      "  df_all=df_all.append(dict_df[\"df_corrected\"])\n"
     ]
    },
    {
     "name": "stdout",
     "output_type": "stream",
     "text": [
      ">>> Start downloading each station\n",
      ">>> Downloading 114140\n",
      "Check smhi.log for data download details!\n"
     ]
    },
    {
     "name": "stderr",
     "output_type": "stream",
     "text": [
      "C:\\Users\\MarlonVieiraPassos\\AppData\\Local\\Temp\\ipykernel_8500\\3869588013.py:9: FutureWarning: The frame.append method is deprecated and will be removed from pandas in a future version. Use pandas.concat instead.\n",
      "  df_all=df_all.append(dict_df[\"df_corrected\"])\n"
     ]
    },
    {
     "name": "stdout",
     "output_type": "stream",
     "text": [
      ">>> Start downloading each station\n",
      ">>> Downloading 161690\n",
      "Check smhi.log for data download details!\n"
     ]
    },
    {
     "name": "stderr",
     "output_type": "stream",
     "text": [
      "C:\\Users\\MarlonVieiraPassos\\AppData\\Local\\Temp\\ipykernel_8500\\3869588013.py:9: FutureWarning: The frame.append method is deprecated and will be removed from pandas in a future version. Use pandas.concat instead.\n",
      "  df_all=df_all.append(dict_df[\"df_corrected\"])\n"
     ]
    },
    {
     "name": "stdout",
     "output_type": "stream",
     "text": [
      ">>> Start downloading each station\n",
      ">>> Downloading 161910\n",
      "Check smhi.log for data download details!\n"
     ]
    },
    {
     "name": "stderr",
     "output_type": "stream",
     "text": [
      "C:\\Users\\MarlonVieiraPassos\\AppData\\Local\\Temp\\ipykernel_8500\\3869588013.py:9: FutureWarning: The frame.append method is deprecated and will be removed from pandas in a future version. Use pandas.concat instead.\n",
      "  df_all=df_all.append(dict_df[\"df_corrected\"])\n"
     ]
    },
    {
     "name": "stdout",
     "output_type": "stream",
     "text": [
      ">>> Start downloading each station\n",
      ">>> Downloading 62710\n",
      "Check smhi.log for data download details!\n"
     ]
    },
    {
     "name": "stderr",
     "output_type": "stream",
     "text": [
      "C:\\Users\\MarlonVieiraPassos\\AppData\\Local\\Temp\\ipykernel_8500\\3869588013.py:9: FutureWarning: The frame.append method is deprecated and will be removed from pandas in a future version. Use pandas.concat instead.\n",
      "  df_all=df_all.append(dict_df[\"df_corrected\"])\n"
     ]
    },
    {
     "name": "stdout",
     "output_type": "stream",
     "text": [
      ">>> Start downloading each station\n",
      ">>> Downloading 62180\n",
      "Check smhi.log for data download details!\n"
     ]
    },
    {
     "name": "stderr",
     "output_type": "stream",
     "text": [
      "C:\\Users\\MarlonVieiraPassos\\AppData\\Local\\Temp\\ipykernel_8500\\3869588013.py:9: FutureWarning: The frame.append method is deprecated and will be removed from pandas in a future version. Use pandas.concat instead.\n",
      "  df_all=df_all.append(dict_df[\"df_corrected\"])\n"
     ]
    },
    {
     "name": "stdout",
     "output_type": "stream",
     "text": [
      ">>> Start downloading each station\n",
      ">>> Downloading 97150\n",
      "Check smhi.log for data download details!\n"
     ]
    },
    {
     "name": "stderr",
     "output_type": "stream",
     "text": [
      "C:\\Users\\MarlonVieiraPassos\\AppData\\Local\\Temp\\ipykernel_8500\\3869588013.py:9: FutureWarning: The frame.append method is deprecated and will be removed from pandas in a future version. Use pandas.concat instead.\n",
      "  df_all=df_all.append(dict_df[\"df_corrected\"])\n"
     ]
    },
    {
     "name": "stdout",
     "output_type": "stream",
     "text": [
      ">>> Start downloading each station\n",
      ">>> Downloading 83540\n",
      "Check smhi.log for data download details!\n"
     ]
    },
    {
     "name": "stderr",
     "output_type": "stream",
     "text": [
      "C:\\Users\\MarlonVieiraPassos\\AppData\\Local\\Temp\\ipykernel_8500\\3869588013.py:9: FutureWarning: The frame.append method is deprecated and will be removed from pandas in a future version. Use pandas.concat instead.\n",
      "  df_all=df_all.append(dict_df[\"df_corrected\"])\n"
     ]
    },
    {
     "name": "stdout",
     "output_type": "stream",
     "text": [
      ">>> Start downloading each station\n",
      ">>> Downloading 97700\n",
      "Check smhi.log for data download details!\n"
     ]
    },
    {
     "name": "stderr",
     "output_type": "stream",
     "text": [
      "C:\\Users\\MarlonVieiraPassos\\AppData\\Local\\Temp\\ipykernel_8500\\3869588013.py:9: FutureWarning: The frame.append method is deprecated and will be removed from pandas in a future version. Use pandas.concat instead.\n",
      "  df_all=df_all.append(dict_df[\"df_corrected\"])\n"
     ]
    },
    {
     "name": "stdout",
     "output_type": "stream",
     "text": [
      ">>> Start downloading each station\n",
      ">>> Downloading 179740\n",
      "Check smhi.log for data download details!\n"
     ]
    },
    {
     "name": "stderr",
     "output_type": "stream",
     "text": [
      "C:\\Users\\MarlonVieiraPassos\\AppData\\Local\\Temp\\ipykernel_8500\\3869588013.py:9: FutureWarning: The frame.append method is deprecated and will be removed from pandas in a future version. Use pandas.concat instead.\n",
      "  df_all=df_all.append(dict_df[\"df_corrected\"])\n"
     ]
    },
    {
     "name": "stdout",
     "output_type": "stream",
     "text": [
      ">>> Start downloading each station\n",
      ">>> Downloading 134620\n",
      "Check smhi.log for data download details!\n"
     ]
    },
    {
     "name": "stderr",
     "output_type": "stream",
     "text": [
      "C:\\Users\\MarlonVieiraPassos\\AppData\\Local\\Temp\\ipykernel_8500\\3869588013.py:9: FutureWarning: The frame.append method is deprecated and will be removed from pandas in a future version. Use pandas.concat instead.\n",
      "  df_all=df_all.append(dict_df[\"df_corrected\"])\n"
     ]
    },
    {
     "name": "stdout",
     "output_type": "stream",
     "text": [
      ">>> Start downloading each station\n",
      ">>> Downloading 134520\n",
      "Check smhi.log for data download details!\n"
     ]
    },
    {
     "name": "stderr",
     "output_type": "stream",
     "text": [
      "C:\\Users\\MarlonVieiraPassos\\AppData\\Local\\Temp\\ipykernel_8500\\3869588013.py:9: FutureWarning: The frame.append method is deprecated and will be removed from pandas in a future version. Use pandas.concat instead.\n",
      "  df_all=df_all.append(dict_df[\"df_corrected\"])\n"
     ]
    },
    {
     "name": "stdout",
     "output_type": "stream",
     "text": [
      ">>> Start downloading each station\n",
      ">>> Downloading 106570\n",
      "Check smhi.log for data download details!\n"
     ]
    },
    {
     "name": "stderr",
     "output_type": "stream",
     "text": [
      "C:\\Users\\MarlonVieiraPassos\\AppData\\Local\\Temp\\ipykernel_8500\\3869588013.py:9: FutureWarning: The frame.append method is deprecated and will be removed from pandas in a future version. Use pandas.concat instead.\n",
      "  df_all=df_all.append(dict_df[\"df_corrected\"])\n"
     ]
    },
    {
     "name": "stdout",
     "output_type": "stream",
     "text": [
      ">>> Start downloading each station\n",
      ">>> Downloading 106580\n",
      "Check smhi.log for data download details!\n"
     ]
    },
    {
     "name": "stderr",
     "output_type": "stream",
     "text": [
      "C:\\Users\\MarlonVieiraPassos\\AppData\\Local\\Temp\\ipykernel_8500\\3869588013.py:9: FutureWarning: The frame.append method is deprecated and will be removed from pandas in a future version. Use pandas.concat instead.\n",
      "  df_all=df_all.append(dict_df[\"df_corrected\"])\n"
     ]
    },
    {
     "name": "stdout",
     "output_type": "stream",
     "text": [
      ">>> Start downloading each station\n",
      ">>> Downloading 92030\n",
      "Check smhi.log for data download details!\n"
     ]
    },
    {
     "name": "stderr",
     "output_type": "stream",
     "text": [
      "C:\\Users\\MarlonVieiraPassos\\AppData\\Local\\Temp\\ipykernel_8500\\3869588013.py:9: FutureWarning: The frame.append method is deprecated and will be removed from pandas in a future version. Use pandas.concat instead.\n",
      "  df_all=df_all.append(dict_df[\"df_corrected\"])\n"
     ]
    },
    {
     "name": "stdout",
     "output_type": "stream",
     "text": [
      ">>> Start downloading each station\n",
      ">>> Downloading 151600\n",
      "Check smhi.log for data download details!\n"
     ]
    },
    {
     "name": "stderr",
     "output_type": "stream",
     "text": [
      "C:\\Users\\MarlonVieiraPassos\\AppData\\Local\\Temp\\ipykernel_8500\\3869588013.py:9: FutureWarning: The frame.append method is deprecated and will be removed from pandas in a future version. Use pandas.concat instead.\n",
      "  df_all=df_all.append(dict_df[\"df_corrected\"])\n"
     ]
    },
    {
     "name": "stdout",
     "output_type": "stream",
     "text": [
      ">>> Start downloading each station\n",
      ">>> Downloading 133230\n",
      "Check smhi.log for data download details!\n"
     ]
    },
    {
     "name": "stderr",
     "output_type": "stream",
     "text": [
      "C:\\Users\\MarlonVieiraPassos\\AppData\\Local\\Temp\\ipykernel_8500\\3869588013.py:9: FutureWarning: The frame.append method is deprecated and will be removed from pandas in a future version. Use pandas.concat instead.\n",
      "  df_all=df_all.append(dict_df[\"df_corrected\"])\n"
     ]
    },
    {
     "name": "stdout",
     "output_type": "stream",
     "text": [
      ">>> Start downloading each station\n",
      ">>> Downloading 133260\n",
      "Check smhi.log for data download details!\n"
     ]
    },
    {
     "name": "stderr",
     "output_type": "stream",
     "text": [
      "C:\\Users\\MarlonVieiraPassos\\AppData\\Local\\Temp\\ipykernel_8500\\3869588013.py:9: FutureWarning: The frame.append method is deprecated and will be removed from pandas in a future version. Use pandas.concat instead.\n",
      "  df_all=df_all.append(dict_df[\"df_corrected\"])\n"
     ]
    },
    {
     "name": "stdout",
     "output_type": "stream",
     "text": [
      ">>> Start downloading each station\n",
      ">>> Downloading 92380\n",
      "Check smhi.log for data download details!\n"
     ]
    },
    {
     "name": "stderr",
     "output_type": "stream",
     "text": [
      "C:\\Users\\MarlonVieiraPassos\\AppData\\Local\\Temp\\ipykernel_8500\\3869588013.py:9: FutureWarning: The frame.append method is deprecated and will be removed from pandas in a future version. Use pandas.concat instead.\n",
      "  df_all=df_all.append(dict_df[\"df_corrected\"])\n"
     ]
    },
    {
     "name": "stdout",
     "output_type": "stream",
     "text": [
      ">>> Start downloading each station\n",
      ">>> Downloading 75100\n",
      "Check smhi.log for data download details!\n"
     ]
    },
    {
     "name": "stderr",
     "output_type": "stream",
     "text": [
      "C:\\Users\\MarlonVieiraPassos\\AppData\\Local\\Temp\\ipykernel_8500\\3869588013.py:9: FutureWarning: The frame.append method is deprecated and will be removed from pandas in a future version. Use pandas.concat instead.\n",
      "  df_all=df_all.append(dict_df[\"df_corrected\"])\n"
     ]
    },
    {
     "name": "stdout",
     "output_type": "stream",
     "text": [
      ">>> Start downloading each station\n",
      ">>> Downloading 147100\n",
      "Check smhi.log for data download details!\n",
      ">>> Start downloading each station\n",
      ">>> Downloading 147090\n",
      "Check smhi.log for data download details!\n"
     ]
    },
    {
     "name": "stderr",
     "output_type": "stream",
     "text": [
      "C:\\Users\\MarlonVieiraPassos\\AppData\\Local\\Temp\\ipykernel_8500\\3869588013.py:9: FutureWarning: The frame.append method is deprecated and will be removed from pandas in a future version. Use pandas.concat instead.\n",
      "  df_all=df_all.append(dict_df[\"df_corrected\"])\n"
     ]
    },
    {
     "name": "stdout",
     "output_type": "stream",
     "text": [
      ">>> Start downloading each station\n",
      ">>> Downloading 94050\n",
      "Check smhi.log for data download details!\n"
     ]
    },
    {
     "name": "stderr",
     "output_type": "stream",
     "text": [
      "C:\\Users\\MarlonVieiraPassos\\AppData\\Local\\Temp\\ipykernel_8500\\3869588013.py:9: FutureWarning: The frame.append method is deprecated and will be removed from pandas in a future version. Use pandas.concat instead.\n",
      "  df_all=df_all.append(dict_df[\"df_corrected\"])\n"
     ]
    },
    {
     "name": "stdout",
     "output_type": "stream",
     "text": [
      ">>> Start downloading each station\n",
      ">>> Downloading 85130\n",
      "Check smhi.log for data download details!\n"
     ]
    },
    {
     "name": "stderr",
     "output_type": "stream",
     "text": [
      "C:\\Users\\MarlonVieiraPassos\\AppData\\Local\\Temp\\ipykernel_8500\\3869588013.py:9: FutureWarning: The frame.append method is deprecated and will be removed from pandas in a future version. Use pandas.concat instead.\n",
      "  df_all=df_all.append(dict_df[\"df_corrected\"])\n"
     ]
    },
    {
     "name": "stdout",
     "output_type": "stream",
     "text": [
      ">>> Start downloading each station\n",
      ">>> Downloading 82650\n",
      "Check smhi.log for data download details!\n"
     ]
    },
    {
     "name": "stderr",
     "output_type": "stream",
     "text": [
      "C:\\Users\\MarlonVieiraPassos\\AppData\\Local\\Temp\\ipykernel_8500\\3869588013.py:9: FutureWarning: The frame.append method is deprecated and will be removed from pandas in a future version. Use pandas.concat instead.\n",
      "  df_all=df_all.append(dict_df[\"df_corrected\"])\n"
     ]
    },
    {
     "name": "stdout",
     "output_type": "stream",
     "text": [
      ">>> Start downloading each station\n",
      ">>> Downloading 85220\n",
      "Check smhi.log for data download details!\n"
     ]
    },
    {
     "name": "stderr",
     "output_type": "stream",
     "text": [
      "C:\\Users\\MarlonVieiraPassos\\AppData\\Local\\Temp\\ipykernel_8500\\3869588013.py:9: FutureWarning: The frame.append method is deprecated and will be removed from pandas in a future version. Use pandas.concat instead.\n",
      "  df_all=df_all.append(dict_df[\"df_corrected\"])\n"
     ]
    },
    {
     "name": "stdout",
     "output_type": "stream",
     "text": [
      ">>> Start downloading each station\n",
      ">>> Downloading 161800\n",
      "Check smhi.log for data download details!\n"
     ]
    },
    {
     "name": "stderr",
     "output_type": "stream",
     "text": [
      "C:\\Users\\MarlonVieiraPassos\\AppData\\Local\\Temp\\ipykernel_8500\\3869588013.py:9: FutureWarning: The frame.append method is deprecated and will be removed from pandas in a future version. Use pandas.concat instead.\n",
      "  df_all=df_all.append(dict_df[\"df_corrected\"])\n"
     ]
    },
    {
     "name": "stdout",
     "output_type": "stream",
     "text": [
      ">>> Start downloading each station\n",
      ">>> Downloading 87520\n",
      "Check smhi.log for data download details!\n"
     ]
    },
    {
     "name": "stderr",
     "output_type": "stream",
     "text": [
      "C:\\Users\\MarlonVieiraPassos\\AppData\\Local\\Temp\\ipykernel_8500\\3869588013.py:9: FutureWarning: The frame.append method is deprecated and will be removed from pandas in a future version. Use pandas.concat instead.\n",
      "  df_all=df_all.append(dict_df[\"df_corrected\"])\n"
     ]
    },
    {
     "name": "stdout",
     "output_type": "stream",
     "text": [
      ">>> Start downloading each station\n",
      ">>> Downloading 77220\n",
      "Check smhi.log for data download details!\n"
     ]
    },
    {
     "name": "stderr",
     "output_type": "stream",
     "text": [
      "C:\\Users\\MarlonVieiraPassos\\AppData\\Local\\Temp\\ipykernel_8500\\3869588013.py:9: FutureWarning: The frame.append method is deprecated and will be removed from pandas in a future version. Use pandas.concat instead.\n",
      "  df_all=df_all.append(dict_df[\"df_corrected\"])\n"
     ]
    },
    {
     "name": "stdout",
     "output_type": "stream",
     "text": [
      ">>> Start downloading each station\n",
      ">>> Downloading 77210\n",
      "Check smhi.log for data download details!\n"
     ]
    },
    {
     "name": "stderr",
     "output_type": "stream",
     "text": [
      "C:\\Users\\MarlonVieiraPassos\\AppData\\Local\\Temp\\ipykernel_8500\\3869588013.py:9: FutureWarning: The frame.append method is deprecated and will be removed from pandas in a future version. Use pandas.concat instead.\n",
      "  df_all=df_all.append(dict_df[\"df_corrected\"])\n"
     ]
    },
    {
     "name": "stdout",
     "output_type": "stream",
     "text": [
      ">>> Start downloading each station\n",
      ">>> Downloading 66040\n",
      "Check smhi.log for data download details!\n"
     ]
    },
    {
     "name": "stderr",
     "output_type": "stream",
     "text": [
      "C:\\Users\\MarlonVieiraPassos\\AppData\\Local\\Temp\\ipykernel_8500\\3869588013.py:9: FutureWarning: The frame.append method is deprecated and will be removed from pandas in a future version. Use pandas.concat instead.\n",
      "  df_all=df_all.append(dict_df[\"df_corrected\"])\n"
     ]
    },
    {
     "name": "stdout",
     "output_type": "stream",
     "text": [
      ">>> Start downloading each station\n",
      ">>> Downloading 66120\n",
      "Check smhi.log for data download details!\n"
     ]
    },
    {
     "name": "stderr",
     "output_type": "stream",
     "text": [
      "C:\\Users\\MarlonVieiraPassos\\AppData\\Local\\Temp\\ipykernel_8500\\3869588013.py:9: FutureWarning: The frame.append method is deprecated and will be removed from pandas in a future version. Use pandas.concat instead.\n",
      "  df_all=df_all.append(dict_df[\"df_corrected\"])\n"
     ]
    },
    {
     "name": "stdout",
     "output_type": "stream",
     "text": [
      ">>> Start downloading each station\n",
      ">>> Downloading 66110\n",
      "Check smhi.log for data download details!\n"
     ]
    },
    {
     "name": "stderr",
     "output_type": "stream",
     "text": [
      "C:\\Users\\MarlonVieiraPassos\\AppData\\Local\\Temp\\ipykernel_8500\\3869588013.py:9: FutureWarning: The frame.append method is deprecated and will be removed from pandas in a future version. Use pandas.concat instead.\n",
      "  df_all=df_all.append(dict_df[\"df_corrected\"])\n"
     ]
    },
    {
     "name": "stdout",
     "output_type": "stream",
     "text": [
      ">>> Start downloading each station\n",
      ">>> Downloading 66630\n",
      "Check smhi.log for data download details!\n"
     ]
    },
    {
     "name": "stderr",
     "output_type": "stream",
     "text": [
      "C:\\Users\\MarlonVieiraPassos\\AppData\\Local\\Temp\\ipykernel_8500\\3869588013.py:9: FutureWarning: The frame.append method is deprecated and will be removed from pandas in a future version. Use pandas.concat instead.\n",
      "  df_all=df_all.append(dict_df[\"df_corrected\"])\n"
     ]
    },
    {
     "name": "stdout",
     "output_type": "stream",
     "text": [
      ">>> Start downloading each station\n",
      ">>> Downloading 84260\n",
      "Check smhi.log for data download details!\n"
     ]
    },
    {
     "name": "stderr",
     "output_type": "stream",
     "text": [
      "C:\\Users\\MarlonVieiraPassos\\AppData\\Local\\Temp\\ipykernel_8500\\3869588013.py:9: FutureWarning: The frame.append method is deprecated and will be removed from pandas in a future version. Use pandas.concat instead.\n",
      "  df_all=df_all.append(dict_df[\"df_corrected\"])\n"
     ]
    },
    {
     "name": "stdout",
     "output_type": "stream",
     "text": [
      ">>> Start downloading each station\n",
      ">>> Downloading 72290\n",
      "Check smhi.log for data download details!\n"
     ]
    },
    {
     "name": "stderr",
     "output_type": "stream",
     "text": [
      "C:\\Users\\MarlonVieiraPassos\\AppData\\Local\\Temp\\ipykernel_8500\\3869588013.py:9: FutureWarning: The frame.append method is deprecated and will be removed from pandas in a future version. Use pandas.concat instead.\n",
      "  df_all=df_all.append(dict_df[\"df_corrected\"])\n"
     ]
    },
    {
     "name": "stdout",
     "output_type": "stream",
     "text": [
      ">>> Start downloading each station\n",
      ">>> Downloading 95160\n",
      "Check smhi.log for data download details!\n",
      ">>> Start downloading each station\n",
      ">>> Downloading 95170\n",
      "Check smhi.log for data download details!\n"
     ]
    },
    {
     "name": "stderr",
     "output_type": "stream",
     "text": [
      "C:\\Users\\MarlonVieiraPassos\\AppData\\Local\\Temp\\ipykernel_8500\\3869588013.py:9: FutureWarning: The frame.append method is deprecated and will be removed from pandas in a future version. Use pandas.concat instead.\n",
      "  df_all=df_all.append(dict_df[\"df_corrected\"])\n"
     ]
    },
    {
     "name": "stdout",
     "output_type": "stream",
     "text": [
      ">>> Start downloading each station\n",
      ">>> Downloading 95130\n",
      "Check smhi.log for data download details!\n"
     ]
    },
    {
     "name": "stderr",
     "output_type": "stream",
     "text": [
      "C:\\Users\\MarlonVieiraPassos\\AppData\\Local\\Temp\\ipykernel_8500\\3869588013.py:9: FutureWarning: The frame.append method is deprecated and will be removed from pandas in a future version. Use pandas.concat instead.\n",
      "  df_all=df_all.append(dict_df[\"df_corrected\"])\n"
     ]
    },
    {
     "name": "stdout",
     "output_type": "stream",
     "text": [
      ">>> Start downloading each station\n",
      ">>> Downloading 108640\n",
      "Check smhi.log for data download details!\n"
     ]
    },
    {
     "name": "stderr",
     "output_type": "stream",
     "text": [
      "C:\\Users\\MarlonVieiraPassos\\AppData\\Local\\Temp\\ipykernel_8500\\3869588013.py:9: FutureWarning: The frame.append method is deprecated and will be removed from pandas in a future version. Use pandas.concat instead.\n",
      "  df_all=df_all.append(dict_df[\"df_corrected\"])\n"
     ]
    },
    {
     "name": "stdout",
     "output_type": "stream",
     "text": [
      ">>> Start downloading each station\n",
      ">>> Downloading 52510\n",
      "Check smhi.log for data download details!\n"
     ]
    },
    {
     "name": "stderr",
     "output_type": "stream",
     "text": [
      "C:\\Users\\MarlonVieiraPassos\\AppData\\Local\\Temp\\ipykernel_8500\\3869588013.py:9: FutureWarning: The frame.append method is deprecated and will be removed from pandas in a future version. Use pandas.concat instead.\n",
      "  df_all=df_all.append(dict_df[\"df_corrected\"])\n"
     ]
    },
    {
     "name": "stdout",
     "output_type": "stream",
     "text": [
      ">>> Start downloading each station\n",
      ">>> Downloading 138240\n",
      "Check smhi.log for data download details!\n",
      ">>> Start downloading each station\n",
      ">>> Downloading 108320\n",
      "Check smhi.log for data download details!\n"
     ]
    },
    {
     "name": "stderr",
     "output_type": "stream",
     "text": [
      "C:\\Users\\MarlonVieiraPassos\\AppData\\Local\\Temp\\ipykernel_8500\\3869588013.py:9: FutureWarning: The frame.append method is deprecated and will be removed from pandas in a future version. Use pandas.concat instead.\n",
      "  df_all=df_all.append(dict_df[\"df_corrected\"])\n"
     ]
    },
    {
     "name": "stdout",
     "output_type": "stream",
     "text": [
      ">>> Start downloading each station\n",
      ">>> Downloading 53470\n",
      "Check smhi.log for data download details!\n"
     ]
    },
    {
     "name": "stderr",
     "output_type": "stream",
     "text": [
      "C:\\Users\\MarlonVieiraPassos\\AppData\\Local\\Temp\\ipykernel_8500\\3869588013.py:9: FutureWarning: The frame.append method is deprecated and will be removed from pandas in a future version. Use pandas.concat instead.\n",
      "  df_all=df_all.append(dict_df[\"df_corrected\"])\n"
     ]
    },
    {
     "name": "stdout",
     "output_type": "stream",
     "text": [
      ">>> Start downloading each station\n",
      ">>> Downloading 78280\n",
      "Check smhi.log for data download details!\n",
      ">>> Start downloading each station\n",
      ">>> Downloading 134100\n",
      "Check smhi.log for data download details!\n"
     ]
    },
    {
     "name": "stderr",
     "output_type": "stream",
     "text": [
      "C:\\Users\\MarlonVieiraPassos\\AppData\\Local\\Temp\\ipykernel_8500\\3869588013.py:9: FutureWarning: The frame.append method is deprecated and will be removed from pandas in a future version. Use pandas.concat instead.\n",
      "  df_all=df_all.append(dict_df[\"df_corrected\"])\n"
     ]
    },
    {
     "name": "stdout",
     "output_type": "stream",
     "text": [
      ">>> Start downloading each station\n",
      ">>> Downloading 134110\n",
      "Check smhi.log for data download details!\n"
     ]
    },
    {
     "name": "stderr",
     "output_type": "stream",
     "text": [
      "C:\\Users\\MarlonVieiraPassos\\AppData\\Local\\Temp\\ipykernel_8500\\3869588013.py:9: FutureWarning: The frame.append method is deprecated and will be removed from pandas in a future version. Use pandas.concat instead.\n",
      "  df_all=df_all.append(dict_df[\"df_corrected\"])\n"
     ]
    },
    {
     "name": "stdout",
     "output_type": "stream",
     "text": [
      ">>> Start downloading each station\n",
      ">>> Downloading 102190\n",
      "Check smhi.log for data download details!\n"
     ]
    },
    {
     "name": "stderr",
     "output_type": "stream",
     "text": [
      "C:\\Users\\MarlonVieiraPassos\\AppData\\Local\\Temp\\ipykernel_8500\\3869588013.py:9: FutureWarning: The frame.append method is deprecated and will be removed from pandas in a future version. Use pandas.concat instead.\n",
      "  df_all=df_all.append(dict_df[\"df_corrected\"])\n"
     ]
    },
    {
     "name": "stdout",
     "output_type": "stream",
     "text": [
      ">>> Start downloading each station\n",
      ">>> Downloading 102200\n",
      "Check smhi.log for data download details!\n"
     ]
    },
    {
     "name": "stderr",
     "output_type": "stream",
     "text": [
      "C:\\Users\\MarlonVieiraPassos\\AppData\\Local\\Temp\\ipykernel_8500\\3869588013.py:9: FutureWarning: The frame.append method is deprecated and will be removed from pandas in a future version. Use pandas.concat instead.\n",
      "  df_all=df_all.append(dict_df[\"df_corrected\"])\n"
     ]
    },
    {
     "name": "stdout",
     "output_type": "stream",
     "text": [
      ">>> Start downloading each station\n",
      ">>> Downloading 102210\n",
      "Check smhi.log for data download details!\n"
     ]
    },
    {
     "name": "stderr",
     "output_type": "stream",
     "text": [
      "C:\\Users\\MarlonVieiraPassos\\AppData\\Local\\Temp\\ipykernel_8500\\3869588013.py:9: FutureWarning: The frame.append method is deprecated and will be removed from pandas in a future version. Use pandas.concat instead.\n",
      "  df_all=df_all.append(dict_df[\"df_corrected\"])\n"
     ]
    },
    {
     "name": "stdout",
     "output_type": "stream",
     "text": [
      ">>> Start downloading each station\n",
      ">>> Downloading 102170\n",
      "Check smhi.log for data download details!\n"
     ]
    },
    {
     "name": "stderr",
     "output_type": "stream",
     "text": [
      "C:\\Users\\MarlonVieiraPassos\\AppData\\Local\\Temp\\ipykernel_8500\\3869588013.py:9: FutureWarning: The frame.append method is deprecated and will be removed from pandas in a future version. Use pandas.concat instead.\n",
      "  df_all=df_all.append(dict_df[\"df_corrected\"])\n"
     ]
    },
    {
     "name": "stdout",
     "output_type": "stream",
     "text": [
      ">>> Start downloading each station\n",
      ">>> Downloading 172790\n",
      "Check smhi.log for data download details!\n",
      ">>> Start downloading each station\n",
      ">>> Downloading 172770\n",
      "Check smhi.log for data download details!\n"
     ]
    },
    {
     "name": "stderr",
     "output_type": "stream",
     "text": [
      "C:\\Users\\MarlonVieiraPassos\\AppData\\Local\\Temp\\ipykernel_8500\\3869588013.py:9: FutureWarning: The frame.append method is deprecated and will be removed from pandas in a future version. Use pandas.concat instead.\n",
      "  df_all=df_all.append(dict_df[\"df_corrected\"])\n"
     ]
    },
    {
     "name": "stdout",
     "output_type": "stream",
     "text": [
      ">>> Start downloading each station\n",
      ">>> Downloading 173810\n",
      "Check smhi.log for data download details!\n",
      ">>> Start downloading each station\n",
      ">>> Downloading 133470\n",
      "Check smhi.log for data download details!\n"
     ]
    },
    {
     "name": "stderr",
     "output_type": "stream",
     "text": [
      "C:\\Users\\MarlonVieiraPassos\\AppData\\Local\\Temp\\ipykernel_8500\\3869588013.py:9: FutureWarning: The frame.append method is deprecated and will be removed from pandas in a future version. Use pandas.concat instead.\n",
      "  df_all=df_all.append(dict_df[\"df_corrected\"])\n"
     ]
    },
    {
     "name": "stdout",
     "output_type": "stream",
     "text": [
      ">>> Start downloading each station\n",
      ">>> Downloading 86700\n",
      "Check smhi.log for data download details!\n"
     ]
    },
    {
     "name": "stderr",
     "output_type": "stream",
     "text": [
      "C:\\Users\\MarlonVieiraPassos\\AppData\\Local\\Temp\\ipykernel_8500\\3869588013.py:9: FutureWarning: The frame.append method is deprecated and will be removed from pandas in a future version. Use pandas.concat instead.\n",
      "  df_all=df_all.append(dict_df[\"df_corrected\"])\n"
     ]
    }
   ],
   "source": [
    "# Download data for all stations (air temperature)\n",
    "pnumber = 19 # 20: average daily air temperature, 19: min daily temperature\n",
    "df_all=pd.DataFrame()\n",
    "id_list=df_stations['id'].unique()\n",
    "for station_id in id_list:\n",
    "    try:\n",
    "        sid = (station_id,)\n",
    "        dict_df = get_stations(param = pnumber, station_keys = sid) \n",
    "        df_all=df_all.append(dict_df[\"df_corrected\"])\n",
    "    except:\n",
    "        pass"
   ]
  },
  {
   "cell_type": "code",
   "execution_count": 397,
   "id": "71591b44",
   "metadata": {},
   "outputs": [],
   "source": [
    "#df_all.to_csv('mintemp_data.csv')"
   ]
  },
  {
   "cell_type": "code",
   "execution_count": 438,
   "id": "a2f2bb3f",
   "metadata": {},
   "outputs": [
    {
     "data": {
      "text/html": [
       "<div>\n",
       "<style scoped>\n",
       "    .dataframe tbody tr th:only-of-type {\n",
       "        vertical-align: middle;\n",
       "    }\n",
       "\n",
       "    .dataframe tbody tr th {\n",
       "        vertical-align: top;\n",
       "    }\n",
       "\n",
       "    .dataframe thead th {\n",
       "        text-align: right;\n",
       "    }\n",
       "</style>\n",
       "<table border=\"1\" class=\"dataframe\">\n",
       "  <thead>\n",
       "    <tr style=\"text-align: right;\">\n",
       "      <th></th>\n",
       "      <th>name</th>\n",
       "      <th>id</th>\n",
       "      <th>height</th>\n",
       "      <th>latitude</th>\n",
       "      <th>longitude</th>\n",
       "      <th>active</th>\n",
       "      <th>starting</th>\n",
       "      <th>ending</th>\n",
       "      <th>updated</th>\n",
       "      <th>title</th>\n",
       "      <th>key</th>\n",
       "      <th>duration</th>\n",
       "    </tr>\n",
       "  </thead>\n",
       "  <tbody>\n",
       "    <tr>\n",
       "      <th>0</th>\n",
       "      <td>Abelvattnet Aut</td>\n",
       "      <td>154860</td>\n",
       "      <td>665.000</td>\n",
       "      <td>65.5300</td>\n",
       "      <td>14.9700</td>\n",
       "      <td>False</td>\n",
       "      <td>1985-05-01</td>\n",
       "      <td>1996-08-31 23:59:59</td>\n",
       "      <td>1996-08-31 23:59:59</td>\n",
       "      <td>Lufttemperatur - Abelvattnet Aut</td>\n",
       "      <td>154860</td>\n",
       "      <td>11.337673</td>\n",
       "    </tr>\n",
       "    <tr>\n",
       "      <th>1</th>\n",
       "      <td>Abisko</td>\n",
       "      <td>188800</td>\n",
       "      <td>393.380</td>\n",
       "      <td>68.3538</td>\n",
       "      <td>18.8166</td>\n",
       "      <td>False</td>\n",
       "      <td>1913-01-01</td>\n",
       "      <td>2018-12-31 23:59:59</td>\n",
       "      <td>2018-12-31 23:59:59</td>\n",
       "      <td>Lufttemperatur - Abisko</td>\n",
       "      <td>188800</td>\n",
       "      <td>106.000808</td>\n",
       "    </tr>\n",
       "    <tr>\n",
       "      <th>2</th>\n",
       "      <td>Abisko Aut</td>\n",
       "      <td>188790</td>\n",
       "      <td>392.303</td>\n",
       "      <td>68.3538</td>\n",
       "      <td>18.8164</td>\n",
       "      <td>True</td>\n",
       "      <td>1985-06-01</td>\n",
       "      <td>2023-02-04 10:00:00</td>\n",
       "      <td>2023-02-04 10:00:00</td>\n",
       "      <td>Lufttemperatur - Abisko Aut</td>\n",
       "      <td>188790</td>\n",
       "      <td>37.680217</td>\n",
       "    </tr>\n",
       "    <tr>\n",
       "      <th>3</th>\n",
       "      <td>Abraur</td>\n",
       "      <td>158990</td>\n",
       "      <td>368.079</td>\n",
       "      <td>65.9857</td>\n",
       "      <td>18.9195</td>\n",
       "      <td>True</td>\n",
       "      <td>1991-07-01</td>\n",
       "      <td>2022-12-31 23:59:59</td>\n",
       "      <td>2022-12-31 23:59:59</td>\n",
       "      <td>Lufttemperatur - Abraur</td>\n",
       "      <td>158990</td>\n",
       "      <td>31.505096</td>\n",
       "    </tr>\n",
       "    <tr>\n",
       "      <th>4</th>\n",
       "      <td>Adelsnäs</td>\n",
       "      <td>85600</td>\n",
       "      <td>97.000</td>\n",
       "      <td>58.1998</td>\n",
       "      <td>15.9802</td>\n",
       "      <td>False</td>\n",
       "      <td>1945-01-01</td>\n",
       "      <td>1960-12-31 23:59:59</td>\n",
       "      <td>1960-12-31 23:59:59</td>\n",
       "      <td>Lufttemperatur - Adelsnäs</td>\n",
       "      <td>85600</td>\n",
       "      <td>16.000329</td>\n",
       "    </tr>\n",
       "    <tr>\n",
       "      <th>...</th>\n",
       "      <td>...</td>\n",
       "      <td>...</td>\n",
       "      <td>...</td>\n",
       "      <td>...</td>\n",
       "      <td>...</td>\n",
       "      <td>...</td>\n",
       "      <td>...</td>\n",
       "      <td>...</td>\n",
       "      <td>...</td>\n",
       "      <td>...</td>\n",
       "      <td>...</td>\n",
       "      <td>...</td>\n",
       "    </tr>\n",
       "    <tr>\n",
       "      <th>888</th>\n",
       "      <td>Överkalix-Svartbyn</td>\n",
       "      <td>172790</td>\n",
       "      <td>46.000</td>\n",
       "      <td>66.2646</td>\n",
       "      <td>22.8365</td>\n",
       "      <td>False</td>\n",
       "      <td>1962-08-01</td>\n",
       "      <td>1995-11-30 23:59:59</td>\n",
       "      <td>1995-11-30 23:59:59</td>\n",
       "      <td>Lufttemperatur - Överkalix-Svartbyn</td>\n",
       "      <td>172790</td>\n",
       "      <td>33.334018</td>\n",
       "    </tr>\n",
       "    <tr>\n",
       "      <th>889</th>\n",
       "      <td>Överkalix-Svartbyn A</td>\n",
       "      <td>172770</td>\n",
       "      <td>61.024</td>\n",
       "      <td>66.2618</td>\n",
       "      <td>22.8427</td>\n",
       "      <td>True</td>\n",
       "      <td>1995-12-01</td>\n",
       "      <td>2023-02-04 10:00:00</td>\n",
       "      <td>2023-02-04 10:00:00</td>\n",
       "      <td>Lufttemperatur - Överkalix-Svartbyn A</td>\n",
       "      <td>172770</td>\n",
       "      <td>27.180344</td>\n",
       "    </tr>\n",
       "    <tr>\n",
       "      <th>890</th>\n",
       "      <td>Övertorneå</td>\n",
       "      <td>173810</td>\n",
       "      <td>59.508</td>\n",
       "      <td>66.3860</td>\n",
       "      <td>23.6155</td>\n",
       "      <td>True</td>\n",
       "      <td>1955-01-01</td>\n",
       "      <td>2023-02-04 10:00:00</td>\n",
       "      <td>2023-02-04 10:00:00</td>\n",
       "      <td>Lufttemperatur - Övertorneå</td>\n",
       "      <td>173810</td>\n",
       "      <td>68.095626</td>\n",
       "    </tr>\n",
       "    <tr>\n",
       "      <th>891</th>\n",
       "      <td>Överäng</td>\n",
       "      <td>133470</td>\n",
       "      <td>450.000</td>\n",
       "      <td>63.7788</td>\n",
       "      <td>13.0734</td>\n",
       "      <td>False</td>\n",
       "      <td>1966-12-01</td>\n",
       "      <td>2006-02-28 23:59:59</td>\n",
       "      <td>2006-02-28 23:59:59</td>\n",
       "      <td>Lufttemperatur - Överäng</td>\n",
       "      <td>133470</td>\n",
       "      <td>39.247897</td>\n",
       "    </tr>\n",
       "    <tr>\n",
       "      <th>892</th>\n",
       "      <td>Övre Gränsö</td>\n",
       "      <td>86700</td>\n",
       "      <td>5.000</td>\n",
       "      <td>58.3500</td>\n",
       "      <td>16.8333</td>\n",
       "      <td>False</td>\n",
       "      <td>1961-01-01</td>\n",
       "      <td>1962-04-30 23:59:59</td>\n",
       "      <td>1962-04-30 23:59:59</td>\n",
       "      <td>Lufttemperatur - Övre Gränsö</td>\n",
       "      <td>86700</td>\n",
       "      <td>1.327885</td>\n",
       "    </tr>\n",
       "  </tbody>\n",
       "</table>\n",
       "<p>893 rows × 12 columns</p>\n",
       "</div>"
      ],
      "text/plain": [
       "                     name      id   height  latitude  longitude  active  \\\n",
       "0         Abelvattnet Aut  154860  665.000   65.5300    14.9700   False   \n",
       "1                  Abisko  188800  393.380   68.3538    18.8166   False   \n",
       "2              Abisko Aut  188790  392.303   68.3538    18.8164    True   \n",
       "3                  Abraur  158990  368.079   65.9857    18.9195    True   \n",
       "4                Adelsnäs   85600   97.000   58.1998    15.9802   False   \n",
       "..                    ...     ...      ...       ...        ...     ...   \n",
       "888    Överkalix-Svartbyn  172790   46.000   66.2646    22.8365   False   \n",
       "889  Överkalix-Svartbyn A  172770   61.024   66.2618    22.8427    True   \n",
       "890            Övertorneå  173810   59.508   66.3860    23.6155    True   \n",
       "891               Överäng  133470  450.000   63.7788    13.0734   False   \n",
       "892           Övre Gränsö   86700    5.000   58.3500    16.8333   False   \n",
       "\n",
       "      starting              ending             updated  \\\n",
       "0   1985-05-01 1996-08-31 23:59:59 1996-08-31 23:59:59   \n",
       "1   1913-01-01 2018-12-31 23:59:59 2018-12-31 23:59:59   \n",
       "2   1985-06-01 2023-02-04 10:00:00 2023-02-04 10:00:00   \n",
       "3   1991-07-01 2022-12-31 23:59:59 2022-12-31 23:59:59   \n",
       "4   1945-01-01 1960-12-31 23:59:59 1960-12-31 23:59:59   \n",
       "..         ...                 ...                 ...   \n",
       "888 1962-08-01 1995-11-30 23:59:59 1995-11-30 23:59:59   \n",
       "889 1995-12-01 2023-02-04 10:00:00 2023-02-04 10:00:00   \n",
       "890 1955-01-01 2023-02-04 10:00:00 2023-02-04 10:00:00   \n",
       "891 1966-12-01 2006-02-28 23:59:59 2006-02-28 23:59:59   \n",
       "892 1961-01-01 1962-04-30 23:59:59 1962-04-30 23:59:59   \n",
       "\n",
       "                                     title     key    duration  \n",
       "0         Lufttemperatur - Abelvattnet Aut  154860   11.337673  \n",
       "1                  Lufttemperatur - Abisko  188800  106.000808  \n",
       "2              Lufttemperatur - Abisko Aut  188790   37.680217  \n",
       "3                  Lufttemperatur - Abraur  158990   31.505096  \n",
       "4                Lufttemperatur - Adelsnäs   85600   16.000329  \n",
       "..                                     ...     ...         ...  \n",
       "888    Lufttemperatur - Överkalix-Svartbyn  172790   33.334018  \n",
       "889  Lufttemperatur - Överkalix-Svartbyn A  172770   27.180344  \n",
       "890            Lufttemperatur - Övertorneå  173810   68.095626  \n",
       "891               Lufttemperatur - Överäng  133470   39.247897  \n",
       "892           Lufttemperatur - Övre Gränsö   86700    1.327885  \n",
       "\n",
       "[893 rows x 12 columns]"
      ]
     },
     "execution_count": 438,
     "metadata": {},
     "output_type": "execute_result"
    }
   ],
   "source": [
    "df_stations"
   ]
  },
  {
   "cell_type": "code",
   "execution_count": 143,
   "id": "07e085c0",
   "metadata": {},
   "outputs": [],
   "source": [
    "import pandas as pd\n",
    "#df_all=pd.read_csv('maxtemp_data.csv')\n",
    "df_all=pd.read_csv('maxtemp_data.csv')"
   ]
  },
  {
   "cell_type": "code",
   "execution_count": 144,
   "id": "12f3d8f8",
   "metadata": {},
   "outputs": [],
   "source": [
    "# Sort by date \n",
    "df_all = df_all.dropna(subset=['value'])\n",
    "df_all=df_all.sort_values(by='ref')\n",
    "df_all.ref=pd.to_datetime(df_all.ref)"
   ]
  },
  {
   "cell_type": "code",
   "execution_count": 59,
   "id": "47c9f93f",
   "metadata": {},
   "outputs": [
    {
     "data": {
      "text/html": [
       "<div>\n",
       "<style scoped>\n",
       "    .dataframe tbody tr th:only-of-type {\n",
       "        vertical-align: middle;\n",
       "    }\n",
       "\n",
       "    .dataframe tbody tr th {\n",
       "        vertical-align: top;\n",
       "    }\n",
       "\n",
       "    .dataframe thead th {\n",
       "        text-align: right;\n",
       "    }\n",
       "</style>\n",
       "<table border=\"1\" class=\"dataframe\">\n",
       "  <thead>\n",
       "    <tr style=\"text-align: right;\">\n",
       "      <th></th>\n",
       "      <th>Unnamed: 0</th>\n",
       "      <th>starting</th>\n",
       "      <th>quality</th>\n",
       "      <th>ref</th>\n",
       "      <th>ending</th>\n",
       "      <th>value</th>\n",
       "      <th>station_id</th>\n",
       "    </tr>\n",
       "  </thead>\n",
       "  <tbody>\n",
       "    <tr>\n",
       "      <th>6449030</th>\n",
       "      <td>0</td>\n",
       "      <td>1839-12-31 20:00:01</td>\n",
       "      <td>G</td>\n",
       "      <td>1840-01-01</td>\n",
       "      <td>1840-01-01 20:00:00</td>\n",
       "      <td>-5.9</td>\n",
       "      <td>97520</td>\n",
       "    </tr>\n",
       "    <tr>\n",
       "      <th>6449031</th>\n",
       "      <td>1</td>\n",
       "      <td>1840-01-01 20:00:01</td>\n",
       "      <td>G</td>\n",
       "      <td>1840-01-02</td>\n",
       "      <td>1840-01-02 20:00:00</td>\n",
       "      <td>-4.3</td>\n",
       "      <td>97520</td>\n",
       "    </tr>\n",
       "    <tr>\n",
       "      <th>6449032</th>\n",
       "      <td>2</td>\n",
       "      <td>1840-01-02 20:00:01</td>\n",
       "      <td>G</td>\n",
       "      <td>1840-01-03</td>\n",
       "      <td>1840-01-03 20:00:00</td>\n",
       "      <td>-3.3</td>\n",
       "      <td>97520</td>\n",
       "    </tr>\n",
       "    <tr>\n",
       "      <th>6449033</th>\n",
       "      <td>3</td>\n",
       "      <td>1840-01-03 20:00:01</td>\n",
       "      <td>G</td>\n",
       "      <td>1840-01-04</td>\n",
       "      <td>1840-01-04 20:00:00</td>\n",
       "      <td>-3.8</td>\n",
       "      <td>97520</td>\n",
       "    </tr>\n",
       "    <tr>\n",
       "      <th>6449034</th>\n",
       "      <td>4</td>\n",
       "      <td>1840-01-04 20:00:01</td>\n",
       "      <td>G</td>\n",
       "      <td>1840-01-05</td>\n",
       "      <td>1840-01-05 20:00:00</td>\n",
       "      <td>-7.8</td>\n",
       "      <td>97520</td>\n",
       "    </tr>\n",
       "    <tr>\n",
       "      <th>...</th>\n",
       "      <td>...</td>\n",
       "      <td>...</td>\n",
       "      <td>...</td>\n",
       "      <td>...</td>\n",
       "      <td>...</td>\n",
       "      <td>...</td>\n",
       "      <td>...</td>\n",
       "    </tr>\n",
       "    <tr>\n",
       "      <th>4797342</th>\n",
       "      <td>15482</td>\n",
       "      <td>2022-09-29 18:00:01</td>\n",
       "      <td>Y</td>\n",
       "      <td>2022-09-30</td>\n",
       "      <td>2022-09-30 18:00:00</td>\n",
       "      <td>9.5</td>\n",
       "      <td>162790</td>\n",
       "    </tr>\n",
       "    <tr>\n",
       "      <th>6185526</th>\n",
       "      <td>5308</td>\n",
       "      <td>2022-09-29 18:00:01</td>\n",
       "      <td>Y</td>\n",
       "      <td>2022-09-30</td>\n",
       "      <td>2022-09-30 18:00:00</td>\n",
       "      <td>14.1</td>\n",
       "      <td>63590</td>\n",
       "    </tr>\n",
       "    <tr>\n",
       "      <th>43618</th>\n",
       "      <td>10853</td>\n",
       "      <td>2022-09-29 18:00:01</td>\n",
       "      <td>G</td>\n",
       "      <td>2022-09-30</td>\n",
       "      <td>2022-09-30 18:00:00</td>\n",
       "      <td>5.4</td>\n",
       "      <td>158990</td>\n",
       "    </tr>\n",
       "    <tr>\n",
       "      <th>6508235</th>\n",
       "      <td>26203</td>\n",
       "      <td>2022-09-29 18:00:01</td>\n",
       "      <td>Y</td>\n",
       "      <td>2022-09-30</td>\n",
       "      <td>2022-09-30 18:00:00</td>\n",
       "      <td>12.4</td>\n",
       "      <td>97530</td>\n",
       "    </tr>\n",
       "    <tr>\n",
       "      <th>5215229</th>\n",
       "      <td>13262</td>\n",
       "      <td>2022-09-29 18:00:01</td>\n",
       "      <td>Y</td>\n",
       "      <td>2022-09-30</td>\n",
       "      <td>2022-09-30 18:00:00</td>\n",
       "      <td>7.6</td>\n",
       "      <td>151380</td>\n",
       "    </tr>\n",
       "  </tbody>\n",
       "</table>\n",
       "<p>7594667 rows × 7 columns</p>\n",
       "</div>"
      ],
      "text/plain": [
       "         Unnamed: 0             starting quality        ref  \\\n",
       "6449030           0  1839-12-31 20:00:01       G 1840-01-01   \n",
       "6449031           1  1840-01-01 20:00:01       G 1840-01-02   \n",
       "6449032           2  1840-01-02 20:00:01       G 1840-01-03   \n",
       "6449033           3  1840-01-03 20:00:01       G 1840-01-04   \n",
       "6449034           4  1840-01-04 20:00:01       G 1840-01-05   \n",
       "...             ...                  ...     ...        ...   \n",
       "4797342       15482  2022-09-29 18:00:01       Y 2022-09-30   \n",
       "6185526        5308  2022-09-29 18:00:01       Y 2022-09-30   \n",
       "43618         10853  2022-09-29 18:00:01       G 2022-09-30   \n",
       "6508235       26203  2022-09-29 18:00:01       Y 2022-09-30   \n",
       "5215229       13262  2022-09-29 18:00:01       Y 2022-09-30   \n",
       "\n",
       "                      ending  value  station_id  \n",
       "6449030  1840-01-01 20:00:00   -5.9       97520  \n",
       "6449031  1840-01-02 20:00:00   -4.3       97520  \n",
       "6449032  1840-01-03 20:00:00   -3.3       97520  \n",
       "6449033  1840-01-04 20:00:00   -3.8       97520  \n",
       "6449034  1840-01-05 20:00:00   -7.8       97520  \n",
       "...                      ...    ...         ...  \n",
       "4797342  2022-09-30 18:00:00    9.5      162790  \n",
       "6185526  2022-09-30 18:00:00   14.1       63590  \n",
       "43618    2022-09-30 18:00:00    5.4      158990  \n",
       "6508235  2022-09-30 18:00:00   12.4       97530  \n",
       "5215229  2022-09-30 18:00:00    7.6      151380  \n",
       "\n",
       "[7594667 rows x 7 columns]"
      ]
     },
     "execution_count": 59,
     "metadata": {},
     "output_type": "execute_result"
    }
   ],
   "source": [
    "df_all"
   ]
  },
  {
   "cell_type": "code",
   "execution_count": 145,
   "id": "d79e12d9",
   "metadata": {},
   "outputs": [],
   "source": [
    "#df_stations.to_excel('mintemp_stations.xlsx')\n",
    "df_stations=pd.read_excel('maxtemp_stations.xlsx')\n",
    "df_all = df_all.dropna(subset=['value'])\n",
    "df_all=df_all.sort_values(by='ref')\n",
    "df_all.ref=pd.to_datetime(df_all.ref)\n",
    "# Extract last 100 years of data from 1922 to 2022\n",
    "df_all=df_all[df_all['ref']>='1922-01-01']\n",
    "df_all=df_all[df_all['ref']<'2022-01-01']"
   ]
  },
  {
   "cell_type": "code",
   "execution_count": 133,
   "id": "20e953cd",
   "metadata": {},
   "outputs": [
    {
     "data": {
      "text/html": [
       "<div>\n",
       "<style scoped>\n",
       "    .dataframe tbody tr th:only-of-type {\n",
       "        vertical-align: middle;\n",
       "    }\n",
       "\n",
       "    .dataframe tbody tr th {\n",
       "        vertical-align: top;\n",
       "    }\n",
       "\n",
       "    .dataframe thead th {\n",
       "        text-align: right;\n",
       "    }\n",
       "</style>\n",
       "<table border=\"1\" class=\"dataframe\">\n",
       "  <thead>\n",
       "    <tr style=\"text-align: right;\">\n",
       "      <th></th>\n",
       "      <th>Unnamed: 0</th>\n",
       "      <th>starting</th>\n",
       "      <th>quality</th>\n",
       "      <th>ref</th>\n",
       "      <th>ending</th>\n",
       "      <th>value</th>\n",
       "      <th>station_id</th>\n",
       "    </tr>\n",
       "  </thead>\n",
       "  <tbody>\n",
       "    <tr>\n",
       "      <th>4721316</th>\n",
       "      <td>6361</td>\n",
       "      <td>1921-12-31 20:00:01</td>\n",
       "      <td>G</td>\n",
       "      <td>1922-01-01</td>\n",
       "      <td>1922-01-01 20:00:00</td>\n",
       "      <td>-21.0</td>\n",
       "      <td>188830</td>\n",
       "    </tr>\n",
       "    <tr>\n",
       "      <th>2719737</th>\n",
       "      <td>14604</td>\n",
       "      <td>1921-12-31 20:00:01</td>\n",
       "      <td>G</td>\n",
       "      <td>1922-01-01</td>\n",
       "      <td>1922-01-01 20:00:00</td>\n",
       "      <td>-5.0</td>\n",
       "      <td>74470</td>\n",
       "    </tr>\n",
       "    <tr>\n",
       "      <th>3508029</th>\n",
       "      <td>14593</td>\n",
       "      <td>1921-12-31 20:00:01</td>\n",
       "      <td>G</td>\n",
       "      <td>1922-01-01</td>\n",
       "      <td>1922-01-01 20:00:00</td>\n",
       "      <td>-6.0</td>\n",
       "      <td>85250</td>\n",
       "    </tr>\n",
       "    <tr>\n",
       "      <th>5747207</th>\n",
       "      <td>9142</td>\n",
       "      <td>1921-12-31 20:00:01</td>\n",
       "      <td>G</td>\n",
       "      <td>1922-01-01</td>\n",
       "      <td>1922-01-01 20:00:00</td>\n",
       "      <td>-7.0</td>\n",
       "      <td>132620</td>\n",
       "    </tr>\n",
       "    <tr>\n",
       "      <th>5585116</th>\n",
       "      <td>14607</td>\n",
       "      <td>1921-12-31 20:00:01</td>\n",
       "      <td>G</td>\n",
       "      <td>1922-01-01</td>\n",
       "      <td>1922-01-01 20:00:00</td>\n",
       "      <td>-5.0</td>\n",
       "      <td>98210</td>\n",
       "    </tr>\n",
       "    <tr>\n",
       "      <th>...</th>\n",
       "      <td>...</td>\n",
       "      <td>...</td>\n",
       "      <td>...</td>\n",
       "      <td>...</td>\n",
       "      <td>...</td>\n",
       "      <td>...</td>\n",
       "      <td>...</td>\n",
       "    </tr>\n",
       "    <tr>\n",
       "      <th>3225765</th>\n",
       "      <td>15686</td>\n",
       "      <td>2021-12-30 18:00:01</td>\n",
       "      <td>Y</td>\n",
       "      <td>2021-12-31</td>\n",
       "      <td>2021-12-31 18:00:00</td>\n",
       "      <td>-3.3</td>\n",
       "      <td>117430</td>\n",
       "    </tr>\n",
       "    <tr>\n",
       "      <th>2614402</th>\n",
       "      <td>7589</td>\n",
       "      <td>2021-12-30 18:00:01</td>\n",
       "      <td>Y</td>\n",
       "      <td>2021-12-31</td>\n",
       "      <td>2021-12-31 18:00:00</td>\n",
       "      <td>-11.2</td>\n",
       "      <td>170860</td>\n",
       "    </tr>\n",
       "    <tr>\n",
       "      <th>6785163</th>\n",
       "      <td>19820</td>\n",
       "      <td>2021-12-30 18:00:01</td>\n",
       "      <td>G</td>\n",
       "      <td>2021-12-31</td>\n",
       "      <td>2021-12-31 18:00:00</td>\n",
       "      <td>-12.5</td>\n",
       "      <td>160960</td>\n",
       "    </tr>\n",
       "    <tr>\n",
       "      <th>637426</th>\n",
       "      <td>50363</td>\n",
       "      <td>2021-12-30 18:00:01</td>\n",
       "      <td>Y</td>\n",
       "      <td>2021-12-31</td>\n",
       "      <td>2021-12-31 18:00:00</td>\n",
       "      <td>5.2</td>\n",
       "      <td>72450</td>\n",
       "    </tr>\n",
       "    <tr>\n",
       "      <th>4017984</th>\n",
       "      <td>11317</td>\n",
       "      <td>2021-12-30 18:00:01</td>\n",
       "      <td>Y</td>\n",
       "      <td>2021-12-31</td>\n",
       "      <td>2021-12-31 18:00:00</td>\n",
       "      <td>-14.3</td>\n",
       "      <td>166910</td>\n",
       "    </tr>\n",
       "  </tbody>\n",
       "</table>\n",
       "<p>7344196 rows × 7 columns</p>\n",
       "</div>"
      ],
      "text/plain": [
       "         Unnamed: 0             starting quality        ref  \\\n",
       "4721316        6361  1921-12-31 20:00:01       G 1922-01-01   \n",
       "2719737       14604  1921-12-31 20:00:01       G 1922-01-01   \n",
       "3508029       14593  1921-12-31 20:00:01       G 1922-01-01   \n",
       "5747207        9142  1921-12-31 20:00:01       G 1922-01-01   \n",
       "5585116       14607  1921-12-31 20:00:01       G 1922-01-01   \n",
       "...             ...                  ...     ...        ...   \n",
       "3225765       15686  2021-12-30 18:00:01       Y 2021-12-31   \n",
       "2614402        7589  2021-12-30 18:00:01       Y 2021-12-31   \n",
       "6785163       19820  2021-12-30 18:00:01       G 2021-12-31   \n",
       "637426        50363  2021-12-30 18:00:01       Y 2021-12-31   \n",
       "4017984       11317  2021-12-30 18:00:01       Y 2021-12-31   \n",
       "\n",
       "                      ending  value  station_id  \n",
       "4721316  1922-01-01 20:00:00  -21.0      188830  \n",
       "2719737  1922-01-01 20:00:00   -5.0       74470  \n",
       "3508029  1922-01-01 20:00:00   -6.0       85250  \n",
       "5747207  1922-01-01 20:00:00   -7.0      132620  \n",
       "5585116  1922-01-01 20:00:00   -5.0       98210  \n",
       "...                      ...    ...         ...  \n",
       "3225765  2021-12-31 18:00:00   -3.3      117430  \n",
       "2614402  2021-12-31 18:00:00  -11.2      170860  \n",
       "6785163  2021-12-31 18:00:00  -12.5      160960  \n",
       "637426   2021-12-31 18:00:00    5.2       72450  \n",
       "4017984  2021-12-31 18:00:00  -14.3      166910  \n",
       "\n",
       "[7344196 rows x 7 columns]"
      ]
     },
     "execution_count": 133,
     "metadata": {},
     "output_type": "execute_result"
    }
   ],
   "source": [
    "df_all"
   ]
  },
  {
   "cell_type": "code",
   "execution_count": null,
   "id": "9e7e13e3",
   "metadata": {},
   "outputs": [],
   "source": []
  }
 ],
 "metadata": {
  "kernelspec": {
   "display_name": "Python 3 (ipykernel)",
   "language": "python",
   "name": "python3"
  },
  "language_info": {
   "codemirror_mode": {
    "name": "ipython",
    "version": 3
   },
   "file_extension": ".py",
   "mimetype": "text/x-python",
   "name": "python",
   "nbconvert_exporter": "python",
   "pygments_lexer": "ipython3",
   "version": "3.9.7"
  }
 },
 "nbformat": 4,
 "nbformat_minor": 5
}
